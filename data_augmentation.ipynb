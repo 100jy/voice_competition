{
  "nbformat": 4,
  "nbformat_minor": 0,
  "metadata": {
    "colab": {
      "name": "data_augmentation.ipynb",
      "provenance": [],
      "collapsed_sections": [],
      "authorship_tag": "ABX9TyMjanUA7S71yJgO/QIsKhgF",
      "include_colab_link": true
    },
    "kernelspec": {
      "name": "python3",
      "display_name": "Python 3"
    }
  },
  "cells": [
    {
      "cell_type": "markdown",
      "metadata": {
        "id": "view-in-github",
        "colab_type": "text"
      },
      "source": [
        "<a href=\"https://colab.research.google.com/github/100jy/voice_competition/blob/master/data_augmentation.ipynb\" target=\"_parent\"><img src=\"https://colab.research.google.com/assets/colab-badge.svg\" alt=\"Open In Colab\"/></a>"
      ]
    },
    {
      "cell_type": "code",
      "metadata": {
        "id": "22HhM5XMivhg",
        "colab_type": "code",
        "colab": {
          "base_uri": "https://localhost:8080/",
          "height": 127
        },
        "outputId": "1b134db1-850d-483f-d094-842e6a5cf356"
      },
      "source": [
        "# googledrive 연동\n",
        "from google.colab import drive\n",
        "drive.mount('/content/drive')"
      ],
      "execution_count": 1,
      "outputs": [
        {
          "output_type": "stream",
          "text": [
            "Go to this URL in a browser: https://accounts.google.com/o/oauth2/auth?client_id=947318989803-6bn6qk8qdgf4n4g3pfee6491hc0brc4i.apps.googleusercontent.com&redirect_uri=urn%3aietf%3awg%3aoauth%3a2.0%3aoob&response_type=code&scope=email%20https%3a%2f%2fwww.googleapis.com%2fauth%2fdocs.test%20https%3a%2f%2fwww.googleapis.com%2fauth%2fdrive%20https%3a%2f%2fwww.googleapis.com%2fauth%2fdrive.photos.readonly%20https%3a%2f%2fwww.googleapis.com%2fauth%2fpeopleapi.readonly\n",
            "\n",
            "Enter your authorization code:\n",
            "··········\n",
            "Mounted at /content/drive\n"
          ],
          "name": "stdout"
        }
      ]
    },
    {
      "cell_type": "code",
      "metadata": {
        "id": "t0P20HNpi8p6",
        "colab_type": "code",
        "colab": {}
      },
      "source": [
        "# 모듈 임포트\n",
        "import os\n",
        "import pandas as pd\n",
        "import numpy as np\n",
        "import matplotlib.pyplot as plt\n",
        "import scipy\n",
        "from scipy.io import wavfile\n",
        "import librosa\n",
        "import librosa.display"
      ],
      "execution_count": 2,
      "outputs": []
    },
    {
      "cell_type": "code",
      "metadata": {
        "id": "G91sz-5PjJp4",
        "colab_type": "code",
        "colab": {}
      },
      "source": [
        "# shifting\n",
        "def shifting(data,direc,factor):\n",
        "  result  = np.zeros_like(data)\n",
        "  k = int(factor * (len(data)/10))\n",
        "  #right\n",
        "  if direc == '0':\n",
        "    result[k:] = data[:len(data)-k]\n",
        "  else:\n",
        "    result[:len(data)-k] = data[k:]\n",
        "  return result\n",
        "\n",
        "#pith를 조절\n",
        "def change_pitch(data,sr,k):\n",
        "  return librosa.effects.pitch_shift(data,sr, k)"
      ],
      "execution_count": null,
      "outputs": []
    },
    {
      "cell_type": "code",
      "metadata": {
        "id": "wAEwiaNZjX_b",
        "colab_type": "code",
        "colab": {}
      },
      "source": [
        "def augmentation(data):\n",
        "  from tqdm.notebook import tqdm\n",
        "  new_data = []\n",
        "  for i,cont in enumerate(tqdm(data)):\n",
        "    hop_len =  int(22050/79)\n",
        "    x, sr = librosa.load(cont)\n",
        "\n",
        "    #shifting\n",
        "    if i%3 == 0:\n",
        "      direc = np.random.randint(0,1)\n",
        "      shifted = librosa.feature.mfcc(shifting(x,direc,np.random.randint(1,2)),sr = sr, n_mfcc=80, fmax=3000, hop_length = hop_len)\n",
        "      new_data.append(shifted.flatten())\n",
        "\n",
        "    #pitch_change\n",
        "    elif i%3 == 1:\n",
        "      up_down = np.random.randint(0,1)\n",
        "      if up_down == 0:\n",
        "        pitch =  librosa.feature.mfcc(change_pitch(x,sr,2),sr = sr, n_mfcc=80, fmax=3000, hop_length =hop_len)\n",
        "      else:\n",
        "        pitch =  librosa.feature.mfcc(change_pitch(x,sr,-2),sr = %store, n_mfcc=80, fmax=3000, hop_length =hop_len)\n",
        "\n",
        "      new_data.append(pitch.flatten())\n",
        "\n",
        "    #both\n",
        "    else:\n",
        "      direc = np.random.randint(0,1)\n",
        "      up_down = np.random.randint(0,1)\n",
        "\n",
        "      if up_down == 0:\n",
        "        move =  librosa.feature.mfcc(change_pitch(shifting(x,direc,np.random.randint(1,2)),sr,2),sr = sr, n_mfcc=80, fmax=3000, hop_length =hop_len)\n",
        "      else:\n",
        "        move =  librosa.feature.mfcc(change_pitch(shifting(x,direc,np.random.randint(1,2)),sr,-2),sr = %store, n_mfcc=80, fmax=3000, hop_length =hop_len)\n",
        "      \n",
        "      new_data.append(move.flatten())\n",
        "\n",
        "\n",
        "\n",
        "  return pd.DataFrame(new_data)\n",
        "\n",
        "if __name__ == '__main__':\n",
        "  raw_data = glob('./train/*.wav')\n",
        "  new_data  = augmentation(raw_data)\n",
        "  new_data.to_pickle('drive/My Drive/data/x_trian_augmented_mfcc_80.pickle')"
      ],
      "execution_count": null,
      "outputs": []
    }
  ]
}
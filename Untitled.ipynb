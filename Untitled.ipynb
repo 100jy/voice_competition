{
 "cells": [
  {
   "cell_type": "code",
   "execution_count": 1,
   "metadata": {},
   "outputs": [],
   "source": [
    "import os\n",
    "import pandas as pd\n",
    "import numpy as np\n",
    "from tqdm import tqdm\n",
    "from glob import glob\n",
    "import librosa"
   ]
  },
  {
   "cell_type": "code",
   "execution_count": 2,
   "metadata": {},
   "outputs": [],
   "source": [
    "# 데이터 로드 함수 정의 \n",
    "def make_data(datalist, feature = 'signal'):\n",
    "\n",
    "    arr = []\n",
    "    #signal data\n",
    "    if feature == 'signal':\n",
    "        for file in tqdm(datalist):\n",
    "            #16gb ram 기준\n",
    "            #float32, sr = 22050 -> OOM\n",
    "            #float32, sr = 16000 -> OOM\n",
    "            #float32, sr = 11025 -> success\n",
    "            x, sr = librosa.load(file,sr = 11025)\n",
    "            arr.append(x)\n",
    "  \n",
    "    #spectogam data\n",
    "    elif feature == 'spectogram':\n",
    "        for file in tqdm(datalist):\n",
    "            x, sr = librosa.load(file,sr = 11025)\n",
    "            spec = librosa.stft(x)\n",
    "            arr.append(spec.flatten())\n",
    "  \n",
    "    #MFCC data\n",
    "    elif feature == 'MFCC':\n",
    "        for file in tqdm(datalist):\n",
    "            x, sr = librosa.load(file)\n",
    "            mfcc = librosa.feature.mfcc(x, sr=sr, n_mfcc=40, fmax=3000)\n",
    "            arr.append(mfcc)\n",
    "  \n",
    "    else:\n",
    "        raise ValueError\n",
    "\n",
    "    result = np.array(arr)\n",
    "    \n",
    "    return result "
   ]
  },
  {
   "cell_type": "code",
   "execution_count": 3,
   "metadata": {},
   "outputs": [
    {
     "name": "stderr",
     "output_type": "stream",
     "text": [
      "100%|██████████████████████████████████████████████████████████████████████████| 100000/100000 [21:49<00:00, 76.37it/s]\n"
     ]
    }
   ],
   "source": [
    "#signal 형태로 사용\n",
    "raw_data = glob('./train/*.wav')\n",
    "#signal\n",
    "signal = make_data(raw_data)\n",
    "pd.DataFrame(signal).to_pickle('./data/x_trian.pickle')"
   ]
  },
  {
   "cell_type": "code",
   "execution_count": null,
   "metadata": {},
   "outputs": [
    {
     "name": "stderr",
     "output_type": "stream",
     "text": [
      "  1%|█                                                                          | 1399/100000 [00:04<04:58, 330.45it/s]"
     ]
    }
   ],
   "source": [
    "#specto\n",
    "specto = make_data(raw_data, feature =  'spectogram')\n",
    "pd.DataFrame(specto).to_pickle('./data/x_trian_spectogram.pickle')"
   ]
  }
 ],
 "metadata": {
  "kernelspec": {
   "display_name": "Python 3",
   "language": "python",
   "name": "python3"
  },
  "language_info": {
   "codemirror_mode": {
    "name": "ipython",
    "version": 3
   },
   "file_extension": ".py",
   "mimetype": "text/x-python",
   "name": "python",
   "nbconvert_exporter": "python",
   "pygments_lexer": "ipython3",
   "version": "3.7.6"
  }
 },
 "nbformat": 4,
 "nbformat_minor": 4
}

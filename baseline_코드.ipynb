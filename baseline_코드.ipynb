{
  "nbformat": 4,
  "nbformat_minor": 0,
  "metadata": {
    "colab": {
      "name": "baseline 코드.ipynb",
      "provenance": [],
      "collapsed_sections": [],
      "authorship_tag": "ABX9TyOeUGNCFD0K9c3uye5w738p",
      "include_colab_link": true
    },
    "kernelspec": {
      "name": "python3",
      "display_name": "Python 3"
    },
    "accelerator": "TPU"
  },
  "cells": [
    {
      "cell_type": "markdown",
      "metadata": {
        "id": "view-in-github",
        "colab_type": "text"
      },
      "source": [
        "<a href=\"https://colab.research.google.com/github/100jy/voice_competition/blob/master/baseline_%EC%BD%94%EB%93%9C.ipynb\" target=\"_parent\"><img src=\"https://colab.research.google.com/assets/colab-badge.svg\" alt=\"Open In Colab\"/></a>"
      ]
    },
    {
      "cell_type": "markdown",
      "metadata": {
        "id": "aYh7Mne7eTnT",
        "colab_type": "text"
      },
      "source": [
        "구글 드라이브 연동"
      ]
    },
    {
      "cell_type": "code",
      "metadata": {
        "id": "2wlt388hdkj1",
        "colab_type": "code",
        "colab": {
          "base_uri": "https://localhost:8080/",
          "height": 131
        },
        "outputId": "6f509dde-0aa1-49b4-8f7d-fdc849d80717"
      },
      "source": [
        "#구글 드라이브 연동\n",
        "from google.colab import drive\n",
        "drive.mount('/content/drive')"
      ],
      "execution_count": null,
      "outputs": [
        {
          "output_type": "stream",
          "text": [
            "Go to this URL in a browser: https://accounts.google.com/o/oauth2/auth?client_id=947318989803-6bn6qk8qdgf4n4g3pfee6491hc0brc4i.apps.googleusercontent.com&redirect_uri=urn%3aietf%3awg%3aoauth%3a2.0%3aoob&response_type=code&scope=email%20https%3a%2f%2fwww.googleapis.com%2fauth%2fdocs.test%20https%3a%2f%2fwww.googleapis.com%2fauth%2fdrive%20https%3a%2f%2fwww.googleapis.com%2fauth%2fdrive.photos.readonly%20https%3a%2f%2fwww.googleapis.com%2fauth%2fpeopleapi.readonly\n",
            "\n",
            "Enter your authorization code:\n",
            "··········\n",
            "Mounted at /content/drive\n"
          ],
          "name": "stdout"
        }
      ]
    },
    {
      "cell_type": "markdown",
      "metadata": {
        "id": "e-MsxJu1hcs1",
        "colab_type": "text"
      },
      "source": [
        "모듈 임포트"
      ]
    },
    {
      "cell_type": "code",
      "metadata": {
        "id": "QxxxC8E2fJt3",
        "colab_type": "code",
        "colab": {
          "base_uri": "https://localhost:8080/",
          "height": 36
        },
        "outputId": "f4941821-86d4-49dc-8fca-5ba107f31216"
      },
      "source": [
        "import os\n",
        "import pandas as pd\n",
        "import numpy as np\n",
        "import matplotlib.pyplot as plt\n",
        "import scipy\n",
        "import tensorflow as tf\n",
        "import keras\n",
        "from tqdm import tqdm\n",
        "from glob import glob\n",
        "from scipy.io import wavfile\n",
        "from keras.models import Sequential\n",
        "from keras.layers import Dense, Conv1D, MaxPooling1D, Flatten, BatchNormalization\n",
        "from keras.callbacks import ModelCheckpoint, EarlyStopping\n",
        "import librosa"
      ],
      "execution_count": null,
      "outputs": [
        {
          "output_type": "stream",
          "text": [
            "Using TensorFlow backend.\n"
          ],
          "name": "stderr"
        }
      ]
    },
    {
      "cell_type": "markdown",
      "metadata": {
        "id": "bFW6VCtBhwgr",
        "colab_type": "text"
      },
      "source": [
        "# 음성에서 정형 데이터화\n",
        "\n",
        "1. 음성신호 상태로 이용하는 방법 \n",
        "2. MFCC이용하는 방법\n",
        "3. spectogram 이용하는 방법"
      ]
    },
    {
      "cell_type": "code",
      "metadata": {
        "id": "A_zJ_GvqhmSP",
        "colab_type": "code",
        "colab": {}
      },
      "source": [
        "# 데이터 로드 함수 정의 \n",
        "def make_data(datalist, feature = 'signal'):\n",
        "\n",
        "    arr = []\n",
        "    #signal data\n",
        "    if feature == 'signal':\n",
        "        for file in tqdm(datalist):\n",
        "            fs, data = wavfile.read(file)\n",
        "            arr.append(data)\n",
        "  \n",
        "    #spectogam data\n",
        "    elif feature == 'spectogram':\n",
        "        for file in tqdm(datalist):\n",
        "            x, sr = librosa.load(file)\n",
        "            spec = librosa.stft(x)\n",
        "            arr.append(spec)\n",
        "  \n",
        "    #MFCC data\n",
        "    elif feature == 'MFCC':\n",
        "        for file in tqdm(datalist):\n",
        "            x, sr = librosa.load(file)\n",
        "            mfcc = librosa.feature.mfcc(x, sr=sr, n_mfcc=40, fmax=3000)\n",
        "            arr.append(mfcc)\n",
        "  \n",
        "    else:\n",
        "        raise ValueError\n",
        "\n",
        "    result = np.array(arr)\n",
        "    \n",
        "    return result "
      ],
      "execution_count": null,
      "outputs": []
    },
    {
      "cell_type": "markdown",
      "metadata": {
        "id": "w0lPgXVen8S4",
        "colab_type": "text"
      },
      "source": [
        "VAD하면 성능이 더 좋지 않을까???\n"
      ]
    },
    {
      "cell_type": "markdown",
      "metadata": {
        "id": "zRbrZJizR59u",
        "colab_type": "text"
      },
      "source": [
        "트레인 셋 저장"
      ]
    },
    {
      "cell_type": "code",
      "metadata": {
        "id": "nbisCnEyuA5g",
        "colab_type": "code",
        "colab": {}
      },
      "source": [
        "#signal 형태로 사용\n",
        "raw_data = glob('data/train/*.wav')\n",
        "#signal\n",
        "signal = make_data(raw_data)\n",
        "pd.DataFrame(signal).to_pickle('data/x_trian.pickle')\n",
        "#specto\n",
        "specto = make_data(raw_data, feature =  'spectogram')\n",
        "pd.DataFrame(specto).to_pickle('data/x_trian_spectogram.pickle')\n",
        "#MFCC\n",
        "MFCC = make_data(raw_data, feature =  'MFCC')\n",
        "pd.DataFrame(MFCC).to_pickle('data/x_trian_MFCC.pickle')\n",
        "#feature = \n",
        "#x_train = pd.read_csv('data/train/x_train_{}.pickle'.format(feature))"
      ],
      "execution_count": null,
      "outputs": []
    },
    {
      "cell_type": "markdown",
      "metadata": {
        "id": "vxOE6GDvR8-P",
        "colab_type": "text"
      },
      "source": [
        "테스트 셋 저장"
      ]
    },
    {
      "cell_type": "code",
      "metadata": {
        "id": "zNsTiFuMDIlL",
        "colab_type": "code",
        "colab": {}
      },
      "source": [
        "#signal 형태로 사용\n",
        "raw_data = glob('drive/My Drive/data/test/*.wav')\n",
        "#signal\n",
        "signal = make_data(raw_data)\n",
        "pd.DataFrame(signal).to_pickle('drive/My Drive/data/x_test.pickle')"
      ],
      "execution_count": null,
      "outputs": []
    },
    {
      "cell_type": "markdown",
      "metadata": {
        "id": "HKSKn5RaYEIb",
        "colab_type": "text"
      },
      "source": [
        "데이터 불러오기\n"
      ]
    },
    {
      "cell_type": "code",
      "metadata": {
        "id": "zsBCdFuFQXkG",
        "colab_type": "code",
        "colab": {}
      },
      "source": [
        "#원본\n",
        "x_train = pd.read_pickle('drive/My Drive/data/x_trian.pickle')\n",
        "x_train = x_train.values\n",
        "#열수가 1/8 토막(메모리가 부족함...) \n",
        "x_train = x_train[:,::8]"
      ],
      "execution_count": null,
      "outputs": []
    },
    {
      "cell_type": "code",
      "metadata": {
        "id": "SlqitTwbYGjF",
        "colab_type": "code",
        "colab": {}
      },
      "source": [
        "#MFCC\n",
        "x_train = pd.read_pickle('drive/My Drive/data/x_trian_MFCC.pickle')\n",
        "x_train = x_train.values"
      ],
      "execution_count": null,
      "outputs": []
    },
    {
      "cell_type": "code",
      "metadata": {
        "id": "c55wRapHkeIY",
        "colab_type": "code",
        "colab": {}
      },
      "source": [
        "# (0,1)로 정규화\n",
        "x_train = list((map(lambda x : x / max(x),x_train)))\n",
        "x_train =  np.array(x_train)\n",
        "# 모델 넣기위한 reshape\n",
        "## 채널 늘려보는 것도 의미있을듯...\n",
        "x_train = x_train.reshape(x_train.shape[0], x_train.shape[1], 1)"
      ],
      "execution_count": null,
      "outputs": []
    },
    {
      "cell_type": "code",
      "metadata": {
        "id": "fbmyjt4jRBcy",
        "colab_type": "code",
        "colab": {
          "base_uri": "https://localhost:8080/",
          "height": 36
        },
        "outputId": "3225923e-edfd-414f-c98e-b697e3b1bca5"
      },
      "source": [
        "y_train = pd.read_csv('drive/My Drive/data/train_answer.csv',index_col=0)\n",
        "y_train = y_train.values\n",
        "\n",
        "x_train.shape, y_train.shape"
      ],
      "execution_count": null,
      "outputs": [
        {
          "output_type": "execute_result",
          "data": {
            "text/plain": [
              "((100000, 1760, 1), (100000, 30))"
            ]
          },
          "metadata": {
            "tags": []
          },
          "execution_count": 17
        }
      ]
    },
    {
      "cell_type": "code",
      "metadata": {
        "id": "KHxgjDB7o1qd",
        "colab_type": "code",
        "colab": {}
      },
      "source": [
        "#CNN\n",
        "model = Sequential()\n",
        "model.add(Conv1D(16,32,activation='relu', input_shape = (x_train.shape[1], x_train.shape[2])))\n",
        "model.add(MaxPooling1D())\n",
        "model.add(Conv1D(16,32,activation='relu'))\n",
        "model.add(MaxPooling1D())\n",
        "model.add(Conv1D(16,32,activation='relu'))\n",
        "model.add(MaxPooling1D())\n",
        "model.add(Conv1D(16,32,activation='relu'))\n",
        "model.add(MaxPooling1D())\n",
        "model.add(Conv1D(16,32,activation='relu'))\n",
        "model.add(Flatten())\n",
        "\n",
        "#fully connected layer\n",
        "model.add(Dense(256, activation='relu'))\n",
        "model.add(BatchNormalization())\n",
        "model.add(Dense(256, activation='relu'))\n",
        "model.add(BatchNormalization())\n",
        "model.add(Dense(256, activation='relu'))\n",
        "model.add(BatchNormalization())\n",
        "model.add(Dense(30, activation='softmax'))\n",
        "model.compile(loss=keras.losses.KLDivergence(), optimizer = 'adam')"
      ],
      "execution_count": null,
      "outputs": []
    },
    {
      "cell_type": "code",
      "metadata": {
        "id": "0Ub9_9IZxTSL",
        "colab_type": "code",
        "colab": {
          "base_uri": "https://localhost:8080/",
          "height": 447
        },
        "outputId": "32383683-64e3-4b24-801e-ffecab9bd803"
      },
      "source": [
        "model_path = 'drive/My Drive/data/model/'\n",
        "if not os.path.exists(model_path):\n",
        "  os.mkdir(model_path)\n",
        "\n",
        "# validattion 기준 모델 갱신\n",
        "model_file = model_path + 'epoch_{epoch:03d}_val_{val_loss:3f}.hdf5'\n",
        "checkpoint = ModelCheckpoint(filepath = model_file, monitor = 'val_loss', verbose = 1, save_best_only =True)\n",
        "\n",
        "#10회간 validatation 좋아지지 않으면 early stop\n",
        "early_stop = EarlyStopping(monitor = 'val_loss', patience = 10)\n",
        "\n",
        "history = model.fit(x_train, y_train, epochs = 100, batch_size = 256, validation_split = 0.2, shuffle = True,\n",
        "                    callbacks = [checkpoint, early_stop])"
      ],
      "execution_count": null,
      "outputs": [
        {
          "output_type": "stream",
          "text": [
            "Train on 80000 samples, validate on 20000 samples\n",
            "Epoch 1/100\n",
            "80000/80000 [==============================] - 368s 5ms/step - loss: 1.9581 - val_loss: 1.9758\n",
            "\n",
            "Epoch 00001: val_loss improved from inf to 1.97577, saving model to drive/My Drive/data/model/epoch_001_val_1.975766.hdf5\n",
            "Epoch 2/100\n",
            "80000/80000 [==============================] - 363s 5ms/step - loss: 1.8115 - val_loss: 1.9083\n",
            "\n",
            "Epoch 00002: val_loss improved from 1.97577 to 1.90827, saving model to drive/My Drive/data/model/epoch_002_val_1.908270.hdf5\n",
            "Epoch 3/100\n",
            "80000/80000 [==============================] - 365s 5ms/step - loss: 1.7517 - val_loss: 2.2215\n",
            "\n",
            "Epoch 00003: val_loss did not improve from 1.90827\n",
            "Epoch 4/100\n",
            "80000/80000 [==============================] - 364s 5ms/step - loss: 1.6978 - val_loss: 2.5512\n",
            "\n",
            "Epoch 00004: val_loss did not improve from 1.90827\n",
            "Epoch 5/100\n",
            "80000/80000 [==============================] - 365s 5ms/step - loss: 1.6601 - val_loss: 2.1594\n",
            "\n",
            "Epoch 00005: val_loss did not improve from 1.90827\n",
            "Epoch 6/100\n",
            "31744/80000 [==========>...................] - ETA: 3:30 - loss: 1.6295"
          ],
          "name": "stdout"
        }
      ]
    },
    {
      "cell_type": "code",
      "metadata": {
        "id": "XTa3_yH3yc2M",
        "colab_type": "code",
        "colab": {}
      },
      "source": [
        "# 훈련 결과를 확인합니다.\n",
        "plt.plot(history.epoch, history.history['loss'], '-o', label='training_loss')\n",
        "plt.plot(history.epoch, history.history['val_loss'], '-o', label='validation_loss')\n",
        "plt.legend()\n",
        "plt.xlim(left=0)\n",
        "plt.xlabel('epochs')\n",
        "plt.ylabel('loss')\n",
        "plt.show()"
      ],
      "execution_count": null,
      "outputs": []
    },
    {
      "cell_type": "markdown",
      "metadata": {
        "id": "SSpbeFsVnGxj",
        "colab_type": "text"
      },
      "source": [
        "전처리 필요성, 모델 CNN 이용\n"
      ]
    }
  ]
}
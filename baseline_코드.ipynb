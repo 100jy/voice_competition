{
  "nbformat": 4,
  "nbformat_minor": 0,
  "metadata": {
    "colab": {
      "name": "baseline 코드.ipynb",
      "provenance": [],
      "collapsed_sections": [],
      "machine_shape": "hm",
      "authorship_tag": "ABX9TyNVIpdQ2dhaQ/yyQL0FWoGN",
      "include_colab_link": true
    },
    "kernelspec": {
      "name": "python3",
      "display_name": "Python 3"
    },
    "accelerator": "TPU"
  },
  "cells": [
    {
      "cell_type": "markdown",
      "metadata": {
        "id": "view-in-github",
        "colab_type": "text"
      },
      "source": [
        "<a href=\"https://colab.research.google.com/github/100jy/voice_competition/blob/master/baseline_%EC%BD%94%EB%93%9C.ipynb\" target=\"_parent\"><img src=\"https://colab.research.google.com/assets/colab-badge.svg\" alt=\"Open In Colab\"/></a>"
      ]
    },
    {
      "cell_type": "markdown",
      "metadata": {
        "id": "aYh7Mne7eTnT",
        "colab_type": "text"
      },
      "source": [
        "구글 드라이브 연동"
      ]
    },
    {
      "cell_type": "code",
      "metadata": {
        "id": "2wlt388hdkj1",
        "colab_type": "code",
        "colab": {
          "base_uri": "https://localhost:8080/",
          "height": 131
        },
        "outputId": "57f2827e-1b94-4830-bfa1-40f2544ac7c7"
      },
      "source": [
        "#구글 드라이브 연동\n",
        "from google.colab import drive\n",
        "drive.mount('/content/drive')"
      ],
      "execution_count": 1,
      "outputs": [
        {
          "output_type": "stream",
          "text": [
            "Go to this URL in a browser: https://accounts.google.com/o/oauth2/auth?client_id=947318989803-6bn6qk8qdgf4n4g3pfee6491hc0brc4i.apps.googleusercontent.com&redirect_uri=urn%3aietf%3awg%3aoauth%3a2.0%3aoob&response_type=code&scope=email%20https%3a%2f%2fwww.googleapis.com%2fauth%2fdocs.test%20https%3a%2f%2fwww.googleapis.com%2fauth%2fdrive%20https%3a%2f%2fwww.googleapis.com%2fauth%2fdrive.photos.readonly%20https%3a%2f%2fwww.googleapis.com%2fauth%2fpeopleapi.readonly\n",
            "\n",
            "Enter your authorization code:\n",
            "··········\n",
            "Mounted at /content/drive\n"
          ],
          "name": "stdout"
        }
      ]
    },
    {
      "cell_type": "markdown",
      "metadata": {
        "id": "e-MsxJu1hcs1",
        "colab_type": "text"
      },
      "source": [
        "모듈 임포트"
      ]
    },
    {
      "cell_type": "code",
      "metadata": {
        "id": "QxxxC8E2fJt3",
        "colab_type": "code",
        "colab": {
          "base_uri": "https://localhost:8080/",
          "height": 36
        },
        "outputId": "20b287be-32a5-42bc-d2d2-7b258a90479d"
      },
      "source": [
        "import os\n",
        "import pandas as pd\n",
        "import numpy as np\n",
        "import matplotlib.pyplot as plt\n",
        "import scipy\n",
        "import tensorflow as tf\n",
        "import keras\n",
        "from tqdm import tqdm\n",
        "from glob import glob\n",
        "from scipy.io import wavfile\n",
        "from keras.models import Sequential\n",
        "from keras.layers import Dense, Conv1D, MaxPooling1D, Conv2D, MaxPooling2D, Flatten, BatchNormalization,Dropout, Activation\n",
        "from keras.callbacks import ModelCheckpoint, EarlyStopping\n",
        "import librosa"
      ],
      "execution_count": 2,
      "outputs": [
        {
          "output_type": "stream",
          "text": [
            "Using TensorFlow backend.\n"
          ],
          "name": "stderr"
        }
      ]
    },
    {
      "cell_type": "markdown",
      "metadata": {
        "id": "bFW6VCtBhwgr",
        "colab_type": "text"
      },
      "source": [
        "# 음성에서 정형 데이터화\n",
        "\n",
        "1. 음성신호 상태로 이용하는 방법 \n",
        "2. MFCC이용하는 방법\n",
        "3. spectogram 이용하는 방법"
      ]
    },
    {
      "cell_type": "code",
      "metadata": {
        "id": "A_zJ_GvqhmSP",
        "colab_type": "code",
        "colab": {}
      },
      "source": [
        "# 데이터 로드 함수 정의 \n",
        "def make_data(datalist, feature = 'signal'):\n",
        "\n",
        "    arr = []\n",
        "    #signal data\n",
        "    if feature == 'signal':\n",
        "        for file in tqdm(datalist):\n",
        "            fs, data = wavfile.read(file)\n",
        "            arr.append(data)\n",
        "  \n",
        "    #spectogam data\n",
        "    elif feature == 'spectogram':\n",
        "        for file in tqdm(datalist):\n",
        "            x, sr = librosa.load(file)\n",
        "            spec = librosa.stft(x)\n",
        "            arr.append(spec.flatten())\n",
        "  \n",
        "    #MFCC data\n",
        "    elif feature == 'MFCC':\n",
        "        for file in tqdm(datalist):\n",
        "            x, sr = librosa.load(file)\n",
        "            mfcc = librosa.feature.mfcc(x, sr=sr, n_mfcc=40, fmax=3000)\n",
        "            arr.append(mfcc.flatten())\n",
        "  \n",
        "    else:\n",
        "        raise ValueError\n",
        "\n",
        "    result = np.array(arr)\n",
        "    \n",
        "    return result "
      ],
      "execution_count": null,
      "outputs": []
    },
    {
      "cell_type": "markdown",
      "metadata": {
        "id": "w0lPgXVen8S4",
        "colab_type": "text"
      },
      "source": [
        "VAD하면 성능이 더 좋지 않을까???\n"
      ]
    },
    {
      "cell_type": "markdown",
      "metadata": {
        "id": "zRbrZJizR59u",
        "colab_type": "text"
      },
      "source": [
        "트레인 셋 저장"
      ]
    },
    {
      "cell_type": "code",
      "metadata": {
        "id": "nbisCnEyuA5g",
        "colab_type": "code",
        "colab": {}
      },
      "source": [
        "#signal 형태로 사용\n",
        "raw_data = glob('data/train/*.wav')\n",
        "#signal\n",
        "signal = make_data(raw_data)\n",
        "pd.DataFrame(signal).to_pickle('data/x_trian.pickle')\n",
        "#specto\n",
        "specto = make_data(raw_data, feature =  'spectogram')\n",
        "pd.DataFrame(specto).to_pickle('data/x_trian_spectogram.pickle')\n",
        "#MFCC\n",
        "MFCC = make_data(raw_data, feature =  'MFCC')\n",
        "pd.DataFrame(MFCC).to_pickle('data/x_trian_MFCC.pickle')\n",
        "#feature = \n",
        "#x_train = pd.read_csv('data/train/x_train_{}.pickle'.format(feature))"
      ],
      "execution_count": null,
      "outputs": []
    },
    {
      "cell_type": "markdown",
      "metadata": {
        "id": "vxOE6GDvR8-P",
        "colab_type": "text"
      },
      "source": [
        "테스트 셋 저장"
      ]
    },
    {
      "cell_type": "code",
      "metadata": {
        "id": "zNsTiFuMDIlL",
        "colab_type": "code",
        "colab": {}
      },
      "source": [
        "#signal 형태로 사용\n",
        "raw_data = glob('drive/My Drive/data/test/*.wav')\n",
        "#signal\n",
        "signal = make_data(raw_data)\n",
        "pd.DataFrame(signal).to_pickle('drive/My Drive/data/x_test.pickle')"
      ],
      "execution_count": null,
      "outputs": []
    },
    {
      "cell_type": "markdown",
      "metadata": {
        "id": "HKSKn5RaYEIb",
        "colab_type": "text"
      },
      "source": [
        "데이터 불러오기\n"
      ]
    },
    {
      "cell_type": "code",
      "metadata": {
        "id": "zsBCdFuFQXkG",
        "colab_type": "code",
        "colab": {}
      },
      "source": [
        "#원본\n",
        "x_train = pd.read_pickle('drive/My Drive/data/x_trian.pickle')\n",
        "x_train = x_train.values\n",
        "## ram 충분....\n",
        "#x_train = x_train[:,::8]"
      ],
      "execution_count": null,
      "outputs": []
    },
    {
      "cell_type": "code",
      "metadata": {
        "id": "SlqitTwbYGjF",
        "colab_type": "code",
        "colab": {}
      },
      "source": [
        "#MFCC\n",
        "x_train = pd.read_pickle('drive/My Drive/data/x_trian_MFCC.pickle')\n",
        "x_train = x_train.values"
      ],
      "execution_count": 3,
      "outputs": []
    },
    {
      "cell_type": "code",
      "metadata": {
        "id": "c55wRapHkeIY",
        "colab_type": "code",
        "colab": {}
      },
      "source": [
        "# (0,1)로 정규화\n",
        "x_train = list((map(lambda x : x / max(x),x_train)))\n",
        "x_train =  np.array(x_train)\n",
        "# 모델 넣기위한 reshape\n",
        "## 채널 늘려보는 것도 의미있을듯...\n",
        "x_train = x_train.reshape(x_train.shape[0], x_train.shape[1], 1)"
      ],
      "execution_count": 4,
      "outputs": []
    },
    {
      "cell_type": "code",
      "metadata": {
        "id": "fbmyjt4jRBcy",
        "colab_type": "code",
        "colab": {
          "base_uri": "https://localhost:8080/",
          "height": 36
        },
        "outputId": "31a36b43-08d8-40d5-a35f-874a3f207bf9"
      },
      "source": [
        "y_train = pd.read_csv('drive/My Drive/data/train_answer.csv',index_col=0)\n",
        "y_train = y_train.values\n",
        "\n",
        "x_train.shape, y_train.shape"
      ],
      "execution_count": 5,
      "outputs": [
        {
          "output_type": "execute_result",
          "data": {
            "text/plain": [
              "((100000, 1760, 1), (100000, 30))"
            ]
          },
          "metadata": {
            "tags": []
          },
          "execution_count": 5
        }
      ]
    },
    {
      "cell_type": "markdown",
      "metadata": {
        "id": "_napOUGrhgEh",
        "colab_type": "text"
      },
      "source": [
        "# model architecture"
      ]
    },
    {
      "cell_type": "code",
      "metadata": {
        "id": "KHxgjDB7o1qd",
        "colab_type": "code",
        "colab": {}
      },
      "source": [
        "#CNN\n",
        "model = Sequential()\n",
        "model.add(Conv1D(16,32,activation='relu', input_shape = (x_train.shape[1], x_train.shape[2])))\n",
        "model.add(MaxPooling1D())\n",
        "model.add(Conv1D(16,32,activation='relu'))\n",
        "model.add(MaxPooling1D())\n",
        "model.add(Conv1D(16,32,activation='relu'))\n",
        "model.add(MaxPooling1D())\n",
        "model.add(Conv1D(16,32,activation='relu'))\n",
        "model.add(MaxPooling1D())\n",
        "model.add(Conv1D(16,32,activation='relu'))\n",
        "model.add(Flatten())\n",
        "\n",
        "#fully connected layer\n",
        "model.add(Dense(256, activation='relu'))\n",
        "model.add(BatchNormalization())\n",
        "model.add(Dense(256, activation='relu'))\n",
        "model.add(BatchNormalization())\n",
        "model.add(Dense(256, activation='relu'))\n",
        "model.add(BatchNormalization())\n",
        "model.add(Dense(30, activation='softmax'))\n",
        "model.compile(loss=keras.losses.KLDivergence(), optimizer = 'adam')"
      ],
      "execution_count": null,
      "outputs": []
    },
    {
      "cell_type": "code",
      "metadata": {
        "id": "yn4TaE62wDAn",
        "colab_type": "code",
        "colab": {
          "base_uri": "https://localhost:8080/",
          "height": 35
        },
        "outputId": "0c139b10-21f5-4b37-c2d9-7d16fc06196c"
      },
      "source": [
        "x_train.shape[1], x_train.shape[2]"
      ],
      "execution_count": null,
      "outputs": [
        {
          "output_type": "execute_result",
          "data": {
            "text/plain": [
              "(40, 44)"
            ]
          },
          "metadata": {
            "tags": []
          },
          "execution_count": 30
        }
      ]
    },
    {
      "cell_type": "markdown",
      "metadata": {
        "id": "drelnMIuhrze",
        "colab_type": "text"
      },
      "source": [
        "# model architecture fot 2D data"
      ]
    },
    {
      "cell_type": "code",
      "metadata": {
        "id": "37Ea05EQqs8c",
        "colab_type": "code",
        "colab": {}
      },
      "source": [
        "# padding valid, BatchNormalization\n",
        "## for n_mfcc = 80\n",
        "x_train = x_train.reshape(x_train.shape[0], 80, -1,1)\n",
        "#CNN\n",
        "model = Sequential()\n",
        "model.add(Conv2D(64, kernel_size = (3,3), strides = (1,1),input_shape = (x_train.shape[1], x_train.shape[2],1)))\n",
        "model.add(MaxPooling2D((2,2)))\n",
        "\n",
        "model.add(Conv2D(128, kernel_size = (3,3), strides = (1,1),activation='relu'))\n",
        "model.add(MaxPooling2D((2,2)))\n",
        "\n",
        "model.add(Conv2D(128, kernel_size = (3,3), strides = (1,1),activation='relu'))\n",
        "model.add(MaxPooling2D((2,2)))\n",
        "\n",
        "\n",
        "model.add(Flatten())\n",
        "\n",
        "#fully connected layer\n",
        "model.add(Dense(512, activation='relu'))\n",
        "model.add(BatchNormalization())\n",
        "model.add(Dense(256, activation='relu'))\n",
        "model.add(BatchNormalization())\n",
        "model.add(Dense(256, activation='relu'))\n",
        "model.add(BatchNormalization())\n",
        "model.add(Dense(30, activation='softmax'))\n",
        "model.compile(loss=keras.losses.KLDivergence(), optimizer = 'adam')\n",
        "model.summary()"
      ],
      "execution_count": null,
      "outputs": []
    },
    {
      "cell_type": "code",
      "metadata": {
        "id": "5ixLbE3Thord",
        "colab_type": "code",
        "colab": {
          "base_uri": "https://localhost:8080/",
          "height": 665
        },
        "outputId": "acab5d29-a6c0-4883-c0c6-bb78a8bab5aa"
      },
      "source": [
        "## padding same, dropout 0.3\n",
        "x_train = x_train.reshape(x_train.shape[0], 40, -1,1)\n",
        "#CNN\n",
        "model = Sequential()\n",
        "model.add(Conv2D(64, kernel_size = (3,3), strides = (1,1), padding='valid', input_shape = (x_train.shape[1], x_train.shape[2],1)))\n",
        "model.add(MaxPooling2D((2,2)))\n",
        "\n",
        "model.add(Conv2D(128, kernel_size = (3,3), strides = (1,1), padding='same',activation='relu'))\n",
        "model.add(MaxPooling2D((2,2)))\n",
        "\n",
        "model.add(Conv2D(128, kernel_size = (3,3), strides = (1,1), padding='same',activation='relu'))\n",
        "model.add(MaxPooling2D((2,2)))\n",
        "\n",
        "'''\n",
        "model.add(MaxPooling2D((2,2)))\n",
        "model.add(Conv2D(512, kernel_size = (3,3), strides = (1,1),activation='relu'))\n",
        "'''\n",
        "model.add(Flatten())\n",
        "\n",
        "#fully connected layer\n",
        "model.add(Dense(512, activation='relu'))\n",
        "model.add(Dropout(0.3))\n",
        "model.add(Dense(256, activation='relu'))\n",
        "model.add(Dropout(0.3))\n",
        "model.add(Dense(256, activation='relu'))\n",
        "model.add(Dropout(0.3))\n",
        "model.add(Dense(30, activation='softmax'))\n",
        "model.compile(loss=keras.losses.KLDivergence(), optimizer = 'adam')\n",
        "model.summary()"
      ],
      "execution_count": null,
      "outputs": [
        {
          "output_type": "stream",
          "text": [
            "Model: \"sequential_50\"\n",
            "_________________________________________________________________\n",
            "Layer (type)                 Output Shape              Param #   \n",
            "=================================================================\n",
            "conv2d_160 (Conv2D)          (None, 38, 42, 64)        640       \n",
            "_________________________________________________________________\n",
            "max_pooling2d_141 (MaxPoolin (None, 19, 21, 64)        0         \n",
            "_________________________________________________________________\n",
            "conv2d_161 (Conv2D)          (None, 19, 21, 128)       73856     \n",
            "_________________________________________________________________\n",
            "max_pooling2d_142 (MaxPoolin (None, 9, 10, 128)        0         \n",
            "_________________________________________________________________\n",
            "conv2d_162 (Conv2D)          (None, 9, 10, 128)        147584    \n",
            "_________________________________________________________________\n",
            "max_pooling2d_143 (MaxPoolin (None, 4, 5, 128)         0         \n",
            "_________________________________________________________________\n",
            "flatten_27 (Flatten)         (None, 2560)              0         \n",
            "_________________________________________________________________\n",
            "dense_105 (Dense)            (None, 512)               1311232   \n",
            "_________________________________________________________________\n",
            "dropout_13 (Dropout)         (None, 512)               0         \n",
            "_________________________________________________________________\n",
            "dense_106 (Dense)            (None, 256)               131328    \n",
            "_________________________________________________________________\n",
            "dropout_14 (Dropout)         (None, 256)               0         \n",
            "_________________________________________________________________\n",
            "dense_107 (Dense)            (None, 256)               65792     \n",
            "_________________________________________________________________\n",
            "dropout_15 (Dropout)         (None, 256)               0         \n",
            "_________________________________________________________________\n",
            "dense_108 (Dense)            (None, 30)                7710      \n",
            "=================================================================\n",
            "Total params: 1,738,142\n",
            "Trainable params: 1,738,142\n",
            "Non-trainable params: 0\n",
            "_________________________________________________________________\n"
          ],
          "name": "stdout"
        }
      ]
    },
    {
      "cell_type": "code",
      "metadata": {
        "id": "A59Z8Q4s182U",
        "colab_type": "code",
        "colab": {
          "base_uri": "https://localhost:8080/",
          "height": 665
        },
        "outputId": "9515f836-1503-4232-c659-98923169303a"
      },
      "source": [
        "## padding valid, dropout 0.5\n",
        "x_train = x_train.reshape(x_train.shape[0], 40, -1,1)\n",
        "#CNN\n",
        "model = Sequential()\n",
        "model.add(Conv2D(64, kernel_size = (3,3), strides = (1,1),activation='relu', input_shape = (x_train.shape[1], x_train.shape[2],1)))\n",
        "model.add(MaxPooling2D((2,2)))\n",
        "\n",
        "model.add(Conv2D(128, kernel_size = (3,3), strides = (1,1),activation='relu'))\n",
        "model.add(MaxPooling2D((2,2)))\n",
        "\n",
        "model.add(Conv2D(128, kernel_size = (3,3), strides = (1,1),activation='relu'))\n",
        "model.add(MaxPooling2D((2,2)))\n",
        "\n",
        "model.add(Flatten())\n",
        "\n",
        "#fully connected layer\n",
        "model.add(Dense(512, activation='relu'))\n",
        "model.add(Dropout(0.5))\n",
        "model.add(Dense(256, activation='relu'))\n",
        "model.add(Dropout(0.5))\n",
        "model.add(Dense(256, activation='relu'))\n",
        "model.add(Dropout(0.5))\n",
        "model.add(Dense(30, activation='softmax'))\n",
        "model.compile(loss=keras.losses.KLDivergence(), optimizer = 'adam')\n",
        "model.summary()"
      ],
      "execution_count": null,
      "outputs": [
        {
          "output_type": "stream",
          "text": [
            "Model: \"sequential_51\"\n",
            "_________________________________________________________________\n",
            "Layer (type)                 Output Shape              Param #   \n",
            "=================================================================\n",
            "conv2d_163 (Conv2D)          (None, 38, 42, 64)        640       \n",
            "_________________________________________________________________\n",
            "max_pooling2d_144 (MaxPoolin (None, 19, 21, 64)        0         \n",
            "_________________________________________________________________\n",
            "conv2d_164 (Conv2D)          (None, 17, 19, 128)       73856     \n",
            "_________________________________________________________________\n",
            "max_pooling2d_145 (MaxPoolin (None, 8, 9, 128)         0         \n",
            "_________________________________________________________________\n",
            "conv2d_165 (Conv2D)          (None, 6, 7, 128)         147584    \n",
            "_________________________________________________________________\n",
            "max_pooling2d_146 (MaxPoolin (None, 3, 3, 128)         0         \n",
            "_________________________________________________________________\n",
            "flatten_28 (Flatten)         (None, 1152)              0         \n",
            "_________________________________________________________________\n",
            "dense_109 (Dense)            (None, 512)               590336    \n",
            "_________________________________________________________________\n",
            "dropout_16 (Dropout)         (None, 512)               0         \n",
            "_________________________________________________________________\n",
            "dense_110 (Dense)            (None, 256)               131328    \n",
            "_________________________________________________________________\n",
            "dropout_17 (Dropout)         (None, 256)               0         \n",
            "_________________________________________________________________\n",
            "dense_111 (Dense)            (None, 256)               65792     \n",
            "_________________________________________________________________\n",
            "dropout_18 (Dropout)         (None, 256)               0         \n",
            "_________________________________________________________________\n",
            "dense_112 (Dense)            (None, 30)                7710      \n",
            "=================================================================\n",
            "Total params: 1,017,246\n",
            "Trainable params: 1,017,246\n",
            "Non-trainable params: 0\n",
            "_________________________________________________________________\n"
          ],
          "name": "stdout"
        }
      ]
    },
    {
      "cell_type": "code",
      "metadata": {
        "id": "GYLd0VgdpXWu",
        "colab_type": "code",
        "colab": {
          "base_uri": "https://localhost:8080/",
          "height": 577
        },
        "outputId": "51b3aec7-6c15-4e4d-b8cf-c749509d1018"
      },
      "source": [
        "### padding valid, dropout 0.5, shorter fully-conneted\n",
        "x_train = x_train.reshape(x_train.shape[0], 40, -1,1)\n",
        "#CNN\n",
        "model = Sequential()\n",
        "model.add(Conv2D(64, kernel_size = (3,3), strides = (1,1),activation='relu', input_shape = (x_train.shape[1], x_train.shape[2],1)))\n",
        "model.add(MaxPooling2D((2,2)))\n",
        "\n",
        "model.add(Conv2D(128, kernel_size = (3,3), strides = (1,1),activation='relu'))\n",
        "model.add(MaxPooling2D((2,2)))\n",
        "\n",
        "model.add(Conv2D(128, kernel_size = (3,3), strides = (1,1),activation='relu'))\n",
        "model.add(MaxPooling2D((2,2)))\n",
        "model.add(Flatten())\n",
        "model.add(Dropout(0.3))\n",
        "\n",
        "#fully connected layer\n",
        "model.add(Dense(512, activation='relu'))\n",
        "model.add(Dropout(0.3))\n",
        "model.add(Dense(30, activation='softmax'))\n",
        "model.compile(loss=keras.losses.KLDivergence(), optimizer = 'adam')\n",
        "model.summary()"
      ],
      "execution_count": 6,
      "outputs": [
        {
          "output_type": "stream",
          "text": [
            "Model: \"sequential_1\"\n",
            "_________________________________________________________________\n",
            "Layer (type)                 Output Shape              Param #   \n",
            "=================================================================\n",
            "conv2d_1 (Conv2D)            (None, 38, 42, 64)        640       \n",
            "_________________________________________________________________\n",
            "max_pooling2d_1 (MaxPooling2 (None, 19, 21, 64)        0         \n",
            "_________________________________________________________________\n",
            "conv2d_2 (Conv2D)            (None, 17, 19, 128)       73856     \n",
            "_________________________________________________________________\n",
            "max_pooling2d_2 (MaxPooling2 (None, 8, 9, 128)         0         \n",
            "_________________________________________________________________\n",
            "conv2d_3 (Conv2D)            (None, 6, 7, 128)         147584    \n",
            "_________________________________________________________________\n",
            "max_pooling2d_3 (MaxPooling2 (None, 3, 3, 128)         0         \n",
            "_________________________________________________________________\n",
            "flatten_1 (Flatten)          (None, 1152)              0         \n",
            "_________________________________________________________________\n",
            "dropout_1 (Dropout)          (None, 1152)              0         \n",
            "_________________________________________________________________\n",
            "dense_1 (Dense)              (None, 512)               590336    \n",
            "_________________________________________________________________\n",
            "dropout_2 (Dropout)          (None, 512)               0         \n",
            "_________________________________________________________________\n",
            "dense_2 (Dense)              (None, 30)                15390     \n",
            "=================================================================\n",
            "Total params: 827,806\n",
            "Trainable params: 827,806\n",
            "Non-trainable params: 0\n",
            "_________________________________________________________________\n"
          ],
          "name": "stdout"
        }
      ]
    },
    {
      "cell_type": "markdown",
      "metadata": {
        "id": "8cq_NezXg_yH",
        "colab_type": "text"
      },
      "source": [
        "# compile for signal\n",
        "\n"
      ]
    },
    {
      "cell_type": "markdown",
      "metadata": {
        "id": "OSSGxW6Chpuk",
        "colab_type": "text"
      },
      "source": [
        "성능 구리다...."
      ]
    },
    {
      "cell_type": "code",
      "metadata": {
        "id": "3iiSqjJ_g0LW",
        "colab_type": "code",
        "colab": {}
      },
      "source": [
        "model_path = 'drive/My Drive/data/model_signal/'\n",
        "if not os.path.exists(model_path):\n",
        "  os.mkdir(model_path)\n",
        "\n",
        "# validattion 기준 모델 갱신\n",
        "model_file = model_path + 'epoch_{epoch:03d}_val_{val_loss:3f}.hdf5'\n",
        "checkpoint = ModelCheckpoint(filepath = model_file, monitor = 'val_loss', verbose = 1, save_best_only =True)\n",
        "\n",
        "#10회간 validatation 좋아지지 않으면 early stop\n",
        "early_stop = EarlyStopping(monitor = 'val_loss', patience = 10)\n",
        "\n",
        "history = model.fit(x_train, y_train, epochs = 100, batch_size = 256, validation_split = 0.2, shuffle = True,\n",
        "                    callbacks = [checkpoint, early_stop])"
      ],
      "execution_count": null,
      "outputs": []
    },
    {
      "cell_type": "code",
      "metadata": {
        "id": "2kM66x-GjsPu",
        "colab_type": "code",
        "colab": {}
      },
      "source": [
        "# 훈련 결과를 확인합니다.\n",
        "# validation 성능 fool하다....\n",
        "plt.plot(history.epoch, history.history['loss'], '-o', label='training_loss')\n",
        "plt.plot(history.epoch, history.history['val_loss'], '-o', label='validation_loss')\n",
        "plt.legend()\n",
        "plt.xlim(left=0)\n",
        "plt.xlabel('epochs')\n",
        "plt.ylabel('loss')\n",
        "plt.show()"
      ],
      "execution_count": null,
      "outputs": []
    },
    {
      "cell_type": "code",
      "metadata": {
        "id": "-JQjUYThjyHe",
        "colab_type": "code",
        "colab": {}
      },
      "source": [
        "# 검증 wav 파일로부터 Feature를 만듭니다.\n",
        "x_test = pd.read_pickle('drive/My Drive/data/x_test_normalized.pickle')\n",
        "x_test = x_test.values\n",
        "x_test = x_test.reshape(x_test.shape[0], x_test.shape[1], 1)\n",
        "\n",
        "# 가장 좋은 모델의 weight를 불러옵니다.\n",
        "weigth_file = glob('drive/My Drive/data/model/*.hdf5')[-1]\n",
        "print(weigth_file)\n",
        "model.load_weights(weigth_file)\n",
        "\n",
        "# 예측 수행\n",
        "y_pred = model.predict(x_test)\n",
        "\n",
        "# 예측 결과로 제출 파일을 생성합니다.\n",
        "submission = pd.read_csv('drive/My Drive/data/submission.csv', index_col=0)\n",
        "submission.loc[:, :] = y_pred\n",
        "submission.to_csv('drive/My Drive/data/submission.csv')"
      ],
      "execution_count": null,
      "outputs": []
    },
    {
      "cell_type": "markdown",
      "metadata": {
        "id": "gO0grTu7hDr6",
        "colab_type": "text"
      },
      "source": [
        "# compile for MFCC"
      ]
    },
    {
      "cell_type": "code",
      "metadata": {
        "id": "0Ub9_9IZxTSL",
        "colab_type": "code",
        "colab": {
          "base_uri": "https://localhost:8080/",
          "height": 1000
        },
        "outputId": "f8cb01e1-e657-40d4-8aae-e7f9d17201e5"
      },
      "source": [
        "model_path = 'drive/My Drive/data/model/'\n",
        "if not os.path.exists(model_path):\n",
        "  os.mkdir(model_path)\n",
        "\n",
        "# validattion 기준 모델 갱신\n",
        "model_file = model_path + 'epoch_{epoch:03d}_val_{val_loss:3f}.hdf5'\n",
        "checkpoint = ModelCheckpoint(filepath = model_file, monitor = 'val_loss', verbose = 1, save_best_only =True)\n",
        "\n",
        "#10회간 validatation 좋아지지 않으면 early stop\n",
        "early_stop = EarlyStopping(monitor = 'val_loss', patience = 10)\n",
        "\n",
        "history = model.fit(x_train, y_train, epochs = 100, batch_size = 64, validation_split = 0.2, shuffle = True,\n",
        "                    callbacks = [checkpoint, early_stop])"
      ],
      "execution_count": null,
      "outputs": [
        {
          "output_type": "stream",
          "text": [
            "Train on 80000 samples, validate on 20000 samples\n",
            "Epoch 1/100\n",
            "80000/80000 [==============================] - 49s 612us/step - loss: 1.7428 - val_loss: 2.9026\n",
            "\n",
            "Epoch 00001: val_loss improved from inf to 2.90256, saving model to drive/My Drive/data/model/epoch_001_val_2.902563.hdf5\n",
            "Epoch 2/100\n",
            "80000/80000 [==============================] - 48s 594us/step - loss: 1.5692 - val_loss: 2.1765\n",
            "\n",
            "Epoch 00002: val_loss improved from 2.90256 to 2.17647, saving model to drive/My Drive/data/model/epoch_002_val_2.176467.hdf5\n",
            "Epoch 3/100\n",
            "80000/80000 [==============================] - 47s 591us/step - loss: 1.4897 - val_loss: 2.0291\n",
            "\n",
            "Epoch 00003: val_loss improved from 2.17647 to 2.02906, saving model to drive/My Drive/data/model/epoch_003_val_2.029064.hdf5\n",
            "Epoch 4/100\n",
            "80000/80000 [==============================] - 47s 591us/step - loss: 1.4333 - val_loss: 1.9876\n",
            "\n",
            "Epoch 00004: val_loss improved from 2.02906 to 1.98765, saving model to drive/My Drive/data/model/epoch_004_val_1.987646.hdf5\n",
            "Epoch 5/100\n",
            "80000/80000 [==============================] - 48s 597us/step - loss: 1.3902 - val_loss: 1.8043\n",
            "\n",
            "Epoch 00005: val_loss improved from 1.98765 to 1.80431, saving model to drive/My Drive/data/model/epoch_005_val_1.804311.hdf5\n",
            "Epoch 6/100\n",
            "80000/80000 [==============================] - 47s 590us/step - loss: 1.3538 - val_loss: 1.8446\n",
            "\n",
            "Epoch 00006: val_loss did not improve from 1.80431\n",
            "Epoch 7/100\n",
            "80000/80000 [==============================] - 49s 609us/step - loss: 1.3260 - val_loss: 1.6129\n",
            "\n",
            "Epoch 00007: val_loss improved from 1.80431 to 1.61292, saving model to drive/My Drive/data/model/epoch_007_val_1.612917.hdf5\n",
            "Epoch 8/100\n",
            "80000/80000 [==============================] - 47s 593us/step - loss: 1.3026 - val_loss: 1.6482\n",
            "\n",
            "Epoch 00008: val_loss did not improve from 1.61292\n",
            "Epoch 9/100\n",
            "80000/80000 [==============================] - 47s 588us/step - loss: 1.2815 - val_loss: 1.6136\n",
            "\n",
            "Epoch 00009: val_loss did not improve from 1.61292\n",
            "Epoch 10/100\n",
            "80000/80000 [==============================] - 46s 581us/step - loss: 1.2614 - val_loss: 1.5302\n",
            "\n",
            "Epoch 00010: val_loss improved from 1.61292 to 1.53024, saving model to drive/My Drive/data/model/epoch_010_val_1.530243.hdf5\n",
            "Epoch 11/100\n",
            "80000/80000 [==============================] - 47s 584us/step - loss: 1.2446 - val_loss: 1.5156\n",
            "\n",
            "Epoch 00011: val_loss improved from 1.53024 to 1.51563, saving model to drive/My Drive/data/model/epoch_011_val_1.515627.hdf5\n",
            "Epoch 12/100\n",
            "80000/80000 [==============================] - 47s 582us/step - loss: 1.2292 - val_loss: 1.5900\n",
            "\n",
            "Epoch 00012: val_loss did not improve from 1.51563\n",
            "Epoch 13/100\n",
            "80000/80000 [==============================] - 47s 588us/step - loss: 1.2145 - val_loss: 1.5496\n",
            "\n",
            "Epoch 00013: val_loss did not improve from 1.51563\n",
            "Epoch 14/100\n",
            "80000/80000 [==============================] - 48s 606us/step - loss: 1.2008 - val_loss: 1.4646\n",
            "\n",
            "Epoch 00014: val_loss improved from 1.51563 to 1.46460, saving model to drive/My Drive/data/model/epoch_014_val_1.464597.hdf5\n",
            "Epoch 15/100\n",
            "80000/80000 [==============================] - 47s 584us/step - loss: 1.1899 - val_loss: 1.4649\n",
            "\n",
            "Epoch 00015: val_loss did not improve from 1.46460\n",
            "Epoch 16/100\n",
            "80000/80000 [==============================] - 47s 586us/step - loss: 1.1793 - val_loss: 1.5784\n",
            "\n",
            "Epoch 00016: val_loss did not improve from 1.46460\n",
            "Epoch 17/100\n",
            "80000/80000 [==============================] - 47s 593us/step - loss: 1.1694 - val_loss: 1.6040\n",
            "\n",
            "Epoch 00017: val_loss did not improve from 1.46460\n",
            "Epoch 18/100\n",
            "80000/80000 [==============================] - 47s 592us/step - loss: 1.1594 - val_loss: 1.4155\n",
            "\n",
            "Epoch 00018: val_loss improved from 1.46460 to 1.41551, saving model to drive/My Drive/data/model/epoch_018_val_1.415506.hdf5\n",
            "Epoch 19/100\n",
            "80000/80000 [==============================] - 47s 590us/step - loss: 1.1494 - val_loss: 1.4670\n",
            "\n",
            "Epoch 00019: val_loss did not improve from 1.41551\n",
            "Epoch 20/100\n",
            "80000/80000 [==============================] - 49s 611us/step - loss: 1.1409 - val_loss: 1.5762\n",
            "\n",
            "Epoch 00020: val_loss did not improve from 1.41551\n",
            "Epoch 21/100\n",
            "80000/80000 [==============================] - 48s 595us/step - loss: 1.1314 - val_loss: 1.6135\n",
            "\n",
            "Epoch 00021: val_loss did not improve from 1.41551\n",
            "Epoch 22/100\n",
            "80000/80000 [==============================] - 47s 588us/step - loss: 1.1244 - val_loss: 1.5134\n",
            "\n",
            "Epoch 00022: val_loss did not improve from 1.41551\n",
            "Epoch 23/100\n",
            "80000/80000 [==============================] - 47s 582us/step - loss: 1.1155 - val_loss: 1.5959\n",
            "\n",
            "Epoch 00023: val_loss did not improve from 1.41551\n",
            "Epoch 24/100\n",
            "80000/80000 [==============================] - 47s 590us/step - loss: 1.1092 - val_loss: 1.4340\n",
            "\n",
            "Epoch 00024: val_loss did not improve from 1.41551\n",
            "Epoch 25/100\n",
            "80000/80000 [==============================] - 47s 581us/step - loss: 1.1019 - val_loss: 1.4558\n",
            "\n",
            "Epoch 00025: val_loss did not improve from 1.41551\n",
            "Epoch 26/100\n",
            "80000/80000 [==============================] - 47s 591us/step - loss: 1.0938 - val_loss: 1.4359\n",
            "\n",
            "Epoch 00026: val_loss did not improve from 1.41551\n",
            "Epoch 27/100\n",
            "80000/80000 [==============================] - 48s 602us/step - loss: 1.0883 - val_loss: 1.4996\n",
            "\n",
            "Epoch 00027: val_loss did not improve from 1.41551\n",
            "Epoch 28/100\n",
            "80000/80000 [==============================] - 47s 590us/step - loss: 1.0822 - val_loss: 1.4464\n",
            "\n",
            "Epoch 00028: val_loss did not improve from 1.41551\n"
          ],
          "name": "stdout"
        }
      ]
    },
    {
      "cell_type": "code",
      "metadata": {
        "id": "XTa3_yH3yc2M",
        "colab_type": "code",
        "colab": {
          "base_uri": "https://localhost:8080/",
          "height": 279
        },
        "outputId": "5ce32ac4-26e9-455f-e9e1-ac43d7b75037"
      },
      "source": [
        "# 훈련 결과를 확인합니다.\n",
        "# validation 성능 fool하다....\n",
        "plt.plot(history.epoch, history.history['loss'], '-o', label='training_loss')\n",
        "plt.plot(history.epoch, history.history['val_loss'], '-o', label='validation_loss')\n",
        "plt.legend()\n",
        "plt.xlim(left=0)\n",
        "plt.xlabel('epochs')\n",
        "plt.ylabel('loss')\n",
        "plt.show()"
      ],
      "execution_count": null,
      "outputs": [
        {
          "output_type": "display_data",
          "data": {
            "image/png": "[encoded data removed]",
            "text/plain": [
              "<Figure size 432x288 with 1 Axes>"
            ]
          },
          "metadata": {
            "tags": [],
            "needs_background": "light"
          }
        }
      ]
    },
    {
      "cell_type": "code",
      "metadata": {
        "id": "G3updRLHBYWZ",
        "colab_type": "code",
        "colab": {
          "base_uri": "https://localhost:8080/",
          "height": 35
        },
        "outputId": "67ec72be-1881-4610-beb3-1b437eacaf62"
      },
      "source": [
        "# 검증 wav 파일로부터 Feature를 만듭니다.\n",
        "\n",
        "x_test = pd.read_pickle('drive/My Drive/data/x_test_MFCC.pickle')\n",
        "x_test = x_test.values\n",
        "x_test = list((map(lambda x : x / max(x),x_test)))\n",
        "x_test =  np.array(x_test)\n",
        "'''\n",
        "x_test = pd.read_pickle('drive/My Drive/data/x_test_normalized.pickle')\n",
        "x_test = x_test.values\n",
        "#x_test = x_test.reshape(x_test.shape[0], x_test.shape[1], 1)\n",
        "'''\n",
        "x_test = x_test.reshape(x_test.shape[0], 40,-1, 1)\n",
        "\n",
        "# 가장 좋은 모델의 weight를 불러옵니다.\n",
        "weigth_file = glob('drive/My Drive/data/model/*.hdf5')[-1]\n",
        "print(weigth_file)\n",
        "model.load_weights(weigth_file)\n",
        "\n",
        "# 예측 수행\n",
        "y_pred = model.predict(x_test)\n",
        "\n",
        "# 예측 결과로 제출 파일을 생성합니다.\n",
        "submission = pd.read_csv('drive/My Drive/data/submission.csv', index_col=0)\n",
        "submission.loc[:, :] = y_pred\n",
        "submission.to_csv('drive/My Drive/data/submission.csv')"
      ],
      "execution_count": null,
      "outputs": [
        {
          "output_type": "stream",
          "text": [
            "drive/My Drive/data/model/epoch_018_val_1.415506.hdf5\n"
          ],
          "name": "stdout"
        }
      ]
    },
    {
      "cell_type": "markdown",
      "metadata": {
        "id": "Nm0JUuVtyE7o",
        "colab_type": "text"
      },
      "source": [
        "# compile for MFCC_2D"
      ]
    },
    {
      "cell_type": "code",
      "metadata": {
        "id": "_OcqbI31yCB0",
        "colab_type": "code",
        "colab": {
          "base_uri": "https://localhost:8080/",
          "height": 1000
        },
        "outputId": "f94abde5-6c8f-412c-c7b8-67c5c0b0c6f9"
      },
      "source": [
        "model_path = 'drive/My Drive/data/model_2D/'\n",
        "if not os.path.exists(model_path):\n",
        "  os.mkdir(model_path)\n",
        "\n",
        "# validattion 기준 모델 갱신\n",
        "model_file = model_path + 'epoch_{epoch:03d}_val_{val_loss:3f}.hdf5'\n",
        "checkpoint = ModelCheckpoint(filepath = model_file, monitor = 'val_loss', verbose = 1, save_best_only =True)\n",
        "\n",
        "#10회간 validatation 좋아지지 않으면 early stop\n",
        "early_stop = EarlyStopping(monitor = 'val_loss', patience = 10)\n",
        "\n",
        "history = model.fit(x_train, y_train, epochs = 100, batch_size = 64, validation_split = 0.2, shuffle = True,\n",
        "                    callbacks = [checkpoint, early_stop])"
      ],
      "execution_count": 7,
      "outputs": [
        {
          "output_type": "stream",
          "text": [
            "Train on 80000 samples, validate on 20000 samples\n",
            "Epoch 1/100\n",
            "80000/80000 [==============================] - 68s 844us/step - loss: 1.8552 - val_loss: 1.6708\n",
            "\n",
            "Epoch 00001: val_loss improved from inf to 1.67080, saving model to drive/My Drive/data/model_2D/epoch_001_val_1.670803.hdf5\n",
            "Epoch 2/100\n",
            "80000/80000 [==============================] - 67s 834us/step - loss: 1.6668 - val_loss: 1.5656\n",
            "\n",
            "Epoch 00002: val_loss improved from 1.67080 to 1.56560, saving model to drive/My Drive/data/model_2D/epoch_002_val_1.565605.hdf5\n",
            "Epoch 3/100\n",
            "80000/80000 [==============================] - 68s 846us/step - loss: 1.5813 - val_loss: 1.4836\n",
            "\n",
            "Epoch 00003: val_loss improved from 1.56560 to 1.48365, saving model to drive/My Drive/data/model_2D/epoch_003_val_1.483648.hdf5\n",
            "Epoch 4/100\n",
            "80000/80000 [==============================] - 67s 836us/step - loss: 1.5280 - val_loss: 1.4440\n",
            "\n",
            "Epoch 00004: val_loss improved from 1.48365 to 1.44397, saving model to drive/My Drive/data/model_2D/epoch_004_val_1.443969.hdf5\n",
            "Epoch 5/100\n",
            "80000/80000 [==============================] - 56s 705us/step - loss: 1.4912 - val_loss: 1.4112\n",
            "\n",
            "Epoch 00005: val_loss improved from 1.44397 to 1.41122, saving model to drive/My Drive/data/model_2D/epoch_005_val_1.411222.hdf5\n",
            "Epoch 6/100\n",
            "80000/80000 [==============================] - 47s 593us/step - loss: 1.4625 - val_loss: 1.3926\n",
            "\n",
            "Epoch 00006: val_loss improved from 1.41122 to 1.39257, saving model to drive/My Drive/data/model_2D/epoch_006_val_1.392571.hdf5\n",
            "Epoch 7/100\n",
            "80000/80000 [==============================] - 49s 610us/step - loss: 1.4402 - val_loss: 1.3866\n",
            "\n",
            "Epoch 00007: val_loss improved from 1.39257 to 1.38660, saving model to drive/My Drive/data/model_2D/epoch_007_val_1.386601.hdf5\n",
            "Epoch 8/100\n",
            "80000/80000 [==============================] - 48s 605us/step - loss: 1.4230 - val_loss: 1.3668\n",
            "\n",
            "Epoch 00008: val_loss improved from 1.38660 to 1.36678, saving model to drive/My Drive/data/model_2D/epoch_008_val_1.366784.hdf5\n",
            "Epoch 9/100\n",
            "80000/80000 [==============================] - 49s 615us/step - loss: 1.4076 - val_loss: 1.3570\n",
            "\n",
            "Epoch 00009: val_loss improved from 1.36678 to 1.35699, saving model to drive/My Drive/data/model_2D/epoch_009_val_1.356995.hdf5\n",
            "Epoch 10/100\n",
            "80000/80000 [==============================] - 48s 597us/step - loss: 1.3951 - val_loss: 1.3504\n",
            "\n",
            "Epoch 00010: val_loss improved from 1.35699 to 1.35035, saving model to drive/My Drive/data/model_2D/epoch_010_val_1.350354.hdf5\n",
            "Epoch 11/100\n",
            "80000/80000 [==============================] - 48s 594us/step - loss: 1.3843 - val_loss: 1.3398\n",
            "\n",
            "Epoch 00011: val_loss improved from 1.35035 to 1.33984, saving model to drive/My Drive/data/model_2D/epoch_011_val_1.339841.hdf5\n",
            "Epoch 12/100\n",
            "80000/80000 [==============================] - 48s 601us/step - loss: 1.3737 - val_loss: 1.3402\n",
            "\n",
            "Epoch 00012: val_loss did not improve from 1.33984\n",
            "Epoch 13/100\n",
            "80000/80000 [==============================] - 48s 597us/step - loss: 1.3652 - val_loss: 1.3345\n",
            "\n",
            "Epoch 00013: val_loss improved from 1.33984 to 1.33452, saving model to drive/My Drive/data/model_2D/epoch_013_val_1.334520.hdf5\n",
            "Epoch 14/100\n",
            "80000/80000 [==============================] - 48s 606us/step - loss: 1.3571 - val_loss: 1.3342\n",
            "\n",
            "Epoch 00014: val_loss improved from 1.33452 to 1.33416, saving model to drive/My Drive/data/model_2D/epoch_014_val_1.334159.hdf5\n",
            "Epoch 15/100\n",
            "80000/80000 [==============================] - 49s 617us/step - loss: 1.3492 - val_loss: 1.3253\n",
            "\n",
            "Epoch 00015: val_loss improved from 1.33416 to 1.32531, saving model to drive/My Drive/data/model_2D/epoch_015_val_1.325311.hdf5\n",
            "Epoch 16/100\n",
            "80000/80000 [==============================] - 49s 607us/step - loss: 1.3412 - val_loss: 1.3331\n",
            "\n",
            "Epoch 00016: val_loss did not improve from 1.32531\n",
            "Epoch 17/100\n",
            "80000/80000 [==============================] - 48s 601us/step - loss: 1.3351 - val_loss: 1.3196\n",
            "\n",
            "Epoch 00017: val_loss improved from 1.32531 to 1.31960, saving model to drive/My Drive/data/model_2D/epoch_017_val_1.319603.hdf5\n",
            "Epoch 18/100\n",
            "80000/80000 [==============================] - 48s 603us/step - loss: 1.3297 - val_loss: 1.3101\n",
            "\n",
            "Epoch 00018: val_loss improved from 1.31960 to 1.31012, saving model to drive/My Drive/data/model_2D/epoch_018_val_1.310119.hdf5\n",
            "Epoch 19/100\n",
            "80000/80000 [==============================] - 47s 592us/step - loss: 1.3251 - val_loss: 1.3235\n",
            "\n",
            "Epoch 00019: val_loss did not improve from 1.31012\n",
            "Epoch 20/100\n",
            "80000/80000 [==============================] - 48s 601us/step - loss: 1.3213 - val_loss: 1.3192\n",
            "\n",
            "Epoch 00020: val_loss did not improve from 1.31012\n",
            "Epoch 21/100\n",
            "80000/80000 [==============================] - 48s 594us/step - loss: 1.3152 - val_loss: 1.3106\n",
            "\n",
            "Epoch 00021: val_loss did not improve from 1.31012\n",
            "Epoch 22/100\n",
            "80000/80000 [==============================] - 48s 601us/step - loss: 1.3123 - val_loss: 1.3100\n",
            "\n",
            "Epoch 00022: val_loss improved from 1.31012 to 1.30998, saving model to drive/My Drive/data/model_2D/epoch_022_val_1.309975.hdf5\n",
            "Epoch 23/100\n",
            "80000/80000 [==============================] - 47s 588us/step - loss: 1.3046 - val_loss: 1.3136\n",
            "\n",
            "Epoch 00023: val_loss did not improve from 1.30998\n",
            "Epoch 24/100\n",
            "80000/80000 [==============================] - 48s 599us/step - loss: 1.3012 - val_loss: 1.3162\n",
            "\n",
            "Epoch 00024: val_loss did not improve from 1.30998\n",
            "Epoch 25/100\n",
            "80000/80000 [==============================] - 48s 598us/step - loss: 1.2977 - val_loss: 1.3071\n",
            "\n",
            "Epoch 00025: val_loss improved from 1.30998 to 1.30711, saving model to drive/My Drive/data/model_2D/epoch_025_val_1.307111.hdf5\n",
            "Epoch 26/100\n",
            "80000/80000 [==============================] - 48s 597us/step - loss: 1.2926 - val_loss: 1.3136\n",
            "\n",
            "Epoch 00026: val_loss did not improve from 1.30711\n",
            "Epoch 27/100\n",
            "80000/80000 [==============================] - 48s 600us/step - loss: 1.2918 - val_loss: 1.3114\n",
            "\n",
            "Epoch 00027: val_loss did not improve from 1.30711\n",
            "Epoch 28/100\n",
            "80000/80000 [==============================] - 49s 616us/step - loss: 1.2866 - val_loss: 1.3132\n",
            "\n",
            "Epoch 00028: val_loss did not improve from 1.30711\n",
            "Epoch 29/100\n",
            "80000/80000 [==============================] - 50s 620us/step - loss: 1.2828 - val_loss: 1.3085\n",
            "\n",
            "Epoch 00029: val_loss did not improve from 1.30711\n",
            "Epoch 30/100\n",
            "80000/80000 [==============================] - 48s 605us/step - loss: 1.2813 - val_loss: 1.3072\n",
            "\n",
            "Epoch 00030: val_loss did not improve from 1.30711\n",
            "Epoch 31/100\n",
            "80000/80000 [==============================] - 49s 607us/step - loss: 1.2779 - val_loss: 1.3093\n",
            "\n",
            "Epoch 00031: val_loss did not improve from 1.30711\n",
            "Epoch 32/100\n",
            "80000/80000 [==============================] - 49s 612us/step - loss: 1.2733 - val_loss: 1.3135\n",
            "\n",
            "Epoch 00032: val_loss did not improve from 1.30711\n",
            "Epoch 33/100\n",
            "80000/80000 [==============================] - 48s 599us/step - loss: 1.2730 - val_loss: 1.3062\n",
            "\n",
            "Epoch 00033: val_loss improved from 1.30711 to 1.30622, saving model to drive/My Drive/data/model_2D/epoch_033_val_1.306221.hdf5\n",
            "Epoch 34/100\n",
            "80000/80000 [==============================] - 49s 611us/step - loss: 1.2700 - val_loss: 1.3194\n",
            "\n",
            "Epoch 00034: val_loss did not improve from 1.30622\n",
            "Epoch 35/100\n",
            "80000/80000 [==============================] - 50s 619us/step - loss: 1.2663 - val_loss: 1.3114\n",
            "\n",
            "Epoch 00035: val_loss did not improve from 1.30622\n",
            "Epoch 36/100\n",
            "80000/80000 [==============================] - 49s 608us/step - loss: 1.2646 - val_loss: 1.3084\n",
            "\n",
            "Epoch 00036: val_loss did not improve from 1.30622\n",
            "Epoch 37/100\n",
            "80000/80000 [==============================] - 49s 613us/step - loss: 1.2640 - val_loss: 1.3114\n",
            "\n",
            "Epoch 00037: val_loss did not improve from 1.30622\n",
            "Epoch 38/100\n",
            "80000/80000 [==============================] - 49s 608us/step - loss: 1.2590 - val_loss: 1.3166\n",
            "\n",
            "Epoch 00038: val_loss did not improve from 1.30622\n",
            "Epoch 39/100\n",
            "80000/80000 [==============================] - 48s 599us/step - loss: 1.2578 - val_loss: 1.3187\n",
            "\n",
            "Epoch 00039: val_loss did not improve from 1.30622\n",
            "Epoch 40/100\n",
            "80000/80000 [==============================] - 49s 607us/step - loss: 1.2584 - val_loss: 1.3150\n",
            "\n",
            "Epoch 00040: val_loss did not improve from 1.30622\n",
            "Epoch 41/100\n",
            "80000/80000 [==============================] - 48s 606us/step - loss: 1.2532 - val_loss: 1.3208\n",
            "\n",
            "Epoch 00041: val_loss did not improve from 1.30622\n",
            "Epoch 42/100\n",
            "80000/80000 [==============================] - 49s 612us/step - loss: 1.2523 - val_loss: 1.3129\n",
            "\n",
            "Epoch 00042: val_loss did not improve from 1.30622\n",
            "Epoch 43/100\n",
            "80000/80000 [==============================] - 48s 601us/step - loss: 1.2502 - val_loss: 1.3104\n",
            "\n",
            "Epoch 00043: val_loss did not improve from 1.30622\n"
          ],
          "name": "stdout"
        }
      ]
    },
    {
      "cell_type": "code",
      "metadata": {
        "id": "VggoeXOnytZ7",
        "colab_type": "code",
        "colab": {
          "base_uri": "https://localhost:8080/",
          "height": 279
        },
        "outputId": "f532fb4a-650f-49d9-d0bf-fa03e488c7f7"
      },
      "source": [
        "# 훈련 결과를 확인합니다.\n",
        "# validation 성능 fool하다....\n",
        "plt.plot(history.epoch, history.history['loss'], '-o', label='training_loss')\n",
        "plt.plot(history.epoch, history.history['val_loss'], '-o', label='validation_loss')\n",
        "plt.legend()\n",
        "plt.xlim(left=0)\n",
        "plt.xlabel('epochs')\n",
        "plt.ylabel('loss')\n",
        "plt.show()"
      ],
      "execution_count": 8,
      "outputs": [
        {
          "output_type": "display_data",
          "data": {
            "image/png": "[encoded data removed]",
            "text/plain": [
              "<Figure size 432x288 with 1 Axes>"
            ]
          },
          "metadata": {
            "tags": [],
            "needs_background": "light"
          }
        }
      ]
    },
    {
      "cell_type": "code",
      "metadata": {
        "id": "kMFfoQImzwUg",
        "colab_type": "code",
        "colab": {
          "base_uri": "https://localhost:8080/",
          "height": 36
        },
        "outputId": "c0e4f7e5-e9f7-4116-c707-5b11efd81198"
      },
      "source": [
        "#x_test 문제있는거 같음...\n",
        "# 검증 wav 파일로부터 Feature를 만듭니다.\n",
        "x_test = pd.read_pickle('drive/My Drive/data/x_test_MFCC.pickle')\n",
        "x_test = x_test.values\n",
        "x_test = list((map(lambda x : x / max(x),x_test)))\n",
        "x_test =  np.array(x_test)\n",
        "x_test = x_test.reshape(x_test.shape[0], 40,-1, 1)\n",
        "\n",
        "# 가장 좋은 모델의 weight를 불러옵니다.\n",
        "weigth_file = glob('drive/My Drive/data/model_2D/*.hdf5')[-1]\n",
        "print(weigth_file)\n",
        "model.load_weights(weigth_file)\n",
        "\n",
        "# 예측 수행\n",
        "y_pred = model.predict(x_test)\n",
        "\n",
        "# 예측 결과로 제출 파일을 생성합니다.\n",
        "submission = pd.read_csv('drive/My Drive/data/submission.csv', index_col=0)\n",
        "submission.loc[:, :] = y_pred\n",
        "submission.to_csv('drive/My Drive/data/submission.csv')"
      ],
      "execution_count": 9,
      "outputs": [
        {
          "output_type": "stream",
          "text": [
            "drive/My Drive/data/model_2D/epoch_033_val_1.306221.hdf5\n"
          ],
          "name": "stdout"
        }
      ]
    },
    {
      "cell_type": "markdown",
      "metadata": {
        "id": "pvTUMn6yhI7t",
        "colab_type": "text"
      },
      "source": [
        "# 결과 구간화\n"
      ]
    },
    {
      "cell_type": "markdown",
      "metadata": {
        "id": "TYMro9QUhPky",
        "colab_type": "text"
      },
      "source": [
        "행합이 1이 아닌 결과 값이 많음....(처리 필요함..)"
      ]
    },
    {
      "cell_type": "code",
      "metadata": {
        "id": "MsKgW3WJc3hV",
        "colab_type": "code",
        "colab": {}
      },
      "source": [
        "def make_step(vec):\n",
        "  for i,con in enumerate(vec):\n",
        "    interval = 0.125\n",
        "    if 0<= con <interval:\n",
        "      vec[i] = 0\n",
        "    elif interval<= con < interval*2:\n",
        "      vec[i] = 0.25\n",
        "    elif interval*2<= con < interval*3:\n",
        "      vec[i] = 0.75\n",
        "    else:\n",
        "      vec[i] = 1\n",
        "    \n",
        "    return vec\n",
        "\n",
        "submission_step = list(map(make_step, submission.values))\n",
        "submission_step = np.array(submission_step)"
      ],
      "execution_count": null,
      "outputs": []
    },
    {
      "cell_type": "markdown",
      "metadata": {
        "id": "SSpbeFsVnGxj",
        "colab_type": "text"
      },
      "source": [
        "# 7/20 \n",
        "**모델** : epoch_008_val_**1.724779**.hdf5(1D model)\n",
        "  \n",
        "**데이터**: x_trian_MFCC\n",
        "  \n",
        "**score** : ? (test set 잘못됨..) \n",
        "\n",
        "--------------------------------------\n",
        "\n",
        "**모델** : epoch_015_val_**1.452905**.hdf5(2D model)\n",
        "  \n",
        "**데이터**: x_trian_MFCC\n",
        "  \n",
        "**score** : ?(test set 잘못됨..)\n",
        "\n",
        "--------------------------------------\n",
        "\n",
        "**모델** : epoch_018_val_**1.415506**.hdf5(2D model)\n",
        "  \n",
        "**데이터**: x_trian_MFCC\n",
        "  \n",
        "**score** : **1.4672**\n",
        "\n",
        "\n",
        "# 7/21\n",
        "\n",
        "--------------------------------------\n",
        "\n",
        "**모델** : epoch_033_val_**1.306221**.hdf5(2D model_shoter_FC)\n",
        "  \n",
        "**데이터**: x_trian_MFCC\n",
        "  \n",
        "**score** : **1.33477**\n",
        "\n",
        "--------------------------------------\n"
      ]
    }
  ]
}
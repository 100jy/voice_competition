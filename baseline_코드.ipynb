{
  "nbformat": 4,
  "nbformat_minor": 0,
  "metadata": {
    "colab": {
      "name": "baseline 코드.ipynb",
      "provenance": [],
      "collapsed_sections": [],
      "machine_shape": "hm",
      "authorship_tag": "ABX9TyO66RaW7Kjo0vZidsxRtfwF",
      "include_colab_link": true
    },
    "kernelspec": {
      "name": "python3",
      "display_name": "Python 3"
    },
    "accelerator": "TPU"
  },
  "cells": [
    {
      "cell_type": "markdown",
      "metadata": {
        "id": "view-in-github",
        "colab_type": "text"
      },
      "source": [
        "<a href=\"https://colab.research.google.com/github/100jy/voice_competition/blob/master/baseline_%EC%BD%94%EB%93%9C.ipynb\" target=\"_parent\"><img src=\"https://colab.research.google.com/assets/colab-badge.svg\" alt=\"Open In Colab\"/></a>"
      ]
    },
    {
      "cell_type": "markdown",
      "metadata": {
        "id": "aYh7Mne7eTnT",
        "colab_type": "text"
      },
      "source": [
        "구글 드라이브 연동"
      ]
    },
    {
      "cell_type": "code",
      "metadata": {
        "id": "2wlt388hdkj1",
        "colab_type": "code",
        "colab": {
          "base_uri": "https://localhost:8080/",
          "height": 127
        },
        "outputId": "90da0712-75da-4ddc-a113-17c7259f3e6a"
      },
      "source": [
        "#구글 드라이브 연동\n",
        "from google.colab import drive\n",
        "drive.mount('/content/drive')"
      ],
      "execution_count": null,
      "outputs": [
        {
          "output_type": "stream",
          "text": [
            "Go to this URL in a browser: https://accounts.google.com/o/oauth2/auth?client_id=947318989803-6bn6qk8qdgf4n4g3pfee6491hc0brc4i.apps.googleusercontent.com&redirect_uri=urn%3aietf%3awg%3aoauth%3a2.0%3aoob&response_type=code&scope=email%20https%3a%2f%2fwww.googleapis.com%2fauth%2fdocs.test%20https%3a%2f%2fwww.googleapis.com%2fauth%2fdrive%20https%3a%2f%2fwww.googleapis.com%2fauth%2fdrive.photos.readonly%20https%3a%2f%2fwww.googleapis.com%2fauth%2fpeopleapi.readonly\n",
            "\n",
            "Enter your authorization code:\n",
            "··········\n",
            "Mounted at /content/drive\n"
          ],
          "name": "stdout"
        }
      ]
    },
    {
      "cell_type": "markdown",
      "metadata": {
        "id": "e-MsxJu1hcs1",
        "colab_type": "text"
      },
      "source": [
        "모듈 임포트"
      ]
    },
    {
      "cell_type": "code",
      "metadata": {
        "id": "QxxxC8E2fJt3",
        "colab_type": "code",
        "colab": {}
      },
      "source": [
        "import os\n",
        "import pandas as pd\n",
        "import numpy as np\n",
        "import matplotlib.pyplot as plt\n",
        "import scipy\n",
        "import tensorflow as tf\n",
        "import keras\n",
        "from tqdm import tqdm\n",
        "from glob import glob\n",
        "from scipy.io import wavfile\n",
        "from keras.models import Sequential\n",
        "from keras.layers import Dense, Conv1D, MaxPooling1D, Conv2D, MaxPooling2D, Flatten, BatchNormalization\n",
        "from keras.callbacks import ModelCheckpoint, EarlyStopping\n",
        "import librosa"
      ],
      "execution_count": null,
      "outputs": []
    },
    {
      "cell_type": "markdown",
      "metadata": {
        "id": "bFW6VCtBhwgr",
        "colab_type": "text"
      },
      "source": [
        "# 음성에서 정형 데이터화\n",
        "\n",
        "1. 음성신호 상태로 이용하는 방법 \n",
        "2. MFCC이용하는 방법\n",
        "3. spectogram 이용하는 방법"
      ]
    },
    {
      "cell_type": "code",
      "metadata": {
        "id": "A_zJ_GvqhmSP",
        "colab_type": "code",
        "colab": {}
      },
      "source": [
        "# 데이터 로드 함수 정의 \n",
        "def make_data(datalist, feature = 'signal'):\n",
        "\n",
        "    arr = []\n",
        "    #signal data\n",
        "    if feature == 'signal':\n",
        "        for file in tqdm(datalist):\n",
        "            fs, data = wavfile.read(file)\n",
        "            arr.append(data)\n",
        "  \n",
        "    #spectogam data\n",
        "    elif feature == 'spectogram':\n",
        "        for file in tqdm(datalist):\n",
        "            x, sr = librosa.load(file)\n",
        "            spec = librosa.stft(x)\n",
        "            arr.append(spec.flatten())\n",
        "  \n",
        "    #MFCC data\n",
        "    elif feature == 'MFCC':\n",
        "        for file in tqdm(datalist):\n",
        "            x, sr = librosa.load(file)\n",
        "            mfcc = librosa.feature.mfcc(x, sr=sr, n_mfcc=40, fmax=3000)\n",
        "            arr.append(mfcc.flatten())\n",
        "  \n",
        "    else:\n",
        "        raise ValueError\n",
        "\n",
        "    result = np.array(arr)\n",
        "    \n",
        "    return result "
      ],
      "execution_count": null,
      "outputs": []
    },
    {
      "cell_type": "markdown",
      "metadata": {
        "id": "w0lPgXVen8S4",
        "colab_type": "text"
      },
      "source": [
        "VAD하면 성능이 더 좋지 않을까???\n"
      ]
    },
    {
      "cell_type": "markdown",
      "metadata": {
        "id": "zRbrZJizR59u",
        "colab_type": "text"
      },
      "source": [
        "트레인 셋 저장"
      ]
    },
    {
      "cell_type": "code",
      "metadata": {
        "id": "nbisCnEyuA5g",
        "colab_type": "code",
        "colab": {}
      },
      "source": [
        "#signal 형태로 사용\n",
        "raw_data = glob('data/train/*.wav')\n",
        "#signal\n",
        "signal = make_data(raw_data)\n",
        "pd.DataFrame(signal).to_pickle('data/x_trian.pickle')\n",
        "#specto\n",
        "specto = make_data(raw_data, feature =  'spectogram')\n",
        "pd.DataFrame(specto).to_pickle('data/x_trian_spectogram.pickle')\n",
        "#MFCC\n",
        "MFCC = make_data(raw_data, feature =  'MFCC')\n",
        "pd.DataFrame(MFCC).to_pickle('data/x_trian_MFCC.pickle')\n",
        "#feature = \n",
        "#x_train = pd.read_csv('data/train/x_train_{}.pickle'.format(feature))"
      ],
      "execution_count": null,
      "outputs": []
    },
    {
      "cell_type": "markdown",
      "metadata": {
        "id": "vxOE6GDvR8-P",
        "colab_type": "text"
      },
      "source": [
        "테스트 셋 저장"
      ]
    },
    {
      "cell_type": "code",
      "metadata": {
        "id": "zNsTiFuMDIlL",
        "colab_type": "code",
        "colab": {}
      },
      "source": [
        "#signal 형태로 사용\n",
        "raw_data = glob('drive/My Drive/data/test/*.wav')\n",
        "#signal\n",
        "signal = make_data(raw_data)\n",
        "pd.DataFrame(signal).to_pickle('drive/My Drive/data/x_test.pickle')"
      ],
      "execution_count": null,
      "outputs": []
    },
    {
      "cell_type": "markdown",
      "metadata": {
        "id": "HKSKn5RaYEIb",
        "colab_type": "text"
      },
      "source": [
        "데이터 불러오기\n"
      ]
    },
    {
      "cell_type": "code",
      "metadata": {
        "id": "zsBCdFuFQXkG",
        "colab_type": "code",
        "colab": {}
      },
      "source": [
        "#원본\n",
        "x_train = pd.read_pickle('drive/My Drive/data/x_trian.pickle')\n",
        "x_train = x_train.values\n",
        "## ram 충분....\n",
        "#x_train = x_train[:,::8]"
      ],
      "execution_count": null,
      "outputs": []
    },
    {
      "cell_type": "code",
      "metadata": {
        "id": "SlqitTwbYGjF",
        "colab_type": "code",
        "colab": {}
      },
      "source": [
        "#MFCC\n",
        "x_train = pd.read_pickle('drive/My Drive/data/x_trian_MFCC.pickle')\n",
        "x_train = x_train.values"
      ],
      "execution_count": null,
      "outputs": []
    },
    {
      "cell_type": "code",
      "metadata": {
        "id": "c55wRapHkeIY",
        "colab_type": "code",
        "colab": {}
      },
      "source": [
        "# (0,1)로 정규화\n",
        "x_train = list((map(lambda x : x / max(x),x_train)))\n",
        "x_train =  np.array(x_train)\n",
        "# 모델 넣기위한 reshape\n",
        "## 채널 늘려보는 것도 의미있을듯...\n",
        "x_train = x_train.reshape(x_train.shape[0], x_train.shape[1], 1)"
      ],
      "execution_count": null,
      "outputs": []
    },
    {
      "cell_type": "code",
      "metadata": {
        "id": "fbmyjt4jRBcy",
        "colab_type": "code",
        "colab": {
          "base_uri": "https://localhost:8080/",
          "height": 35
        },
        "outputId": "2f0839cf-e1a4-426d-cd5e-b4d989ce7cd0"
      },
      "source": [
        "y_train = pd.read_csv('drive/My Drive/data/train_answer.csv',index_col=0)\n",
        "y_train = y_train.values\n",
        "\n",
        "x_train.shape, y_train.shape"
      ],
      "execution_count": null,
      "outputs": [
        {
          "output_type": "execute_result",
          "data": {
            "text/plain": [
              "((100000, 16000), (100000, 30))"
            ]
          },
          "metadata": {
            "tags": []
          },
          "execution_count": 6
        }
      ]
    },
    {
      "cell_type": "markdown",
      "metadata": {
        "id": "_napOUGrhgEh",
        "colab_type": "text"
      },
      "source": [
        "# model architecture"
      ]
    },
    {
      "cell_type": "code",
      "metadata": {
        "id": "KHxgjDB7o1qd",
        "colab_type": "code",
        "colab": {}
      },
      "source": [
        "#CNN\n",
        "model = Sequential()\n",
        "model.add(Conv1D(16,32,activation='relu', input_shape = (x_train.shape[1], x_train.shape[2])))\n",
        "model.add(MaxPooling1D())\n",
        "model.add(Conv1D(16,32,activation='relu'))\n",
        "model.add(MaxPooling1D())\n",
        "model.add(Conv1D(16,32,activation='relu'))\n",
        "model.add(MaxPooling1D())\n",
        "model.add(Conv1D(16,32,activation='relu'))\n",
        "model.add(MaxPooling1D())\n",
        "model.add(Conv1D(16,32,activation='relu'))\n",
        "model.add(Flatten())\n",
        "\n",
        "#fully connected layer\n",
        "model.add(Dense(256, activation='relu'))\n",
        "model.add(BatchNormalization())\n",
        "model.add(Dense(256, activation='relu'))\n",
        "model.add(BatchNormalization())\n",
        "model.add(Dense(256, activation='relu'))\n",
        "model.add(BatchNormalization())\n",
        "model.add(Dense(30, activation='softmax'))\n",
        "model.compile(loss=keras.losses.KLDivergence(), optimizer = 'adam')"
      ],
      "execution_count": null,
      "outputs": []
    },
    {
      "cell_type": "code",
      "metadata": {
        "id": "yn4TaE62wDAn",
        "colab_type": "code",
        "colab": {
          "base_uri": "https://localhost:8080/",
          "height": 35
        },
        "outputId": "0c139b10-21f5-4b37-c2d9-7d16fc06196c"
      },
      "source": [
        "x_train.shape[1], x_train.shape[2]"
      ],
      "execution_count": null,
      "outputs": [
        {
          "output_type": "execute_result",
          "data": {
            "text/plain": [
              "(40, 44)"
            ]
          },
          "metadata": {
            "tags": []
          },
          "execution_count": 30
        }
      ]
    },
    {
      "cell_type": "markdown",
      "metadata": {
        "id": "drelnMIuhrze",
        "colab_type": "text"
      },
      "source": [
        "# model architecture fot 2D data"
      ]
    },
    {
      "cell_type": "code",
      "metadata": {
        "id": "5ixLbE3Thord",
        "colab_type": "code",
        "colab": {
          "base_uri": "https://localhost:8080/",
          "height": 665
        },
        "outputId": "2b2f7942-6427-4b45-c579-fb1a15736189"
      },
      "source": [
        "##\n",
        "x_train = x_train.reshape(x_train.shape[0], 40, -1,1)\n",
        "#CNN\n",
        "model = Sequential()\n",
        "model.add(Conv2D(64, kernel_size = (3,3), strides = (1,1),activation='relu', input_shape = (x_train.shape[1], x_train.shape[2],1)))\n",
        "model.add(MaxPooling2D((2,2)))\n",
        "model.add(Conv2D(128, kernel_size = (3,3), strides = (1,1),activation='relu'))\n",
        "model.add(MaxPooling2D((2,2)))\n",
        "model.add(Conv2D(128, kernel_size = (3,3), strides = (1,1),activation='relu'))\n",
        "model.add(MaxPooling2D((2,2)))\n",
        "\n",
        "'''\n",
        "model.add(MaxPooling2D((2,2)))\n",
        "model.add(Conv2D(512, kernel_size = (3,3), strides = (1,1),activation='relu'))\n",
        "'''\n",
        "model.add(Flatten())\n",
        "\n",
        "#fully connected layer\n",
        "model.add(Dense(256, activation='relu'))\n",
        "model.add(BatchNormalization())\n",
        "model.add(Dense(256, activation='relu'))\n",
        "model.add(BatchNormalization())\n",
        "model.add(Dense(256, activation='relu'))\n",
        "model.add(BatchNormalization())\n",
        "model.add(Dense(30, activation='softmax'))\n",
        "model.compile(loss=keras.losses.KLDivergence(), optimizer = 'adam')\n",
        "model.summary()"
      ],
      "execution_count": null,
      "outputs": [
        {
          "output_type": "stream",
          "text": [
            "Model: \"sequential_31\"\n",
            "_________________________________________________________________\n",
            "Layer (type)                 Output Shape              Param #   \n",
            "=================================================================\n",
            "conv2d_95 (Conv2D)           (None, 38, 42, 64)        640       \n",
            "_________________________________________________________________\n",
            "max_pooling2d_87 (MaxPooling (None, 19, 21, 64)        0         \n",
            "_________________________________________________________________\n",
            "conv2d_96 (Conv2D)           (None, 17, 19, 128)       73856     \n",
            "_________________________________________________________________\n",
            "max_pooling2d_88 (MaxPooling (None, 8, 9, 128)         0         \n",
            "_________________________________________________________________\n",
            "conv2d_97 (Conv2D)           (None, 6, 7, 128)         147584    \n",
            "_________________________________________________________________\n",
            "max_pooling2d_89 (MaxPooling (None, 3, 3, 128)         0         \n",
            "_________________________________________________________________\n",
            "flatten_10 (Flatten)         (None, 1152)              0         \n",
            "_________________________________________________________________\n",
            "dense_37 (Dense)             (None, 256)               295168    \n",
            "_________________________________________________________________\n",
            "batch_normalization_28 (Batc (None, 256)               1024      \n",
            "_________________________________________________________________\n",
            "dense_38 (Dense)             (None, 256)               65792     \n",
            "_________________________________________________________________\n",
            "batch_normalization_29 (Batc (None, 256)               1024      \n",
            "_________________________________________________________________\n",
            "dense_39 (Dense)             (None, 256)               65792     \n",
            "_________________________________________________________________\n",
            "batch_normalization_30 (Batc (None, 256)               1024      \n",
            "_________________________________________________________________\n",
            "dense_40 (Dense)             (None, 30)                7710      \n",
            "=================================================================\n",
            "Total params: 659,614\n",
            "Trainable params: 658,078\n",
            "Non-trainable params: 1,536\n",
            "_________________________________________________________________\n"
          ],
          "name": "stdout"
        }
      ]
    },
    {
      "cell_type": "code",
      "metadata": {
        "id": "A59Z8Q4s182U",
        "colab_type": "code",
        "colab": {
          "base_uri": "https://localhost:8080/",
          "height": 665
        },
        "outputId": "4b9252c7-8995-42be-9634-a3fa41ead099"
      },
      "source": [
        "##\n",
        "x_train = x_train.reshape(x_train.shape[0], 40, -1,1)\n",
        "#CNN\n",
        "model = Sequential()\n",
        "model.add(Conv2D(64, kernel_size = (3,3), strides = (1,1),activation='relu', input_shape = (x_train.shape[1], x_train.shape[2],1)))\n",
        "model.add(MaxPooling2D((2,2)))\n",
        "model.add(Conv2D(128, kernel_size = (3,3), strides = (1,1),activation='relu'))\n",
        "model.add(MaxPooling2D((2,2)))\n",
        "model.add(Conv2D(128, kernel_size = (3,3), strides = (1,1),activation='relu'))\n",
        "model.add(MaxPooling2D((2,2)))\n",
        "'''\n",
        "model.add(MaxPooling2D((2,2)))\n",
        "model.add(Conv2D(512, kernel_size = (3,3), strides = (1,1),activation='relu'))\n",
        "'''\n",
        "model.add(Flatten())\n",
        "\n",
        "#fully connected layer\n",
        "model.add(Dense(512, activation='relu'))\n",
        "model.add(BatchNormalization())\n",
        "model.add(Dense(256, activation='relu'))\n",
        "model.add(BatchNormalization())\n",
        "model.add(Dense(256, activation='relu'))\n",
        "model.add(BatchNormalization())\n",
        "model.add(Dense(30, activation='softmax'))\n",
        "model.compile(loss=keras.losses.KLDivergence(), optimizer = 'adam')\n",
        "model.summary()"
      ],
      "execution_count": 78,
      "outputs": [
        {
          "output_type": "stream",
          "text": [
            "Model: \"sequential_40\"\n",
            "_________________________________________________________________\n",
            "Layer (type)                 Output Shape              Param #   \n",
            "=================================================================\n",
            "conv2d_127 (Conv2D)          (None, 38, 42, 64)        640       \n",
            "_________________________________________________________________\n",
            "max_pooling2d_114 (MaxPoolin (None, 19, 21, 64)        0         \n",
            "_________________________________________________________________\n",
            "conv2d_128 (Conv2D)          (None, 17, 19, 128)       73856     \n",
            "_________________________________________________________________\n",
            "max_pooling2d_115 (MaxPoolin (None, 8, 9, 128)         0         \n",
            "_________________________________________________________________\n",
            "conv2d_129 (Conv2D)          (None, 6, 7, 128)         147584    \n",
            "_________________________________________________________________\n",
            "max_pooling2d_116 (MaxPoolin (None, 3, 3, 128)         0         \n",
            "_________________________________________________________________\n",
            "flatten_19 (Flatten)         (None, 1152)              0         \n",
            "_________________________________________________________________\n",
            "dense_73 (Dense)             (None, 512)               590336    \n",
            "_________________________________________________________________\n",
            "batch_normalization_55 (Batc (None, 512)               2048      \n",
            "_________________________________________________________________\n",
            "dense_74 (Dense)             (None, 256)               131328    \n",
            "_________________________________________________________________\n",
            "batch_normalization_56 (Batc (None, 256)               1024      \n",
            "_________________________________________________________________\n",
            "dense_75 (Dense)             (None, 256)               65792     \n",
            "_________________________________________________________________\n",
            "batch_normalization_57 (Batc (None, 256)               1024      \n",
            "_________________________________________________________________\n",
            "dense_76 (Dense)             (None, 30)                7710      \n",
            "=================================================================\n",
            "Total params: 1,021,342\n",
            "Trainable params: 1,019,294\n",
            "Non-trainable params: 2,048\n",
            "_________________________________________________________________\n"
          ],
          "name": "stdout"
        }
      ]
    },
    {
      "cell_type": "markdown",
      "metadata": {
        "id": "8cq_NezXg_yH",
        "colab_type": "text"
      },
      "source": [
        "# compile for signal\n",
        "\n"
      ]
    },
    {
      "cell_type": "markdown",
      "metadata": {
        "id": "OSSGxW6Chpuk",
        "colab_type": "text"
      },
      "source": [
        "성능 구리다...."
      ]
    },
    {
      "cell_type": "code",
      "metadata": {
        "id": "3iiSqjJ_g0LW",
        "colab_type": "code",
        "colab": {
          "base_uri": "https://localhost:8080/",
          "height": 556
        },
        "outputId": "683d588f-d2b7-4c17-d51c-871d5f2ae3ce"
      },
      "source": [
        "model_path = 'drive/My Drive/data/model_signal/'\n",
        "if not os.path.exists(model_path):\n",
        "  os.mkdir(model_path)\n",
        "\n",
        "# validattion 기준 모델 갱신\n",
        "model_file = model_path + 'epoch_{epoch:03d}_val_{val_loss:3f}.hdf5'\n",
        "checkpoint = ModelCheckpoint(filepath = model_file, monitor = 'val_loss', verbose = 1, save_best_only =True)\n",
        "\n",
        "#10회간 validatation 좋아지지 않으면 early stop\n",
        "early_stop = EarlyStopping(monitor = 'val_loss', patience = 10)\n",
        "\n",
        "history = model.fit(x_train, y_train, epochs = 100, batch_size = 256, validation_split = 0.2, shuffle = True,\n",
        "                    callbacks = [checkpoint, early_stop])"
      ],
      "execution_count": null,
      "outputs": [
        {
          "output_type": "stream",
          "text": [
            "Train on 80000 samples, validate on 20000 samples\n",
            "Epoch 1/100\n",
            "80000/80000 [==============================] - 603s 8ms/step - loss: 1.9820 - val_loss: 2.3312\n",
            "\n",
            "Epoch 00001: val_loss improved from inf to 2.33122, saving model to drive/My Drive/data/model_signal/epoch_001_val_2.331218.hdf5\n",
            "Epoch 2/100\n",
            "80000/80000 [==============================] - 601s 8ms/step - loss: 1.8154 - val_loss: 2.2571\n",
            "\n",
            "Epoch 00002: val_loss improved from 2.33122 to 2.25708, saving model to drive/My Drive/data/model_signal/epoch_002_val_2.257083.hdf5\n",
            "Epoch 3/100\n",
            " 3072/80000 [>.............................] - ETA: 9:14 - loss: 1.7442"
          ],
          "name": "stdout"
        },
        {
          "output_type": "error",
          "ename": "KeyboardInterrupt",
          "evalue": "ignored",
          "traceback": [
            "\u001b[0;31m---------------------------------------------------------------------------\u001b[0m",
            "\u001b[0;31mKeyboardInterrupt\u001b[0m                         Traceback (most recent call last)",
            "\u001b[0;32m<ipython-input-9-ad7e776dce58>\u001b[0m in \u001b[0;36m<module>\u001b[0;34m()\u001b[0m\n\u001b[1;32m     11\u001b[0m \u001b[0;34m\u001b[0m\u001b[0m\n\u001b[1;32m     12\u001b[0m history = model.fit(x_train, y_train, epochs = 100, batch_size = 256, validation_split = 0.2, shuffle = True,\n\u001b[0;32m---> 13\u001b[0;31m                     callbacks = [checkpoint, early_stop])\n\u001b[0m",
            "\u001b[0;32m/usr/local/lib/python3.6/dist-packages/keras/engine/training.py\u001b[0m in \u001b[0;36mfit\u001b[0;34m(self, x, y, batch_size, epochs, verbose, callbacks, validation_split, validation_data, shuffle, class_weight, sample_weight, initial_epoch, steps_per_epoch, validation_steps, validation_freq, max_queue_size, workers, use_multiprocessing, **kwargs)\u001b[0m\n\u001b[1;32m   1237\u001b[0m                                         \u001b[0msteps_per_epoch\u001b[0m\u001b[0;34m=\u001b[0m\u001b[0msteps_per_epoch\u001b[0m\u001b[0;34m,\u001b[0m\u001b[0;34m\u001b[0m\u001b[0;34m\u001b[0m\u001b[0m\n\u001b[1;32m   1238\u001b[0m                                         \u001b[0mvalidation_steps\u001b[0m\u001b[0;34m=\u001b[0m\u001b[0mvalidation_steps\u001b[0m\u001b[0;34m,\u001b[0m\u001b[0;34m\u001b[0m\u001b[0;34m\u001b[0m\u001b[0m\n\u001b[0;32m-> 1239\u001b[0;31m                                         validation_freq=validation_freq)\n\u001b[0m\u001b[1;32m   1240\u001b[0m \u001b[0;34m\u001b[0m\u001b[0m\n\u001b[1;32m   1241\u001b[0m     def evaluate(self,\n",
            "\u001b[0;32m/usr/local/lib/python3.6/dist-packages/keras/engine/training_arrays.py\u001b[0m in \u001b[0;36mfit_loop\u001b[0;34m(model, fit_function, fit_inputs, out_labels, batch_size, epochs, verbose, callbacks, val_function, val_inputs, shuffle, initial_epoch, steps_per_epoch, validation_steps, validation_freq)\u001b[0m\n\u001b[1;32m    194\u001b[0m                     \u001b[0mins_batch\u001b[0m\u001b[0;34m[\u001b[0m\u001b[0mi\u001b[0m\u001b[0;34m]\u001b[0m \u001b[0;34m=\u001b[0m \u001b[0mins_batch\u001b[0m\u001b[0;34m[\u001b[0m\u001b[0mi\u001b[0m\u001b[0;34m]\u001b[0m\u001b[0;34m.\u001b[0m\u001b[0mtoarray\u001b[0m\u001b[0;34m(\u001b[0m\u001b[0;34m)\u001b[0m\u001b[0;34m\u001b[0m\u001b[0;34m\u001b[0m\u001b[0m\n\u001b[1;32m    195\u001b[0m \u001b[0;34m\u001b[0m\u001b[0m\n\u001b[0;32m--> 196\u001b[0;31m                 \u001b[0mouts\u001b[0m \u001b[0;34m=\u001b[0m \u001b[0mfit_function\u001b[0m\u001b[0;34m(\u001b[0m\u001b[0mins_batch\u001b[0m\u001b[0;34m)\u001b[0m\u001b[0;34m\u001b[0m\u001b[0;34m\u001b[0m\u001b[0m\n\u001b[0m\u001b[1;32m    197\u001b[0m                 \u001b[0mouts\u001b[0m \u001b[0;34m=\u001b[0m \u001b[0mto_list\u001b[0m\u001b[0;34m(\u001b[0m\u001b[0mouts\u001b[0m\u001b[0;34m)\u001b[0m\u001b[0;34m\u001b[0m\u001b[0;34m\u001b[0m\u001b[0m\n\u001b[1;32m    198\u001b[0m                 \u001b[0;32mfor\u001b[0m \u001b[0ml\u001b[0m\u001b[0;34m,\u001b[0m \u001b[0mo\u001b[0m \u001b[0;32min\u001b[0m \u001b[0mzip\u001b[0m\u001b[0;34m(\u001b[0m\u001b[0mout_labels\u001b[0m\u001b[0;34m,\u001b[0m \u001b[0mouts\u001b[0m\u001b[0;34m)\u001b[0m\u001b[0;34m:\u001b[0m\u001b[0;34m\u001b[0m\u001b[0;34m\u001b[0m\u001b[0m\n",
            "\u001b[0;32m/usr/local/lib/python3.6/dist-packages/tensorflow/python/keras/backend.py\u001b[0m in \u001b[0;36m__call__\u001b[0;34m(self, inputs)\u001b[0m\n\u001b[1;32m   3790\u001b[0m         \u001b[0mvalue\u001b[0m \u001b[0;34m=\u001b[0m \u001b[0mmath_ops\u001b[0m\u001b[0;34m.\u001b[0m\u001b[0mcast\u001b[0m\u001b[0;34m(\u001b[0m\u001b[0mvalue\u001b[0m\u001b[0;34m,\u001b[0m \u001b[0mtensor\u001b[0m\u001b[0;34m.\u001b[0m\u001b[0mdtype\u001b[0m\u001b[0;34m)\u001b[0m\u001b[0;34m\u001b[0m\u001b[0;34m\u001b[0m\u001b[0m\n\u001b[1;32m   3791\u001b[0m       \u001b[0mconverted_inputs\u001b[0m\u001b[0;34m.\u001b[0m\u001b[0mappend\u001b[0m\u001b[0;34m(\u001b[0m\u001b[0mvalue\u001b[0m\u001b[0;34m)\u001b[0m\u001b[0;34m\u001b[0m\u001b[0;34m\u001b[0m\u001b[0m\n\u001b[0;32m-> 3792\u001b[0;31m     \u001b[0moutputs\u001b[0m \u001b[0;34m=\u001b[0m \u001b[0mself\u001b[0m\u001b[0;34m.\u001b[0m\u001b[0m_graph_fn\u001b[0m\u001b[0;34m(\u001b[0m\u001b[0;34m*\u001b[0m\u001b[0mconverted_inputs\u001b[0m\u001b[0;34m)\u001b[0m\u001b[0;34m\u001b[0m\u001b[0;34m\u001b[0m\u001b[0m\n\u001b[0m\u001b[1;32m   3793\u001b[0m \u001b[0;34m\u001b[0m\u001b[0m\n\u001b[1;32m   3794\u001b[0m     \u001b[0;31m# EagerTensor.numpy() will often make a copy to ensure memory safety.\u001b[0m\u001b[0;34m\u001b[0m\u001b[0;34m\u001b[0m\u001b[0;34m\u001b[0m\u001b[0m\n",
            "\u001b[0;32m/usr/local/lib/python3.6/dist-packages/tensorflow/python/eager/function.py\u001b[0m in \u001b[0;36m__call__\u001b[0;34m(self, *args, **kwargs)\u001b[0m\n\u001b[1;32m   1603\u001b[0m       \u001b[0mTypeError\u001b[0m\u001b[0;34m:\u001b[0m \u001b[0mFor\u001b[0m \u001b[0minvalid\u001b[0m \u001b[0mpositional\u001b[0m\u001b[0;34m/\u001b[0m\u001b[0mkeyword\u001b[0m \u001b[0margument\u001b[0m \u001b[0mcombinations\u001b[0m\u001b[0;34m.\u001b[0m\u001b[0;34m\u001b[0m\u001b[0;34m\u001b[0m\u001b[0m\n\u001b[1;32m   1604\u001b[0m     \"\"\"\n\u001b[0;32m-> 1605\u001b[0;31m     \u001b[0;32mreturn\u001b[0m \u001b[0mself\u001b[0m\u001b[0;34m.\u001b[0m\u001b[0m_call_impl\u001b[0m\u001b[0;34m(\u001b[0m\u001b[0margs\u001b[0m\u001b[0;34m,\u001b[0m \u001b[0mkwargs\u001b[0m\u001b[0;34m)\u001b[0m\u001b[0;34m\u001b[0m\u001b[0;34m\u001b[0m\u001b[0m\n\u001b[0m\u001b[1;32m   1606\u001b[0m \u001b[0;34m\u001b[0m\u001b[0m\n\u001b[1;32m   1607\u001b[0m   \u001b[0;32mdef\u001b[0m \u001b[0m_call_impl\u001b[0m\u001b[0;34m(\u001b[0m\u001b[0mself\u001b[0m\u001b[0;34m,\u001b[0m \u001b[0margs\u001b[0m\u001b[0;34m,\u001b[0m \u001b[0mkwargs\u001b[0m\u001b[0;34m,\u001b[0m \u001b[0mcancellation_manager\u001b[0m\u001b[0;34m=\u001b[0m\u001b[0;32mNone\u001b[0m\u001b[0;34m)\u001b[0m\u001b[0;34m:\u001b[0m\u001b[0;34m\u001b[0m\u001b[0;34m\u001b[0m\u001b[0m\n",
            "\u001b[0;32m/usr/local/lib/python3.6/dist-packages/tensorflow/python/eager/function.py\u001b[0m in \u001b[0;36m_call_impl\u001b[0;34m(self, args, kwargs, cancellation_manager)\u001b[0m\n\u001b[1;32m   1643\u001b[0m       raise TypeError(\"Keyword arguments {} unknown. Expected {}.\".format(\n\u001b[1;32m   1644\u001b[0m           list(kwargs.keys()), list(self._arg_keywords)))\n\u001b[0;32m-> 1645\u001b[0;31m     \u001b[0;32mreturn\u001b[0m \u001b[0mself\u001b[0m\u001b[0;34m.\u001b[0m\u001b[0m_call_flat\u001b[0m\u001b[0;34m(\u001b[0m\u001b[0margs\u001b[0m\u001b[0;34m,\u001b[0m \u001b[0mself\u001b[0m\u001b[0;34m.\u001b[0m\u001b[0mcaptured_inputs\u001b[0m\u001b[0;34m,\u001b[0m \u001b[0mcancellation_manager\u001b[0m\u001b[0;34m)\u001b[0m\u001b[0;34m\u001b[0m\u001b[0;34m\u001b[0m\u001b[0m\n\u001b[0m\u001b[1;32m   1646\u001b[0m \u001b[0;34m\u001b[0m\u001b[0m\n\u001b[1;32m   1647\u001b[0m   \u001b[0;32mdef\u001b[0m \u001b[0m_filtered_call\u001b[0m\u001b[0;34m(\u001b[0m\u001b[0mself\u001b[0m\u001b[0;34m,\u001b[0m \u001b[0margs\u001b[0m\u001b[0;34m,\u001b[0m \u001b[0mkwargs\u001b[0m\u001b[0;34m)\u001b[0m\u001b[0;34m:\u001b[0m\u001b[0;34m\u001b[0m\u001b[0;34m\u001b[0m\u001b[0m\n",
            "\u001b[0;32m/usr/local/lib/python3.6/dist-packages/tensorflow/python/eager/function.py\u001b[0m in \u001b[0;36m_call_flat\u001b[0;34m(self, args, captured_inputs, cancellation_manager)\u001b[0m\n\u001b[1;32m   1744\u001b[0m       \u001b[0;31m# No tape is watching; skip to running the function.\u001b[0m\u001b[0;34m\u001b[0m\u001b[0;34m\u001b[0m\u001b[0;34m\u001b[0m\u001b[0m\n\u001b[1;32m   1745\u001b[0m       return self._build_call_outputs(self._inference_function.call(\n\u001b[0;32m-> 1746\u001b[0;31m           ctx, args, cancellation_manager=cancellation_manager))\n\u001b[0m\u001b[1;32m   1747\u001b[0m     forward_backward = self._select_forward_and_backward_functions(\n\u001b[1;32m   1748\u001b[0m         \u001b[0margs\u001b[0m\u001b[0;34m,\u001b[0m\u001b[0;34m\u001b[0m\u001b[0;34m\u001b[0m\u001b[0m\n",
            "\u001b[0;32m/usr/local/lib/python3.6/dist-packages/tensorflow/python/eager/function.py\u001b[0m in \u001b[0;36mcall\u001b[0;34m(self, ctx, args, cancellation_manager)\u001b[0m\n\u001b[1;32m    596\u001b[0m               \u001b[0minputs\u001b[0m\u001b[0;34m=\u001b[0m\u001b[0margs\u001b[0m\u001b[0;34m,\u001b[0m\u001b[0;34m\u001b[0m\u001b[0;34m\u001b[0m\u001b[0m\n\u001b[1;32m    597\u001b[0m               \u001b[0mattrs\u001b[0m\u001b[0;34m=\u001b[0m\u001b[0mattrs\u001b[0m\u001b[0;34m,\u001b[0m\u001b[0;34m\u001b[0m\u001b[0;34m\u001b[0m\u001b[0m\n\u001b[0;32m--> 598\u001b[0;31m               ctx=ctx)\n\u001b[0m\u001b[1;32m    599\u001b[0m         \u001b[0;32melse\u001b[0m\u001b[0;34m:\u001b[0m\u001b[0;34m\u001b[0m\u001b[0;34m\u001b[0m\u001b[0m\n\u001b[1;32m    600\u001b[0m           outputs = execute.execute_with_cancellation(\n",
            "\u001b[0;32m/usr/local/lib/python3.6/dist-packages/tensorflow/python/eager/execute.py\u001b[0m in \u001b[0;36mquick_execute\u001b[0;34m(op_name, num_outputs, inputs, attrs, ctx, name)\u001b[0m\n\u001b[1;32m     58\u001b[0m     \u001b[0mctx\u001b[0m\u001b[0;34m.\u001b[0m\u001b[0mensure_initialized\u001b[0m\u001b[0;34m(\u001b[0m\u001b[0;34m)\u001b[0m\u001b[0;34m\u001b[0m\u001b[0;34m\u001b[0m\u001b[0m\n\u001b[1;32m     59\u001b[0m     tensors = pywrap_tfe.TFE_Py_Execute(ctx._handle, device_name, op_name,\n\u001b[0;32m---> 60\u001b[0;31m                                         inputs, attrs, num_outputs)\n\u001b[0m\u001b[1;32m     61\u001b[0m   \u001b[0;32mexcept\u001b[0m \u001b[0mcore\u001b[0m\u001b[0;34m.\u001b[0m\u001b[0m_NotOkStatusException\u001b[0m \u001b[0;32mas\u001b[0m \u001b[0me\u001b[0m\u001b[0;34m:\u001b[0m\u001b[0;34m\u001b[0m\u001b[0;34m\u001b[0m\u001b[0m\n\u001b[1;32m     62\u001b[0m     \u001b[0;32mif\u001b[0m \u001b[0mname\u001b[0m \u001b[0;32mis\u001b[0m \u001b[0;32mnot\u001b[0m \u001b[0;32mNone\u001b[0m\u001b[0;34m:\u001b[0m\u001b[0;34m\u001b[0m\u001b[0;34m\u001b[0m\u001b[0m\n",
            "\u001b[0;31mKeyboardInterrupt\u001b[0m: "
          ]
        }
      ]
    },
    {
      "cell_type": "code",
      "metadata": {
        "id": "2kM66x-GjsPu",
        "colab_type": "code",
        "colab": {}
      },
      "source": [
        "# 훈련 결과를 확인합니다.\n",
        "# validation 성능 fool하다....\n",
        "plt.plot(history.epoch, history.history['loss'], '-o', label='training_loss')\n",
        "plt.plot(history.epoch, history.history['val_loss'], '-o', label='validation_loss')\n",
        "plt.legend()\n",
        "plt.xlim(left=0)\n",
        "plt.xlabel('epochs')\n",
        "plt.ylabel('loss')\n",
        "plt.show()"
      ],
      "execution_count": null,
      "outputs": []
    },
    {
      "cell_type": "code",
      "metadata": {
        "id": "-JQjUYThjyHe",
        "colab_type": "code",
        "colab": {}
      },
      "source": [
        "# 검증 wav 파일로부터 Feature를 만듭니다.\n",
        "x_test = pd.read_pickle('drive/My Drive/data/x_test_normalized.pickle')\n",
        "x_test = x_test.values\n",
        "x_test = x_test.reshape(x_test.shape[0], x_test.shape[1], 1)\n",
        "\n",
        "# 가장 좋은 모델의 weight를 불러옵니다.\n",
        "weigth_file = glob('drive/My Drive/data/model/*.hdf5')[-1]\n",
        "print(weigth_file)\n",
        "model.load_weights(weigth_file)\n",
        "\n",
        "# 예측 수행\n",
        "y_pred = model.predict(x_test)\n",
        "\n",
        "# 예측 결과로 제출 파일을 생성합니다.\n",
        "submission = pd.read_csv('drive/My Drive/data/submission.csv', index_col=0)\n",
        "submission.loc[:, :] = y_pred\n",
        "submission.to_csv('drive/My Drive/data/submission.csv')"
      ],
      "execution_count": null,
      "outputs": []
    },
    {
      "cell_type": "markdown",
      "metadata": {
        "id": "gO0grTu7hDr6",
        "colab_type": "text"
      },
      "source": [
        "# compile for MFCC"
      ]
    },
    {
      "cell_type": "code",
      "metadata": {
        "id": "0Ub9_9IZxTSL",
        "colab_type": "code",
        "colab": {
          "base_uri": "https://localhost:8080/",
          "height": 1000
        },
        "outputId": "f8cb01e1-e657-40d4-8aae-e7f9d17201e5"
      },
      "source": [
        "model_path = 'drive/My Drive/data/model/'\n",
        "if not os.path.exists(model_path):\n",
        "  os.mkdir(model_path)\n",
        "\n",
        "# validattion 기준 모델 갱신\n",
        "model_file = model_path + 'epoch_{epoch:03d}_val_{val_loss:3f}.hdf5'\n",
        "checkpoint = ModelCheckpoint(filepath = model_file, monitor = 'val_loss', verbose = 1, save_best_only =True)\n",
        "\n",
        "#10회간 validatation 좋아지지 않으면 early stop\n",
        "early_stop = EarlyStopping(monitor = 'val_loss', patience = 10)\n",
        "\n",
        "history = model.fit(x_train, y_train, epochs = 100, batch_size = 64, validation_split = 0.2, shuffle = True,\n",
        "                    callbacks = [checkpoint, early_stop])"
      ],
      "execution_count": null,
      "outputs": [
        {
          "output_type": "stream",
          "text": [
            "Train on 80000 samples, validate on 20000 samples\n",
            "Epoch 1/100\n",
            "80000/80000 [==============================] - 49s 612us/step - loss: 1.7428 - val_loss: 2.9026\n",
            "\n",
            "Epoch 00001: val_loss improved from inf to 2.90256, saving model to drive/My Drive/data/model/epoch_001_val_2.902563.hdf5\n",
            "Epoch 2/100\n",
            "80000/80000 [==============================] - 48s 594us/step - loss: 1.5692 - val_loss: 2.1765\n",
            "\n",
            "Epoch 00002: val_loss improved from 2.90256 to 2.17647, saving model to drive/My Drive/data/model/epoch_002_val_2.176467.hdf5\n",
            "Epoch 3/100\n",
            "80000/80000 [==============================] - 47s 591us/step - loss: 1.4897 - val_loss: 2.0291\n",
            "\n",
            "Epoch 00003: val_loss improved from 2.17647 to 2.02906, saving model to drive/My Drive/data/model/epoch_003_val_2.029064.hdf5\n",
            "Epoch 4/100\n",
            "80000/80000 [==============================] - 47s 591us/step - loss: 1.4333 - val_loss: 1.9876\n",
            "\n",
            "Epoch 00004: val_loss improved from 2.02906 to 1.98765, saving model to drive/My Drive/data/model/epoch_004_val_1.987646.hdf5\n",
            "Epoch 5/100\n",
            "80000/80000 [==============================] - 48s 597us/step - loss: 1.3902 - val_loss: 1.8043\n",
            "\n",
            "Epoch 00005: val_loss improved from 1.98765 to 1.80431, saving model to drive/My Drive/data/model/epoch_005_val_1.804311.hdf5\n",
            "Epoch 6/100\n",
            "80000/80000 [==============================] - 47s 590us/step - loss: 1.3538 - val_loss: 1.8446\n",
            "\n",
            "Epoch 00006: val_loss did not improve from 1.80431\n",
            "Epoch 7/100\n",
            "80000/80000 [==============================] - 49s 609us/step - loss: 1.3260 - val_loss: 1.6129\n",
            "\n",
            "Epoch 00007: val_loss improved from 1.80431 to 1.61292, saving model to drive/My Drive/data/model/epoch_007_val_1.612917.hdf5\n",
            "Epoch 8/100\n",
            "80000/80000 [==============================] - 47s 593us/step - loss: 1.3026 - val_loss: 1.6482\n",
            "\n",
            "Epoch 00008: val_loss did not improve from 1.61292\n",
            "Epoch 9/100\n",
            "80000/80000 [==============================] - 47s 588us/step - loss: 1.2815 - val_loss: 1.6136\n",
            "\n",
            "Epoch 00009: val_loss did not improve from 1.61292\n",
            "Epoch 10/100\n",
            "80000/80000 [==============================] - 46s 581us/step - loss: 1.2614 - val_loss: 1.5302\n",
            "\n",
            "Epoch 00010: val_loss improved from 1.61292 to 1.53024, saving model to drive/My Drive/data/model/epoch_010_val_1.530243.hdf5\n",
            "Epoch 11/100\n",
            "80000/80000 [==============================] - 47s 584us/step - loss: 1.2446 - val_loss: 1.5156\n",
            "\n",
            "Epoch 00011: val_loss improved from 1.53024 to 1.51563, saving model to drive/My Drive/data/model/epoch_011_val_1.515627.hdf5\n",
            "Epoch 12/100\n",
            "80000/80000 [==============================] - 47s 582us/step - loss: 1.2292 - val_loss: 1.5900\n",
            "\n",
            "Epoch 00012: val_loss did not improve from 1.51563\n",
            "Epoch 13/100\n",
            "80000/80000 [==============================] - 47s 588us/step - loss: 1.2145 - val_loss: 1.5496\n",
            "\n",
            "Epoch 00013: val_loss did not improve from 1.51563\n",
            "Epoch 14/100\n",
            "80000/80000 [==============================] - 48s 606us/step - loss: 1.2008 - val_loss: 1.4646\n",
            "\n",
            "Epoch 00014: val_loss improved from 1.51563 to 1.46460, saving model to drive/My Drive/data/model/epoch_014_val_1.464597.hdf5\n",
            "Epoch 15/100\n",
            "80000/80000 [==============================] - 47s 584us/step - loss: 1.1899 - val_loss: 1.4649\n",
            "\n",
            "Epoch 00015: val_loss did not improve from 1.46460\n",
            "Epoch 16/100\n",
            "80000/80000 [==============================] - 47s 586us/step - loss: 1.1793 - val_loss: 1.5784\n",
            "\n",
            "Epoch 00016: val_loss did not improve from 1.46460\n",
            "Epoch 17/100\n",
            "80000/80000 [==============================] - 47s 593us/step - loss: 1.1694 - val_loss: 1.6040\n",
            "\n",
            "Epoch 00017: val_loss did not improve from 1.46460\n",
            "Epoch 18/100\n",
            "80000/80000 [==============================] - 47s 592us/step - loss: 1.1594 - val_loss: 1.4155\n",
            "\n",
            "Epoch 00018: val_loss improved from 1.46460 to 1.41551, saving model to drive/My Drive/data/model/epoch_018_val_1.415506.hdf5\n",
            "Epoch 19/100\n",
            "80000/80000 [==============================] - 47s 590us/step - loss: 1.1494 - val_loss: 1.4670\n",
            "\n",
            "Epoch 00019: val_loss did not improve from 1.41551\n",
            "Epoch 20/100\n",
            "80000/80000 [==============================] - 49s 611us/step - loss: 1.1409 - val_loss: 1.5762\n",
            "\n",
            "Epoch 00020: val_loss did not improve from 1.41551\n",
            "Epoch 21/100\n",
            "80000/80000 [==============================] - 48s 595us/step - loss: 1.1314 - val_loss: 1.6135\n",
            "\n",
            "Epoch 00021: val_loss did not improve from 1.41551\n",
            "Epoch 22/100\n",
            "80000/80000 [==============================] - 47s 588us/step - loss: 1.1244 - val_loss: 1.5134\n",
            "\n",
            "Epoch 00022: val_loss did not improve from 1.41551\n",
            "Epoch 23/100\n",
            "80000/80000 [==============================] - 47s 582us/step - loss: 1.1155 - val_loss: 1.5959\n",
            "\n",
            "Epoch 00023: val_loss did not improve from 1.41551\n",
            "Epoch 24/100\n",
            "80000/80000 [==============================] - 47s 590us/step - loss: 1.1092 - val_loss: 1.4340\n",
            "\n",
            "Epoch 00024: val_loss did not improve from 1.41551\n",
            "Epoch 25/100\n",
            "80000/80000 [==============================] - 47s 581us/step - loss: 1.1019 - val_loss: 1.4558\n",
            "\n",
            "Epoch 00025: val_loss did not improve from 1.41551\n",
            "Epoch 26/100\n",
            "80000/80000 [==============================] - 47s 591us/step - loss: 1.0938 - val_loss: 1.4359\n",
            "\n",
            "Epoch 00026: val_loss did not improve from 1.41551\n",
            "Epoch 27/100\n",
            "80000/80000 [==============================] - 48s 602us/step - loss: 1.0883 - val_loss: 1.4996\n",
            "\n",
            "Epoch 00027: val_loss did not improve from 1.41551\n",
            "Epoch 28/100\n",
            "80000/80000 [==============================] - 47s 590us/step - loss: 1.0822 - val_loss: 1.4464\n",
            "\n",
            "Epoch 00028: val_loss did not improve from 1.41551\n"
          ],
          "name": "stdout"
        }
      ]
    },
    {
      "cell_type": "code",
      "metadata": {
        "id": "XTa3_yH3yc2M",
        "colab_type": "code",
        "colab": {
          "base_uri": "https://localhost:8080/",
          "height": 279
        },
        "outputId": "5ce32ac4-26e9-455f-e9e1-ac43d7b75037"
      },
      "source": [
        "# 훈련 결과를 확인합니다.\n",
        "# validation 성능 fool하다....\n",
        "plt.plot(history.epoch, history.history['loss'], '-o', label='training_loss')\n",
        "plt.plot(history.epoch, history.history['val_loss'], '-o', label='validation_loss')\n",
        "plt.legend()\n",
        "plt.xlim(left=0)\n",
        "plt.xlabel('epochs')\n",
        "plt.ylabel('loss')\n",
        "plt.show()"
      ],
      "execution_count": null,
      "outputs": [
        {
          "output_type": "display_data",
          "data": {
            "image/png": "[encoded data removed]",
            "text/plain": [
              "<Figure size 432x288 with 1 Axes>"
            ]
          },
          "metadata": {
            "tags": [],
            "needs_background": "light"
          }
        }
      ]
    },
    {
      "cell_type": "code",
      "metadata": {
        "id": "G3updRLHBYWZ",
        "colab_type": "code",
        "colab": {
          "base_uri": "https://localhost:8080/",
          "height": 35
        },
        "outputId": "67ec72be-1881-4610-beb3-1b437eacaf62"
      },
      "source": [
        "# 검증 wav 파일로부터 Feature를 만듭니다.\n",
        "\n",
        "x_test = pd.read_pickle('drive/My Drive/data/x_test_MFCC.pickle')\n",
        "x_test = x_test.values\n",
        "x_test = list((map(lambda x : x / max(x),x_test)))\n",
        "x_test =  np.array(x_test)\n",
        "'''\n",
        "x_test = pd.read_pickle('drive/My Drive/data/x_test_normalized.pickle')\n",
        "x_test = x_test.values\n",
        "#x_test = x_test.reshape(x_test.shape[0], x_test.shape[1], 1)\n",
        "'''\n",
        "x_test = x_test.reshape(x_test.shape[0], 40,-1, 1)\n",
        "\n",
        "# 가장 좋은 모델의 weight를 불러옵니다.\n",
        "weigth_file = glob('drive/My Drive/data/model/*.hdf5')[-1]\n",
        "print(weigth_file)\n",
        "model.load_weights(weigth_file)\n",
        "\n",
        "# 예측 수행\n",
        "y_pred = model.predict(x_test)\n",
        "\n",
        "# 예측 결과로 제출 파일을 생성합니다.\n",
        "submission = pd.read_csv('drive/My Drive/data/submission.csv', index_col=0)\n",
        "submission.loc[:, :] = y_pred\n",
        "submission.to_csv('drive/My Drive/data/submission.csv')"
      ],
      "execution_count": 76,
      "outputs": [
        {
          "output_type": "stream",
          "text": [
            "drive/My Drive/data/model/epoch_018_val_1.415506.hdf5\n"
          ],
          "name": "stdout"
        }
      ]
    },
    {
      "cell_type": "markdown",
      "metadata": {
        "id": "Nm0JUuVtyE7o",
        "colab_type": "text"
      },
      "source": [
        "# compile for MFCC_2D"
      ]
    },
    {
      "cell_type": "code",
      "metadata": {
        "id": "_OcqbI31yCB0",
        "colab_type": "code",
        "colab": {
          "base_uri": "https://localhost:8080/",
          "height": 503
        },
        "outputId": "2dee5760-2056-4a6c-b680-251f05af6ff7"
      },
      "source": [
        "model_path = 'drive/My Drive/data/model_2D/'\n",
        "if not os.path.exists(model_path):\n",
        "  os.mkdir(model_path)\n",
        "\n",
        "# validattion 기준 모델 갱신\n",
        "model_file = model_path + 'epoch_{epoch:03d}_val_{val_loss:3f}.hdf5'\n",
        "checkpoint = ModelCheckpoint(filepath = model_file, monitor = 'val_loss', verbose = 1, save_best_only =True)\n",
        "\n",
        "#10회간 validatation 좋아지지 않으면 early stop\n",
        "early_stop = EarlyStopping(monitor = 'val_loss', patience = 10)\n",
        "\n",
        "history = model.fit(x_train, y_train, epochs = 100, batch_size = 128, validation_split = 0.2, shuffle = True,\n",
        "                    callbacks = [checkpoint, early_stop])"
      ],
      "execution_count": null,
      "outputs": [
        {
          "output_type": "stream",
          "text": [
            "Train on 80000 samples, validate on 20000 samples\n",
            "Epoch 1/100\n",
            "80000/80000 [==============================] - 50s 630us/step - loss: 1.7138 - val_loss: 2.1147\n",
            "\n",
            "Epoch 00001: val_loss improved from inf to 2.11473, saving model to drive/My Drive/data/model_2D/epoch_001_val_2.114732.hdf5\n",
            "Epoch 2/100\n",
            "80000/80000 [==============================] - 48s 606us/step - loss: 1.4997 - val_loss: 1.6575\n",
            "\n",
            "Epoch 00002: val_loss improved from 2.11473 to 1.65754, saving model to drive/My Drive/data/model_2D/epoch_002_val_1.657537.hdf5\n",
            "Epoch 3/100\n",
            "80000/80000 [==============================] - 50s 620us/step - loss: 1.4024 - val_loss: 1.7540\n",
            "\n",
            "Epoch 00003: val_loss did not improve from 1.65754\n",
            "Epoch 4/100\n",
            "80000/80000 [==============================] - 49s 611us/step - loss: 1.3344 - val_loss: 1.5757\n",
            "\n",
            "Epoch 00004: val_loss improved from 1.65754 to 1.57574, saving model to drive/My Drive/data/model_2D/epoch_004_val_1.575745.hdf5\n",
            "Epoch 5/100\n",
            "80000/80000 [==============================] - 51s 636us/step - loss: 1.2811 - val_loss: 1.4512\n",
            "\n",
            "Epoch 00005: val_loss improved from 1.57574 to 1.45124, saving model to drive/My Drive/data/model_2D/epoch_005_val_1.451244.hdf5\n",
            "Epoch 6/100\n",
            "80000/80000 [==============================] - 49s 609us/step - loss: 1.2397 - val_loss: 1.4258\n",
            "\n",
            "Epoch 00006: val_loss improved from 1.45124 to 1.42575, saving model to drive/My Drive/data/model_2D/epoch_006_val_1.425754.hdf5\n",
            "Epoch 7/100\n",
            "21248/80000 [======>.......................] - ETA: 33s - loss: 1.1861"
          ],
          "name": "stdout"
        }
      ]
    },
    {
      "cell_type": "code",
      "metadata": {
        "id": "VggoeXOnytZ7",
        "colab_type": "code",
        "colab": {
          "base_uri": "https://localhost:8080/",
          "height": 279
        },
        "outputId": "a98ed0e9-e458-48c2-9937-8819495b4546"
      },
      "source": [
        "# 훈련 결과를 확인합니다.\n",
        "# validation 성능 fool하다....\n",
        "plt.plot(history.epoch, history.history['loss'], '-o', label='training_loss')\n",
        "plt.plot(history.epoch, history.history['val_loss'], '-o', label='validation_loss')\n",
        "plt.legend()\n",
        "plt.xlim(left=0)\n",
        "plt.xlabel('epochs')\n",
        "plt.ylabel('loss')\n",
        "plt.show()"
      ],
      "execution_count": null,
      "outputs": [
        {
          "output_type": "display_data",
          "data": {
            "image/png": "[encoded data removed]",
            "text/plain": [
              "<Figure size 432x288 with 1 Axes>"
            ]
          },
          "metadata": {
            "tags": [],
            "needs_background": "light"
          }
        }
      ]
    },
    {
      "cell_type": "code",
      "metadata": {
        "id": "kMFfoQImzwUg",
        "colab_type": "code",
        "colab": {
          "base_uri": "https://localhost:8080/",
          "height": 412
        },
        "outputId": "f0da65ba-1ca7-4a2d-8979-3d986e9e60ad"
      },
      "source": [
        "#x_test 문제있는거 같음...\n",
        "# 검증 wav 파일로부터 Feature를 만듭니다.\n",
        "x_test = pd.read_pickle('drive/My Drive/data/x_test_MFCC.pickle')\n",
        "x_test = x_test.values\n",
        "x_test = list((map(lambda x : x / max(x),x_test)))\n",
        "x_test =  np.array(x_test)\n",
        "x_test = x_test.reshape(x_test.shape[0], 40,-1, 1)\n",
        "\n",
        "# 가장 좋은 모델의 weight를 불러옵니다.\n",
        "weigth_file = glob('drive/My Drive/data/model_2D/*.hdf5')[-1]\n",
        "print(weigth_file)\n",
        "model.load_weights(weigth_file)\n",
        "\n",
        "# 예측 수행\n",
        "y_pred = model.predict(x_test)\n",
        "\n",
        "# 예측 결과로 제출 파일을 생성합니다.\n",
        "submission = pd.read_csv('drive/My Drive/data/submission.csv', index_col=0)\n",
        "submission.loc[:, :] = y_pred\n",
        "submission.to_csv('drive/My Drive/data/submission.csv')"
      ],
      "execution_count": 75,
      "outputs": [
        {
          "output_type": "stream",
          "text": [
            "drive/My Drive/data/model_2D/epoch_015_val_1.452905.hdf5\n"
          ],
          "name": "stdout"
        },
        {
          "output_type": "error",
          "ename": "ValueError",
          "evalue": "ignored",
          "traceback": [
            "\u001b[0;31m---------------------------------------------------------------------------\u001b[0m",
            "\u001b[0;31mValueError\u001b[0m                                Traceback (most recent call last)",
            "\u001b[0;32m<ipython-input-75-3ba06516b857>\u001b[0m in \u001b[0;36m<module>\u001b[0;34m()\u001b[0m\n\u001b[1;32m     10\u001b[0m \u001b[0mweigth_file\u001b[0m \u001b[0;34m=\u001b[0m \u001b[0mglob\u001b[0m\u001b[0;34m(\u001b[0m\u001b[0;34m'drive/My Drive/data/model_2D/*.hdf5'\u001b[0m\u001b[0;34m)\u001b[0m\u001b[0;34m[\u001b[0m\u001b[0;34m-\u001b[0m\u001b[0;36m1\u001b[0m\u001b[0;34m]\u001b[0m\u001b[0;34m\u001b[0m\u001b[0;34m\u001b[0m\u001b[0m\n\u001b[1;32m     11\u001b[0m \u001b[0mprint\u001b[0m\u001b[0;34m(\u001b[0m\u001b[0mweigth_file\u001b[0m\u001b[0;34m)\u001b[0m\u001b[0;34m\u001b[0m\u001b[0;34m\u001b[0m\u001b[0m\n\u001b[0;32m---> 12\u001b[0;31m \u001b[0mmodel\u001b[0m\u001b[0;34m.\u001b[0m\u001b[0mload_weights\u001b[0m\u001b[0;34m(\u001b[0m\u001b[0mweigth_file\u001b[0m\u001b[0;34m)\u001b[0m\u001b[0;34m\u001b[0m\u001b[0;34m\u001b[0m\u001b[0m\n\u001b[0m\u001b[1;32m     13\u001b[0m \u001b[0;34m\u001b[0m\u001b[0m\n\u001b[1;32m     14\u001b[0m \u001b[0;31m# 예측 수행\u001b[0m\u001b[0;34m\u001b[0m\u001b[0;34m\u001b[0m\u001b[0;34m\u001b[0m\u001b[0m\n",
            "\u001b[0;32m/usr/local/lib/python3.6/dist-packages/keras/engine/saving.py\u001b[0m in \u001b[0;36mload_wrapper\u001b[0;34m(*args, **kwargs)\u001b[0m\n\u001b[1;32m    490\u001b[0m                 \u001b[0mos\u001b[0m\u001b[0;34m.\u001b[0m\u001b[0mremove\u001b[0m\u001b[0;34m(\u001b[0m\u001b[0mtmp_filepath\u001b[0m\u001b[0;34m)\u001b[0m\u001b[0;34m\u001b[0m\u001b[0;34m\u001b[0m\u001b[0m\n\u001b[1;32m    491\u001b[0m             \u001b[0;32mreturn\u001b[0m \u001b[0mres\u001b[0m\u001b[0;34m\u001b[0m\u001b[0;34m\u001b[0m\u001b[0m\n\u001b[0;32m--> 492\u001b[0;31m         \u001b[0;32mreturn\u001b[0m \u001b[0mload_function\u001b[0m\u001b[0;34m(\u001b[0m\u001b[0;34m*\u001b[0m\u001b[0margs\u001b[0m\u001b[0;34m,\u001b[0m \u001b[0;34m**\u001b[0m\u001b[0mkwargs\u001b[0m\u001b[0;34m)\u001b[0m\u001b[0;34m\u001b[0m\u001b[0;34m\u001b[0m\u001b[0m\n\u001b[0m\u001b[1;32m    493\u001b[0m \u001b[0;34m\u001b[0m\u001b[0m\n\u001b[1;32m    494\u001b[0m     \u001b[0;32mreturn\u001b[0m \u001b[0mload_wrapper\u001b[0m\u001b[0;34m\u001b[0m\u001b[0;34m\u001b[0m\u001b[0m\n",
            "\u001b[0;32m/usr/local/lib/python3.6/dist-packages/keras/engine/network.py\u001b[0m in \u001b[0;36mload_weights\u001b[0;34m(self, filepath, by_name, skip_mismatch, reshape)\u001b[0m\n\u001b[1;32m   1228\u001b[0m             \u001b[0;32melse\u001b[0m\u001b[0;34m:\u001b[0m\u001b[0;34m\u001b[0m\u001b[0;34m\u001b[0m\u001b[0m\n\u001b[1;32m   1229\u001b[0m                 saving.load_weights_from_hdf5_group(\n\u001b[0;32m-> 1230\u001b[0;31m                     f, self.layers, reshape=reshape)\n\u001b[0m\u001b[1;32m   1231\u001b[0m             \u001b[0;32mif\u001b[0m \u001b[0mhasattr\u001b[0m\u001b[0;34m(\u001b[0m\u001b[0mf\u001b[0m\u001b[0;34m,\u001b[0m \u001b[0;34m'close'\u001b[0m\u001b[0;34m)\u001b[0m\u001b[0;34m:\u001b[0m\u001b[0;34m\u001b[0m\u001b[0;34m\u001b[0m\u001b[0m\n\u001b[1;32m   1232\u001b[0m                 \u001b[0mf\u001b[0m\u001b[0;34m.\u001b[0m\u001b[0mclose\u001b[0m\u001b[0;34m(\u001b[0m\u001b[0;34m)\u001b[0m\u001b[0;34m\u001b[0m\u001b[0;34m\u001b[0m\u001b[0m\n",
            "\u001b[0;32m/usr/local/lib/python3.6/dist-packages/keras/engine/saving.py\u001b[0m in \u001b[0;36mload_weights_from_hdf5_group\u001b[0;34m(f, layers, reshape)\u001b[0m\n\u001b[1;32m   1207\u001b[0m                          \u001b[0;34m'containing '\u001b[0m \u001b[0;34m+\u001b[0m \u001b[0mstr\u001b[0m\u001b[0;34m(\u001b[0m\u001b[0mlen\u001b[0m\u001b[0;34m(\u001b[0m\u001b[0mlayer_names\u001b[0m\u001b[0;34m)\u001b[0m\u001b[0;34m)\u001b[0m \u001b[0;34m+\u001b[0m\u001b[0;34m\u001b[0m\u001b[0;34m\u001b[0m\u001b[0m\n\u001b[1;32m   1208\u001b[0m                          \u001b[0;34m' layers into a model with '\u001b[0m \u001b[0;34m+\u001b[0m\u001b[0;34m\u001b[0m\u001b[0;34m\u001b[0m\u001b[0m\n\u001b[0;32m-> 1209\u001b[0;31m                          str(len(filtered_layers)) + ' layers.')\n\u001b[0m\u001b[1;32m   1210\u001b[0m \u001b[0;34m\u001b[0m\u001b[0m\n\u001b[1;32m   1211\u001b[0m     \u001b[0;31m# We batch weight value assignments in a single backend call\u001b[0m\u001b[0;34m\u001b[0m\u001b[0;34m\u001b[0m\u001b[0;34m\u001b[0m\u001b[0m\n",
            "\u001b[0;31mValueError\u001b[0m: You are trying to load a weight file containing 10 layers into a model with 11 layers."
          ]
        }
      ]
    },
    {
      "cell_type": "markdown",
      "metadata": {
        "id": "pvTUMn6yhI7t",
        "colab_type": "text"
      },
      "source": [
        "# 결과 구간화\n"
      ]
    },
    {
      "cell_type": "markdown",
      "metadata": {
        "id": "TYMro9QUhPky",
        "colab_type": "text"
      },
      "source": [
        "행합이 1이 아닌 결과 값이 많음....(처리 필요함..)"
      ]
    },
    {
      "cell_type": "code",
      "metadata": {
        "id": "MsKgW3WJc3hV",
        "colab_type": "code",
        "colab": {}
      },
      "source": [
        "def make_step(vec):\n",
        "  for i,con in enumerate(vec):\n",
        "    interval = 0.125\n",
        "    if 0<= con <interval:\n",
        "      vec[i] = 0\n",
        "    elif interval<= con < interval*2:\n",
        "      vec[i] = 0.25\n",
        "    elif interval*2<= con < interval*3:\n",
        "      vec[i] = 0.75\n",
        "    else:\n",
        "      vec[i] = 1\n",
        "    \n",
        "    return vec\n",
        "\n",
        "submission_step = list(map(make_step, submission.values))\n",
        "submission_step = np.array(submission_step)"
      ],
      "execution_count": null,
      "outputs": []
    },
    {
      "cell_type": "markdown",
      "metadata": {
        "id": "SSpbeFsVnGxj",
        "colab_type": "text"
      },
      "source": [
        "# 7/20 \n",
        "**모델** : epoch_008_val_**1.724779**.hdf5(1D model)\n",
        "  \n",
        "**데이터**: x_trian_MFCC\n",
        "  \n",
        "**score** : ? (test set 잘못됨..) \n",
        "\n",
        "--------------------------------------\n",
        "\n",
        "**모델** : epoch_015_val_**1.452905**.hdf5(2D model)\n",
        "  \n",
        "**데이터**: x_trian_MFCC\n",
        "  \n",
        "**score** : ?(test set 잘못됨..)\n",
        "\n",
        "--------------------------------------\n",
        "\n",
        "**모델** : epoch_018_val_**1.415506**.hdf5(2D model)\n",
        "  \n",
        "**데이터**: x_trian_MFCC\n",
        "  \n",
        "**score** : **1.4672**\n"
      ]
    }
  ]
}
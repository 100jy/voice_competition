{
  "nbformat": 4,
  "nbformat_minor": 0,
  "metadata": {
    "colab": {
      "name": "inception_resNetv2_melspec.ipynb",
      "provenance": [],
      "collapsed_sections": [],
      "machine_shape": "hm",
      "authorship_tag": "ABX9TyMn8YKCfR+q45VsLWDkQ7wk",
      "include_colab_link": true
    },
    "kernelspec": {
      "name": "python3",
      "display_name": "Python 3"
    },
    "accelerator": "TPU"
  },
  "cells": [
    {
      "cell_type": "markdown",
      "metadata": {
        "id": "view-in-github",
        "colab_type": "text"
      },
      "source": [
        "<a href=\"https://colab.research.google.com/github/100jy/voice_competition/blob/master/inception_resNetv2_melspec.ipynb\" target=\"_parent\"><img src=\"https://colab.research.google.com/assets/colab-badge.svg\" alt=\"Open In Colab\"/></a>"
      ]
    },
    {
      "cell_type": "code",
      "metadata": {
        "id": "7CFsi_xE235O",
        "colab_type": "code",
        "colab": {
          "base_uri": "https://localhost:8080/",
          "height": 127
        },
        "outputId": "75cbeaeb-87a5-438c-f154-659ca6540d4e"
      },
      "source": [
        "#구글 드라이브 연동\n",
        "# 클라우드 권한 획득\n",
        "from google.colab import auth, drive\n",
        "auth.authenticate_user()\n",
        "drive.mount('/content/drive')"
      ],
      "execution_count": 1,
      "outputs": [
        {
          "output_type": "stream",
          "text": [
            "Go to this URL in a browser: https://accounts.google.com/o/oauth2/auth?client_id=947318989803-6bn6qk8qdgf4n4g3pfee6491hc0brc4i.apps.googleusercontent.com&redirect_uri=urn%3aietf%3awg%3aoauth%3a2.0%3aoob&response_type=code&scope=email%20https%3a%2f%2fwww.googleapis.com%2fauth%2fdocs.test%20https%3a%2f%2fwww.googleapis.com%2fauth%2fdrive%20https%3a%2f%2fwww.googleapis.com%2fauth%2fdrive.photos.readonly%20https%3a%2f%2fwww.googleapis.com%2fauth%2fpeopleapi.readonly\n",
            "\n",
            "Enter your authorization code:\n",
            "··········\n",
            "Mounted at /content/drive\n"
          ],
          "name": "stdout"
        }
      ]
    },
    {
      "cell_type": "code",
      "metadata": {
        "id": "jEy9T-pS3MLH",
        "colab_type": "code",
        "colab": {
          "base_uri": "https://localhost:8080/",
          "height": 35
        },
        "outputId": "02cbd8a1-796e-4d08-d03a-dc0f529d3e76"
      },
      "source": [
        "import os\n",
        "import pandas as pd\n",
        "import numpy as np\n",
        "import matplotlib.pyplot as plt\n",
        "import scipy\n",
        "import tensorflow as tf\n",
        "import keras\n",
        "from tqdm import tqdm\n",
        "from glob import glob\n",
        "from scipy.io import wavfile\n",
        "from tensorflow.keras.models import Sequential,Model\n",
        "from tensorflow.keras.layers import *\n",
        "from tensorflow.keras.callbacks import ModelCheckpoint, EarlyStopping, CSVLogger, Callback\n",
        "from tensorflow.keras.optimizers import *\n",
        "from tensorflow.keras import backend as K\n",
        "from keras.regularizers import l2"
      ],
      "execution_count": 2,
      "outputs": [
        {
          "output_type": "stream",
          "text": [
            "Using TensorFlow backend.\n"
          ],
          "name": "stderr"
        }
      ]
    },
    {
      "cell_type": "code",
      "metadata": {
        "id": "emrx_mgC3OJq",
        "colab_type": "code",
        "colab": {
          "base_uri": "https://localhost:8080/",
          "height": 35
        },
        "outputId": "efbf1d87-a8c3-4f01-a945-82f81127797f"
      },
      "source": [
        "y_train = pd.read_csv('drive/My Drive/data/train_answer.csv',index_col=0)\n",
        "y_train = y_train.values\n",
        "y_train.shape"
      ],
      "execution_count": null,
      "outputs": [
        {
          "output_type": "execute_result",
          "data": {
            "text/plain": [
              "(100000, 30)"
            ]
          },
          "metadata": {
            "tags": []
          },
          "execution_count": 15
        }
      ]
    },
    {
      "cell_type": "code",
      "metadata": {
        "id": "dEFwkq0_3cKS",
        "colab_type": "code",
        "colab": {}
      },
      "source": [
        "x_train = pd.read_pickle('drive/My Drive/data/x_trian_mel-spectogram.pickle')\n",
        "x_train = x_train.values"
      ],
      "execution_count": null,
      "outputs": []
    },
    {
      "cell_type": "markdown",
      "metadata": {
        "id": "UVDaYxm_44_9",
        "colab_type": "text"
      },
      "source": [
        "# Upscaling data"
      ]
    },
    {
      "cell_type": "code",
      "metadata": {
        "id": "IfbqHvLCcECl",
        "colab_type": "code",
        "colab": {}
      },
      "source": [
        "##normalize\n",
        "def normalize(x):\n",
        "  return (x - np.mean(x)) / np.std(x)\n",
        "\n",
        "#upscaling data(120x120 -> 299x299x1)\n",
        "def Upscaling(data, reshape_dim):\n",
        "  import cv2\n",
        "  resized_imgs = []\n",
        "\n",
        "  for img in tqdm(data):\n",
        "    resized_imgs.append(cv2.resize(img, (reshape_dim[0], reshape_dim[1])) )\n",
        "\n",
        "  result = np.array(resized_imgs)\n",
        "\n",
        "  return result"
      ],
      "execution_count": 2,
      "outputs": []
    },
    {
      "cell_type": "code",
      "metadata": {
        "id": "oJQvLEJDdhFG",
        "colab_type": "code",
        "colab": {
          "base_uri": "https://localhost:8080/",
          "height": 35
        },
        "outputId": "1fc5e42c-7b4c-41a3-b0cd-c48095844469"
      },
      "source": [
        "x_nor = list((map(normalize,x_train)))\n",
        "x_nor = np.array(x_nor)\n",
        "x_train = x_nor.reshape(100000,126,-1,1)\n",
        "x_train.shape"
      ],
      "execution_count": null,
      "outputs": [
        {
          "output_type": "execute_result",
          "data": {
            "text/plain": [
              "(100000, 126, 126)"
            ]
          },
          "metadata": {
            "tags": []
          },
          "execution_count": 5
        }
      ]
    },
    {
      "cell_type": "code",
      "metadata": {
        "id": "xw4vQK5rzt4Y",
        "colab_type": "code",
        "colab": {
          "base_uri": "https://localhost:8080/",
          "height": 35
        },
        "outputId": "95eb362d-49d8-4bfe-9ff1-10596b8e58c5"
      },
      "source": [
        "leng = int(100000/10)\n",
        "tmp = Upscaling(x_train[:leng],(299,299,1))"
      ],
      "execution_count": null,
      "outputs": [
        {
          "output_type": "stream",
          "text": [
            "100%|██████████| 10000/10000 [00:01<00:00, 6490.97it/s]\n"
          ],
          "name": "stderr"
        }
      ]
    },
    {
      "cell_type": "code",
      "metadata": {
        "id": "QtlIPrRB3ZZE",
        "colab_type": "code",
        "colab": {
          "base_uri": "https://localhost:8080/",
          "height": 35
        },
        "outputId": "89a7150a-3859-46e7-8c32-bb1f20e78801"
      },
      "source": [
        "tmp[0].shape"
      ],
      "execution_count": null,
      "outputs": [
        {
          "output_type": "execute_result",
          "data": {
            "text/plain": [
              "(299, 299)"
            ]
          },
          "metadata": {
            "tags": []
          },
          "execution_count": 7
        }
      ]
    },
    {
      "cell_type": "code",
      "metadata": {
        "id": "QzQy4BhC0Ph1",
        "colab_type": "code",
        "colab": {
          "base_uri": "https://localhost:8080/",
          "height": 343
        },
        "outputId": "039e43af-1c2a-4129-fe8d-a49be6d27374"
      },
      "source": [
        "import librosa\n",
        "import librosa.display\n",
        "plt.figure(figsize=(15,10))\n",
        "plt.subplot(221)\n",
        "hop_length = int(22050/299)\n",
        "librosa.display.specshow(tmp[0], sr=22050, x_axis='time', y_axis='log',hop_length=hop_length, fmax=5000);\n",
        "plt.title('upscaing')\n",
        "plt.subplot(222)\n",
        "hop_length = int(22050/126)\n",
        "librosa.display.specshow(x_train[0], sr=22050, x_axis='time', y_axis='log',hop_length=hop_length, fmax=5000);\n",
        "plt.title('original')"
      ],
      "execution_count": null,
      "outputs": [
        {
          "output_type": "execute_result",
          "data": {
            "text/plain": [
              "Text(0.5, 1.0, 'original')"
            ]
          },
          "metadata": {
            "tags": []
          },
          "execution_count": 9
        },
        {
          "output_type": "display_data",
          "data": {
            "image/png": "[encoded data removed]",
            "text/plain": [
              "<Figure size 1080x720 with 2 Axes>"
            ]
          },
          "metadata": {
            "tags": [],
            "needs_background": "light"
          }
        }
      ]
    },
    {
      "cell_type": "code",
      "metadata": {
        "id": "CkIxb2o_5EgF",
        "colab_type": "code",
        "colab": {}
      },
      "source": [
        "#데이터 버킷에 저장\n",
        "GCS_PATH = 'gs://data_bucket_9586/' \n",
        "AUTO = tf.data.experimental.AUTOTUNE # used in tf.data.Dataset API\n",
        "\n",
        "record_num = 1000\n",
        "file_num = x_train.shape[0] // record_num\n",
        "\n",
        "for i in range(100):\n",
        "  pre_idx = int((i) * 1000)\n",
        "  idx = int((i+1) * 1000)\n",
        "  tmp = Upscaling(x_train[pre_idx:idx],(299,299,1))\n",
        "  tmp = tmp.reshape(1000,-1)\n",
        "\n",
        "  filename = GCS_PATH + f\"train_resize_{idx:06d}.tfrec\"\n",
        "  with tf.io.TFRecordWriter(filename) as out_file:\n",
        "      for j in range(record_num):\n",
        "          feature = {\n",
        "                  \"data\": tf.train.Feature(float_list=tf.train.FloatList(value=tmp[j])),\n",
        "                  \"label\": tf.train.Feature(float_list=tf.train.FloatList(value=y_train[record_num * i + j]))\n",
        "              }\n",
        "          example = tf.train.Example(features=tf.train.Features(feature=feature))\n",
        "          out_file.write(example.SerializeToString())\n",
        "          \n",
        "  print(\"Wrote file!\", filename)\n",
        "  tmp = []"
      ],
      "execution_count": null,
      "outputs": []
    },
    {
      "cell_type": "markdown",
      "metadata": {
        "id": "DvROlKlAS1jG",
        "colab_type": "text"
      },
      "source": [
        "# augmentation"
      ]
    },
    {
      "cell_type": "code",
      "metadata": {
        "id": "N0gixetRS4Sk",
        "colab_type": "code",
        "colab": {}
      },
      "source": [
        "aug = pd.read_pickle('drive/My Drive/data/x_trian_augmented_mel_spec.pickle')\n",
        "aug = aug.values"
      ],
      "execution_count": null,
      "outputs": []
    },
    {
      "cell_type": "code",
      "metadata": {
        "id": "GqndFga6TOG3",
        "colab_type": "code",
        "colab": {
          "base_uri": "https://localhost:8080/",
          "height": 35
        },
        "outputId": "d2449974-da66-4a71-edc9-721c6082e197"
      },
      "source": [
        "aug = list((map(normalize,aug)))\n",
        "aug = np.array(aug).reshape(100000,126,-1,1)\n",
        "aug.shape"
      ],
      "execution_count": null,
      "outputs": [
        {
          "output_type": "execute_result",
          "data": {
            "text/plain": [
              "(100000, 126, 126, 1)"
            ]
          },
          "metadata": {
            "tags": []
          },
          "execution_count": 23
        }
      ]
    },
    {
      "cell_type": "code",
      "metadata": {
        "id": "d4RnYcY8RZbM",
        "colab_type": "code",
        "colab": {}
      },
      "source": [
        "#데이터 버킷에 저장\n",
        "GCS_PATH = 'gs://data_bucket_9586/' \n",
        "AUTO = tf.data.experimental.AUTOTUNE # used in tf.data.Dataset API\n",
        "\n",
        "record_num = 1000\n",
        "file_num = aug.shape[0] // record_num\n",
        "\n",
        "for i in range(100):\n",
        "  pre_idx = int((i) * 1000)\n",
        "  idx = int((i+1) * 1000)\n",
        "  tmp = Upscaling(aug[pre_idx:idx],(299,299,1))\n",
        "  tmp = tmp.reshape(1000,-1)\n",
        "\n",
        "  filename = GCS_PATH + f\"train_resize_{100000+idx:06d}.tfrec\"\n",
        "  with tf.io.TFRecordWriter(filename) as out_file:\n",
        "      for j in range(record_num):\n",
        "          feature = {\n",
        "                  \"data\": tf.train.Feature(float_list=tf.train.FloatList(value=tmp[j])),\n",
        "                  \"label\": tf.train.Feature(float_list=tf.train.FloatList(value=y_train[record_num * i + j]))\n",
        "              }\n",
        "          example = tf.train.Example(features=tf.train.Features(feature=feature))\n",
        "          out_file.write(example.SerializeToString())\n",
        "          \n",
        "  print(\"Wrote file!\", filename)\n",
        "  tmp = []"
      ],
      "execution_count": null,
      "outputs": []
    },
    {
      "cell_type": "markdown",
      "metadata": {
        "id": "J_dQcYZJCnw4",
        "colab_type": "text"
      },
      "source": [
        "# 데이터 클라우드 버킷에 저장"
      ]
    },
    {
      "cell_type": "code",
      "metadata": {
        "id": "3sMSi6oX8zB2",
        "colab_type": "code",
        "colab": {}
      },
      "source": [
        "'''\n",
        "#데이터 버킷에 저장\n",
        "GCS_PATH = 'gs://data_bucket_9586/' \n",
        "AUTO = tf.data.experimental.AUTOTUNE # used in tf.data.Dataset API\n",
        "\n",
        "record_num = 1000\n",
        "file_num = x_train.shape[0] // record_num\n",
        "\n",
        "for i in range(file_num):\n",
        "    filename = GCS_PATH + f\"train_{(i+1)*record_num:06d}.tfrec\"\n",
        "    with tf.io.TFRecordWriter(filename) as out_file:\n",
        "        for j in range(record_num):\n",
        "            feature = {\n",
        "                \"data\": tf.train.Feature(float_list=tf.train.FloatList(value=x_train[record_num * i + j])),\n",
        "                \"label\": tf.train.Feature(float_list=tf.train.FloatList(value=y_train[record_num * i + j]))\n",
        "            }\n",
        "            example = tf.train.Example(features=tf.train.Features(feature=feature))\n",
        "            out_file.write(example.SerializeToString())\n",
        "        \n",
        "    print(\"Wrote file!\", filename)\n",
        "'''"
      ],
      "execution_count": null,
      "outputs": []
    },
    {
      "cell_type": "code",
      "metadata": {
        "id": "4w0SqEH7UcBU",
        "colab_type": "code",
        "colab": {}
      },
      "source": [
        "'''\n",
        "#데이터 버킷에 저장\n",
        "GCS_PATH = 'gs://data_bucket_9586/' \n",
        "AUTO = tf.data.experimental.AUTOTUNE # used in tf.data.Dataset API\n",
        "\n",
        "record_num = 1000\n",
        "file_num = aug.shape[0] // record_num\n",
        "\n",
        "for i in range(file_num):\n",
        "    filename = GCS_PATH + f\"train_{100000+(i+1)*record_num:06d}.tfrec\"\n",
        "    with tf.io.TFRecordWriter(filename) as out_file:\n",
        "        for j in range(record_num):\n",
        "            feature = {\n",
        "                \"data\": tf.train.Feature(float_list=tf.train.FloatList(value=aug[record_num * i + j])),\n",
        "                \"label\": tf.train.Feature(float_list=tf.train.FloatList(value=y_train[record_num * i + j]))\n",
        "            }\n",
        "            example = tf.train.Example(features=tf.train.Features(feature=feature))\n",
        "            out_file.write(example.SerializeToString())\n",
        "        \n",
        "    print(\"Wrote file!\", filename)\n",
        "'''"
      ],
      "execution_count": null,
      "outputs": []
    },
    {
      "cell_type": "markdown",
      "metadata": {
        "id": "nuQ_aLpZDAX4",
        "colab_type": "text"
      },
      "source": [
        "# 데이터 로드"
      ]
    },
    {
      "cell_type": "code",
      "metadata": {
        "id": "I5OKkaA6C_ri",
        "colab_type": "code",
        "colab": {}
      },
      "source": [
        "GCS_PATH = 'gs://data_bucket_9586/' \n",
        "AUTO = tf.data.experimental.AUTOTUNE # used in tf.data.Dataset API\n",
        "\n",
        "def read_train(example):\n",
        "  feature = {'data': tf.io.VarLenFeature(dtype = tf.float32),\n",
        "             'label': tf.io.VarLenFeature(dtype = tf.float32),\n",
        "             }\n",
        "  example = tf.io.parse_single_example(example, feature)\n",
        "\n",
        "  data = tf.sparse.to_dense(example['data'])\n",
        "  label = tf.sparse.to_dense(example['label'])\n",
        "\n",
        "  data = tf.reshape(data,(299,299,1))\n",
        "  label = tf.reshape(label,(30,1))\n",
        "\n",
        "  return data, label\n",
        "\n",
        "filenames = tf.io.gfile.glob(GCS_PATH + 'train_resize_*.tfrec')\n",
        "spit_len = int(len(filenames) * 0.8)\n",
        "\n",
        "np.random.seed(100)\n",
        "np.random.shuffle(filenames)\n",
        "\n",
        "\n",
        "train_dataset = tf.data.TFRecordDataset(filenames[:spit_len],num_parallel_reads=AUTO)\n",
        "#batch_size = 128\n",
        "train_dataset = train_dataset.map(read_train, num_parallel_calls=AUTO).batch(128).prefetch(1)\n",
        "\n",
        "val_dataset = tf.data.TFRecordDataset(filenames[spit_len:],num_parallel_reads=AUTO)\n",
        "#batch_size = 128\n",
        "val_dataset = val_dataset.map(read_train, num_parallel_calls=AUTO).batch(128).prefetch(1)  "
      ],
      "execution_count": 3,
      "outputs": []
    },
    {
      "cell_type": "code",
      "metadata": {
        "id": "Y_eASzQPK4TS",
        "colab_type": "code",
        "colab": {
          "base_uri": "https://localhost:8080/",
          "height": 71
        },
        "outputId": "134a7b1d-b649-4b48-a3eb-a408ad1ed27d"
      },
      "source": [
        "for record in train_dataset.take(1):\n",
        "  print(len(record))\n",
        "  input_shape = (record[0].shape[1],record[0].shape[2],record[0].shape[3])\n",
        "  output_shape = record[1].shape[1]\n",
        "\n",
        "print(input_shape)\n",
        "print(output_shape)"
      ],
      "execution_count": 9,
      "outputs": [
        {
          "output_type": "stream",
          "text": [
            "2\n",
            "(299, 299, 1)\n",
            "30\n"
          ],
          "name": "stdout"
        }
      ]
    },
    {
      "cell_type": "code",
      "metadata": {
        "id": "MoHfxKkPVVcD",
        "colab_type": "code",
        "colab": {}
      },
      "source": [
        "# Inception Net\n",
        "## from https://datascienceschool.net/view-notebook/8d34d65bcced42ef84996b5d56321ba9/\n",
        "def inception_model(input_shape):\n",
        "  def inception_module(x, o_1=64,r_3 =64, o_3 =128,r_5=16,o_5=32,pool=32):\n",
        "    #size_1 filter\n",
        "    x_1 = Conv2D(o_1,1,padding='same')(x)\n",
        "\n",
        "    #size_1 + size_3 filter\n",
        "    x_2 = Conv2D(r_3,1,padding='same')(x)\n",
        "    x_2 = Conv2D(o_3,1,padding='same')(x_2)\n",
        "\n",
        "    #size_1 + size_5 filter\n",
        "    x_3 = Conv2D(r_5,1,padding='same')(x)\n",
        "    x_3 = Conv2D(o_5,5,padding='same')(x_3)\n",
        "\n",
        "    #pooling\n",
        "    x_4 = MaxPooling2D(pool_size = (3,3),strides =1,padding='same')(x)\n",
        "    x_4 = Conv2D(pool, 1, padding='same')(x_4)\n",
        "\n",
        "    return concatenate([x_1,x_2,x_3,x_4])\n",
        "\n",
        "  #DeepCNN with Gelu\n",
        "  def gelu(x):\n",
        "      return 0.5*x*(1+tf.tanh(np.sqrt(2/np.pi)*(x+0.044715*tf.pow(x, 3))))\n",
        "\n",
        "\n",
        "  inp = Input(input_shape) \n",
        "\n",
        "  x = Conv2D(64, (7, 7), strides = 2, padding = \"same\")(inp)\n",
        "  x = Activation(gelu)(x)\n",
        "  x = MaxPooling2D((3, 3), padding = \"same\", strides = 2)(x)\n",
        "  x = Conv2D(64, (1, 1), strides = 1, padding = \"same\")(x)\n",
        "  x = Activation(gelu)(x)\n",
        "  x = Conv2D(192, (3, 3), strides = 1, padding = \"same\")(x)\n",
        "  x = Activation(gelu)(x)\n",
        "  x = MaxPooling2D((3, 3), padding = \"same\", strides = 2)(x)\n",
        "\n",
        "  x = inception_module(x, o_1=64, r_3=64, o_3=128, r_5=16, o_5=32, pool=32)\n",
        "  x = inception_module(x, o_1=128, r_3=128, o_3=192, r_5=32, o_5=96, pool=64)\n",
        "  x = MaxPooling2D(pool_size=(3, 3), strides=2, padding='same')(x)\n",
        "  x = inception_module(x, o_1=192, r_3=96, o_3=208, r_5=16, o_5=48, pool=64)\n",
        "  \n",
        "  x = inception_module(x, o_1=160, r_3=112, o_3=224, r_5=24, o_5=64, pool=64)\n",
        "  x = inception_module(x, o_1=128, r_3=128, o_3=256, r_5=24, o_5=64, pool=64)\n",
        "  x = inception_module(x, o_1=112, r_3=144, o_3=288, r_5=32, o_5=64, pool=64)\n",
        "  x = inception_module(x, o_1=256, r_3=160, o_3=320, r_5=32, o_5=128, pool=128)\n",
        "\n",
        "  x = MaxPooling2D(pool_size=(2, 2), strides=1, padding='same')(x)\n",
        "  x = inception_module(x, o_1=256, r_3=160, o_3=320, r_5=32, o_5=128, pool=128)\n",
        "  x = inception_module(x, o_1=384, r_3=192, o_3=384, r_5=48, o_5=128, pool=128)\n",
        "  \n",
        "\n",
        "  x = AveragePooling2D(pool_size=(2, 2), strides=3)(x)\n",
        "  x = Conv2D(128, (1, 1),padding = \"same\")(x)\n",
        "  x = Activation(gelu)(x)\n",
        "  x = Flatten()(x)\n",
        "  x = Dropout(0.8)(x)\n",
        "\n",
        "  x = Dense(1152)(x)\n",
        "  x = Activation(gelu)(x)\n",
        "  x = Dropout(0.8)(x)\n",
        "  output = Dense(30, activation = \"softmax\")(x)\n",
        "\n",
        "  return Model(inp,output)\n"
      ],
      "execution_count": 7,
      "outputs": []
    },
    {
      "cell_type": "code",
      "metadata": {
        "id": "3xsRd42eoAbB",
        "colab_type": "code",
        "colab": {}
      },
      "source": [
        "#inception_resNet_V2\n",
        "##model architecture\n",
        "def Scaling_Residual(Inception, scale):\n",
        "  x = Lambda(lambda Inception, scale : Inception * scale, arguments={'scale': scale})(Inception)\n",
        "  x = Activation(activation = 'relu')(x)\n",
        "\n",
        "  return x\n",
        "\n",
        "def conv2d_bn(x,filters, kernel_size, padding = 'same', strides =(1,1), name = None, activation = 'relu'):\n",
        "  x = Conv2D(filters, kernel_size, strides= strides,padding=padding, use_bias=False)(x)\n",
        "  x = BatchNormalization(scale=False)(x)\n",
        "\n",
        "  if activation != 'None':\n",
        "   x = Activation(activation)(x)\n",
        "\n",
        "  return x \n",
        "\n",
        "def stem(input_tensor, version = 'v2', name = None):\n",
        "  if version == 'I-v4' or version == 'v2':\n",
        "    x = conv2d_bn(input_tensor, 32,(3,3),padding='valid', strides = 2)\n",
        "    x = conv2d_bn(x, 32,(3,3),padding='valid')\n",
        "    x = conv2d_bn(x, 64,(3,3))\n",
        "\n",
        "    branch_1 = MaxPooling2D((3,3),padding = 'valid', strides=2)(x)\n",
        "    branch_2 = conv2d_bn(x,96,(3,3),padding = 'valid', strides=2)\n",
        "    x = Concatenate()([branch_1,branch_2])\n",
        "\n",
        "    branch_1 = conv2d_bn(x,64,(1,1))\n",
        "    branch_1 = conv2d_bn(branch_1,96,(3,3),padding='valid')\n",
        "    branch_2 = conv2d_bn(x,64,(1,1))\n",
        "    branch_2 = conv2d_bn(branch_2,64,(7,1))\n",
        "    branch_2 = conv2d_bn(branch_2,64,(1,7))\n",
        "    branch_2 = conv2d_bn(branch_2,96,(3,3),padding='valid')\n",
        "    x = Concatenate()([branch_1,branch_2])\n",
        "\n",
        "    branch_1 = conv2d_bn(x,192,(3,3),padding = 'valid', strides=2)\n",
        "    branch_2 = MaxPooling2D((3,3),padding = 'valid', strides=2)(x)\n",
        "    x = Concatenate()([branch_1,branch_2])\n",
        "\n",
        "    return x\n",
        " \n",
        "\n",
        "reduction_table = {'v2' : [256,256,384,384]}\n",
        "\n",
        "\n",
        "\n",
        "def Reduction_A(input_tensor, version='v2', name=None):\n",
        "  k,l,m,n = reduction_table[version]\n",
        "\n",
        "  branch_1 = MaxPooling2D((3,3),padding='valid',strides=2)(input_tensor)\n",
        "\n",
        "  branch_2 = conv2d_bn(input_tensor, n, (3,3), padding  = 'valid', strides=2)\n",
        "\n",
        "  branch_3 = conv2d_bn(input_tensor, k, (1,1))\n",
        "  branch_3 = conv2d_bn(branch_3, l, (3,3))\n",
        "  branch_3 = conv2d_bn(branch_3, m, (3,3), padding  = 'valid', strides=2)\n",
        "\n",
        "  filter_concat = Concatenate()([branch_1,branch_2,branch_3])\n",
        "\n",
        "  return filter_concat \n",
        "  \n",
        "def Reduction_B(input_tensor, version='v2', name=None):\n",
        "\n",
        "  branch_1 = MaxPooling2D((3,3),padding='valid',strides=2)(input_tensor)\n",
        "\n",
        "  branch_2 = conv2d_bn(input_tensor, 256, (1,1))\n",
        "  branch_2 = conv2d_bn(branch_2, 384, (3,3), padding  = 'valid', strides=2)\n",
        "\n",
        "  branch_3 = conv2d_bn(input_tensor, 256, (1,1))\n",
        "  branch_3 = conv2d_bn(branch_3, 288, (3,3), padding  = 'valid', strides=2)\n",
        "  \n",
        "  branch_4 = conv2d_bn(input_tensor, 256, (1,1))\n",
        "  branch_4 = conv2d_bn(branch_4, 288, (3,3))\n",
        "  branch_4 = conv2d_bn(branch_4, 320, (3,3), padding  = 'valid', strides=2)  \n",
        "\n",
        "  filter_concat = Concatenate()([branch_1,branch_2,branch_3,branch_4])\n",
        "\n",
        "  return filter_concat \n",
        "\n",
        "\n",
        "\n",
        "def Inception_ResNet_A(input_tensor, scale = 0.1, version='v2', name = None):\n",
        "  if version == 'v1':\n",
        "    raise ValueError\n",
        "  \n",
        "  else:\n",
        "    branch_1 = conv2d_bn(input_tensor, 32, (1,1))\n",
        "\n",
        "    branch_2 = conv2d_bn(input_tensor, 32, (1,1))\n",
        "    branch_2 = conv2d_bn(branch_2, 32, (3,3))\n",
        "\n",
        "    branch_3 = conv2d_bn(input_tensor, 32, (1,1))\n",
        "    branch_3 = conv2d_bn(branch_3, 48, (3,3))\n",
        "    branch_3 = conv2d_bn(branch_3, 64, (3,3))\n",
        "\n",
        "    branches = Concatenate()([branch_1,branch_2,branch_3])\n",
        "    Inception = conv2d_bn(branches, 384,(1,1), activation = 'None')\n",
        "\n",
        "  scaled_activation = Scaling_Residual(Inception, scale = scale)\n",
        "  residual_connection  = Add()([input_tensor, scaled_activation])\n",
        "\n",
        "  return residual_connection\n",
        "\n",
        "def Inception_ResNet_B(input_tensor, scale = 0.1, version='v2', name = None):\n",
        "  if version == 'v1':\n",
        "    raise ValueError\n",
        "  \n",
        "  else:\n",
        "    branch_1 = conv2d_bn(input_tensor, 192, (1,1))\n",
        "\n",
        "    branch_2 = conv2d_bn(input_tensor, 128, (1,1))\n",
        "    branch_2 = conv2d_bn(branch_2, 160, (1,7))\n",
        "    branch_2 = conv2d_bn(branch_2, 192, (7,1))\n",
        "\n",
        "    branches = Concatenate()([branch_1,branch_2])\n",
        "    Inception = conv2d_bn(branches, 1152,(1,1), activation = 'None')\n",
        "\n",
        "  scaled_activation = Scaling_Residual(Inception, scale = scale)\n",
        "  residual_connection  = Add()([input_tensor, scaled_activation])\n",
        "\n",
        "  return residual_connection\n",
        "  \n",
        "def Inception_ResNet_C(input_tensor, scale = 0.1, version='v2', name = None):\n",
        "  if version == 'v1':\n",
        "    raise ValueError\n",
        "  \n",
        "  else:\n",
        "    branch_1 = conv2d_bn(input_tensor, 192, (1,1))\n",
        "\n",
        "    branch_2 = conv2d_bn(input_tensor, 192, (1,1))\n",
        "    branch_2 = conv2d_bn(branch_2, 224, (1,3))\n",
        "    branch_2 = conv2d_bn(branch_2, 256, (3,1))\n",
        "\n",
        "    branches = Concatenate()([branch_1,branch_2])\n",
        "    Inception = conv2d_bn(branches, 2144,(1,1), activation = 'None')\n",
        "\n",
        "  scaled_activation = Scaling_Residual(Inception, scale = scale)\n",
        "  residual_connection  = Add()([input_tensor, scaled_activation])\n",
        "\n",
        "  return residual_connection\n",
        "\n",
        "\n",
        "def Inception_ResNet(model_input, version = 'v2', classes = 30):\n",
        "  x = stem(model_input, version = version)\n",
        "  \n",
        "  for i in range(5):\n",
        "    x = Inception_ResNet_A(x, scale = 0.17, version =version)\n",
        " \n",
        "  x = Reduction_A(x)\n",
        "  \n",
        "  for i in range(10):\n",
        "    x = Inception_ResNet_B(x, scale = 0.1, version =version)  \n",
        "\n",
        "\n",
        "  x = Reduction_B(x) \n",
        "\n",
        "  for i in range(5):\n",
        "    x = Inception_ResNet_C(x, scale = 0.2, version =version)\n",
        "\n",
        "  x = GlobalAveragePooling2D()(x)\n",
        "\n",
        "  x = Dropout(0.8)(x)\n",
        "  \n",
        "  model_output = Dense(classes, activation = 'softmax')(x)\n",
        "  model = Model(model_input,model_output)\n",
        "\n",
        "  return model"
      ],
      "execution_count": null,
      "outputs": []
    },
    {
      "cell_type": "code",
      "metadata": {
        "id": "9XeGb4oIqtqA",
        "colab_type": "code",
        "colab": {}
      },
      "source": [
        "# Xception\n",
        "\n",
        "def conv2d_bn(x, filters, kernel_size, padding='same', strides=1, activation='relu', weight_decay=1e-5):\n",
        "    x = Conv2D(filters, kernel_size, padding=padding, strides=strides, kernel_regularizer=l2(weight_decay))(x)\n",
        "    x = BatchNormalization()(x)\n",
        "    \n",
        "    if activation:\n",
        "        x = Activation(activation)(x)\n",
        "    \n",
        "    return x\n",
        "\n",
        "def sepconv2d_bn(x, filters, kernel_size, padding='same', strides=1, activation='relu', weight_decay=1e-5, depth_multiplier=1):\n",
        "    x = SeparableConv2D(filters, kernel_size, padding=padding, strides=strides, depth_multiplier=depth_multiplier, depthwise_regularizer=l2(weight_decay), pointwise_regularizer=l2(weight_decay))(x)\n",
        "    x = BatchNormalization()(x)\n",
        "    \n",
        "    if activation:\n",
        "        x = Activation(activation)(x)\n",
        "    \n",
        "    return x\n",
        "\n",
        "def Xception(model_input, classes):\n",
        "    ## Entry flow\n",
        "    x = conv2d_bn(model_input, 32, (3, 3), strides=2) # (299, 299, 3) -> (150, 150, 32)\n",
        "    x = conv2d_bn(x, 64, (3, 3))\n",
        "\n",
        "    for fliters in [128, 256, 728]: # (75, 75, 64) -> (75, 75, 128) -> (38, 38, 256) -> (19, 19, 728)\n",
        "        residual = conv2d_bn(x, fliters, (1, 1), strides=2, activation=None)\n",
        "        \n",
        "        x = Activation(activation='relu')(x)\n",
        "        x = sepconv2d_bn(x, fliters, (3, 3))\n",
        "        x = sepconv2d_bn(x, fliters, (3, 3), activation=None)\n",
        "        x = MaxPooling2D((3, 3), padding='same', strides=2)(x)\n",
        "        \n",
        "        x = Add()([x, residual])\n",
        "        \n",
        "        \n",
        "    ## Middle flow\n",
        "    for i in range(8): # (19, 19, 728)\n",
        "        residual = x\n",
        "        \n",
        "        x = Activation(activation='relu')(x)\n",
        "        x = sepconv2d_bn(x, 728, (3, 3))\n",
        "        x = sepconv2d_bn(x, 728, (3, 3))\n",
        "        x = sepconv2d_bn(x, 728, (3, 3), activation=None)\n",
        "        \n",
        "        x = Add()([x, residual])\n",
        "        \n",
        "        \n",
        "    ## Exit flow\n",
        "    residual = conv2d_bn(x, 1024, (1, 1), strides=2, activation=None) # (19, 19, 728) -> (10, 10, 1024)\n",
        "        \n",
        "    x = Activation(activation='relu')(x)\n",
        "    x = sepconv2d_bn(x, 728, (3, 3))\n",
        "    x = sepconv2d_bn(x, 1024, (3, 3), activation=None) # (19, 19, 728) -> (19, 19, 1024)\n",
        "    x = MaxPooling2D((3, 3), padding='same', strides=2)(x) # (19, 19, 1024) -> (10, 10, 1024)\n",
        "    \n",
        "    x = Add()([x, residual])\n",
        "    \n",
        "    x = sepconv2d_bn(x, 1536, (3, 3))\n",
        "    x = sepconv2d_bn(x, 2048, (3, 3))\n",
        "\n",
        "    x = GlobalAveragePooling2D()(x)\n",
        "    \n",
        "    ## Optinal fully-connected layers\n",
        "       \n",
        "    '''\n",
        "    x = Dense(4096)(x)\n",
        "    x = BatchNormalization()(x)\n",
        "    x = Activation(activation='relu')(x)\n",
        " \n",
        "    x = Dense(4096)(x)\n",
        "    x = BatchNormalization()(x)\n",
        "    x = Activation(activation='relu')(x)\n",
        "    '''\n",
        "    \n",
        "    x = Dropout(0.5)(x)\n",
        "    \n",
        "    model_output = Dense(classes, activation='softmax')(x)\n",
        "\n",
        "    model = Model(model_input, model_output, name='Xception')\n",
        "    \n",
        "    return model"
      ],
      "execution_count": 8,
      "outputs": []
    },
    {
      "cell_type": "code",
      "metadata": {
        "id": "xbszfdYQtJse",
        "colab_type": "code",
        "colab": {}
      },
      "source": [
        "##Learning Methology\n",
        "class LearningRateSchedule(Callback):\n",
        "  #2에폭마다 lr 0.94배로 줄인다...\n",
        "  def on_epoch_end(self, epoch, logs = None):\n",
        "    if (epoch+1)%2 == 0:\n",
        "      lr = K.get_value(self.model.optimizer.lr)\n",
        "      K.set_value(self.model.optimizer.lr,lr*0.94)"
      ],
      "execution_count": 5,
      "outputs": []
    },
    {
      "cell_type": "code",
      "metadata": {
        "id": "blz3cHWa-Q_h",
        "colab_type": "code",
        "colab": {
          "base_uri": "https://localhost:8080/",
          "height": 773
        },
        "outputId": "9ab49055-8477-4d12-f792-a4af7f3076fb"
      },
      "source": [
        "# Detect hardware\n",
        "try:\n",
        "  tpu_resolver = tf.distribute.cluster_resolver.TPUClusterResolver() # TPU detection\n",
        "except ValueError:\n",
        "  tpu_resolver = None\n",
        "  gpus = tf.config.experimental.list_logical_devices(\"GPU\")\n",
        "\n",
        "# Select appropriate distribution strategy\n",
        "if tpu_resolver:\n",
        "  tf.config.experimental_connect_to_cluster(tpu_resolver)\n",
        "  tf.tpu.experimental.initialize_tpu_system(tpu_resolver)\n",
        "  strategy = tf.distribute.experimental.TPUStrategy(tpu_resolver)\n",
        "  print('Running on TPU ', tpu_resolver.cluster_spec().as_dict()['worker'])\n",
        "elif len(gpus) > 1:\n",
        "  strategy = tf.distribute.MirroredStrategy([gpu.name for gpu in gpus])\n",
        "  print('Running on multiple GPUs ', [gpu.name for gpu in gpus])\n",
        "elif len(gpus) == 1:\n",
        "  strategy = tf.distribute.get_strategy() # default strategy that works on CPU and single GPU\n",
        "  print('Running on single GPU ', gpus[0].name)\n",
        "else:\n",
        "  strategy = tf.distribute.get_strategy() # default strategy that works on CPU and single GPU\n",
        "  print('Running on CPU')\n",
        "  \n",
        "print(\"Number of accelerators: \", strategy.num_replicas_in_sync)"
      ],
      "execution_count": 6,
      "outputs": [
        {
          "output_type": "stream",
          "text": [
            "INFO:tensorflow:Initializing the TPU system: grpc://10.54.96.234:8470\n"
          ],
          "name": "stdout"
        },
        {
          "output_type": "stream",
          "text": [
            "INFO:tensorflow:Initializing the TPU system: grpc://10.54.96.234:8470\n"
          ],
          "name": "stderr"
        },
        {
          "output_type": "stream",
          "text": [
            "INFO:tensorflow:Clearing out eager caches\n"
          ],
          "name": "stdout"
        },
        {
          "output_type": "stream",
          "text": [
            "INFO:tensorflow:Clearing out eager caches\n"
          ],
          "name": "stderr"
        },
        {
          "output_type": "stream",
          "text": [
            "INFO:tensorflow:Finished initializing TPU system.\n"
          ],
          "name": "stdout"
        },
        {
          "output_type": "stream",
          "text": [
            "INFO:tensorflow:Finished initializing TPU system.\n"
          ],
          "name": "stderr"
        },
        {
          "output_type": "stream",
          "text": [
            "INFO:tensorflow:Found TPU system:\n"
          ],
          "name": "stdout"
        },
        {
          "output_type": "stream",
          "text": [
            "INFO:tensorflow:Found TPU system:\n"
          ],
          "name": "stderr"
        },
        {
          "output_type": "stream",
          "text": [
            "INFO:tensorflow:*** Num TPU Cores: 8\n"
          ],
          "name": "stdout"
        },
        {
          "output_type": "stream",
          "text": [
            "INFO:tensorflow:*** Num TPU Cores: 8\n"
          ],
          "name": "stderr"
        },
        {
          "output_type": "stream",
          "text": [
            "INFO:tensorflow:*** Num TPU Workers: 1\n"
          ],
          "name": "stdout"
        },
        {
          "output_type": "stream",
          "text": [
            "INFO:tensorflow:*** Num TPU Workers: 1\n"
          ],
          "name": "stderr"
        },
        {
          "output_type": "stream",
          "text": [
            "INFO:tensorflow:*** Num TPU Cores Per Worker: 8\n"
          ],
          "name": "stdout"
        },
        {
          "output_type": "stream",
          "text": [
            "INFO:tensorflow:*** Num TPU Cores Per Worker: 8\n"
          ],
          "name": "stderr"
        },
        {
          "output_type": "stream",
          "text": [
            "INFO:tensorflow:*** Available Device: _DeviceAttributes(/job:localhost/replica:0/task:0/device:CPU:0, CPU, 0, 0)\n"
          ],
          "name": "stdout"
        },
        {
          "output_type": "stream",
          "text": [
            "INFO:tensorflow:*** Available Device: _DeviceAttributes(/job:localhost/replica:0/task:0/device:CPU:0, CPU, 0, 0)\n"
          ],
          "name": "stderr"
        },
        {
          "output_type": "stream",
          "text": [
            "INFO:tensorflow:*** Available Device: _DeviceAttributes(/job:localhost/replica:0/task:0/device:XLA_CPU:0, XLA_CPU, 0, 0)\n"
          ],
          "name": "stdout"
        },
        {
          "output_type": "stream",
          "text": [
            "INFO:tensorflow:*** Available Device: _DeviceAttributes(/job:localhost/replica:0/task:0/device:XLA_CPU:0, XLA_CPU, 0, 0)\n"
          ],
          "name": "stderr"
        },
        {
          "output_type": "stream",
          "text": [
            "INFO:tensorflow:*** Available Device: _DeviceAttributes(/job:worker/replica:0/task:0/device:CPU:0, CPU, 0, 0)\n"
          ],
          "name": "stdout"
        },
        {
          "output_type": "stream",
          "text": [
            "INFO:tensorflow:*** Available Device: _DeviceAttributes(/job:worker/replica:0/task:0/device:CPU:0, CPU, 0, 0)\n"
          ],
          "name": "stderr"
        },
        {
          "output_type": "stream",
          "text": [
            "INFO:tensorflow:*** Available Device: _DeviceAttributes(/job:worker/replica:0/task:0/device:TPU:0, TPU, 0, 0)\n"
          ],
          "name": "stdout"
        },
        {
          "output_type": "stream",
          "text": [
            "INFO:tensorflow:*** Available Device: _DeviceAttributes(/job:worker/replica:0/task:0/device:TPU:0, TPU, 0, 0)\n"
          ],
          "name": "stderr"
        },
        {
          "output_type": "stream",
          "text": [
            "INFO:tensorflow:*** Available Device: _DeviceAttributes(/job:worker/replica:0/task:0/device:TPU:1, TPU, 0, 0)\n"
          ],
          "name": "stdout"
        },
        {
          "output_type": "stream",
          "text": [
            "INFO:tensorflow:*** Available Device: _DeviceAttributes(/job:worker/replica:0/task:0/device:TPU:1, TPU, 0, 0)\n"
          ],
          "name": "stderr"
        },
        {
          "output_type": "stream",
          "text": [
            "INFO:tensorflow:*** Available Device: _DeviceAttributes(/job:worker/replica:0/task:0/device:TPU:2, TPU, 0, 0)\n"
          ],
          "name": "stdout"
        },
        {
          "output_type": "stream",
          "text": [
            "INFO:tensorflow:*** Available Device: _DeviceAttributes(/job:worker/replica:0/task:0/device:TPU:2, TPU, 0, 0)\n"
          ],
          "name": "stderr"
        },
        {
          "output_type": "stream",
          "text": [
            "INFO:tensorflow:*** Available Device: _DeviceAttributes(/job:worker/replica:0/task:0/device:TPU:3, TPU, 0, 0)\n"
          ],
          "name": "stdout"
        },
        {
          "output_type": "stream",
          "text": [
            "INFO:tensorflow:*** Available Device: _DeviceAttributes(/job:worker/replica:0/task:0/device:TPU:3, TPU, 0, 0)\n"
          ],
          "name": "stderr"
        },
        {
          "output_type": "stream",
          "text": [
            "INFO:tensorflow:*** Available Device: _DeviceAttributes(/job:worker/replica:0/task:0/device:TPU:4, TPU, 0, 0)\n"
          ],
          "name": "stdout"
        },
        {
          "output_type": "stream",
          "text": [
            "INFO:tensorflow:*** Available Device: _DeviceAttributes(/job:worker/replica:0/task:0/device:TPU:4, TPU, 0, 0)\n"
          ],
          "name": "stderr"
        },
        {
          "output_type": "stream",
          "text": [
            "INFO:tensorflow:*** Available Device: _DeviceAttributes(/job:worker/replica:0/task:0/device:TPU:5, TPU, 0, 0)\n"
          ],
          "name": "stdout"
        },
        {
          "output_type": "stream",
          "text": [
            "INFO:tensorflow:*** Available Device: _DeviceAttributes(/job:worker/replica:0/task:0/device:TPU:5, TPU, 0, 0)\n"
          ],
          "name": "stderr"
        },
        {
          "output_type": "stream",
          "text": [
            "INFO:tensorflow:*** Available Device: _DeviceAttributes(/job:worker/replica:0/task:0/device:TPU:6, TPU, 0, 0)\n"
          ],
          "name": "stdout"
        },
        {
          "output_type": "stream",
          "text": [
            "INFO:tensorflow:*** Available Device: _DeviceAttributes(/job:worker/replica:0/task:0/device:TPU:6, TPU, 0, 0)\n"
          ],
          "name": "stderr"
        },
        {
          "output_type": "stream",
          "text": [
            "INFO:tensorflow:*** Available Device: _DeviceAttributes(/job:worker/replica:0/task:0/device:TPU:7, TPU, 0, 0)\n"
          ],
          "name": "stdout"
        },
        {
          "output_type": "stream",
          "text": [
            "INFO:tensorflow:*** Available Device: _DeviceAttributes(/job:worker/replica:0/task:0/device:TPU:7, TPU, 0, 0)\n"
          ],
          "name": "stderr"
        },
        {
          "output_type": "stream",
          "text": [
            "INFO:tensorflow:*** Available Device: _DeviceAttributes(/job:worker/replica:0/task:0/device:TPU_SYSTEM:0, TPU_SYSTEM, 0, 0)\n"
          ],
          "name": "stdout"
        },
        {
          "output_type": "stream",
          "text": [
            "INFO:tensorflow:*** Available Device: _DeviceAttributes(/job:worker/replica:0/task:0/device:TPU_SYSTEM:0, TPU_SYSTEM, 0, 0)\n"
          ],
          "name": "stderr"
        },
        {
          "output_type": "stream",
          "text": [
            "INFO:tensorflow:*** Available Device: _DeviceAttributes(/job:worker/replica:0/task:0/device:XLA_CPU:0, XLA_CPU, 0, 0)\n"
          ],
          "name": "stdout"
        },
        {
          "output_type": "stream",
          "text": [
            "INFO:tensorflow:*** Available Device: _DeviceAttributes(/job:worker/replica:0/task:0/device:XLA_CPU:0, XLA_CPU, 0, 0)\n"
          ],
          "name": "stderr"
        },
        {
          "output_type": "stream",
          "text": [
            "Running on TPU  ['10.54.96.234:8470']\n",
            "Number of accelerators:  8\n"
          ],
          "name": "stdout"
        }
      ]
    },
    {
      "cell_type": "code",
      "metadata": {
        "id": "6qbqZ_KU4g1C",
        "colab_type": "code",
        "colab": {
          "base_uri": "https://localhost:8080/",
          "height": 125
        },
        "outputId": "b380be26-62fd-4862-ae61-10968e6db944"
      },
      "source": [
        "model_path = 'drive/My Drive/data/model_inception_mel_spec/'\n",
        "if not os.path.exists(model_path):\n",
        "  os.mkdir(model_path)\n",
        "\n",
        "# validattion 기준 모델 갱신\n",
        "model_file = model_path + 'epoch_{epoch:03d}_val_{val_loss:3f}.hdf5'\n",
        "checkpoint = ModelCheckpoint(filepath = model_file, monitor = 'val_loss', verbose = 1, save_best_only =True)\n",
        "\n",
        "#lr 조정\n",
        "lrschedule = LearningRateSchedule()\n",
        "\n",
        "#10회간 validatation 좋아지지 않으면 early stop\n",
        "early_stop = EarlyStopping(monitor = 'val_loss', patience = 10)\n",
        "\n",
        "with strategy.scope():\n",
        "  model = inception_model(input_shape)\n",
        "  model.compile(loss=tf.keras.losses.KLDivergence(), optimizer = 'adam')\n",
        "  #model.summary()\n",
        "  #model.load_weights(glob('drive/My Drive/data/model_inception_mel_spec/*.hdf5')[-1])\n",
        "  history = model.fit(train_dataset, epochs = 100, validation_data=val_dataset, callbacks = [checkpoint, early_stop,lrschedule])"
      ],
      "execution_count": null,
      "outputs": [
        {
          "output_type": "stream",
          "text": [
            "Epoch 1/100\n",
            "   1250/Unknown - 113s 90ms/step - loss: 10.4375\n",
            "Epoch 00001: val_loss improved from inf to 14.19542, saving model to drive/My Drive/data/model_inception_mel_spec/epoch_001_val_14.195418.hdf5\n",
            "1250/1250 [==============================] - 150s 120ms/step - loss: 10.4375 - val_loss: 14.1954\n",
            "Epoch 2/100\n",
            "1250/1250 [==============================] - ETA: 0s - loss: 14.2006"
          ],
          "name": "stdout"
        }
      ]
    },
    {
      "cell_type": "code",
      "metadata": {
        "id": "MzWtvwEivMMJ",
        "colab_type": "code",
        "colab": {}
      },
      "source": [
        "#model compile\n",
        "input_shape = (299,299,1)\n",
        "model_input = Input(shape = input_shape)\n",
        "optimizer = RMSprop(lr = 0.045, epsilon = 1.0, decay = 0.9)\n",
        "#optimizer = Adam(0.045)\n",
        "model_path = 'drive/My Drive/data/model_inceptionRes_mel_spec/'\n",
        "if not os.path.exists(model_path):\n",
        "  os.mkdir(model_path)\n",
        "\n",
        "# validattion 기준 모델 갱신\n",
        "model_file = model_path + 'epoch_{epoch:03d}_val_{val_loss:3f}.hdf5'\n",
        "checkpoint = ModelCheckpoint(filepath = model_file, monitor = 'val_loss', verbose = 1, save_best_only =True)\n",
        "\n",
        "#10회간 validatation 좋아지지 않으면 early stop\n",
        "early_stop = EarlyStopping(monitor = 'val_loss', patience = 10)\n",
        "\n",
        "#lr 조정\n",
        "lrschedule = LearningRateSchedule()\n",
        "\n",
        "with strategy.scope():\n",
        "  model = Inception_ResNet(model_input)\n",
        "  model.compile(optimizer, loss =tf.keras.losses.KLDivergence())\n",
        "  #model.summary()\n",
        "  #model.load_weights(glob('drive/My Drive/data/model_inceptionRes_mel_spec/*.hdf5')[-1])\n",
        "  history = model.fit(train_dataset, epochs = 100, validation_data=val_dataset,callbacks = [checkpoint, early_stop])#,lrschedule"
      ],
      "execution_count": null,
      "outputs": []
    },
    {
      "cell_type": "code",
      "metadata": {
        "id": "BxHEn-HXq2iU",
        "colab_type": "code",
        "colab": {}
      },
      "source": [
        "#model compile\n",
        "input_shape = (299,299,1)\n",
        "model_input = Input(shape = input_shape)\n",
        "optimizer = SGD(lr=0.01, momentum=0.9)\n",
        "\n",
        "model_path = 'drive/My Drive/data/model_Xception_mel_spec/'\n",
        "if not os.path.exists(model_path):\n",
        "  os.mkdir(model_path)\n",
        "\n",
        "# validattion 기준 모델 갱신\n",
        "model_file = model_path + 'epoch_{epoch:03d}_val_{val_loss:3f}.hdf5'\n",
        "checkpoint = ModelCheckpoint(filepath = model_file, monitor = 'val_loss', verbose = 1, save_best_only =True)\n",
        "\n",
        "#10회간 validatation 좋아지지 않으면 early stop\n",
        "early_stop = EarlyStopping(monitor = 'val_loss', patience = 10)\n",
        "\n",
        "#lr 조정\n",
        "lrschedule = LearningRateSchedule()\n",
        "\n",
        "with strategy.scope():\n",
        "  model_input = Input(shape=input_shape)\n",
        "  model = Xception(model_input, 30)\n",
        "  model.compile(optimizer, loss =tf.keras.losses.KLDivergence())\n",
        "  #model.summary()\n",
        "  #model.load_weights(glob('drive/My Drive/data/model_Xception_mel_spec/*.hdf5')[-1])\n",
        "  history = model.fit(train_dataset, epochs = 100, validation_data=val_dataset,callbacks = [checkpoint, early_stop,lrschedule])"
      ],
      "execution_count": null,
      "outputs": []
    },
    {
      "cell_type": "code",
      "metadata": {
        "id": "eXerQ02VX-Bi",
        "colab_type": "code",
        "colab": {
          "base_uri": "https://localhost:8080/",
          "height": 279
        },
        "outputId": "fc95957f-9de5-4044-da91-e9825723cf5a"
      },
      "source": [
        "plt.plot(history.epoch, history.history['loss'], '-o', label='training_loss')\n",
        "plt.plot(history.epoch, history.history['val_loss'], '-o', label='validation_loss')\n",
        "plt.legend()\n",
        "plt.xlim(left=0)\n",
        "plt.xlabel('epochs')\n",
        "plt.ylabel('loss')\n",
        "plt.show()"
      ],
      "execution_count": null,
      "outputs": [
        {
          "output_type": "display_data",
          "data": {
            "image/png": "[encoded data removed]",
            "text/plain": [
              "<Figure size 432x288 with 1 Axes>"
            ]
          },
          "metadata": {
            "tags": [],
            "needs_background": "light"
          }
        }
      ]
    },
    {
      "cell_type": "code",
      "metadata": {
        "id": "JTS53lBFsYPI",
        "colab_type": "code",
        "colab": {
          "base_uri": "https://localhost:8080/",
          "height": 35
        },
        "outputId": "c1fc7a16-93a1-4636-8260-fb976a2df5d8"
      },
      "source": [
        "x_test = pd.read_pickle('drive/My Drive/data/x_test_mel-spectogram.pickle')\n",
        "source_test = x_test.values\n",
        "\n",
        "x_nor_test = list((map(normalize,source_test)))\n",
        "x_nor_test = np.array(x_nor_test)\n",
        "x_nor_test = x_nor_test.reshape(10000,126,-1,1)\n",
        "\n",
        "x_test = Upscaling(x_nor_test, (299,299,1))"
      ],
      "execution_count": 3,
      "outputs": [
        {
          "output_type": "stream",
          "text": [
            "100%|██████████| 10000/10000 [00:02<00:00, 4058.77it/s]\n"
          ],
          "name": "stderr"
        }
      ]
    },
    {
      "cell_type": "code",
      "metadata": {
        "id": "YiA9RxY0X-kD",
        "colab_type": "code",
        "colab": {
          "base_uri": "https://localhost:8080/",
          "height": 35
        },
        "outputId": "b55cbdad-296f-4633-caec-21f19bcd617e"
      },
      "source": [
        "# 가장 좋은 모델의 weight를 불러옵니다.\n",
        "input_shape = (299,299,1)\n",
        "model = inception_model(input_shape)\n",
        "#weight_file = glob('drive/My Drive/data/model_inception_mel_spec/*.hdf5')[-1]\n",
        "weight_file = 'drive/My Drive/data/model_inception_mel_spec/epoch_011_val_0.786981.hdf5'\n",
        "print(weight_file)\n",
        "model.load_weights(weight_file)\n",
        "\n",
        "# 예측 수행\n",
        "y_pred = model.predict(x_test)\n",
        "\n",
        "# 예측 결과로 제출 파일을 생성합니다.\n",
        "submission = pd.read_csv('drive/My Drive/data/submission.csv', index_col=0)\n",
        "submission.loc[:, :] = y_pred\n",
        "submission.to_csv('drive/My Drive/data/submission.csv')"
      ],
      "execution_count": 7,
      "outputs": [
        {
          "output_type": "stream",
          "text": [
            "drive/My Drive/data/model_inception_mel_spec/epoch_011_val_0.786981.hdf5\n"
          ],
          "name": "stdout"
        }
      ]
    },
    {
      "cell_type": "markdown",
      "metadata": {
        "id": "VzvE3wBgCvD8",
        "colab_type": "text"
      },
      "source": [
        "# 7/25\n",
        "--------------------------------------\n",
        "\n",
        "**모델** : epoch_003_val_**0.948952**.hdf5(2D model_inception_melspec)\n",
        "  \n",
        "**데이터**: x_trian_mel-spectogram\n",
        "  \n",
        "**score** : **1.01173**\n",
        "\n",
        "--------------------------------------\n",
        "\n",
        "# 7/26\n",
        "--------------------------------------\n",
        "\n",
        "**모델** : epoch_019_val_**0.887527**.hdf5(2D model_inception_melspec)\n",
        "  \n",
        "**데이터**: x_trian_mel-spectogram\n",
        "  \n",
        "**score** : **1.00909**\n",
        "\n",
        "--------------------------------------\n",
        "\n",
        "# 7/27\n",
        "--------------------------------------\n",
        "\n",
        "**모델** : epoch_037_val_**0.698013**.hdf5(2D model_inception_melspec)\n",
        "  \n",
        "**데이터**: x_trian_mel-spectogram\n",
        "  \n",
        "**score** : **1.0530194749**\n",
        "\n",
        "--------------------------------------\n",
        "\n",
        "\n",
        "# 7/28\n",
        "--------------------------------------\n",
        "\n",
        "**모델** : epoch_011_val_**0.786981**.hdf5(2D model_inception_melspec)\n",
        "  \n",
        "**데이터**: x_trian_mel-spectogram\n",
        "  \n",
        "**score** : **0.90709**\n",
        "\n",
        "**메모** : data augmentation, random split으로 스코어 크게 개선됨\n",
        "\n",
        "**피드백** : 강한 regulization으로 overfit 방지 필요\n",
        "\n",
        "--------------------------------------"
      ]
    }
  ]
}
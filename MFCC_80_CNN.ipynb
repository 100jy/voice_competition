{
  "nbformat": 4,
  "nbformat_minor": 0,
  "metadata": {
    "colab": {
      "name": "MFCC_80_CNN",
      "provenance": [],
      "collapsed_sections": [],
      "machine_shape": "hm",
      "authorship_tag": "ABX9TyOHTl4sRTEHdfaYCcZxfgEI",
      "include_colab_link": true
    },
    "kernelspec": {
      "name": "python3",
      "display_name": "Python 3"
    },
    "accelerator": "GPU"
  },
  "cells": [
    {
      "cell_type": "markdown",
      "metadata": {
        "id": "view-in-github",
        "colab_type": "text"
      },
      "source": [
        "<a href=\"https://colab.research.google.com/github/100jy/voice_competition/blob/master/MFCC_80_CNN.ipynb\" target=\"_parent\"><img src=\"https://colab.research.google.com/assets/colab-badge.svg\" alt=\"Open In Colab\"/></a>"
      ]
    },
    {
      "cell_type": "code",
      "metadata": {
        "id": "0X_pWF5vUg6P",
        "colab_type": "code",
        "colab": {
          "base_uri": "https://localhost:8080/",
          "height": 35
        },
        "outputId": "1fa0b8e2-f2f6-4066-c866-e3e1d886a0ba"
      },
      "source": [
        "#구글 드라이브 연동\n",
        "from google.colab import drive\n",
        "drive.mount('/content/drive')"
      ],
      "execution_count": 1,
      "outputs": [
        {
          "output_type": "stream",
          "text": [
            "Drive already mounted at /content/drive; to attempt to forcibly remount, call drive.mount(\"/content/drive\", force_remount=True).\n"
          ],
          "name": "stdout"
        }
      ]
    },
    {
      "cell_type": "code",
      "metadata": {
        "id": "RPdGafVKU2nM",
        "colab_type": "code",
        "colab": {}
      },
      "source": [
        "import os\n",
        "import pandas as pd\n",
        "import numpy as np\n",
        "import matplotlib.pyplot as plt\n",
        "import scipy\n",
        "import tensorflow as tf\n",
        "import keras\n",
        "from tqdm import tqdm\n",
        "from glob import glob\n",
        "from scipy.io import wavfile\n",
        "from keras.models import Sequential\n",
        "from keras.layers import Dense, Conv1D, MaxPooling1D, Conv2D, MaxPooling2D, Flatten, BatchNormalization,Dropout, Activation, GlobalAveragePooling2D\n",
        "from keras.callbacks import ModelCheckpoint, EarlyStopping\n",
        "import librosa\n",
        "import librosa.display"
      ],
      "execution_count": 46,
      "outputs": []
    },
    {
      "cell_type": "code",
      "metadata": {
        "id": "8lZydI7opkrT",
        "colab_type": "code",
        "colab": {
          "base_uri": "https://localhost:8080/",
          "height": 35
        },
        "outputId": "0e74e4c8-750e-40d4-cca6-24f0b700d316"
      },
      "source": [
        "y_train = pd.read_csv('drive/My Drive/data/train_answer.csv',index_col=0)\n",
        "y_train = y_train.values\n",
        "\n",
        "x_train.shape, y_train.shape"
      ],
      "execution_count": 39,
      "outputs": [
        {
          "output_type": "execute_result",
          "data": {
            "text/plain": [
              "((100000, 80, 44, 2), (100000, 30))"
            ]
          },
          "metadata": {
            "tags": []
          },
          "execution_count": 39
        }
      ]
    },
    {
      "cell_type": "markdown",
      "metadata": {
        "id": "DXvgFkbeUwdh",
        "colab_type": "text"
      },
      "source": [
        "# 데이터 확인 및 채널 추가\n"
      ]
    },
    {
      "cell_type": "code",
      "metadata": {
        "id": "wrTkVUPvUvrE",
        "colab_type": "code",
        "colab": {}
      },
      "source": [
        "#MFCC\n",
        "x_train = pd.read_pickle('drive/My Drive/data/x_trian_mfcc_80.pickle')\n",
        "source = x_train.values\n",
        "\n",
        "\n",
        "##normalize\n",
        "def normalize(x):\n",
        "  return (x - np.mean(x)) / np.std(x)\n",
        "\n",
        "## binary\n",
        "def make_binary(x):\n",
        "  np.ones_like(len(x))\n",
        "  mask = (x > 0)\n",
        "  return np.ones_like(len(x)) * mask\n",
        " \n",
        "binary = list((map(make_binary,source)))\n",
        "binary =  np.array(binary)\n",
        "\n",
        "x_nor = list((map(normalize,source)))\n",
        "x_nor = np.array(x_nor)"
      ],
      "execution_count": 21,
      "outputs": []
    },
    {
      "cell_type": "markdown",
      "metadata": {
        "id": "Q3vnUIbjV959",
        "colab_type": "text"
      },
      "source": [
        "## 결과 확인"
      ]
    },
    {
      "cell_type": "code",
      "metadata": {
        "id": "GpKyRn_wV7eC",
        "colab_type": "code",
        "colab": {
          "base_uri": "https://localhost:8080/",
          "height": 194
        },
        "outputId": "62f943f1-e483-4cf0-d45d-205c99bf6862"
      },
      "source": [
        "mfcc = [source[0].reshape(80,-1),binary[0].reshape(80,-1),x_nor[0].reshape(80,-1)]\n",
        "plt.figure(figsize=(15,10))\n",
        "\n",
        "for i in range(3):\n",
        "  st = '33'+str(i+1)\n",
        "  plt.subplot(st)\n",
        "  librosa.display.specshow(mfcc[i])"
      ],
      "execution_count": 9,
      "outputs": [
        {
          "output_type": "display_data",
          "data": {
            "image/png": "[encoded data removed]",
            "text/plain": [
              "<Figure size 1080x720 with 3 Axes>"
            ]
          },
          "metadata": {
            "tags": []
          }
        }
      ]
    },
    {
      "cell_type": "code",
      "metadata": {
        "id": "L6qVCgZRma2j",
        "colab_type": "code",
        "colab": {}
      },
      "source": [
        "x_nor = x_nor.reshape(100000,80,-1,1)\n",
        "binary = binary.reshape(100000,80,-1,1)"
      ],
      "execution_count": 22,
      "outputs": []
    },
    {
      "cell_type": "code",
      "metadata": {
        "id": "ioy7KXHjnVMZ",
        "colab_type": "code",
        "colab": {
          "base_uri": "https://localhost:8080/",
          "height": 35
        },
        "outputId": "aeeaf7ea-c043-47c8-aeb0-c4a2dcff02dd"
      },
      "source": [
        "x_nor.shape"
      ],
      "execution_count": 23,
      "outputs": [
        {
          "output_type": "execute_result",
          "data": {
            "text/plain": [
              "(100000, 80, 44, 1)"
            ]
          },
          "metadata": {
            "tags": []
          },
          "execution_count": 23
        }
      ]
    },
    {
      "cell_type": "code",
      "metadata": {
        "id": "ah5Qb5VHeRCz",
        "colab_type": "code",
        "colab": {
          "base_uri": "https://localhost:8080/",
          "height": 35
        },
        "outputId": "35db8f68-c022-4959-d2eb-0613026177e3"
      },
      "source": [
        "# 데이터 2ch로 수정...\n",
        "x_train = np.concatenate((x_nor.T, binary.T), axis=0)\n",
        "x_train.shape"
      ],
      "execution_count": 34,
      "outputs": [
        {
          "output_type": "execute_result",
          "data": {
            "text/plain": [
              "(2, 44, 80, 100000)"
            ]
          },
          "metadata": {
            "tags": []
          },
          "execution_count": 34
        }
      ]
    },
    {
      "cell_type": "code",
      "metadata": {
        "id": "9MuR9GREfwcA",
        "colab_type": "code",
        "colab": {
          "base_uri": "https://localhost:8080/",
          "height": 281
        },
        "outputId": "4f32a318-1519-457e-8762-666600ae1f08"
      },
      "source": [
        "plt.figure(figsize=(15,10))\n",
        "for i in range(2):\n",
        "  st = '22'+str(i+1)\n",
        "  plt.subplot(st)\n",
        "  librosa.display.specshow(x_train[i].T[0])"
      ],
      "execution_count": 27,
      "outputs": [
        {
          "output_type": "display_data",
          "data": {
            "image/png": "[encoded data removed]",
            "text/plain": [
              "<Figure size 1080x720 with 2 Axes>"
            ]
          },
          "metadata": {
            "tags": []
          }
        }
      ]
    },
    {
      "cell_type": "code",
      "metadata": {
        "id": "cnOguv34hpcR",
        "colab_type": "code",
        "colab": {}
      },
      "source": [
        "x_train = x_train.T"
      ],
      "execution_count": 35,
      "outputs": []
    },
    {
      "cell_type": "code",
      "metadata": {
        "id": "EuCxieeqiElW",
        "colab_type": "code",
        "colab": {
          "base_uri": "https://localhost:8080/",
          "height": 35
        },
        "outputId": "976d3dfc-80cd-4333-e5ec-bcd4ebb151e6"
      },
      "source": [
        "x_train.shape"
      ],
      "execution_count": 36,
      "outputs": [
        {
          "output_type": "execute_result",
          "data": {
            "text/plain": [
              "(100000, 80, 44, 2)"
            ]
          },
          "metadata": {
            "tags": []
          },
          "execution_count": 36
        }
      ]
    },
    {
      "cell_type": "markdown",
      "metadata": {
        "id": "O1O4yimphLKw",
        "colab_type": "text"
      },
      "source": [
        "# model architecture"
      ]
    },
    {
      "cell_type": "code",
      "metadata": {
        "id": "azumjzMAgytX",
        "colab_type": "code",
        "colab": {
          "base_uri": "https://localhost:8080/",
          "height": 521
        },
        "outputId": "c64b1629-7f6d-4154-a8b2-a478a5cb6ae2"
      },
      "source": [
        "### padding valid, dropout 0.3, shorter fully-conneted\n",
        "##GlobalAveragePooling\n",
        "#CNN\n",
        "model = Sequential()\n",
        "model.add(Conv2D(64, kernel_size = (3,3), strides = (1,1),activation='relu', input_shape = (x_train.shape[1], x_train.shape[2],2)))\n",
        "model.add(MaxPooling2D((2,2)))\n",
        "\n",
        "model.add(Conv2D(128, kernel_size = (3,3), strides = (1,1),activation='relu'))\n",
        "model.add(MaxPooling2D((2,2)))\n",
        "\n",
        "model.add(Conv2D(128, kernel_size = (3,3), strides = (1,1),activation='relu'))\n",
        "model.add(MaxPooling2D((2,2)))\n",
        "'''\n",
        "model.add(Conv2D(128, kernel_size = (3,3), strides = (1,1),activation='relu'))\n",
        "model.add(MaxPooling2D((2,2)))\n",
        "'''\n",
        "model.add(GlobalAveragePooling2D())\n",
        "\n",
        "#fully connected layer\n",
        "model.add(Dense(128, activation='relu'))\n",
        "model.add(Dropout(0.3))\n",
        "model.add(Dense(30, activation='softmax'))\n",
        "model.compile(loss=keras.losses.KLDivergence(), optimizer = 'adam')\n",
        "model.summary()"
      ],
      "execution_count": 48,
      "outputs": [
        {
          "output_type": "stream",
          "text": [
            "Model: \"sequential_9\"\n",
            "_________________________________________________________________\n",
            "Layer (type)                 Output Shape              Param #   \n",
            "=================================================================\n",
            "conv2d_26 (Conv2D)           (None, 78, 42, 64)        1216      \n",
            "_________________________________________________________________\n",
            "max_pooling2d_26 (MaxPooling (None, 39, 21, 64)        0         \n",
            "_________________________________________________________________\n",
            "conv2d_27 (Conv2D)           (None, 37, 19, 128)       73856     \n",
            "_________________________________________________________________\n",
            "max_pooling2d_27 (MaxPooling (None, 18, 9, 128)        0         \n",
            "_________________________________________________________________\n",
            "conv2d_28 (Conv2D)           (None, 16, 7, 128)        147584    \n",
            "_________________________________________________________________\n",
            "max_pooling2d_28 (MaxPooling (None, 8, 3, 128)         0         \n",
            "_________________________________________________________________\n",
            "global_average_pooling2d_2 ( (None, 128)               0         \n",
            "_________________________________________________________________\n",
            "dense_11 (Dense)             (None, 128)               16512     \n",
            "_________________________________________________________________\n",
            "dropout_6 (Dropout)          (None, 128)               0         \n",
            "_________________________________________________________________\n",
            "dense_12 (Dense)             (None, 30)                3870      \n",
            "=================================================================\n",
            "Total params: 243,038\n",
            "Trainable params: 243,038\n",
            "Non-trainable params: 0\n",
            "_________________________________________________________________\n"
          ],
          "name": "stdout"
        }
      ]
    },
    {
      "cell_type": "code",
      "metadata": {
        "id": "249QHtNbuh7u",
        "colab_type": "code",
        "colab": {}
      },
      "source": [
        "### padding valid, dropout 0.3, shorter fully-conneted\n",
        "##GlobalAveragePooling\n",
        "#CNN\n",
        "model = Sequential()\n",
        "model.add(Conv2D(64, kernel_size = (3,3), strides = (1,1),activation='relu', input_shape = (x_train.shape[1], x_train.shape[2],2)))\n",
        "model.add(MaxPooling2D((2,2)))\n",
        "\n",
        "model.add(Conv2D(128, kernel_size = (3,3), strides = (1,1),activation='relu'))\n",
        "model.add(MaxPooling2D((2,2)))\n",
        "\n",
        "model.add(Conv2D(128, kernel_size = (3,3), strides = (1,1),activation='relu'))\n",
        "model.add(MaxPooling2D((2,2)))\n",
        "'''\n",
        "model.add(Conv2D(128, kernel_size = (3,3), strides = (1,1),activation='relu'))\n",
        "model.add(MaxPooling2D((2,2)))\n",
        "'''\n",
        "model.add(GlobalAveragePooling2D())\n",
        "\n",
        "#fully connected layer\n",
        "#1-layer add\n",
        "model.add(Dense(128, activation='relu'))\n",
        "model.add(Dropout(0.3))\n",
        "model.add(Dense(128, activation='relu'))\n",
        "model.add(Dropout(0.3))\n",
        "model.add(Dense(30, activation='softmax'))\n",
        "model.compile(loss=keras.losses.KLDivergence(), optimizer = 'adam')\n",
        "model.summary()"
      ],
      "execution_count": null,
      "outputs": []
    },
    {
      "cell_type": "code",
      "metadata": {
        "id": "MjVVhELwpVRx",
        "colab_type": "code",
        "colab": {
          "base_uri": "https://localhost:8080/",
          "height": 1000
        },
        "outputId": "2acb7139-adbc-4baf-ded3-a5836be5646b"
      },
      "source": [
        "model_path = 'drive/My Drive/data/model_2D_80/'\n",
        "if not os.path.exists(model_path):\n",
        "  os.mkdir(model_path)\n",
        "\n",
        "# validattion 기준 모델 갱신\n",
        "model_file = model_path + 'epoch_{epoch:03d}_val_{val_loss:3f}.hdf5'\n",
        "checkpoint = ModelCheckpoint(filepath = model_file, monitor = 'val_loss', verbose = 1, save_best_only =True)\n",
        "\n",
        "#10회간 validatation 좋아지지 않으면 early stop\n",
        "early_stop = EarlyStopping(monitor = 'val_loss', patience = 10)\n",
        "\n",
        "history = model.fit(x_train, y_train, epochs = 100, batch_size = 64, validation_split = 0.2, shuffle = True,\n",
        "                    callbacks = [checkpoint, early_stop])"
      ],
      "execution_count": null,
      "outputs": [
        {
          "output_type": "stream",
          "text": [
            "Train on 80000 samples, validate on 20000 samples\n",
            "Epoch 1/100\n",
            "80000/80000 [==============================] - 16s 200us/step - loss: 1.9565 - val_loss: 1.8318\n",
            "\n",
            "Epoch 00001: val_loss improved from inf to 1.83175, saving model to drive/My Drive/data/model_2D_80/epoch_001_val_1.831752.hdf5\n",
            "Epoch 2/100\n",
            "80000/80000 [==============================] - 16s 197us/step - loss: 1.7846 - val_loss: 1.7044\n",
            "\n",
            "Epoch 00002: val_loss improved from 1.83175 to 1.70444, saving model to drive/My Drive/data/model_2D_80/epoch_002_val_1.704442.hdf5\n",
            "Epoch 3/100\n",
            "80000/80000 [==============================] - 16s 196us/step - loss: 1.6991 - val_loss: 1.6268\n",
            "\n",
            "Epoch 00003: val_loss improved from 1.70444 to 1.62679, saving model to drive/My Drive/data/model_2D_80/epoch_003_val_1.626789.hdf5\n",
            "Epoch 4/100\n",
            "80000/80000 [==============================] - 16s 197us/step - loss: 1.6359 - val_loss: 1.5701\n",
            "\n",
            "Epoch 00004: val_loss improved from 1.62679 to 1.57011, saving model to drive/My Drive/data/model_2D_80/epoch_004_val_1.570114.hdf5\n",
            "Epoch 5/100\n",
            "80000/80000 [==============================] - 16s 197us/step - loss: 1.5892 - val_loss: 1.5260\n",
            "\n",
            "Epoch 00005: val_loss improved from 1.57011 to 1.52603, saving model to drive/My Drive/data/model_2D_80/epoch_005_val_1.526028.hdf5\n",
            "Epoch 6/100\n",
            "80000/80000 [==============================] - 16s 197us/step - loss: 1.5530 - val_loss: 1.4968\n",
            "\n",
            "Epoch 00006: val_loss improved from 1.52603 to 1.49677, saving model to drive/My Drive/data/model_2D_80/epoch_006_val_1.496765.hdf5\n",
            "Epoch 7/100\n",
            "80000/80000 [==============================] - 16s 196us/step - loss: 1.5223 - val_loss: 1.4803\n",
            "\n",
            "Epoch 00007: val_loss improved from 1.49677 to 1.48031, saving model to drive/My Drive/data/model_2D_80/epoch_007_val_1.480308.hdf5\n",
            "Epoch 8/100\n",
            "80000/80000 [==============================] - 16s 197us/step - loss: 1.4977 - val_loss: 1.4477\n",
            "\n",
            "Epoch 00008: val_loss improved from 1.48031 to 1.44767, saving model to drive/My Drive/data/model_2D_80/epoch_008_val_1.447671.hdf5\n",
            "Epoch 9/100\n",
            "80000/80000 [==============================] - 16s 203us/step - loss: 1.4764 - val_loss: 1.4394\n",
            "\n",
            "Epoch 00009: val_loss improved from 1.44767 to 1.43937, saving model to drive/My Drive/data/model_2D_80/epoch_009_val_1.439372.hdf5\n",
            "Epoch 10/100\n",
            "80000/80000 [==============================] - 16s 197us/step - loss: 1.4557 - val_loss: 1.4233\n",
            "\n",
            "Epoch 00010: val_loss improved from 1.43937 to 1.42334, saving model to drive/My Drive/data/model_2D_80/epoch_010_val_1.423342.hdf5\n",
            "Epoch 11/100\n",
            "80000/80000 [==============================] - 16s 197us/step - loss: 1.4393 - val_loss: 1.4005\n",
            "\n",
            "Epoch 00011: val_loss improved from 1.42334 to 1.40046, saving model to drive/My Drive/data/model_2D_80/epoch_011_val_1.400461.hdf5\n",
            "Epoch 12/100\n",
            "80000/80000 [==============================] - 16s 197us/step - loss: 1.4252 - val_loss: 1.3887\n",
            "\n",
            "Epoch 00012: val_loss improved from 1.40046 to 1.38866, saving model to drive/My Drive/data/model_2D_80/epoch_012_val_1.388661.hdf5\n",
            "Epoch 13/100\n",
            "80000/80000 [==============================] - 16s 196us/step - loss: 1.4108 - val_loss: 1.3809\n",
            "\n",
            "Epoch 00013: val_loss improved from 1.38866 to 1.38095, saving model to drive/My Drive/data/model_2D_80/epoch_013_val_1.380946.hdf5\n",
            "Epoch 14/100\n",
            "80000/80000 [==============================] - 16s 196us/step - loss: 1.3988 - val_loss: 1.3745\n",
            "\n",
            "Epoch 00014: val_loss improved from 1.38095 to 1.37445, saving model to drive/My Drive/data/model_2D_80/epoch_014_val_1.374454.hdf5\n",
            "Epoch 15/100\n",
            "80000/80000 [==============================] - 16s 196us/step - loss: 1.3869 - val_loss: 1.3586\n",
            "\n",
            "Epoch 00015: val_loss improved from 1.37445 to 1.35858, saving model to drive/My Drive/data/model_2D_80/epoch_015_val_1.358584.hdf5\n",
            "Epoch 16/100\n",
            "80000/80000 [==============================] - 16s 198us/step - loss: 1.3779 - val_loss: 1.3525\n",
            "\n",
            "Epoch 00016: val_loss improved from 1.35858 to 1.35248, saving model to drive/My Drive/data/model_2D_80/epoch_016_val_1.352481.hdf5\n",
            "Epoch 17/100\n",
            "80000/80000 [==============================] - 16s 197us/step - loss: 1.3682 - val_loss: 1.3575\n",
            "\n",
            "Epoch 00017: val_loss did not improve from 1.35248\n",
            "Epoch 18/100\n",
            "80000/80000 [==============================] - 16s 197us/step - loss: 1.3606 - val_loss: 1.3438\n",
            "\n",
            "Epoch 00018: val_loss improved from 1.35248 to 1.34376, saving model to drive/My Drive/data/model_2D_80/epoch_018_val_1.343762.hdf5\n",
            "Epoch 19/100\n",
            "80000/80000 [==============================] - 16s 197us/step - loss: 1.3527 - val_loss: 1.3489\n",
            "\n",
            "Epoch 00019: val_loss did not improve from 1.34376\n",
            "Epoch 20/100\n",
            "80000/80000 [==============================] - 16s 197us/step - loss: 1.3464 - val_loss: 1.3375\n",
            "\n",
            "Epoch 00020: val_loss improved from 1.34376 to 1.33745, saving model to drive/My Drive/data/model_2D_80/epoch_020_val_1.337453.hdf5\n",
            "Epoch 21/100\n",
            "80000/80000 [==============================] - 16s 197us/step - loss: 1.3395 - val_loss: 1.3352\n",
            "\n",
            "Epoch 00021: val_loss improved from 1.33745 to 1.33522, saving model to drive/My Drive/data/model_2D_80/epoch_021_val_1.335219.hdf5\n",
            "Epoch 22/100\n",
            "80000/80000 [==============================] - 16s 196us/step - loss: 1.3341 - val_loss: 1.3339\n",
            "\n",
            "Epoch 00022: val_loss improved from 1.33522 to 1.33390, saving model to drive/My Drive/data/model_2D_80/epoch_022_val_1.333901.hdf5\n",
            "Epoch 23/100\n",
            "80000/80000 [==============================] - 16s 196us/step - loss: 1.3274 - val_loss: 1.3290\n",
            "\n",
            "Epoch 00023: val_loss improved from 1.33390 to 1.32902, saving model to drive/My Drive/data/model_2D_80/epoch_023_val_1.329020.hdf5\n",
            "Epoch 24/100\n",
            "80000/80000 [==============================] - 16s 197us/step - loss: 1.3240 - val_loss: 1.3287\n",
            "\n",
            "Epoch 00024: val_loss improved from 1.32902 to 1.32868, saving model to drive/My Drive/data/model_2D_80/epoch_024_val_1.328679.hdf5\n",
            "Epoch 25/100\n",
            "80000/80000 [==============================] - 16s 196us/step - loss: 1.3185 - val_loss: 1.3259\n",
            "\n",
            "Epoch 00025: val_loss improved from 1.32868 to 1.32588, saving model to drive/My Drive/data/model_2D_80/epoch_025_val_1.325876.hdf5\n",
            "Epoch 26/100\n",
            "80000/80000 [==============================] - 16s 197us/step - loss: 1.3123 - val_loss: 1.3212\n",
            "\n",
            "Epoch 00026: val_loss improved from 1.32588 to 1.32124, saving model to drive/My Drive/data/model_2D_80/epoch_026_val_1.321238.hdf5\n",
            "Epoch 27/100\n",
            "80000/80000 [==============================] - 16s 196us/step - loss: 1.3099 - val_loss: 1.3180\n",
            "\n",
            "Epoch 00027: val_loss improved from 1.32124 to 1.31801, saving model to drive/My Drive/data/model_2D_80/epoch_027_val_1.318011.hdf5\n",
            "Epoch 28/100\n",
            "80000/80000 [==============================] - 16s 198us/step - loss: 1.3055 - val_loss: 1.3216\n",
            "\n",
            "Epoch 00028: val_loss did not improve from 1.31801\n",
            "Epoch 29/100\n",
            "80000/80000 [==============================] - 16s 200us/step - loss: 1.3034 - val_loss: 1.3189\n",
            "\n",
            "Epoch 00029: val_loss did not improve from 1.31801\n",
            "Epoch 30/100\n",
            "80000/80000 [==============================] - 16s 196us/step - loss: 1.2990 - val_loss: 1.3180\n",
            "\n",
            "Epoch 00030: val_loss did not improve from 1.31801\n",
            "Epoch 31/100\n",
            "80000/80000 [==============================] - 16s 197us/step - loss: 1.2960 - val_loss: 1.3189\n",
            "\n",
            "Epoch 00031: val_loss did not improve from 1.31801\n",
            "Epoch 32/100\n",
            "80000/80000 [==============================] - 16s 195us/step - loss: 1.2926 - val_loss: 1.3119\n",
            "\n",
            "Epoch 00032: val_loss improved from 1.31801 to 1.31188, saving model to drive/My Drive/data/model_2D_80/epoch_032_val_1.311875.hdf5\n",
            "Epoch 33/100\n",
            "80000/80000 [==============================] - 16s 195us/step - loss: 1.2867 - val_loss: 1.3247\n",
            "\n",
            "Epoch 00033: val_loss did not improve from 1.31188\n",
            "Epoch 34/100\n",
            "80000/80000 [==============================] - 16s 196us/step - loss: 1.2856 - val_loss: 1.3109\n",
            "\n",
            "Epoch 00034: val_loss improved from 1.31188 to 1.31088, saving model to drive/My Drive/data/model_2D_80/epoch_034_val_1.310877.hdf5\n",
            "Epoch 35/100\n",
            "80000/80000 [==============================] - 16s 195us/step - loss: 1.2832 - val_loss: 1.3126\n",
            "\n",
            "Epoch 00035: val_loss did not improve from 1.31088\n",
            "Epoch 36/100\n",
            "80000/80000 [==============================] - 16s 197us/step - loss: 1.2802 - val_loss: 1.3084\n",
            "\n",
            "Epoch 00036: val_loss improved from 1.31088 to 1.30841, saving model to drive/My Drive/data/model_2D_80/epoch_036_val_1.308406.hdf5\n",
            "Epoch 37/100\n",
            "80000/80000 [==============================] - 16s 194us/step - loss: 1.2766 - val_loss: 1.3105\n",
            "\n",
            "Epoch 00037: val_loss did not improve from 1.30841\n",
            "Epoch 38/100\n",
            "80000/80000 [==============================] - 16s 195us/step - loss: 1.2759 - val_loss: 1.3116\n",
            "\n",
            "Epoch 00038: val_loss did not improve from 1.30841\n",
            "Epoch 39/100\n",
            "80000/80000 [==============================] - 16s 194us/step - loss: 1.2742 - val_loss: 1.3127\n",
            "\n",
            "Epoch 00039: val_loss did not improve from 1.30841\n",
            "Epoch 40/100\n",
            "80000/80000 [==============================] - 16s 194us/step - loss: 1.2698 - val_loss: 1.3121\n",
            "\n",
            "Epoch 00040: val_loss did not improve from 1.30841\n",
            "Epoch 41/100\n",
            "80000/80000 [==============================] - 16s 195us/step - loss: 1.2688 - val_loss: 1.3064\n",
            "\n",
            "Epoch 00041: val_loss improved from 1.30841 to 1.30636, saving model to drive/My Drive/data/model_2D_80/epoch_041_val_1.306359.hdf5\n",
            "Epoch 42/100\n",
            "80000/80000 [==============================] - 16s 196us/step - loss: 1.2670 - val_loss: 1.3155\n",
            "\n",
            "Epoch 00042: val_loss did not improve from 1.30636\n",
            "Epoch 43/100\n",
            "80000/80000 [==============================] - 16s 194us/step - loss: 1.2633 - val_loss: 1.3138\n",
            "\n",
            "Epoch 00043: val_loss did not improve from 1.30636\n",
            "Epoch 44/100\n",
            "80000/80000 [==============================] - 16s 194us/step - loss: 1.2633 - val_loss: 1.3080\n",
            "\n",
            "Epoch 00044: val_loss did not improve from 1.30636\n",
            "Epoch 45/100\n",
            "80000/80000 [==============================] - 16s 195us/step - loss: 1.2607 - val_loss: 1.3100\n",
            "\n",
            "Epoch 00045: val_loss did not improve from 1.30636\n",
            "Epoch 46/100\n",
            "80000/80000 [==============================] - 16s 196us/step - loss: 1.2588 - val_loss: 1.3084\n",
            "\n",
            "Epoch 00046: val_loss did not improve from 1.30636\n",
            "Epoch 47/100\n",
            "80000/80000 [==============================] - 16s 196us/step - loss: 1.2568 - val_loss: 1.3110\n",
            "\n",
            "Epoch 00047: val_loss did not improve from 1.30636\n",
            "Epoch 48/100\n",
            "80000/80000 [==============================] - 16s 200us/step - loss: 1.2569 - val_loss: 1.3097\n",
            "\n",
            "Epoch 00048: val_loss did not improve from 1.30636\n",
            "Epoch 49/100\n",
            "80000/80000 [==============================] - 16s 197us/step - loss: 1.2559 - val_loss: 1.3092\n",
            "\n",
            "Epoch 00049: val_loss did not improve from 1.30636\n",
            "Epoch 50/100\n",
            "80000/80000 [==============================] - 15s 193us/step - loss: 1.2544 - val_loss: 1.3038\n",
            "\n",
            "Epoch 00050: val_loss improved from 1.30636 to 1.30381, saving model to drive/My Drive/data/model_2D_80/epoch_050_val_1.303809.hdf5\n",
            "Epoch 51/100\n",
            "80000/80000 [==============================] - 15s 193us/step - loss: 1.2518 - val_loss: 1.3029\n",
            "\n",
            "Epoch 00051: val_loss improved from 1.30381 to 1.30289, saving model to drive/My Drive/data/model_2D_80/epoch_051_val_1.302885.hdf5\n",
            "Epoch 52/100\n",
            "80000/80000 [==============================] - 15s 193us/step - loss: 1.2509 - val_loss: 1.3096\n",
            "\n",
            "Epoch 00052: val_loss did not improve from 1.30289\n",
            "Epoch 53/100\n",
            "61440/80000 [======================>.......] - ETA: 3s - loss: 1.2470"
          ],
          "name": "stdout"
        }
      ]
    },
    {
      "cell_type": "code",
      "metadata": {
        "id": "ThjQ2OxOpagC",
        "colab_type": "code",
        "colab": {}
      },
      "source": [
        "# 훈련 결과를 확인합니다.\n",
        "# validation 성능 fool하다....\n",
        "plt.plot(history.epoch, history.history['loss'], '-o', label='training_loss')\n",
        "plt.plot(history.epoch, history.history['val_loss'], '-o', label='validation_loss')\n",
        "plt.legend()\n",
        "plt.xlim(left=0)\n",
        "plt.xlabel('epochs')\n",
        "plt.ylabel('loss')\n",
        "plt.show()"
      ],
      "execution_count": null,
      "outputs": []
    },
    {
      "cell_type": "code",
      "metadata": {
        "id": "z9CSvMCRpckU",
        "colab_type": "code",
        "colab": {}
      },
      "source": [
        "#x_test 문제있는거 같음...\n",
        "# 검증 wav 파일로부터 Feature를 만듭니다.\n",
        "x_test = pd.read_pickle('drive/My Drive/data/x_test_MFCC.pickle')\n",
        "x_test = x_test.values\n",
        "x_test = list((map(lambda x : x / max(x),x_test)))\n",
        "x_test =  np.array(x_test)\n",
        "x_test = x_test.reshape(x_test.shape[0], 40,-1, 1)\n",
        "\n",
        "# 가장 좋은 모델의 weight를 불러옵니다.\n",
        "weigth_file = glob('drive/My Drive/data/model_2D/*.hdf5')[-1]\n",
        "print(weigth_file)\n",
        "model.load_weights(weigth_file)\n",
        "\n",
        "# 예측 수행\n",
        "y_pred = model.predict(x_test)\n",
        "\n",
        "# 예측 결과로 제출 파일을 생성합니다.\n",
        "submission = pd.read_csv('drive/My Drive/data/submission.csv', index_col=0)\n",
        "submission.loc[:, :] = y_pred\n",
        "submission.to_csv('drive/My Drive/data/submission.csv')"
      ],
      "execution_count": null,
      "outputs": []
    }
  ]
}
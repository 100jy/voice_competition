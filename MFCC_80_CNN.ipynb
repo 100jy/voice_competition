{
  "nbformat": 4,
  "nbformat_minor": 0,
  "metadata": {
    "colab": {
      "name": "MFCC_80_CNN",
      "provenance": [],
      "collapsed_sections": [],
      "machine_shape": "hm",
      "authorship_tag": "ABX9TyP6GgM00EtgH4S6YhibcTPU",
      "include_colab_link": true
    },
    "kernelspec": {
      "name": "python3",
      "display_name": "Python 3"
    },
    "accelerator": "GPU"
  },
  "cells": [
    {
      "cell_type": "markdown",
      "metadata": {
        "id": "view-in-github",
        "colab_type": "text"
      },
      "source": [
        "<a href=\"https://colab.research.google.com/github/100jy/voice_competition/blob/master/MFCC_80_CNN.ipynb\" target=\"_parent\"><img src=\"https://colab.research.google.com/assets/colab-badge.svg\" alt=\"Open In Colab\"/></a>"
      ]
    },
    {
      "cell_type": "code",
      "metadata": {
        "id": "0X_pWF5vUg6P",
        "colab_type": "code",
        "colab": {
          "base_uri": "https://localhost:8080/",
          "height": 127
        },
        "outputId": "3000ee6b-2856-45f5-d1c6-8a988da0bfd1"
      },
      "source": [
        "#구글 드라이브 연동\n",
        "from google.colab import drive\n",
        "drive.mount('/content/drive')"
      ],
      "execution_count": 1,
      "outputs": [
        {
          "output_type": "stream",
          "text": [
            "Go to this URL in a browser: https://accounts.google.com/o/oauth2/auth?client_id=947318989803-6bn6qk8qdgf4n4g3pfee6491hc0brc4i.apps.googleusercontent.com&redirect_uri=urn%3aietf%3awg%3aoauth%3a2.0%3aoob&response_type=code&scope=email%20https%3a%2f%2fwww.googleapis.com%2fauth%2fdocs.test%20https%3a%2f%2fwww.googleapis.com%2fauth%2fdrive%20https%3a%2f%2fwww.googleapis.com%2fauth%2fdrive.photos.readonly%20https%3a%2f%2fwww.googleapis.com%2fauth%2fpeopleapi.readonly\n",
            "\n",
            "Enter your authorization code:\n",
            "··········\n",
            "Mounted at /content/drive\n"
          ],
          "name": "stdout"
        }
      ]
    },
    {
      "cell_type": "code",
      "metadata": {
        "id": "RPdGafVKU2nM",
        "colab_type": "code",
        "colab": {}
      },
      "source": [
        "import os\n",
        "import pandas as pd\n",
        "import numpy as np\n",
        "import matplotlib.pyplot as plt\n",
        "import scipy\n",
        "import tensorflow as tf\n",
        "import keras\n",
        "from tqdm import tqdm\n",
        "from glob import glob\n",
        "from scipy.io import wavfile\n",
        "from keras.models import Sequential,Model\n",
        "from keras.layers import *\n",
        "from keras.callbacks import ModelCheckpoint, EarlyStopping\n",
        "import librosa\n",
        "import librosa.display"
      ],
      "execution_count": 27,
      "outputs": []
    },
    {
      "cell_type": "code",
      "metadata": {
        "id": "8lZydI7opkrT",
        "colab_type": "code",
        "colab": {
          "base_uri": "https://localhost:8080/",
          "height": 35
        },
        "outputId": "4d8b0bb0-7dc7-4428-e8bf-12ae2d2b6e23"
      },
      "source": [
        "y_train = pd.read_csv('drive/My Drive/data/train_answer.csv',index_col=0)\n",
        "y_train = y_train.values\n",
        "y_train.shape"
      ],
      "execution_count": 3,
      "outputs": [
        {
          "output_type": "execute_result",
          "data": {
            "text/plain": [
              "(100000, 30)"
            ]
          },
          "metadata": {
            "tags": []
          },
          "execution_count": 3
        }
      ]
    },
    {
      "cell_type": "markdown",
      "metadata": {
        "id": "DXvgFkbeUwdh",
        "colab_type": "text"
      },
      "source": [
        "# 데이터 확인 및 채널 추가\n"
      ]
    },
    {
      "cell_type": "code",
      "metadata": {
        "id": "wrTkVUPvUvrE",
        "colab_type": "code",
        "colab": {}
      },
      "source": [
        "#MFCC\n",
        "x_train = pd.read_pickle('drive/My Drive/data/x_trian_mfcc_80.pickle')\n",
        "source = x_train.values\n",
        "\n",
        "\n",
        "##normalize\n",
        "def normalize(x):\n",
        "  return (x - np.mean(x)) / np.std(x)\n",
        "\n",
        "## binary\n",
        "def make_binary(x):\n",
        "  np.ones_like(len(x))\n",
        "  mask = (x > 0)\n",
        "  return np.ones_like(len(x)) * mask\n",
        " \n",
        "binary = list((map(make_binary,source)))\n",
        "binary =  np.array(binary)\n",
        "\n",
        "x_nor = list((map(normalize,source)))\n",
        "x_nor = np.array(x_nor)"
      ],
      "execution_count": 4,
      "outputs": []
    },
    {
      "cell_type": "markdown",
      "metadata": {
        "id": "Q3vnUIbjV959",
        "colab_type": "text"
      },
      "source": [
        "## 결과 확인"
      ]
    },
    {
      "cell_type": "code",
      "metadata": {
        "id": "GpKyRn_wV7eC",
        "colab_type": "code",
        "colab": {
          "base_uri": "https://localhost:8080/",
          "height": 194
        },
        "outputId": "6d990c4e-e23d-488c-ccc1-f1deaf14a105"
      },
      "source": [
        "mfcc = [source[0].reshape(80,-1),binary[0].reshape(80,-1),x_nor[0].reshape(80,-1)]\n",
        "plt.figure(figsize=(15,10))\n",
        "\n",
        "for i in range(3):\n",
        "  st = '33'+str(i+1)\n",
        "  plt.subplot(st)\n",
        "  librosa.display.specshow(mfcc[i])"
      ],
      "execution_count": null,
      "outputs": [
        {
          "output_type": "display_data",
          "data": {
            "image/png": "[encoded data removed]",
            "text/plain": [
              "<Figure size 1080x720 with 3 Axes>"
            ]
          },
          "metadata": {
            "tags": []
          }
        }
      ]
    },
    {
      "cell_type": "code",
      "metadata": {
        "id": "L6qVCgZRma2j",
        "colab_type": "code",
        "colab": {}
      },
      "source": [
        "x_nor = x_nor.reshape(100000,80,-1,1)\n",
        "binary = binary.reshape(100000,80,-1,1)"
      ],
      "execution_count": 5,
      "outputs": []
    },
    {
      "cell_type": "code",
      "metadata": {
        "id": "ioy7KXHjnVMZ",
        "colab_type": "code",
        "colab": {
          "base_uri": "https://localhost:8080/",
          "height": 35
        },
        "outputId": "cc72c297-ef36-494e-c4f9-16eafdf38541"
      },
      "source": [
        "x_nor.shape"
      ],
      "execution_count": 6,
      "outputs": [
        {
          "output_type": "execute_result",
          "data": {
            "text/plain": [
              "(100000, 80, 80, 1)"
            ]
          },
          "metadata": {
            "tags": []
          },
          "execution_count": 6
        }
      ]
    },
    {
      "cell_type": "code",
      "metadata": {
        "id": "ah5Qb5VHeRCz",
        "colab_type": "code",
        "colab": {
          "base_uri": "https://localhost:8080/",
          "height": 35
        },
        "outputId": "dd194320-ad3f-4830-f349-7977dbbe4e54"
      },
      "source": [
        "# 데이터 2ch로 수정...\n",
        "x_train = np.concatenate((x_nor.T, binary.T), axis=0)\n",
        "x_train.shape"
      ],
      "execution_count": 7,
      "outputs": [
        {
          "output_type": "execute_result",
          "data": {
            "text/plain": [
              "(2, 80, 80, 100000)"
            ]
          },
          "metadata": {
            "tags": []
          },
          "execution_count": 7
        }
      ]
    },
    {
      "cell_type": "code",
      "metadata": {
        "id": "9MuR9GREfwcA",
        "colab_type": "code",
        "colab": {
          "base_uri": "https://localhost:8080/",
          "height": 281
        },
        "outputId": "89c48174-08ad-4488-e80c-bdd97f6ba676"
      },
      "source": [
        "plt.figure(figsize=(15,10))\n",
        "for i in range(2):\n",
        "  st = '22'+str(i+1)\n",
        "  plt.subplot(st)\n",
        "  librosa.display.specshow(x_train[i].T[0])"
      ],
      "execution_count": null,
      "outputs": [
        {
          "output_type": "display_data",
          "data": {
            "image/png": "[encoded data removed]",
            "text/plain": [
              "<Figure size 1080x720 with 2 Axes>"
            ]
          },
          "metadata": {
            "tags": []
          }
        }
      ]
    },
    {
      "cell_type": "code",
      "metadata": {
        "id": "cnOguv34hpcR",
        "colab_type": "code",
        "colab": {}
      },
      "source": [
        "x_train = x_train.T"
      ],
      "execution_count": 8,
      "outputs": []
    },
    {
      "cell_type": "code",
      "metadata": {
        "id": "EuCxieeqiElW",
        "colab_type": "code",
        "colab": {
          "base_uri": "https://localhost:8080/",
          "height": 35
        },
        "outputId": "f66a5c0e-7586-44e5-8979-41cc9098241d"
      },
      "source": [
        "x_train.shape"
      ],
      "execution_count": 9,
      "outputs": [
        {
          "output_type": "execute_result",
          "data": {
            "text/plain": [
              "(100000, 80, 80, 2)"
            ]
          },
          "metadata": {
            "tags": []
          },
          "execution_count": 9
        }
      ]
    },
    {
      "cell_type": "markdown",
      "metadata": {
        "id": "O1O4yimphLKw",
        "colab_type": "text"
      },
      "source": [
        "# model architecture"
      ]
    },
    {
      "cell_type": "code",
      "metadata": {
        "id": "azumjzMAgytX",
        "colab_type": "code",
        "colab": {
          "base_uri": "https://localhost:8080/",
          "height": 665
        },
        "outputId": "4d29c7ef-0b0b-4bf0-b535-879713c5d1aa"
      },
      "source": [
        "### padding valid, dropout 0.3, shorter fully-conneted\n",
        "##GlobalAveragePooling\n",
        "#CNN\n",
        "model = Sequential()\n",
        "model.add(Conv2D(64, kernel_size = (3,3), strides = (1,1),activation='relu', input_shape = (x_train.shape[1], x_train.shape[2],2)))\n",
        "model.add(MaxPooling2D((2,2)))\n",
        "\n",
        "model.add(Conv2D(128, kernel_size = (3,3), strides = (1,1),activation='relu'))\n",
        "model.add(MaxPooling2D((2,2)))\n",
        "\n",
        "model.add(Conv2D(128, kernel_size = (3,3), strides = (1,1),activation='relu'))\n",
        "model.add(MaxPooling2D((2,2)))\n",
        "\n",
        "model.add(Conv2D(128, kernel_size = (3,3), strides = (1,1),activation='relu'))\n",
        "model.add(MaxPooling2D((2,2)))\n",
        "model.add(GlobalAveragePooling2D())\n",
        "\n",
        "#fully connected layer\n",
        "model.add(Dense(128, activation='relu'))\n",
        "model.add(Dropout(0.3))\n",
        "model.add(Dense(30, activation='softmax'))\n",
        "model.compile(loss=keras.losses.KLDivergence(), optimizer = 'adam')\n",
        "model.summary()"
      ],
      "execution_count": null,
      "outputs": [
        {
          "output_type": "stream",
          "text": [
            "Model: \"sequential_2\"\n",
            "_________________________________________________________________\n",
            "Layer (type)                 Output Shape              Param #   \n",
            "=================================================================\n",
            "conv2d_5 (Conv2D)            (None, 78, 78, 64)        1216      \n",
            "_________________________________________________________________\n",
            "max_pooling2d_5 (MaxPooling2 (None, 39, 39, 64)        0         \n",
            "_________________________________________________________________\n",
            "conv2d_6 (Conv2D)            (None, 37, 37, 128)       73856     \n",
            "_________________________________________________________________\n",
            "max_pooling2d_6 (MaxPooling2 (None, 18, 18, 128)       0         \n",
            "_________________________________________________________________\n",
            "conv2d_7 (Conv2D)            (None, 16, 16, 128)       147584    \n",
            "_________________________________________________________________\n",
            "max_pooling2d_7 (MaxPooling2 (None, 8, 8, 128)         0         \n",
            "_________________________________________________________________\n",
            "conv2d_8 (Conv2D)            (None, 6, 6, 128)         147584    \n",
            "_________________________________________________________________\n",
            "max_pooling2d_8 (MaxPooling2 (None, 3, 3, 128)         0         \n",
            "_________________________________________________________________\n",
            "global_average_pooling2d_2 ( (None, 128)               0         \n",
            "_________________________________________________________________\n",
            "dense_3 (Dense)              (None, 128)               16512     \n",
            "_________________________________________________________________\n",
            "dropout_2 (Dropout)          (None, 128)               0         \n",
            "_________________________________________________________________\n",
            "dense_4 (Dense)              (None, 128)               16512     \n",
            "_________________________________________________________________\n",
            "dropout_3 (Dropout)          (None, 128)               0         \n",
            "_________________________________________________________________\n",
            "dense_5 (Dense)              (None, 30)                3870      \n",
            "=================================================================\n",
            "Total params: 407,134\n",
            "Trainable params: 407,134\n",
            "Non-trainable params: 0\n",
            "_________________________________________________________________\n"
          ],
          "name": "stdout"
        }
      ]
    },
    {
      "cell_type": "code",
      "metadata": {
        "id": "249QHtNbuh7u",
        "colab_type": "code",
        "colab": {
          "base_uri": "https://localhost:8080/",
          "height": 665
        },
        "outputId": "3ef72b09-047d-4e27-d0d6-2bcf887c71f2"
      },
      "source": [
        "### padding valid, dropout 0.3, shorter fully-conneted\n",
        "##GlobalAveragePooling\n",
        "#CNN\n",
        "model = Sequential()\n",
        "model.add(Conv2D(64, kernel_size = (3,3), strides = (1,1),activation='relu', input_shape = (x_train.shape[1], x_train.shape[2],2)))\n",
        "model.add(MaxPooling2D((2,2)))\n",
        "\n",
        "model.add(Conv2D(128, kernel_size = (3,3), strides = (1,1),activation='relu'))\n",
        "model.add(MaxPooling2D((2,2)))\n",
        "\n",
        "model.add(Conv2D(128, kernel_size = (3,3), strides = (1,1),activation='relu'))\n",
        "model.add(MaxPooling2D((2,2)))\n",
        "\n",
        "model.add(Conv2D(128, kernel_size = (3,3), strides = (1,1),activation='relu'))\n",
        "model.add(MaxPooling2D((2,2)))\n",
        "model.add(GlobalAveragePooling2D())\n",
        "\n",
        "#fully connected layer\n",
        "#1-layer add\n",
        "model.add(Dense(128, activation='relu'))\n",
        "model.add(Dropout(0.3))\n",
        "model.add(Dense(128, activation='relu'))\n",
        "model.add(Dropout(0.3))\n",
        "model.add(Dense(30, activation='softmax'))\n",
        "model.compile(loss=keras.losses.KLDivergence(), optimizer = 'adam')\n",
        "model.summary()"
      ],
      "execution_count": null,
      "outputs": [
        {
          "output_type": "stream",
          "text": [
            "Model: \"sequential_3\"\n",
            "_________________________________________________________________\n",
            "Layer (type)                 Output Shape              Param #   \n",
            "=================================================================\n",
            "conv2d_9 (Conv2D)            (None, 78, 78, 64)        1216      \n",
            "_________________________________________________________________\n",
            "max_pooling2d_9 (MaxPooling2 (None, 39, 39, 64)        0         \n",
            "_________________________________________________________________\n",
            "conv2d_10 (Conv2D)           (None, 37, 37, 128)       73856     \n",
            "_________________________________________________________________\n",
            "max_pooling2d_10 (MaxPooling (None, 18, 18, 128)       0         \n",
            "_________________________________________________________________\n",
            "conv2d_11 (Conv2D)           (None, 16, 16, 128)       147584    \n",
            "_________________________________________________________________\n",
            "max_pooling2d_11 (MaxPooling (None, 8, 8, 128)         0         \n",
            "_________________________________________________________________\n",
            "conv2d_12 (Conv2D)           (None, 6, 6, 128)         147584    \n",
            "_________________________________________________________________\n",
            "max_pooling2d_12 (MaxPooling (None, 3, 3, 128)         0         \n",
            "_________________________________________________________________\n",
            "global_average_pooling2d_3 ( (None, 128)               0         \n",
            "_________________________________________________________________\n",
            "dense_6 (Dense)              (None, 128)               16512     \n",
            "_________________________________________________________________\n",
            "dropout_4 (Dropout)          (None, 128)               0         \n",
            "_________________________________________________________________\n",
            "dense_7 (Dense)              (None, 128)               16512     \n",
            "_________________________________________________________________\n",
            "dropout_5 (Dropout)          (None, 128)               0         \n",
            "_________________________________________________________________\n",
            "dense_8 (Dense)              (None, 30)                3870      \n",
            "=================================================================\n",
            "Total params: 407,134\n",
            "Trainable params: 407,134\n",
            "Non-trainable params: 0\n",
            "_________________________________________________________________\n"
          ],
          "name": "stdout"
        }
      ]
    },
    {
      "cell_type": "code",
      "metadata": {
        "id": "7JZp5RXR7Lu2",
        "colab_type": "code",
        "colab": {
          "base_uri": "https://localhost:8080/",
          "height": 1000
        },
        "outputId": "3605502c-2e0a-4eb4-d7bc-0c5ca3cfa3ea"
      },
      "source": [
        "#deep_cnn\n",
        "#from https://buomsoo-kim.github.io/keras/2018/05/05/Easy-deep-learning-with-Keras-11.md/ \n",
        "model = Sequential()\n",
        "\n",
        "model.add(Conv2D(64, kernel_size = (3,3), strides = (1,1),\n",
        "                      input_shape = (x_train.shape[1], x_train.shape[2],2), padding = 'same',kernel_initializer = 'he_normal'))\n",
        "model.add(BatchNormalization())\n",
        "model.add(Activation('relu'))\n",
        "model.add(Conv2D(64, kernel_size = (3,3), strides = (1,1),padding = 'same', kernel_initializer='he_normal'))\n",
        "model.add(BatchNormalization())\n",
        "model.add(Activation('relu'))\n",
        "model.add(MaxPooling2D((2,2)))\n",
        "\n",
        "model.add(Conv2D(128, kernel_size = (3,3), strides = (1,1),padding = 'same', kernel_initializer='he_normal'))\n",
        "model.add(BatchNormalization())\n",
        "model.add(Activation('relu'))\n",
        "model.add(Conv2D(128, kernel_size = (3,3), strides = (1,1),padding = 'same', kernel_initializer='he_normal'))\n",
        "model.add(BatchNormalization())\n",
        "model.add(Activation('relu'))\n",
        "model.add(MaxPooling2D((2,2)))\n",
        "\n",
        "model.add(Conv2D(128, kernel_size = (3,3), strides = (1,1),padding = 'same', kernel_initializer='he_normal'))\n",
        "model.add(BatchNormalization())\n",
        "model.add(Activation('relu'))\n",
        "model.add(Conv2D(128, kernel_size = (3,3), strides = (1,1),padding = 'same', kernel_initializer='he_normal'))\n",
        "model.add(BatchNormalization())\n",
        "model.add(Activation('relu'))\n",
        "model.add(MaxPooling2D((2,2)))\n",
        "\n",
        "model.add(Conv2D(128, kernel_size = (3,3), strides = (1,1),padding = 'same', kernel_initializer='he_normal'))\n",
        "model.add(BatchNormalization())\n",
        "model.add(Activation('relu'))\n",
        "model.add(Conv2D(128, kernel_size = (3,3), strides = (1,1),padding = 'same', kernel_initializer='he_normal'))\n",
        "model.add(BatchNormalization())\n",
        "model.add(Activation('relu'))\n",
        "model.add(MaxPooling2D((2,2)))\n",
        "\n",
        "model.add(GlobalAveragePooling2D())\n",
        "#model.add(Flatten())\n",
        "\n",
        "#fully connected layer\n",
        "#1-layer add\n",
        "##BatchNormalization\n",
        "model.add(Dense(128, activation='relu'))\n",
        "model.add(Dropout(0.5))\n",
        "model.add(Dense(30, activation='softmax'))\n",
        "model.compile(loss=keras.losses.KLDivergence(), optimizer = 'adam')\n",
        "model.summary()"
      ],
      "execution_count": null,
      "outputs": [
        {
          "output_type": "stream",
          "text": [
            "Model: \"sequential_10\"\n",
            "_________________________________________________________________\n",
            "Layer (type)                 Output Shape              Param #   \n",
            "=================================================================\n",
            "conv2d_59 (Conv2D)           (None, 80, 80, 64)        1216      \n",
            "_________________________________________________________________\n",
            "batch_normalization_47 (Batc (None, 80, 80, 64)        256       \n",
            "_________________________________________________________________\n",
            "activation_47 (Activation)   (None, 80, 80, 64)        0         \n",
            "_________________________________________________________________\n",
            "conv2d_60 (Conv2D)           (None, 80, 80, 64)        36928     \n",
            "_________________________________________________________________\n",
            "batch_normalization_48 (Batc (None, 80, 80, 64)        256       \n",
            "_________________________________________________________________\n",
            "activation_48 (Activation)   (None, 80, 80, 64)        0         \n",
            "_________________________________________________________________\n",
            "max_pooling2d_36 (MaxPooling (None, 40, 40, 64)        0         \n",
            "_________________________________________________________________\n",
            "conv2d_61 (Conv2D)           (None, 40, 40, 128)       73856     \n",
            "_________________________________________________________________\n",
            "batch_normalization_49 (Batc (None, 40, 40, 128)       512       \n",
            "_________________________________________________________________\n",
            "activation_49 (Activation)   (None, 40, 40, 128)       0         \n",
            "_________________________________________________________________\n",
            "conv2d_62 (Conv2D)           (None, 40, 40, 128)       147584    \n",
            "_________________________________________________________________\n",
            "batch_normalization_50 (Batc (None, 40, 40, 128)       512       \n",
            "_________________________________________________________________\n",
            "activation_50 (Activation)   (None, 40, 40, 128)       0         \n",
            "_________________________________________________________________\n",
            "max_pooling2d_37 (MaxPooling (None, 20, 20, 128)       0         \n",
            "_________________________________________________________________\n",
            "conv2d_63 (Conv2D)           (None, 20, 20, 256)       295168    \n",
            "_________________________________________________________________\n",
            "batch_normalization_51 (Batc (None, 20, 20, 256)       1024      \n",
            "_________________________________________________________________\n",
            "activation_51 (Activation)   (None, 20, 20, 256)       0         \n",
            "_________________________________________________________________\n",
            "conv2d_64 (Conv2D)           (None, 20, 20, 256)       590080    \n",
            "_________________________________________________________________\n",
            "batch_normalization_52 (Batc (None, 20, 20, 256)       1024      \n",
            "_________________________________________________________________\n",
            "activation_52 (Activation)   (None, 20, 20, 256)       0         \n",
            "_________________________________________________________________\n",
            "max_pooling2d_38 (MaxPooling (None, 10, 10, 256)       0         \n",
            "_________________________________________________________________\n",
            "conv2d_65 (Conv2D)           (None, 10, 10, 512)       1180160   \n",
            "_________________________________________________________________\n",
            "batch_normalization_53 (Batc (None, 10, 10, 512)       2048      \n",
            "_________________________________________________________________\n",
            "activation_53 (Activation)   (None, 10, 10, 512)       0         \n",
            "_________________________________________________________________\n",
            "conv2d_66 (Conv2D)           (None, 10, 10, 512)       2359808   \n",
            "_________________________________________________________________\n",
            "batch_normalization_54 (Batc (None, 10, 10, 512)       2048      \n",
            "_________________________________________________________________\n",
            "activation_54 (Activation)   (None, 10, 10, 512)       0         \n",
            "_________________________________________________________________\n",
            "max_pooling2d_39 (MaxPooling (None, 5, 5, 512)         0         \n",
            "_________________________________________________________________\n",
            "global_average_pooling2d_9 ( (None, 512)               0         \n",
            "_________________________________________________________________\n",
            "dense_21 (Dense)             (None, 128)               65664     \n",
            "_________________________________________________________________\n",
            "dropout_12 (Dropout)         (None, 128)               0         \n",
            "_________________________________________________________________\n",
            "dense_22 (Dense)             (None, 30)                3870      \n",
            "=================================================================\n",
            "Total params: 4,762,014\n",
            "Trainable params: 4,758,174\n",
            "Non-trainable params: 3,840\n",
            "_________________________________________________________________\n"
          ],
          "name": "stdout"
        }
      ]
    },
    {
      "cell_type": "code",
      "metadata": {
        "id": "C4hZsybjSidI",
        "colab_type": "code",
        "colab": {
          "base_uri": "https://localhost:8080/",
          "height": 1000
        },
        "outputId": "445a7aeb-47a4-4919-8ba8-f1aa003b2081"
      },
      "source": [
        "#DeepCNN with Gelu\n",
        "def gelu(x):\n",
        "    return 0.5*x*(1+tf.tanh(np.sqrt(2/np.pi)*(x+0.044715*tf.pow(x, 3))))\n",
        "\n",
        "#deep_cnn\n",
        "#from https://buomsoo-kim.github.io/keras/2018/05/05/Easy-deep-learning-with-Keras-11.md/ \n",
        "#similar to VGG16\n",
        "model = Sequential()\n",
        "\n",
        "model.add(Conv2D(64, kernel_size = (3,3), strides = (1,1),\n",
        "                      input_shape = (x_train.shape[1], x_train.shape[2],2), padding = 'same',kernel_initializer = 'he_normal'))\n",
        "model.add(BatchNormalization())\n",
        "model.add(Activation(gelu))\n",
        "model.add(Conv2D(64, kernel_size = (3,3), strides = (1,1),padding = 'same', kernel_initializer='he_normal'))\n",
        "model.add(BatchNormalization())\n",
        "model.add(Activation(gelu))\n",
        "model.add(MaxPooling2D((2,2)))\n",
        "\n",
        "model.add(Conv2D(128, kernel_size = (3,3), strides = (1,1),padding = 'same', kernel_initializer='he_normal'))\n",
        "model.add(BatchNormalization())\n",
        "model.add(Activation(gelu))\n",
        "model.add(Conv2D(128, kernel_size = (3,3), strides = (1,1),padding = 'same', kernel_initializer='he_normal'))\n",
        "model.add(BatchNormalization())\n",
        "model.add(Activation(gelu))\n",
        "model.add(MaxPooling2D((2,2)))\n",
        "\n",
        "model.add(Conv2D(128, kernel_size = (3,3), strides = (1,1),padding = 'same', kernel_initializer='he_normal'))\n",
        "model.add(BatchNormalization())\n",
        "model.add(Activation(gelu))\n",
        "model.add(Conv2D(128, kernel_size = (3,3), strides = (1,1),padding = 'same', kernel_initializer='he_normal'))\n",
        "model.add(BatchNormalization())\n",
        "model.add(Activation(gelu))\n",
        "model.add(MaxPooling2D((2,2)))\n",
        "\n",
        "model.add(Conv2D(256, kernel_size = (3,3), strides = (1,1),padding = 'same', kernel_initializer='he_normal'))\n",
        "model.add(BatchNormalization())\n",
        "model.add(Activation(gelu))\n",
        "model.add(Conv2D(256, kernel_size = (3,3), strides = (1,1),padding = 'same', kernel_initializer='he_normal'))\n",
        "model.add(BatchNormalization())\n",
        "model.add(Activation(gelu))\n",
        "model.add(MaxPooling2D((2,2)))\n",
        "\n",
        "model.add(GlobalAveragePooling2D())\n",
        "model.add(Dropout(0.5))\n",
        "#model.add(Flatten())\n",
        "\n",
        "#fully connected layer\n",
        "#1-layer add\n",
        "##BatchNormalization\n",
        "model.add(Dense(256))\n",
        "model.add(Activation(gelu))\n",
        "model.add(Dropout(0.5))\n",
        "model.add(Dense(128))\n",
        "model.add(Activation(gelu))\n",
        "model.add(Dropout(0.5))\n",
        "model.add(Dense(30, activation='softmax'))\n",
        "model.compile(loss=keras.losses.KLDivergence(), optimizer = 'adam')\n",
        "model.summary()\n"
      ],
      "execution_count": 15,
      "outputs": [
        {
          "output_type": "stream",
          "text": [
            "Model: \"sequential_4\"\n",
            "_________________________________________________________________\n",
            "Layer (type)                 Output Shape              Param #   \n",
            "=================================================================\n",
            "conv2d_25 (Conv2D)           (None, 80, 80, 64)        1216      \n",
            "_________________________________________________________________\n",
            "batch_normalization_25 (Batc (None, 80, 80, 64)        256       \n",
            "_________________________________________________________________\n",
            "activation_29 (Activation)   (None, 80, 80, 64)        0         \n",
            "_________________________________________________________________\n",
            "conv2d_26 (Conv2D)           (None, 80, 80, 64)        36928     \n",
            "_________________________________________________________________\n",
            "batch_normalization_26 (Batc (None, 80, 80, 64)        256       \n",
            "_________________________________________________________________\n",
            "activation_30 (Activation)   (None, 80, 80, 64)        0         \n",
            "_________________________________________________________________\n",
            "max_pooling2d_13 (MaxPooling (None, 40, 40, 64)        0         \n",
            "_________________________________________________________________\n",
            "conv2d_27 (Conv2D)           (None, 40, 40, 128)       73856     \n",
            "_________________________________________________________________\n",
            "batch_normalization_27 (Batc (None, 40, 40, 128)       512       \n",
            "_________________________________________________________________\n",
            "activation_31 (Activation)   (None, 40, 40, 128)       0         \n",
            "_________________________________________________________________\n",
            "conv2d_28 (Conv2D)           (None, 40, 40, 128)       147584    \n",
            "_________________________________________________________________\n",
            "batch_normalization_28 (Batc (None, 40, 40, 128)       512       \n",
            "_________________________________________________________________\n",
            "activation_32 (Activation)   (None, 40, 40, 128)       0         \n",
            "_________________________________________________________________\n",
            "max_pooling2d_14 (MaxPooling (None, 20, 20, 128)       0         \n",
            "_________________________________________________________________\n",
            "conv2d_29 (Conv2D)           (None, 20, 20, 128)       147584    \n",
            "_________________________________________________________________\n",
            "batch_normalization_29 (Batc (None, 20, 20, 128)       512       \n",
            "_________________________________________________________________\n",
            "activation_33 (Activation)   (None, 20, 20, 128)       0         \n",
            "_________________________________________________________________\n",
            "conv2d_30 (Conv2D)           (None, 20, 20, 128)       147584    \n",
            "_________________________________________________________________\n",
            "batch_normalization_30 (Batc (None, 20, 20, 128)       512       \n",
            "_________________________________________________________________\n",
            "activation_34 (Activation)   (None, 20, 20, 128)       0         \n",
            "_________________________________________________________________\n",
            "max_pooling2d_15 (MaxPooling (None, 10, 10, 128)       0         \n",
            "_________________________________________________________________\n",
            "conv2d_31 (Conv2D)           (None, 10, 10, 256)       295168    \n",
            "_________________________________________________________________\n",
            "batch_normalization_31 (Batc (None, 10, 10, 256)       1024      \n",
            "_________________________________________________________________\n",
            "activation_35 (Activation)   (None, 10, 10, 256)       0         \n",
            "_________________________________________________________________\n",
            "conv2d_32 (Conv2D)           (None, 10, 10, 256)       590080    \n",
            "_________________________________________________________________\n",
            "batch_normalization_32 (Batc (None, 10, 10, 256)       1024      \n",
            "_________________________________________________________________\n",
            "activation_36 (Activation)   (None, 10, 10, 256)       0         \n",
            "_________________________________________________________________\n",
            "max_pooling2d_16 (MaxPooling (None, 5, 5, 256)         0         \n",
            "_________________________________________________________________\n",
            "global_average_pooling2d_2 ( (None, 256)               0         \n",
            "_________________________________________________________________\n",
            "dense_9 (Dense)              (None, 256)               65792     \n",
            "_________________________________________________________________\n",
            "activation_37 (Activation)   (None, 256)               0         \n",
            "_________________________________________________________________\n",
            "dropout_6 (Dropout)          (None, 256)               0         \n",
            "_________________________________________________________________\n",
            "dense_10 (Dense)             (None, 128)               32896     \n",
            "_________________________________________________________________\n",
            "activation_38 (Activation)   (None, 128)               0         \n",
            "_________________________________________________________________\n",
            "dropout_7 (Dropout)          (None, 128)               0         \n",
            "_________________________________________________________________\n",
            "dense_11 (Dense)             (None, 30)                3870      \n",
            "=================================================================\n",
            "Total params: 1,547,166\n",
            "Trainable params: 1,544,862\n",
            "Non-trainable params: 2,304\n",
            "_________________________________________________________________\n"
          ],
          "name": "stdout"
        }
      ]
    },
    {
      "cell_type": "code",
      "metadata": {
        "id": "hXJEwyPSQGLh",
        "colab_type": "code",
        "colab": {
          "base_uri": "https://localhost:8080/",
          "height": 1000
        },
        "outputId": "fad82f87-d510-4269-92d2-1d34f6ce1220"
      },
      "source": [
        "# Inception Net\n",
        "## from https://datascienceschool.net/view-notebook/8d34d65bcced42ef84996b5d56321ba9/\n",
        "\n",
        "def inception_module(x, o_1=64,r_3 =64, o_3 =128,r_5=16,o_5=32,pool=32):\n",
        "  #size_1 filter\n",
        "  x_1 = Conv2D(o_1,1,padding='same')(x)\n",
        "\n",
        "  #size_1 + size_3 filter\n",
        "  x_2 = Conv2D(r_3,1,padding='same')(x)\n",
        "  x_2 = Conv2D(o_3,1,padding='same')(x_2)\n",
        "\n",
        "  #size_1 + size_5 filter\n",
        "  x_3 = Conv2D(r_5,1,padding='same')(x)\n",
        "  x_3 = Conv2D(o_5,5,padding='same')(x_3)\n",
        "\n",
        "  #pooling\n",
        "  x_4 = MaxPooling2D(pool_size = (3,3),strides =1,padding='same')(x)\n",
        "  x_4 = Conv2D(pool, 1, padding='same')(x_4)\n",
        "\n",
        "  return concatenate([x_1,x_2,x_3,x_4])\n",
        "\n",
        "#DeepCNN with Gelu\n",
        "def gelu(x):\n",
        "    return 0.5*x*(1+tf.tanh(np.sqrt(2/np.pi)*(x+0.044715*tf.pow(x, 3))))\n",
        "\n",
        "\n",
        "inp = Input((80,80,2)) \n",
        "\n",
        "x = Conv2D(64, (7, 7), strides = 2, padding = \"same\")(inp)\n",
        "x = Activation(gelu)(x)\n",
        "x = MaxPooling2D((3, 3), padding = \"same\", strides = 2)(x)\n",
        "x = Conv2D(64, (1, 1), strides = 1, padding = \"same\")(x)\n",
        "x = Activation(gelu)(x)\n",
        "x = Conv2D(192, (3, 3), strides = 1, padding = \"same\")(x)\n",
        "x = Activation(gelu)(x)\n",
        "x = MaxPooling2D((3, 3), padding = \"same\", strides = 2)(x)\n",
        "\n",
        "x = inception_module(x, o_1=64, r_3=64, o_3=128, r_5=16, o_5=32, pool=32)\n",
        "x = inception_module(x, o_1=128, r_3=128, o_3=192, r_5=32, o_5=96, pool=64)\n",
        "x = MaxPooling2D(pool_size=(3, 3), strides=2, padding='same')(x)\n",
        "x = inception_module(x, o_1=192, r_3=96, o_3=208, r_5=16, o_5=48, pool=64)\n",
        "'''\n",
        "x = inception_module(x, o_1=160, r_3=112, o_3=224, r_5=24, o_5=64, pool=64)\n",
        "x = inception_module(x, o_1=128, r_3=128, o_3=256, r_5=24, o_5=64, pool=64)\n",
        "x = inception_module(x, o_1=112, r_3=144, o_3=288, r_5=32, o_5=64, pool=64)\n",
        "x = inception_module(x, o_1=256, r_3=160, o_3=320, r_5=32, o_5=128, pool=128)\n",
        "\n",
        "x = MaxPooling2D(pool_size=(2, 2), strides=1, padding='same')(x)\n",
        "x = inception_module(x, o_1=256, r_3=160, o_3=320, r_5=32, o_5=128, pool=128)\n",
        "x = inception_module(x, o_1=384, r_3=192, o_3=384, r_5=48, o_5=128, pool=128)\n",
        "'''\n",
        "\n",
        "x = AveragePooling2D(pool_size=(2, 2), strides=3)(x)\n",
        "x = Conv2D(128, (1, 1),padding = \"same\")(x)\n",
        "x = Activation(gelu)(x)\n",
        "x = Flatten()(x)\n",
        "\n",
        "x = Dense(512)(x)\n",
        "x = Activation(gelu)(x)\n",
        "x = Dropout(0.7)(x)\n",
        "x = Dense(256)(x)\n",
        "x = Activation(gelu)(x)\n",
        "x = Dropout(0.7)(x)\n",
        "output = Dense(30, activation = \"softmax\")(x)\n",
        "\n",
        "model = Model(inp, output)\n",
        "model.compile(loss=keras.losses.KLDivergence(), optimizer = 'adam')\n",
        "model.summary()"
      ],
      "execution_count": 39,
      "outputs": [
        {
          "output_type": "stream",
          "text": [
            "Model: \"model_5\"\n",
            "__________________________________________________________________________________________________\n",
            "Layer (type)                    Output Shape         Param #     Connected to                     \n",
            "==================================================================================================\n",
            "input_16 (InputLayer)           (None, 80, 80, 2)    0                                            \n",
            "__________________________________________________________________________________________________\n",
            "conv2d_344 (Conv2D)             (None, 40, 40, 64)   6336        input_16[0][0]                   \n",
            "__________________________________________________________________________________________________\n",
            "activation_53 (Activation)      (None, 40, 40, 64)   0           conv2d_344[0][0]                 \n",
            "__________________________________________________________________________________________________\n",
            "max_pooling2d_92 (MaxPooling2D) (None, 20, 20, 64)   0           activation_53[0][0]              \n",
            "__________________________________________________________________________________________________\n",
            "conv2d_345 (Conv2D)             (None, 20, 20, 64)   4160        max_pooling2d_92[0][0]           \n",
            "__________________________________________________________________________________________________\n",
            "activation_54 (Activation)      (None, 20, 20, 64)   0           conv2d_345[0][0]                 \n",
            "__________________________________________________________________________________________________\n",
            "conv2d_346 (Conv2D)             (None, 20, 20, 192)  110784      activation_54[0][0]              \n",
            "__________________________________________________________________________________________________\n",
            "activation_55 (Activation)      (None, 20, 20, 192)  0           conv2d_346[0][0]                 \n",
            "__________________________________________________________________________________________________\n",
            "max_pooling2d_93 (MaxPooling2D) (None, 10, 10, 192)  0           activation_55[0][0]              \n",
            "__________________________________________________________________________________________________\n",
            "conv2d_348 (Conv2D)             (None, 10, 10, 64)   12352       max_pooling2d_93[0][0]           \n",
            "__________________________________________________________________________________________________\n",
            "conv2d_350 (Conv2D)             (None, 10, 10, 16)   3088        max_pooling2d_93[0][0]           \n",
            "__________________________________________________________________________________________________\n",
            "max_pooling2d_94 (MaxPooling2D) (None, 10, 10, 192)  0           max_pooling2d_93[0][0]           \n",
            "__________________________________________________________________________________________________\n",
            "conv2d_347 (Conv2D)             (None, 10, 10, 64)   12352       max_pooling2d_93[0][0]           \n",
            "__________________________________________________________________________________________________\n",
            "conv2d_349 (Conv2D)             (None, 10, 10, 128)  8320        conv2d_348[0][0]                 \n",
            "__________________________________________________________________________________________________\n",
            "conv2d_351 (Conv2D)             (None, 10, 10, 32)   12832       conv2d_350[0][0]                 \n",
            "__________________________________________________________________________________________________\n",
            "conv2d_352 (Conv2D)             (None, 10, 10, 32)   6176        max_pooling2d_94[0][0]           \n",
            "__________________________________________________________________________________________________\n",
            "concatenate_46 (Concatenate)    (None, 10, 10, 256)  0           conv2d_347[0][0]                 \n",
            "                                                                 conv2d_349[0][0]                 \n",
            "                                                                 conv2d_351[0][0]                 \n",
            "                                                                 conv2d_352[0][0]                 \n",
            "__________________________________________________________________________________________________\n",
            "conv2d_354 (Conv2D)             (None, 10, 10, 128)  32896       concatenate_46[0][0]             \n",
            "__________________________________________________________________________________________________\n",
            "conv2d_356 (Conv2D)             (None, 10, 10, 32)   8224        concatenate_46[0][0]             \n",
            "__________________________________________________________________________________________________\n",
            "max_pooling2d_95 (MaxPooling2D) (None, 10, 10, 256)  0           concatenate_46[0][0]             \n",
            "__________________________________________________________________________________________________\n",
            "conv2d_353 (Conv2D)             (None, 10, 10, 128)  32896       concatenate_46[0][0]             \n",
            "__________________________________________________________________________________________________\n",
            "conv2d_355 (Conv2D)             (None, 10, 10, 192)  24768       conv2d_354[0][0]                 \n",
            "__________________________________________________________________________________________________\n",
            "conv2d_357 (Conv2D)             (None, 10, 10, 96)   76896       conv2d_356[0][0]                 \n",
            "__________________________________________________________________________________________________\n",
            "conv2d_358 (Conv2D)             (None, 10, 10, 64)   16448       max_pooling2d_95[0][0]           \n",
            "__________________________________________________________________________________________________\n",
            "concatenate_47 (Concatenate)    (None, 10, 10, 480)  0           conv2d_353[0][0]                 \n",
            "                                                                 conv2d_355[0][0]                 \n",
            "                                                                 conv2d_357[0][0]                 \n",
            "                                                                 conv2d_358[0][0]                 \n",
            "__________________________________________________________________________________________________\n",
            "max_pooling2d_96 (MaxPooling2D) (None, 5, 5, 480)    0           concatenate_47[0][0]             \n",
            "__________________________________________________________________________________________________\n",
            "conv2d_360 (Conv2D)             (None, 5, 5, 96)     46176       max_pooling2d_96[0][0]           \n",
            "__________________________________________________________________________________________________\n",
            "conv2d_362 (Conv2D)             (None, 5, 5, 16)     7696        max_pooling2d_96[0][0]           \n",
            "__________________________________________________________________________________________________\n",
            "max_pooling2d_97 (MaxPooling2D) (None, 5, 5, 480)    0           max_pooling2d_96[0][0]           \n",
            "__________________________________________________________________________________________________\n",
            "conv2d_359 (Conv2D)             (None, 5, 5, 192)    92352       max_pooling2d_96[0][0]           \n",
            "__________________________________________________________________________________________________\n",
            "conv2d_361 (Conv2D)             (None, 5, 5, 208)    20176       conv2d_360[0][0]                 \n",
            "__________________________________________________________________________________________________\n",
            "conv2d_363 (Conv2D)             (None, 5, 5, 48)     19248       conv2d_362[0][0]                 \n",
            "__________________________________________________________________________________________________\n",
            "conv2d_364 (Conv2D)             (None, 5, 5, 64)     30784       max_pooling2d_97[0][0]           \n",
            "__________________________________________________________________________________________________\n",
            "concatenate_48 (Concatenate)    (None, 5, 5, 512)    0           conv2d_359[0][0]                 \n",
            "                                                                 conv2d_361[0][0]                 \n",
            "                                                                 conv2d_363[0][0]                 \n",
            "                                                                 conv2d_364[0][0]                 \n",
            "__________________________________________________________________________________________________\n",
            "average_pooling2d_8 (AveragePoo (None, 2, 2, 512)    0           concatenate_48[0][0]             \n",
            "__________________________________________________________________________________________________\n",
            "conv2d_365 (Conv2D)             (None, 2, 2, 128)    65664       average_pooling2d_8[0][0]        \n",
            "__________________________________________________________________________________________________\n",
            "activation_56 (Activation)      (None, 2, 2, 128)    0           conv2d_365[0][0]                 \n",
            "__________________________________________________________________________________________________\n",
            "flatten_6 (Flatten)             (None, 512)          0           activation_56[0][0]              \n",
            "__________________________________________________________________________________________________\n",
            "dense_23 (Dense)                (None, 512)          262656      flatten_6[0][0]                  \n",
            "__________________________________________________________________________________________________\n",
            "activation_57 (Activation)      (None, 512)          0           dense_23[0][0]                   \n",
            "__________________________________________________________________________________________________\n",
            "dropout_13 (Dropout)            (None, 512)          0           activation_57[0][0]              \n",
            "__________________________________________________________________________________________________\n",
            "dense_24 (Dense)                (None, 30)           15390       dropout_13[0][0]                 \n",
            "==================================================================================================\n",
            "Total params: 928,670\n",
            "Trainable params: 928,670\n",
            "Non-trainable params: 0\n",
            "__________________________________________________________________________________________________\n"
          ],
          "name": "stdout"
        }
      ]
    },
    {
      "cell_type": "code",
      "metadata": {
        "id": "se_iYKSi6qfw",
        "colab_type": "code",
        "colab": {
          "base_uri": "https://localhost:8080/",
          "height": 1000
        },
        "outputId": "53d18883-4ed3-4d74-c18c-34fa5a110fb9"
      },
      "source": [
        "# Inception Net\n",
        "## from https://datascienceschool.net/view-notebook/8d34d65bcced42ef84996b5d56321ba9/\n",
        "\n",
        "def inception_module(x, o_1=64,r_3 =64, o_3 =128,r_5=16,o_5=32,pool=32):\n",
        "  #size_1 filter\n",
        "  x_1 = Conv2D(o_1,1,padding='same')(x)\n",
        "\n",
        "  #size_1 + size_3 filter\n",
        "  x_2 = Conv2D(r_3,1,padding='same')(x)\n",
        "  x_2 = Conv2D(o_3,1,padding='same')(x_2)\n",
        "\n",
        "  #size_1 + size_5 filter\n",
        "  x_3 = Conv2D(r_5,1,padding='same')(x)\n",
        "  x_3 = Conv2D(o_5,5,padding='same')(x_3)\n",
        "\n",
        "  #pooling\n",
        "  x_4 = MaxPooling2D(pool_size = (3,3),strides =1,padding='same')(x)\n",
        "  x_4 = Conv2D(pool, 1, padding='same')(x_4)\n",
        "\n",
        "  return concatenate([x_1,x_2,x_3,x_4])\n",
        "\n",
        "#DeepCNN with Gelu\n",
        "def gelu(x):\n",
        "    return 0.5*x*(1+tf.tanh(np.sqrt(2/np.pi)*(x+0.044715*tf.pow(x, 3))))\n",
        "\n",
        "\n",
        "\n",
        "inp = Input((80,80,2)) \n",
        "\n",
        "x = Conv2D(64, (7, 7), strides = 2, padding = \"same\")(inp)\n",
        "x = Activation(gelu)(x)\n",
        "x = MaxPooling2D((3, 3), padding = \"same\", strides = 2)(x)\n",
        "x = Conv2D(64, (1, 1), strides = 1, padding = \"same\")(x)\n",
        "x = Activation(gelu)(x)\n",
        "x = Conv2D(192, (3, 3), strides = 1, padding = \"same\")(x)\n",
        "x = Activation(gelu)(x)\n",
        "x = MaxPooling2D((3, 3), padding = \"same\", strides = 2)(x)\n",
        "\n",
        "x = inception_module(x, o_1=64, r_3=64, o_3=128, r_5=16, o_5=32, pool=32)\n",
        "x = inception_module(x, o_1=128, r_3=128, o_3=192, r_5=32, o_5=96, pool=64)\n",
        "x = MaxPooling2D(pool_size=(3, 3), strides=2, padding='same')(x)\n",
        "x = inception_module(x, o_1=192, r_3=96, o_3=208, r_5=16, o_5=48, pool=64)\n",
        "'''\n",
        "x = inception_module(x, o_1=160, r_3=112, o_3=224, r_5=24, o_5=64, pool=64)\n",
        "x = inception_module(x, o_1=128, r_3=128, o_3=256, r_5=24, o_5=64, pool=64)\n",
        "x = inception_module(x, o_1=112, r_3=144, o_3=288, r_5=32, o_5=64, pool=64)\n",
        "x = inception_module(x, o_1=256, r_3=160, o_3=320, r_5=32, o_5=128, pool=128)\n",
        "\n",
        "x = MaxPooling2D(pool_size=(2, 2), strides=1, padding='same')(x)\n",
        "x = inception_module(x, o_1=256, r_3=160, o_3=320, r_5=32, o_5=128, pool=128)\n",
        "x = inception_module(x, o_1=384, r_3=192, o_3=384, r_5=48, o_5=128, pool=128)\n",
        "'''\n",
        "\n",
        "x = AveragePooling2D(pool_size=(2, 2), strides=3)(x)\n",
        "x = Conv2D(128, (1, 1),padding = \"same\")(x)\n",
        "x = Activation(gelu)(x)\n",
        "x = Flatten()(x)\n",
        "\n",
        "x = Dense(512)(x)\n",
        "x = Activation(gelu)(x)\n",
        "x = Dropout(0.7)(x)\n",
        "output = Dense(30, activation = 'softmax')(x)\n",
        "\n",
        "model = Model(inp, output)\n",
        "model.compile(loss=keras.losses.KLDivergence(), optimizer = 'adam')\n",
        "model.summary()"
      ],
      "execution_count": 141,
      "outputs": [
        {
          "output_type": "stream",
          "text": [
            "Model: \"model_19\"\n",
            "__________________________________________________________________________________________________\n",
            "Layer (type)                    Output Shape         Param #     Connected to                     \n",
            "==================================================================================================\n",
            "input_32 (InputLayer)           (None, 80, 80, 2)    0                                            \n",
            "__________________________________________________________________________________________________\n",
            "conv2d_696 (Conv2D)             (None, 40, 40, 64)   6336        input_32[0][0]                   \n",
            "__________________________________________________________________________________________________\n",
            "activation_164 (Activation)     (None, 40, 40, 64)   0           conv2d_696[0][0]                 \n",
            "__________________________________________________________________________________________________\n",
            "max_pooling2d_188 (MaxPooling2D (None, 20, 20, 64)   0           activation_164[0][0]             \n",
            "__________________________________________________________________________________________________\n",
            "conv2d_697 (Conv2D)             (None, 20, 20, 64)   4160        max_pooling2d_188[0][0]          \n",
            "__________________________________________________________________________________________________\n",
            "activation_165 (Activation)     (None, 20, 20, 64)   0           conv2d_697[0][0]                 \n",
            "__________________________________________________________________________________________________\n",
            "conv2d_698 (Conv2D)             (None, 20, 20, 192)  110784      activation_165[0][0]             \n",
            "__________________________________________________________________________________________________\n",
            "activation_166 (Activation)     (None, 20, 20, 192)  0           conv2d_698[0][0]                 \n",
            "__________________________________________________________________________________________________\n",
            "max_pooling2d_189 (MaxPooling2D (None, 10, 10, 192)  0           activation_166[0][0]             \n",
            "__________________________________________________________________________________________________\n",
            "conv2d_700 (Conv2D)             (None, 10, 10, 64)   12352       max_pooling2d_189[0][0]          \n",
            "__________________________________________________________________________________________________\n",
            "conv2d_702 (Conv2D)             (None, 10, 10, 16)   3088        max_pooling2d_189[0][0]          \n",
            "__________________________________________________________________________________________________\n",
            "max_pooling2d_190 (MaxPooling2D (None, 10, 10, 192)  0           max_pooling2d_189[0][0]          \n",
            "__________________________________________________________________________________________________\n",
            "conv2d_699 (Conv2D)             (None, 10, 10, 64)   12352       max_pooling2d_189[0][0]          \n",
            "__________________________________________________________________________________________________\n",
            "conv2d_701 (Conv2D)             (None, 10, 10, 128)  8320        conv2d_700[0][0]                 \n",
            "__________________________________________________________________________________________________\n",
            "conv2d_703 (Conv2D)             (None, 10, 10, 32)   12832       conv2d_702[0][0]                 \n",
            "__________________________________________________________________________________________________\n",
            "conv2d_704 (Conv2D)             (None, 10, 10, 32)   6176        max_pooling2d_190[0][0]          \n",
            "__________________________________________________________________________________________________\n",
            "concatenate_94 (Concatenate)    (None, 10, 10, 256)  0           conv2d_699[0][0]                 \n",
            "                                                                 conv2d_701[0][0]                 \n",
            "                                                                 conv2d_703[0][0]                 \n",
            "                                                                 conv2d_704[0][0]                 \n",
            "__________________________________________________________________________________________________\n",
            "conv2d_706 (Conv2D)             (None, 10, 10, 128)  32896       concatenate_94[0][0]             \n",
            "__________________________________________________________________________________________________\n",
            "conv2d_708 (Conv2D)             (None, 10, 10, 32)   8224        concatenate_94[0][0]             \n",
            "__________________________________________________________________________________________________\n",
            "max_pooling2d_191 (MaxPooling2D (None, 10, 10, 256)  0           concatenate_94[0][0]             \n",
            "__________________________________________________________________________________________________\n",
            "conv2d_705 (Conv2D)             (None, 10, 10, 128)  32896       concatenate_94[0][0]             \n",
            "__________________________________________________________________________________________________\n",
            "conv2d_707 (Conv2D)             (None, 10, 10, 192)  24768       conv2d_706[0][0]                 \n",
            "__________________________________________________________________________________________________\n",
            "conv2d_709 (Conv2D)             (None, 10, 10, 96)   76896       conv2d_708[0][0]                 \n",
            "__________________________________________________________________________________________________\n",
            "conv2d_710 (Conv2D)             (None, 10, 10, 64)   16448       max_pooling2d_191[0][0]          \n",
            "__________________________________________________________________________________________________\n",
            "concatenate_95 (Concatenate)    (None, 10, 10, 480)  0           conv2d_705[0][0]                 \n",
            "                                                                 conv2d_707[0][0]                 \n",
            "                                                                 conv2d_709[0][0]                 \n",
            "                                                                 conv2d_710[0][0]                 \n",
            "__________________________________________________________________________________________________\n",
            "max_pooling2d_192 (MaxPooling2D (None, 5, 5, 480)    0           concatenate_95[0][0]             \n",
            "__________________________________________________________________________________________________\n",
            "conv2d_712 (Conv2D)             (None, 5, 5, 96)     46176       max_pooling2d_192[0][0]          \n",
            "__________________________________________________________________________________________________\n",
            "conv2d_714 (Conv2D)             (None, 5, 5, 16)     7696        max_pooling2d_192[0][0]          \n",
            "__________________________________________________________________________________________________\n",
            "max_pooling2d_193 (MaxPooling2D (None, 5, 5, 480)    0           max_pooling2d_192[0][0]          \n",
            "__________________________________________________________________________________________________\n",
            "conv2d_711 (Conv2D)             (None, 5, 5, 192)    92352       max_pooling2d_192[0][0]          \n",
            "__________________________________________________________________________________________________\n",
            "conv2d_713 (Conv2D)             (None, 5, 5, 208)    20176       conv2d_712[0][0]                 \n",
            "__________________________________________________________________________________________________\n",
            "conv2d_715 (Conv2D)             (None, 5, 5, 48)     19248       conv2d_714[0][0]                 \n",
            "__________________________________________________________________________________________________\n",
            "conv2d_716 (Conv2D)             (None, 5, 5, 64)     30784       max_pooling2d_193[0][0]          \n",
            "__________________________________________________________________________________________________\n",
            "concatenate_96 (Concatenate)    (None, 5, 5, 512)    0           conv2d_711[0][0]                 \n",
            "                                                                 conv2d_713[0][0]                 \n",
            "                                                                 conv2d_715[0][0]                 \n",
            "                                                                 conv2d_716[0][0]                 \n",
            "__________________________________________________________________________________________________\n",
            "average_pooling2d_24 (AveragePo (None, 2, 2, 512)    0           concatenate_96[0][0]             \n",
            "__________________________________________________________________________________________________\n",
            "conv2d_717 (Conv2D)             (None, 2, 2, 128)    65664       average_pooling2d_24[0][0]       \n",
            "__________________________________________________________________________________________________\n",
            "activation_167 (Activation)     (None, 2, 2, 128)    0           conv2d_717[0][0]                 \n",
            "__________________________________________________________________________________________________\n",
            "flatten_22 (Flatten)            (None, 512)          0           activation_167[0][0]             \n",
            "__________________________________________________________________________________________________\n",
            "dense_69 (Dense)                (None, 512)          262656      flatten_22[0][0]                 \n",
            "__________________________________________________________________________________________________\n",
            "activation_168 (Activation)     (None, 512)          0           dense_69[0][0]                   \n",
            "__________________________________________________________________________________________________\n",
            "dropout_43 (Dropout)            (None, 512)          0           activation_168[0][0]             \n",
            "__________________________________________________________________________________________________\n",
            "dense_70 (Dense)                (None, 30)           15390       dropout_43[0][0]                 \n",
            "==================================================================================================\n",
            "Total params: 928,670\n",
            "Trainable params: 928,670\n",
            "Non-trainable params: 0\n",
            "__________________________________________________________________________________________________\n"
          ],
          "name": "stdout"
        }
      ]
    },
    {
      "cell_type": "code",
      "metadata": {
        "id": "MjVVhELwpVRx",
        "colab_type": "code",
        "colab": {
          "base_uri": "https://localhost:8080/",
          "height": 1000
        },
        "outputId": "68208007-920e-48e4-aeb4-31f7a43c18ef"
      },
      "source": [
        "model_path = 'drive/My Drive/data/model_2D_80/'\n",
        "if not os.path.exists(model_path):\n",
        "  os.mkdir(model_path)\n",
        "\n",
        "# validattion 기준 모델 갱신\n",
        "model_file = model_path + 'epoch_{epoch:03d}_val_{val_loss:3f}.hdf5'\n",
        "checkpoint = ModelCheckpoint(filepath = model_file, monitor = 'val_loss', verbose = 1, save_best_only =True)\n",
        "\n",
        "#10회간 validatation 좋아지지 않으면 early stop\n",
        "early_stop = EarlyStopping(monitor = 'val_loss', patience = 10)\n",
        "\n",
        "history = model.fit(x_train, y_train, epochs = 100, batch_size = 64, validation_split = 0.2, shuffle = True,\n",
        "                    callbacks = [checkpoint, early_stop])"
      ],
      "execution_count": 142,
      "outputs": [
        {
          "output_type": "stream",
          "text": [
            "Train on 80000 samples, validate on 20000 samples\n",
            "Epoch 1/100\n",
            "80000/80000 [==============================] - 42s 519us/step - loss: 1.7595 - val_loss: 1.5119\n",
            "\n",
            "Epoch 00001: val_loss improved from inf to 1.51194, saving model to drive/My Drive/data/model_2D_80/epoch_001_val_1.511935.hdf5\n",
            "Epoch 2/100\n",
            "80000/80000 [==============================] - 43s 544us/step - loss: 1.4391 - val_loss: 1.2998\n",
            "\n",
            "Epoch 00002: val_loss improved from 1.51194 to 1.29981, saving model to drive/My Drive/data/model_2D_80/epoch_002_val_1.299809.hdf5\n",
            "Epoch 3/100\n",
            "80000/80000 [==============================] - 43s 543us/step - loss: 1.3032 - val_loss: 1.2223\n",
            "\n",
            "Epoch 00003: val_loss improved from 1.29981 to 1.22227, saving model to drive/My Drive/data/model_2D_80/epoch_003_val_1.222272.hdf5\n",
            "Epoch 4/100\n",
            "80000/80000 [==============================] - 43s 542us/step - loss: 1.2149 - val_loss: 1.1431\n",
            "\n",
            "Epoch 00004: val_loss improved from 1.22227 to 1.14309, saving model to drive/My Drive/data/model_2D_80/epoch_004_val_1.143086.hdf5\n",
            "Epoch 5/100\n",
            "80000/80000 [==============================] - 43s 543us/step - loss: 1.1524 - val_loss: 1.1202\n",
            "\n",
            "Epoch 00005: val_loss improved from 1.14309 to 1.12019, saving model to drive/My Drive/data/model_2D_80/epoch_005_val_1.120192.hdf5\n",
            "Epoch 6/100\n",
            "80000/80000 [==============================] - 43s 543us/step - loss: 1.1055 - val_loss: 1.0844\n",
            "\n",
            "Epoch 00006: val_loss improved from 1.12019 to 1.08442, saving model to drive/My Drive/data/model_2D_80/epoch_006_val_1.084417.hdf5\n",
            "Epoch 7/100\n",
            "80000/80000 [==============================] - 43s 542us/step - loss: 1.0670 - val_loss: 1.0852\n",
            "\n",
            "Epoch 00007: val_loss did not improve from 1.08442\n",
            "Epoch 8/100\n",
            "80000/80000 [==============================] - 43s 539us/step - loss: 1.0366 - val_loss: 1.0745\n",
            "\n",
            "Epoch 00008: val_loss improved from 1.08442 to 1.07446, saving model to drive/My Drive/data/model_2D_80/epoch_008_val_1.074457.hdf5\n",
            "Epoch 9/100\n",
            "80000/80000 [==============================] - 43s 541us/step - loss: 1.0119 - val_loss: 1.0690\n",
            "\n",
            "Epoch 00009: val_loss improved from 1.07446 to 1.06900, saving model to drive/My Drive/data/model_2D_80/epoch_009_val_1.068997.hdf5\n",
            "Epoch 10/100\n",
            "80000/80000 [==============================] - 43s 541us/step - loss: 0.9887 - val_loss: 1.0586\n",
            "\n",
            "Epoch 00010: val_loss improved from 1.06900 to 1.05857, saving model to drive/My Drive/data/model_2D_80/epoch_010_val_1.058566.hdf5\n",
            "Epoch 11/100\n",
            "80000/80000 [==============================] - 43s 541us/step - loss: 0.9674 - val_loss: 1.0483\n",
            "\n",
            "Epoch 00011: val_loss improved from 1.05857 to 1.04827, saving model to drive/My Drive/data/model_2D_80/epoch_011_val_1.048269.hdf5\n",
            "Epoch 12/100\n",
            "80000/80000 [==============================] - 43s 543us/step - loss: 0.9492 - val_loss: 1.0658\n",
            "\n",
            "Epoch 00012: val_loss did not improve from 1.04827\n",
            "Epoch 13/100\n",
            "80000/80000 [==============================] - 44s 544us/step - loss: 0.9332 - val_loss: 1.0572\n",
            "\n",
            "Epoch 00013: val_loss did not improve from 1.04827\n",
            "Epoch 14/100\n",
            "80000/80000 [==============================] - 43s 542us/step - loss: 0.9191 - val_loss: 1.0580\n",
            "\n",
            "Epoch 00014: val_loss did not improve from 1.04827\n",
            "Epoch 15/100\n",
            "80000/80000 [==============================] - 43s 543us/step - loss: 0.9045 - val_loss: 1.0672\n",
            "\n",
            "Epoch 00015: val_loss did not improve from 1.04827\n",
            "Epoch 16/100\n",
            "80000/80000 [==============================] - 43s 544us/step - loss: 0.8927 - val_loss: 1.0510\n",
            "\n",
            "Epoch 00016: val_loss did not improve from 1.04827\n",
            "Epoch 17/100\n",
            "80000/80000 [==============================] - 43s 542us/step - loss: 0.8823 - val_loss: 1.0684\n",
            "\n",
            "Epoch 00017: val_loss did not improve from 1.04827\n",
            "Epoch 18/100\n",
            "80000/80000 [==============================] - 44s 545us/step - loss: 0.8687 - val_loss: 1.0745\n",
            "\n",
            "Epoch 00018: val_loss did not improve from 1.04827\n",
            "Epoch 19/100\n",
            "80000/80000 [==============================] - 44s 544us/step - loss: 0.8604 - val_loss: 1.0745\n",
            "\n",
            "Epoch 00019: val_loss did not improve from 1.04827\n",
            "Epoch 20/100\n",
            "80000/80000 [==============================] - 43s 544us/step - loss: 0.8493 - val_loss: 1.0754\n",
            "\n",
            "Epoch 00020: val_loss did not improve from 1.04827\n",
            "Epoch 21/100\n",
            "80000/80000 [==============================] - 43s 541us/step - loss: 0.8405 - val_loss: 1.0683\n",
            "\n",
            "Epoch 00021: val_loss did not improve from 1.04827\n"
          ],
          "name": "stdout"
        }
      ]
    },
    {
      "cell_type": "code",
      "metadata": {
        "id": "ThjQ2OxOpagC",
        "colab_type": "code",
        "colab": {
          "base_uri": "https://localhost:8080/",
          "height": 282
        },
        "outputId": "1b913526-ac5f-4cc7-ddb8-e58420246497"
      },
      "source": [
        "plt.plot(history.epoch, history.history['loss'], '-o', label='training_loss')\n",
        "plt.plot(history.epoch, history.history['val_loss'], '-o', label='validation_loss')\n",
        "plt.legend()\n",
        "plt.xlim(left=0)\n",
        "plt.xlabel('epochs')\n",
        "plt.ylabel('loss')\n",
        "plt.show()"
      ],
      "execution_count": 143,
      "outputs": [
        {
          "output_type": "display_data",
          "data": {
            "image/png": "[encoded data removed]",
            "text/plain": [
              "<Figure size 432x288 with 1 Axes>"
            ]
          },
          "metadata": {
            "tags": [],
            "needs_background": "light"
          }
        }
      ]
    },
    {
      "cell_type": "code",
      "metadata": {
        "id": "KqdxGfg9vu1u",
        "colab_type": "code",
        "colab": {}
      },
      "source": [
        "x_test = pd.read_pickle('drive/My Drive/data/x_test_mfcc_80.pickle')\n",
        "source_test = x_test.values\n",
        " \n",
        "binary_test = list((map(make_binary,source_test)))\n",
        "binary_test =  np.array(binary_test)\n",
        "\n",
        "x_nor_test = list((map(normalize,source_test)))\n",
        "x_nor_test = np.array(x_nor_test)\n",
        "\n",
        "x_nor_test = x_nor_test.reshape(10000,80,-1,1)\n",
        "binary_test = binary_test.reshape(10000,80,-1,1)\n",
        "x_test = np.concatenate((x_nor_test.T, binary_test.T), axis=0)\n",
        "x_test = x_test.T"
      ],
      "execution_count": null,
      "outputs": []
    },
    {
      "cell_type": "code",
      "metadata": {
        "id": "8jRuGIQiwMH5",
        "colab_type": "code",
        "colab": {
          "base_uri": "https://localhost:8080/",
          "height": 35
        },
        "outputId": "9d9158c9-d885-49a6-9749-e0877c964ed8"
      },
      "source": [
        "x_test.shape"
      ],
      "execution_count": null,
      "outputs": [
        {
          "output_type": "execute_result",
          "data": {
            "text/plain": [
              "(10000, 80, 80, 2)"
            ]
          },
          "metadata": {
            "tags": []
          },
          "execution_count": 13
        }
      ]
    },
    {
      "cell_type": "code",
      "metadata": {
        "id": "z9CSvMCRpckU",
        "colab_type": "code",
        "colab": {
          "base_uri": "https://localhost:8080/",
          "height": 35
        },
        "outputId": "052ccf39-495f-4be7-b528-c94f1fccb555"
      },
      "source": [
        "# 가장 좋은 모델의 weight를 불러옵니다.\n",
        "weigth_file = glob('drive/My Drive/data/model_2D_80/*.hdf5')[-1]\n",
        "print(weigth_file)\n",
        "model.load_weights(weigth_file)\n",
        "\n",
        "# 예측 수행\n",
        "y_pred = model.predict(x_test)\n",
        "\n",
        "# 예측 결과로 제출 파일을 생성합니다.\n",
        "submission = pd.read_csv('drive/My Drive/data/submission.csv', index_col=0)\n",
        "submission.loc[:, :] = y_pred\n",
        "submission.to_csv('drive/My Drive/data/submission.csv')"
      ],
      "execution_count": null,
      "outputs": [
        {
          "output_type": "stream",
          "text": [
            "drive/My Drive/data/model_2D_80/epoch_012_val_1.038679.hdf5\n"
          ],
          "name": "stdout"
        }
      ]
    },
    {
      "cell_type": "markdown",
      "metadata": {
        "id": "xvEgMRVVKmbr",
        "colab_type": "text"
      },
      "source": [
        "# k_logistic 활성함수"
      ]
    },
    {
      "cell_type": "code",
      "metadata": {
        "id": "MEw7oSjMmn1y",
        "colab_type": "code",
        "colab": {
          "base_uri": "https://localhost:8080/",
          "height": 283
        },
        "outputId": "09c90de9-3afc-4225-aca9-d919d93b0835"
      },
      "source": [
        "def k_logistic(x):\n",
        "  a = x\n",
        "  k = 50\n",
        "  \n",
        "  return (0.25/(1+np.exp(-k*(a-0.2)))) + (0.25/(1+np.exp(-k*(a-0.4)))) + (0.25/(1+np.exp(-k*(a-0.6)))) + (0.25/(1+np.exp(-k*(a-0.8))))\n",
        "\n",
        "arr = np.array([(x/100) for x in range(0,100)])\n",
        "\n",
        "arr = k_logistic(arr)\n",
        "\n",
        "plt.plot([(x/100) for x in range(0,100)],arr)"
      ],
      "execution_count": 128,
      "outputs": [
        {
          "output_type": "execute_result",
          "data": {
            "text/plain": [
              "[<matplotlib.lines.Line2D at 0x7f25119882e8>]"
            ]
          },
          "metadata": {
            "tags": []
          },
          "execution_count": 128
        },
        {
          "output_type": "display_data",
          "data": {
            "image/png": "[encoded data removed]",
            "text/plain": [
              "<Figure size 432x288 with 1 Axes>"
            ]
          },
          "metadata": {
            "tags": [],
            "needs_background": "light"
          }
        }
      ]
    },
    {
      "cell_type": "markdown",
      "metadata": {
        "id": "JpmsKLOtQ3l7",
        "colab_type": "text"
      },
      "source": [
        "# 7/23\n",
        "\n",
        "--------------------------------------\n",
        "\n",
        "**모델** : epoch_015_val_**1.122891**..hdf5(2D model_deepCNN)\n",
        "  \n",
        "**데이터**: x_trian_mfcc_80\n",
        "  \n",
        "**score** : **1.17593**\n",
        "\n",
        "--------------------------------------\n",
        "\n",
        "**모델** : epoch_012_val_**1.038679**.hdf5(2D model_deepCNN,GELU)\n",
        "  \n",
        "**데이터**: x_trian_mfcc_80\n",
        "  \n",
        "**score** : **1.0831**\n",
        "\n",
        "--------------------------------------\n",
        "\n",
        "feedback : 1.0이하로 안떨러진다 -> augmentation, raw wave, 더 큰 mfcc  \n"
      ]
    }
  ]
}
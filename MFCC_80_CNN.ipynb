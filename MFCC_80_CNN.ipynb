{
  "nbformat": 4,
  "nbformat_minor": 0,
  "metadata": {
    "colab": {
      "name": "MFCC_80_CNN",
      "provenance": [],
      "collapsed_sections": [],
      "machine_shape": "hm",
      "authorship_tag": "ABX9TyPIZd2BF6YESKyHTzNEhDou",
      "include_colab_link": true
    },
    "kernelspec": {
      "name": "python3",
      "display_name": "Python 3"
    },
    "accelerator": "GPU"
  },
  "cells": [
    {
      "cell_type": "markdown",
      "metadata": {
        "id": "view-in-github",
        "colab_type": "text"
      },
      "source": [
        "<a href=\"https://colab.research.google.com/github/100jy/voice_competition/blob/master/MFCC_80_CNN.ipynb\" target=\"_parent\"><img src=\"https://colab.research.google.com/assets/colab-badge.svg\" alt=\"Open In Colab\"/></a>"
      ]
    },
    {
      "cell_type": "code",
      "metadata": {
        "id": "0X_pWF5vUg6P",
        "colab_type": "code",
        "colab": {
          "base_uri": "https://localhost:8080/",
          "height": 127
        },
        "outputId": "b135b540-ceaa-4df3-a424-777480d16284"
      },
      "source": [
        "#구글 드라이브 연동\n",
        "from google.colab import drive\n",
        "drive.mount('/content/drive')"
      ],
      "execution_count": 1,
      "outputs": [
        {
          "output_type": "stream",
          "text": [
            "Go to this URL in a browser: https://accounts.google.com/o/oauth2/auth?client_id=947318989803-6bn6qk8qdgf4n4g3pfee6491hc0brc4i.apps.googleusercontent.com&redirect_uri=urn%3aietf%3awg%3aoauth%3a2.0%3aoob&response_type=code&scope=email%20https%3a%2f%2fwww.googleapis.com%2fauth%2fdocs.test%20https%3a%2f%2fwww.googleapis.com%2fauth%2fdrive%20https%3a%2f%2fwww.googleapis.com%2fauth%2fdrive.photos.readonly%20https%3a%2f%2fwww.googleapis.com%2fauth%2fpeopleapi.readonly\n",
            "\n",
            "Enter your authorization code:\n",
            "··········\n",
            "Mounted at /content/drive\n"
          ],
          "name": "stdout"
        }
      ]
    },
    {
      "cell_type": "code",
      "metadata": {
        "id": "RPdGafVKU2nM",
        "colab_type": "code",
        "colab": {
          "base_uri": "https://localhost:8080/",
          "height": 35
        },
        "outputId": "70584bf0-bff8-4300-8aff-3b8565552774"
      },
      "source": [
        "import os\n",
        "import pandas as pd\n",
        "import numpy as np\n",
        "import matplotlib.pyplot as plt\n",
        "import scipy\n",
        "import tensorflow as tf\n",
        "import keras\n",
        "from tqdm import tqdm\n",
        "from glob import glob\n",
        "from scipy.io import wavfile\n",
        "from keras.models import Sequential\n",
        "from keras.layers import Dense, Conv1D, MaxPooling1D, Conv2D, MaxPooling2D, Flatten, BatchNormalization,Dropout, Activation, GlobalAveragePooling2D\n",
        "from keras.callbacks import ModelCheckpoint, EarlyStopping\n",
        "import librosa\n",
        "import librosa.display"
      ],
      "execution_count": 2,
      "outputs": [
        {
          "output_type": "stream",
          "text": [
            "Using TensorFlow backend.\n"
          ],
          "name": "stderr"
        }
      ]
    },
    {
      "cell_type": "code",
      "metadata": {
        "id": "8lZydI7opkrT",
        "colab_type": "code",
        "colab": {
          "base_uri": "https://localhost:8080/",
          "height": 35
        },
        "outputId": "cd4c5508-4684-4fee-dbc0-a7ab32472b21"
      },
      "source": [
        "y_train = pd.read_csv('drive/My Drive/data/train_answer.csv',index_col=0)\n",
        "y_train = y_train.values\n",
        "y_train.shape"
      ],
      "execution_count": 3,
      "outputs": [
        {
          "output_type": "execute_result",
          "data": {
            "text/plain": [
              "(100000, 30)"
            ]
          },
          "metadata": {
            "tags": []
          },
          "execution_count": 3
        }
      ]
    },
    {
      "cell_type": "markdown",
      "metadata": {
        "id": "DXvgFkbeUwdh",
        "colab_type": "text"
      },
      "source": [
        "# 데이터 확인 및 채널 추가\n"
      ]
    },
    {
      "cell_type": "code",
      "metadata": {
        "id": "wrTkVUPvUvrE",
        "colab_type": "code",
        "colab": {}
      },
      "source": [
        "#MFCC\n",
        "x_train = pd.read_pickle('drive/My Drive/data/x_trian_mfcc_80.pickle')\n",
        "source = x_train.values\n",
        "\n",
        "\n",
        "##normalize\n",
        "def normalize(x):\n",
        "  return (x - np.mean(x)) / np.std(x)\n",
        "\n",
        "## binary\n",
        "def make_binary(x):\n",
        "  np.ones_like(len(x))\n",
        "  mask = (x > 0)\n",
        "  return np.ones_like(len(x)) * mask\n",
        " \n",
        "binary = list((map(make_binary,source)))\n",
        "binary =  np.array(binary)\n",
        "\n",
        "x_nor = list((map(normalize,source)))\n",
        "x_nor = np.array(x_nor)"
      ],
      "execution_count": 4,
      "outputs": []
    },
    {
      "cell_type": "markdown",
      "metadata": {
        "id": "Q3vnUIbjV959",
        "colab_type": "text"
      },
      "source": [
        "## 결과 확인"
      ]
    },
    {
      "cell_type": "code",
      "metadata": {
        "id": "GpKyRn_wV7eC",
        "colab_type": "code",
        "colab": {
          "base_uri": "https://localhost:8080/",
          "height": 194
        },
        "outputId": "6d990c4e-e23d-488c-ccc1-f1deaf14a105"
      },
      "source": [
        "mfcc = [source[0].reshape(80,-1),binary[0].reshape(80,-1),x_nor[0].reshape(80,-1)]\n",
        "plt.figure(figsize=(15,10))\n",
        "\n",
        "for i in range(3):\n",
        "  st = '33'+str(i+1)\n",
        "  plt.subplot(st)\n",
        "  librosa.display.specshow(mfcc[i])"
      ],
      "execution_count": null,
      "outputs": [
        {
          "output_type": "display_data",
          "data": {
            "image/png": "[encoded data removed]",
            "text/plain": [
              "<Figure size 1080x720 with 3 Axes>"
            ]
          },
          "metadata": {
            "tags": []
          }
        }
      ]
    },
    {
      "cell_type": "code",
      "metadata": {
        "id": "L6qVCgZRma2j",
        "colab_type": "code",
        "colab": {}
      },
      "source": [
        "x_nor = x_nor.reshape(100000,80,-1,1)\n",
        "binary = binary.reshape(100000,80,-1,1)"
      ],
      "execution_count": 5,
      "outputs": []
    },
    {
      "cell_type": "code",
      "metadata": {
        "id": "ioy7KXHjnVMZ",
        "colab_type": "code",
        "colab": {
          "base_uri": "https://localhost:8080/",
          "height": 35
        },
        "outputId": "05b0355f-d354-4045-a37c-b4f9d159d3d6"
      },
      "source": [
        "x_nor.shape"
      ],
      "execution_count": null,
      "outputs": [
        {
          "output_type": "execute_result",
          "data": {
            "text/plain": [
              "(100000, 80, 80, 1)"
            ]
          },
          "metadata": {
            "tags": []
          },
          "execution_count": 7
        }
      ]
    },
    {
      "cell_type": "code",
      "metadata": {
        "id": "ah5Qb5VHeRCz",
        "colab_type": "code",
        "colab": {
          "base_uri": "https://localhost:8080/",
          "height": 35
        },
        "outputId": "be948f3b-23a6-4ca0-b80a-0074d3e3ddfc"
      },
      "source": [
        "# 데이터 2ch로 수정...\n",
        "x_train = np.concatenate((x_nor.T, binary.T), axis=0)\n",
        "x_train.shape"
      ],
      "execution_count": 6,
      "outputs": [
        {
          "output_type": "execute_result",
          "data": {
            "text/plain": [
              "(2, 80, 80, 100000)"
            ]
          },
          "metadata": {
            "tags": []
          },
          "execution_count": 6
        }
      ]
    },
    {
      "cell_type": "code",
      "metadata": {
        "id": "9MuR9GREfwcA",
        "colab_type": "code",
        "colab": {
          "base_uri": "https://localhost:8080/",
          "height": 281
        },
        "outputId": "89c48174-08ad-4488-e80c-bdd97f6ba676"
      },
      "source": [
        "plt.figure(figsize=(15,10))\n",
        "for i in range(2):\n",
        "  st = '22'+str(i+1)\n",
        "  plt.subplot(st)\n",
        "  librosa.display.specshow(x_train[i].T[0])"
      ],
      "execution_count": null,
      "outputs": [
        {
          "output_type": "display_data",
          "data": {
            "image/png": "[encoded data removed]",
            "text/plain": [
              "<Figure size 1080x720 with 2 Axes>"
            ]
          },
          "metadata": {
            "tags": []
          }
        }
      ]
    },
    {
      "cell_type": "code",
      "metadata": {
        "id": "cnOguv34hpcR",
        "colab_type": "code",
        "colab": {}
      },
      "source": [
        "x_train = x_train.T"
      ],
      "execution_count": 7,
      "outputs": []
    },
    {
      "cell_type": "code",
      "metadata": {
        "id": "EuCxieeqiElW",
        "colab_type": "code",
        "colab": {
          "base_uri": "https://localhost:8080/",
          "height": 35
        },
        "outputId": "980c903a-5e8d-4104-b694-62e19a9cc6b6"
      },
      "source": [
        "x_train.shape"
      ],
      "execution_count": 8,
      "outputs": [
        {
          "output_type": "execute_result",
          "data": {
            "text/plain": [
              "(100000, 80, 80, 2)"
            ]
          },
          "metadata": {
            "tags": []
          },
          "execution_count": 8
        }
      ]
    },
    {
      "cell_type": "markdown",
      "metadata": {
        "id": "O1O4yimphLKw",
        "colab_type": "text"
      },
      "source": [
        "# model architecture"
      ]
    },
    {
      "cell_type": "code",
      "metadata": {
        "id": "azumjzMAgytX",
        "colab_type": "code",
        "colab": {
          "base_uri": "https://localhost:8080/",
          "height": 665
        },
        "outputId": "4d29c7ef-0b0b-4bf0-b535-879713c5d1aa"
      },
      "source": [
        "### padding valid, dropout 0.3, shorter fully-conneted\n",
        "##GlobalAveragePooling\n",
        "#CNN\n",
        "model = Sequential()\n",
        "model.add(Conv2D(64, kernel_size = (3,3), strides = (1,1),activation='relu', input_shape = (x_train.shape[1], x_train.shape[2],2)))\n",
        "model.add(MaxPooling2D((2,2)))\n",
        "\n",
        "model.add(Conv2D(128, kernel_size = (3,3), strides = (1,1),activation='relu'))\n",
        "model.add(MaxPooling2D((2,2)))\n",
        "\n",
        "model.add(Conv2D(128, kernel_size = (3,3), strides = (1,1),activation='relu'))\n",
        "model.add(MaxPooling2D((2,2)))\n",
        "\n",
        "model.add(Conv2D(128, kernel_size = (3,3), strides = (1,1),activation='relu'))\n",
        "model.add(MaxPooling2D((2,2)))\n",
        "model.add(GlobalAveragePooling2D())\n",
        "\n",
        "#fully connected layer\n",
        "model.add(Dense(128, activation='relu'))\n",
        "model.add(Dropout(0.3))\n",
        "model.add(Dense(30, activation='softmax'))\n",
        "model.compile(loss=keras.losses.KLDivergence(), optimizer = 'adam')\n",
        "model.summary()"
      ],
      "execution_count": null,
      "outputs": [
        {
          "output_type": "stream",
          "text": [
            "Model: \"sequential_2\"\n",
            "_________________________________________________________________\n",
            "Layer (type)                 Output Shape              Param #   \n",
            "=================================================================\n",
            "conv2d_5 (Conv2D)            (None, 78, 78, 64)        1216      \n",
            "_________________________________________________________________\n",
            "max_pooling2d_5 (MaxPooling2 (None, 39, 39, 64)        0         \n",
            "_________________________________________________________________\n",
            "conv2d_6 (Conv2D)            (None, 37, 37, 128)       73856     \n",
            "_________________________________________________________________\n",
            "max_pooling2d_6 (MaxPooling2 (None, 18, 18, 128)       0         \n",
            "_________________________________________________________________\n",
            "conv2d_7 (Conv2D)            (None, 16, 16, 128)       147584    \n",
            "_________________________________________________________________\n",
            "max_pooling2d_7 (MaxPooling2 (None, 8, 8, 128)         0         \n",
            "_________________________________________________________________\n",
            "conv2d_8 (Conv2D)            (None, 6, 6, 128)         147584    \n",
            "_________________________________________________________________\n",
            "max_pooling2d_8 (MaxPooling2 (None, 3, 3, 128)         0         \n",
            "_________________________________________________________________\n",
            "global_average_pooling2d_2 ( (None, 128)               0         \n",
            "_________________________________________________________________\n",
            "dense_3 (Dense)              (None, 128)               16512     \n",
            "_________________________________________________________________\n",
            "dropout_2 (Dropout)          (None, 128)               0         \n",
            "_________________________________________________________________\n",
            "dense_4 (Dense)              (None, 128)               16512     \n",
            "_________________________________________________________________\n",
            "dropout_3 (Dropout)          (None, 128)               0         \n",
            "_________________________________________________________________\n",
            "dense_5 (Dense)              (None, 30)                3870      \n",
            "=================================================================\n",
            "Total params: 407,134\n",
            "Trainable params: 407,134\n",
            "Non-trainable params: 0\n",
            "_________________________________________________________________\n"
          ],
          "name": "stdout"
        }
      ]
    },
    {
      "cell_type": "code",
      "metadata": {
        "id": "249QHtNbuh7u",
        "colab_type": "code",
        "colab": {
          "base_uri": "https://localhost:8080/",
          "height": 665
        },
        "outputId": "3ef72b09-047d-4e27-d0d6-2bcf887c71f2"
      },
      "source": [
        "### padding valid, dropout 0.3, shorter fully-conneted\n",
        "##GlobalAveragePooling\n",
        "#CNN\n",
        "model = Sequential()\n",
        "model.add(Conv2D(64, kernel_size = (3,3), strides = (1,1),activation='relu', input_shape = (x_train.shape[1], x_train.shape[2],2)))\n",
        "model.add(MaxPooling2D((2,2)))\n",
        "\n",
        "model.add(Conv2D(128, kernel_size = (3,3), strides = (1,1),activation='relu'))\n",
        "model.add(MaxPooling2D((2,2)))\n",
        "\n",
        "model.add(Conv2D(128, kernel_size = (3,3), strides = (1,1),activation='relu'))\n",
        "model.add(MaxPooling2D((2,2)))\n",
        "\n",
        "model.add(Conv2D(128, kernel_size = (3,3), strides = (1,1),activation='relu'))\n",
        "model.add(MaxPooling2D((2,2)))\n",
        "model.add(GlobalAveragePooling2D())\n",
        "\n",
        "#fully connected layer\n",
        "#1-layer add\n",
        "model.add(Dense(128, activation='relu'))\n",
        "model.add(Dropout(0.3))\n",
        "model.add(Dense(128, activation='relu'))\n",
        "model.add(Dropout(0.3))\n",
        "model.add(Dense(30, activation='softmax'))\n",
        "model.compile(loss=keras.losses.KLDivergence(), optimizer = 'adam')\n",
        "model.summary()"
      ],
      "execution_count": null,
      "outputs": [
        {
          "output_type": "stream",
          "text": [
            "Model: \"sequential_3\"\n",
            "_________________________________________________________________\n",
            "Layer (type)                 Output Shape              Param #   \n",
            "=================================================================\n",
            "conv2d_9 (Conv2D)            (None, 78, 78, 64)        1216      \n",
            "_________________________________________________________________\n",
            "max_pooling2d_9 (MaxPooling2 (None, 39, 39, 64)        0         \n",
            "_________________________________________________________________\n",
            "conv2d_10 (Conv2D)           (None, 37, 37, 128)       73856     \n",
            "_________________________________________________________________\n",
            "max_pooling2d_10 (MaxPooling (None, 18, 18, 128)       0         \n",
            "_________________________________________________________________\n",
            "conv2d_11 (Conv2D)           (None, 16, 16, 128)       147584    \n",
            "_________________________________________________________________\n",
            "max_pooling2d_11 (MaxPooling (None, 8, 8, 128)         0         \n",
            "_________________________________________________________________\n",
            "conv2d_12 (Conv2D)           (None, 6, 6, 128)         147584    \n",
            "_________________________________________________________________\n",
            "max_pooling2d_12 (MaxPooling (None, 3, 3, 128)         0         \n",
            "_________________________________________________________________\n",
            "global_average_pooling2d_3 ( (None, 128)               0         \n",
            "_________________________________________________________________\n",
            "dense_6 (Dense)              (None, 128)               16512     \n",
            "_________________________________________________________________\n",
            "dropout_4 (Dropout)          (None, 128)               0         \n",
            "_________________________________________________________________\n",
            "dense_7 (Dense)              (None, 128)               16512     \n",
            "_________________________________________________________________\n",
            "dropout_5 (Dropout)          (None, 128)               0         \n",
            "_________________________________________________________________\n",
            "dense_8 (Dense)              (None, 30)                3870      \n",
            "=================================================================\n",
            "Total params: 407,134\n",
            "Trainable params: 407,134\n",
            "Non-trainable params: 0\n",
            "_________________________________________________________________\n"
          ],
          "name": "stdout"
        }
      ]
    },
    {
      "cell_type": "code",
      "metadata": {
        "id": "7JZp5RXR7Lu2",
        "colab_type": "code",
        "colab": {
          "base_uri": "https://localhost:8080/",
          "height": 1000
        },
        "outputId": "3605502c-2e0a-4eb4-d7bc-0c5ca3cfa3ea"
      },
      "source": [
        "#deep_cnn\n",
        "#from https://buomsoo-kim.github.io/keras/2018/05/05/Easy-deep-learning-with-Keras-11.md/ \n",
        "model = Sequential()\n",
        "\n",
        "model.add(Conv2D(64, kernel_size = (3,3), strides = (1,1),\n",
        "                      input_shape = (x_train.shape[1], x_train.shape[2],2), padding = 'same',kernel_initializer = 'he_normal'))\n",
        "model.add(BatchNormalization())\n",
        "model.add(Activation('relu'))\n",
        "model.add(Conv2D(64, kernel_size = (3,3), strides = (1,1),padding = 'same', kernel_initializer='he_normal'))\n",
        "model.add(BatchNormalization())\n",
        "model.add(Activation('relu'))\n",
        "model.add(MaxPooling2D((2,2)))\n",
        "\n",
        "model.add(Conv2D(128, kernel_size = (3,3), strides = (1,1),padding = 'same', kernel_initializer='he_normal'))\n",
        "model.add(BatchNormalization())\n",
        "model.add(Activation('relu'))\n",
        "model.add(Conv2D(128, kernel_size = (3,3), strides = (1,1),padding = 'same', kernel_initializer='he_normal'))\n",
        "model.add(BatchNormalization())\n",
        "model.add(Activation('relu'))\n",
        "model.add(MaxPooling2D((2,2)))\n",
        "\n",
        "model.add(Conv2D(128, kernel_size = (3,3), strides = (1,1),padding = 'same', kernel_initializer='he_normal'))\n",
        "model.add(BatchNormalization())\n",
        "model.add(Activation('relu'))\n",
        "model.add(Conv2D(128, kernel_size = (3,3), strides = (1,1),padding = 'same', kernel_initializer='he_normal'))\n",
        "model.add(BatchNormalization())\n",
        "model.add(Activation('relu'))\n",
        "model.add(MaxPooling2D((2,2)))\n",
        "\n",
        "model.add(Conv2D(128, kernel_size = (3,3), strides = (1,1),padding = 'same', kernel_initializer='he_normal'))\n",
        "model.add(BatchNormalization())\n",
        "model.add(Activation('relu'))\n",
        "model.add(Conv2D(128, kernel_size = (3,3), strides = (1,1),padding = 'same', kernel_initializer='he_normal'))\n",
        "model.add(BatchNormalization())\n",
        "model.add(Activation('relu'))\n",
        "model.add(MaxPooling2D((2,2)))\n",
        "\n",
        "model.add(GlobalAveragePooling2D())\n",
        "#model.add(Flatten())\n",
        "\n",
        "#fully connected layer\n",
        "#1-layer add\n",
        "##BatchNormalization\n",
        "model.add(Dense(128, activation='relu'))\n",
        "model.add(Dropout(0.5))\n",
        "model.add(Dense(30, activation='softmax'))\n",
        "model.compile(loss=keras.losses.KLDivergence(), optimizer = 'adam')\n",
        "model.summary()"
      ],
      "execution_count": null,
      "outputs": [
        {
          "output_type": "stream",
          "text": [
            "Model: \"sequential_10\"\n",
            "_________________________________________________________________\n",
            "Layer (type)                 Output Shape              Param #   \n",
            "=================================================================\n",
            "conv2d_59 (Conv2D)           (None, 80, 80, 64)        1216      \n",
            "_________________________________________________________________\n",
            "batch_normalization_47 (Batc (None, 80, 80, 64)        256       \n",
            "_________________________________________________________________\n",
            "activation_47 (Activation)   (None, 80, 80, 64)        0         \n",
            "_________________________________________________________________\n",
            "conv2d_60 (Conv2D)           (None, 80, 80, 64)        36928     \n",
            "_________________________________________________________________\n",
            "batch_normalization_48 (Batc (None, 80, 80, 64)        256       \n",
            "_________________________________________________________________\n",
            "activation_48 (Activation)   (None, 80, 80, 64)        0         \n",
            "_________________________________________________________________\n",
            "max_pooling2d_36 (MaxPooling (None, 40, 40, 64)        0         \n",
            "_________________________________________________________________\n",
            "conv2d_61 (Conv2D)           (None, 40, 40, 128)       73856     \n",
            "_________________________________________________________________\n",
            "batch_normalization_49 (Batc (None, 40, 40, 128)       512       \n",
            "_________________________________________________________________\n",
            "activation_49 (Activation)   (None, 40, 40, 128)       0         \n",
            "_________________________________________________________________\n",
            "conv2d_62 (Conv2D)           (None, 40, 40, 128)       147584    \n",
            "_________________________________________________________________\n",
            "batch_normalization_50 (Batc (None, 40, 40, 128)       512       \n",
            "_________________________________________________________________\n",
            "activation_50 (Activation)   (None, 40, 40, 128)       0         \n",
            "_________________________________________________________________\n",
            "max_pooling2d_37 (MaxPooling (None, 20, 20, 128)       0         \n",
            "_________________________________________________________________\n",
            "conv2d_63 (Conv2D)           (None, 20, 20, 256)       295168    \n",
            "_________________________________________________________________\n",
            "batch_normalization_51 (Batc (None, 20, 20, 256)       1024      \n",
            "_________________________________________________________________\n",
            "activation_51 (Activation)   (None, 20, 20, 256)       0         \n",
            "_________________________________________________________________\n",
            "conv2d_64 (Conv2D)           (None, 20, 20, 256)       590080    \n",
            "_________________________________________________________________\n",
            "batch_normalization_52 (Batc (None, 20, 20, 256)       1024      \n",
            "_________________________________________________________________\n",
            "activation_52 (Activation)   (None, 20, 20, 256)       0         \n",
            "_________________________________________________________________\n",
            "max_pooling2d_38 (MaxPooling (None, 10, 10, 256)       0         \n",
            "_________________________________________________________________\n",
            "conv2d_65 (Conv2D)           (None, 10, 10, 512)       1180160   \n",
            "_________________________________________________________________\n",
            "batch_normalization_53 (Batc (None, 10, 10, 512)       2048      \n",
            "_________________________________________________________________\n",
            "activation_53 (Activation)   (None, 10, 10, 512)       0         \n",
            "_________________________________________________________________\n",
            "conv2d_66 (Conv2D)           (None, 10, 10, 512)       2359808   \n",
            "_________________________________________________________________\n",
            "batch_normalization_54 (Batc (None, 10, 10, 512)       2048      \n",
            "_________________________________________________________________\n",
            "activation_54 (Activation)   (None, 10, 10, 512)       0         \n",
            "_________________________________________________________________\n",
            "max_pooling2d_39 (MaxPooling (None, 5, 5, 512)         0         \n",
            "_________________________________________________________________\n",
            "global_average_pooling2d_9 ( (None, 512)               0         \n",
            "_________________________________________________________________\n",
            "dense_21 (Dense)             (None, 128)               65664     \n",
            "_________________________________________________________________\n",
            "dropout_12 (Dropout)         (None, 128)               0         \n",
            "_________________________________________________________________\n",
            "dense_22 (Dense)             (None, 30)                3870      \n",
            "=================================================================\n",
            "Total params: 4,762,014\n",
            "Trainable params: 4,758,174\n",
            "Non-trainable params: 3,840\n",
            "_________________________________________________________________\n"
          ],
          "name": "stdout"
        }
      ]
    },
    {
      "cell_type": "code",
      "metadata": {
        "id": "C4hZsybjSidI",
        "colab_type": "code",
        "colab": {
          "base_uri": "https://localhost:8080/",
          "height": 1000
        },
        "outputId": "8dc7b388-70a1-43c5-ca5e-4caedf070692"
      },
      "source": [
        "#DeepCNN with Gelu\n",
        "def gelu(x):\n",
        "    return 0.5*x*(1+tf.tanh(np.sqrt(2/np.pi)*(x+0.044715*tf.pow(x, 3))))\n",
        "\n",
        "#deep_cnn\n",
        "#from https://buomsoo-kim.github.io/keras/2018/05/05/Easy-deep-learning-with-Keras-11.md/ \n",
        "#similar to VGG16\n",
        "model = Sequential()\n",
        "\n",
        "model.add(Conv2D(64, kernel_size = (3,3), strides = (1,1),\n",
        "                      input_shape = (x_train.shape[1], x_train.shape[2],2), padding = 'same',kernel_initializer = 'he_normal'))\n",
        "model.add(BatchNormalization())\n",
        "model.add(Activation(gelu))\n",
        "model.add(Conv2D(64, kernel_size = (3,3), strides = (1,1),padding = 'same', kernel_initializer='he_normal'))\n",
        "model.add(BatchNormalization())\n",
        "model.add(Activation(gelu))\n",
        "model.add(MaxPooling2D((2,2)))\n",
        "\n",
        "model.add(Conv2D(128, kernel_size = (3,3), strides = (1,1),padding = 'same', kernel_initializer='he_normal'))\n",
        "model.add(BatchNormalization())\n",
        "model.add(Activation(gelu))\n",
        "model.add(Conv2D(128, kernel_size = (3,3), strides = (1,1),padding = 'same', kernel_initializer='he_normal'))\n",
        "model.add(BatchNormalization())\n",
        "model.add(Activation(gelu))\n",
        "model.add(MaxPooling2D((2,2)))\n",
        "\n",
        "model.add(Conv2D(128, kernel_size = (3,3), strides = (1,1),padding = 'same', kernel_initializer='he_normal'))\n",
        "model.add(BatchNormalization())\n",
        "model.add(Activation(gelu))\n",
        "model.add(Conv2D(128, kernel_size = (3,3), strides = (1,1),padding = 'same', kernel_initializer='he_normal'))\n",
        "model.add(BatchNormalization())\n",
        "model.add(Activation(gelu))\n",
        "model.add(MaxPooling2D((2,2)))\n",
        "\n",
        "model.add(Conv2D(128, kernel_size = (3,3), strides = (1,1),padding = 'same', kernel_initializer='he_normal'))\n",
        "model.add(BatchNormalization())\n",
        "model.add(Activation(gelu))\n",
        "model.add(Conv2D(128, kernel_size = (3,3), strides = (1,1),padding = 'same', kernel_initializer='he_normal'))\n",
        "model.add(BatchNormalization())\n",
        "model.add(Activation(gelu))\n",
        "model.add(MaxPooling2D((2,2)))\n",
        "\n",
        "model.add(GlobalAveragePooling2D())\n",
        "#model.add(Flatten())\n",
        "\n",
        "#fully connected layer\n",
        "#1-layer add\n",
        "##BatchNormalization\n",
        "model.add(Dense(128, activation='relu'))\n",
        "model.add(Dropout(0.5))\n",
        "model.add(Dense(30, activation='softmax'))\n",
        "model.compile(loss=keras.losses.KLDivergence(), optimizer = 'adam')\n",
        "model.summary()\n"
      ],
      "execution_count": 9,
      "outputs": [
        {
          "output_type": "stream",
          "text": [
            "Model: \"sequential_1\"\n",
            "_________________________________________________________________\n",
            "Layer (type)                 Output Shape              Param #   \n",
            "=================================================================\n",
            "conv2d_1 (Conv2D)            (None, 80, 80, 64)        1216      \n",
            "_________________________________________________________________\n",
            "batch_normalization_1 (Batch (None, 80, 80, 64)        256       \n",
            "_________________________________________________________________\n",
            "activation_1 (Activation)    (None, 80, 80, 64)        0         \n",
            "_________________________________________________________________\n",
            "conv2d_2 (Conv2D)            (None, 80, 80, 64)        36928     \n",
            "_________________________________________________________________\n",
            "batch_normalization_2 (Batch (None, 80, 80, 64)        256       \n",
            "_________________________________________________________________\n",
            "activation_2 (Activation)    (None, 80, 80, 64)        0         \n",
            "_________________________________________________________________\n",
            "max_pooling2d_1 (MaxPooling2 (None, 40, 40, 64)        0         \n",
            "_________________________________________________________________\n",
            "conv2d_3 (Conv2D)            (None, 40, 40, 128)       73856     \n",
            "_________________________________________________________________\n",
            "batch_normalization_3 (Batch (None, 40, 40, 128)       512       \n",
            "_________________________________________________________________\n",
            "activation_3 (Activation)    (None, 40, 40, 128)       0         \n",
            "_________________________________________________________________\n",
            "conv2d_4 (Conv2D)            (None, 40, 40, 128)       147584    \n",
            "_________________________________________________________________\n",
            "batch_normalization_4 (Batch (None, 40, 40, 128)       512       \n",
            "_________________________________________________________________\n",
            "activation_4 (Activation)    (None, 40, 40, 128)       0         \n",
            "_________________________________________________________________\n",
            "max_pooling2d_2 (MaxPooling2 (None, 20, 20, 128)       0         \n",
            "_________________________________________________________________\n",
            "conv2d_5 (Conv2D)            (None, 20, 20, 128)       147584    \n",
            "_________________________________________________________________\n",
            "batch_normalization_5 (Batch (None, 20, 20, 128)       512       \n",
            "_________________________________________________________________\n",
            "activation_5 (Activation)    (None, 20, 20, 128)       0         \n",
            "_________________________________________________________________\n",
            "conv2d_6 (Conv2D)            (None, 20, 20, 128)       147584    \n",
            "_________________________________________________________________\n",
            "batch_normalization_6 (Batch (None, 20, 20, 128)       512       \n",
            "_________________________________________________________________\n",
            "activation_6 (Activation)    (None, 20, 20, 128)       0         \n",
            "_________________________________________________________________\n",
            "max_pooling2d_3 (MaxPooling2 (None, 10, 10, 128)       0         \n",
            "_________________________________________________________________\n",
            "conv2d_7 (Conv2D)            (None, 10, 10, 128)       147584    \n",
            "_________________________________________________________________\n",
            "batch_normalization_7 (Batch (None, 10, 10, 128)       512       \n",
            "_________________________________________________________________\n",
            "activation_7 (Activation)    (None, 10, 10, 128)       0         \n",
            "_________________________________________________________________\n",
            "conv2d_8 (Conv2D)            (None, 10, 10, 128)       147584    \n",
            "_________________________________________________________________\n",
            "batch_normalization_8 (Batch (None, 10, 10, 128)       512       \n",
            "_________________________________________________________________\n",
            "activation_8 (Activation)    (None, 10, 10, 128)       0         \n",
            "_________________________________________________________________\n",
            "max_pooling2d_4 (MaxPooling2 (None, 5, 5, 128)         0         \n",
            "_________________________________________________________________\n",
            "global_average_pooling2d_1 ( (None, 128)               0         \n",
            "_________________________________________________________________\n",
            "dense_1 (Dense)              (None, 128)               16512     \n",
            "_________________________________________________________________\n",
            "dropout_1 (Dropout)          (None, 128)               0         \n",
            "_________________________________________________________________\n",
            "dense_2 (Dense)              (None, 30)                3870      \n",
            "=================================================================\n",
            "Total params: 873,886\n",
            "Trainable params: 872,094\n",
            "Non-trainable params: 1,792\n",
            "_________________________________________________________________\n"
          ],
          "name": "stdout"
        }
      ]
    },
    {
      "cell_type": "code",
      "metadata": {
        "id": "MjVVhELwpVRx",
        "colab_type": "code",
        "colab": {
          "base_uri": "https://localhost:8080/",
          "height": 1000
        },
        "outputId": "4c1e6720-db29-4453-decd-8ab88d14c8eb"
      },
      "source": [
        "model_path = 'drive/My Drive/data/model_2D_80/'\n",
        "if not os.path.exists(model_path):\n",
        "  os.mkdir(model_path)\n",
        "\n",
        "# validattion 기준 모델 갱신\n",
        "model_file = model_path + 'epoch_{epoch:03d}_val_{val_loss:3f}.hdf5'\n",
        "checkpoint = ModelCheckpoint(filepath = model_file, monitor = 'val_loss', verbose = 1, save_best_only =True)\n",
        "\n",
        "#10회간 validatation 좋아지지 않으면 early stop\n",
        "#early_stop = EarlyStopping(monitor = 'val_loss', patience = 10)\n",
        "early_stop = EarlyStopping(monitor = 'val_loss', patience = 20)\n",
        "\n",
        "history = model.fit(x_train, y_train, epochs = 100, batch_size = 64, validation_split = 0.2, shuffle = True,\n",
        "                    callbacks = [checkpoint, early_stop])"
      ],
      "execution_count": 10,
      "outputs": [
        {
          "output_type": "stream",
          "text": [
            "Train on 80000 samples, validate on 20000 samples\n",
            "Epoch 1/100\n",
            "80000/80000 [==============================] - 173s 2ms/step - loss: 1.8881 - val_loss: 1.7290\n",
            "\n",
            "Epoch 00001: val_loss improved from inf to 1.72899, saving model to drive/My Drive/data/model_2D_80/epoch_001_val_1.728994.hdf5\n",
            "Epoch 2/100\n",
            "80000/80000 [==============================] - 165s 2ms/step - loss: 1.6110 - val_loss: 1.5047\n",
            "\n",
            "Epoch 00002: val_loss improved from 1.72899 to 1.50466, saving model to drive/My Drive/data/model_2D_80/epoch_002_val_1.504661.hdf5\n",
            "Epoch 3/100\n",
            "80000/80000 [==============================] - 166s 2ms/step - loss: 1.4688 - val_loss: 1.3521\n",
            "\n",
            "Epoch 00003: val_loss improved from 1.50466 to 1.35213, saving model to drive/My Drive/data/model_2D_80/epoch_003_val_1.352131.hdf5\n",
            "Epoch 4/100\n",
            "80000/80000 [==============================] - 166s 2ms/step - loss: 1.3710 - val_loss: 1.4005\n",
            "\n",
            "Epoch 00004: val_loss did not improve from 1.35213\n",
            "Epoch 5/100\n",
            "80000/80000 [==============================] - 166s 2ms/step - loss: 1.2857 - val_loss: 1.1777\n",
            "\n",
            "Epoch 00005: val_loss improved from 1.35213 to 1.17766, saving model to drive/My Drive/data/model_2D_80/epoch_005_val_1.177657.hdf5\n",
            "Epoch 6/100\n",
            "80000/80000 [==============================] - 166s 2ms/step - loss: 1.2081 - val_loss: 1.2028\n",
            "\n",
            "Epoch 00006: val_loss did not improve from 1.17766\n",
            "Epoch 7/100\n",
            "80000/80000 [==============================] - 166s 2ms/step - loss: 1.1407 - val_loss: 1.1206\n",
            "\n",
            "Epoch 00007: val_loss improved from 1.17766 to 1.12057, saving model to drive/My Drive/data/model_2D_80/epoch_007_val_1.120568.hdf5\n",
            "Epoch 8/100\n",
            "80000/80000 [==============================] - 166s 2ms/step - loss: 1.0807 - val_loss: 1.0783\n",
            "\n",
            "Epoch 00008: val_loss improved from 1.12057 to 1.07832, saving model to drive/My Drive/data/model_2D_80/epoch_008_val_1.078324.hdf5\n",
            "Epoch 9/100\n",
            "80000/80000 [==============================] - 165s 2ms/step - loss: 1.0266 - val_loss: 1.0673\n",
            "\n",
            "Epoch 00009: val_loss improved from 1.07832 to 1.06733, saving model to drive/My Drive/data/model_2D_80/epoch_009_val_1.067326.hdf5\n",
            "Epoch 10/100\n",
            "80000/80000 [==============================] - 165s 2ms/step - loss: 0.9770 - val_loss: 1.0922\n",
            "\n",
            "Epoch 00010: val_loss did not improve from 1.06733\n",
            "Epoch 11/100\n",
            "80000/80000 [==============================] - 165s 2ms/step - loss: 0.9304 - val_loss: 1.0446\n",
            "\n",
            "Epoch 00011: val_loss improved from 1.06733 to 1.04461, saving model to drive/My Drive/data/model_2D_80/epoch_011_val_1.044606.hdf5\n",
            "Epoch 12/100\n",
            "80000/80000 [==============================] - 165s 2ms/step - loss: 0.8817 - val_loss: 1.0387\n",
            "\n",
            "Epoch 00012: val_loss improved from 1.04461 to 1.03868, saving model to drive/My Drive/data/model_2D_80/epoch_012_val_1.038679.hdf5\n",
            "Epoch 13/100\n",
            "80000/80000 [==============================] - 165s 2ms/step - loss: 0.8369 - val_loss: 1.1010\n",
            "\n",
            "Epoch 00013: val_loss did not improve from 1.03868\n",
            "Epoch 14/100\n",
            "80000/80000 [==============================] - 166s 2ms/step - loss: 0.7951 - val_loss: 1.0857\n",
            "\n",
            "Epoch 00014: val_loss did not improve from 1.03868\n",
            "Epoch 15/100\n",
            "80000/80000 [==============================] - 166s 2ms/step - loss: 0.7601 - val_loss: 1.1501\n",
            "\n",
            "Epoch 00015: val_loss did not improve from 1.03868\n",
            "Epoch 16/100\n",
            "80000/80000 [==============================] - 166s 2ms/step - loss: 0.7242 - val_loss: 1.1216\n",
            "\n",
            "Epoch 00016: val_loss did not improve from 1.03868\n",
            "Epoch 17/100\n",
            "80000/80000 [==============================] - 166s 2ms/step - loss: 0.6935 - val_loss: 1.1625\n",
            "\n",
            "Epoch 00017: val_loss did not improve from 1.03868\n",
            "Epoch 18/100\n",
            "80000/80000 [==============================] - 166s 2ms/step - loss: 0.6627 - val_loss: 1.1925\n",
            "\n",
            "Epoch 00018: val_loss did not improve from 1.03868\n",
            "Epoch 19/100\n",
            "80000/80000 [==============================] - 166s 2ms/step - loss: 0.6349 - val_loss: 1.1615\n",
            "\n",
            "Epoch 00019: val_loss did not improve from 1.03868\n",
            "Epoch 20/100\n",
            "80000/80000 [==============================] - 166s 2ms/step - loss: 0.6097 - val_loss: 1.2190\n",
            "\n",
            "Epoch 00020: val_loss did not improve from 1.03868\n",
            "Epoch 21/100\n",
            "80000/80000 [==============================] - 166s 2ms/step - loss: 0.5837 - val_loss: 1.2011\n",
            "\n",
            "Epoch 00021: val_loss did not improve from 1.03868\n",
            "Epoch 22/100\n",
            "80000/80000 [==============================] - 166s 2ms/step - loss: 0.5597 - val_loss: 1.2621\n",
            "\n",
            "Epoch 00022: val_loss did not improve from 1.03868\n"
          ],
          "name": "stdout"
        }
      ]
    },
    {
      "cell_type": "code",
      "metadata": {
        "id": "ThjQ2OxOpagC",
        "colab_type": "code",
        "colab": {
          "base_uri": "https://localhost:8080/",
          "height": 279
        },
        "outputId": "936b324c-70df-4a9a-fa48-e0b468cb9f9a"
      },
      "source": [
        "plt.plot(history.epoch, history.history['loss'], '-o', label='training_loss')\n",
        "plt.plot(history.epoch, history.history['val_loss'], '-o', label='validation_loss')\n",
        "plt.legend()\n",
        "plt.xlim(left=0)\n",
        "plt.xlabel('epochs')\n",
        "plt.ylabel('loss')\n",
        "plt.show()"
      ],
      "execution_count": 11,
      "outputs": [
        {
          "output_type": "display_data",
          "data": {
            "image/png": "[encoded data removed]",
            "text/plain": [
              "<Figure size 432x288 with 1 Axes>"
            ]
          },
          "metadata": {
            "tags": [],
            "needs_background": "light"
          }
        }
      ]
    },
    {
      "cell_type": "code",
      "metadata": {
        "id": "KqdxGfg9vu1u",
        "colab_type": "code",
        "colab": {}
      },
      "source": [
        "x_test = pd.read_pickle('drive/My Drive/data/x_test_mfcc_80.pickle')\n",
        "source_test = x_test.values\n",
        " \n",
        "binary_test = list((map(make_binary,source_test)))\n",
        "binary_test =  np.array(binary_test)\n",
        "\n",
        "x_nor_test = list((map(normalize,source_test)))\n",
        "x_nor_test = np.array(x_nor_test)\n",
        "\n",
        "x_nor_test = x_nor_test.reshape(10000,80,-1,1)\n",
        "binary_test = binary_test.reshape(10000,80,-1,1)\n",
        "x_test = np.concatenate((x_nor_test.T, binary_test.T), axis=0)\n",
        "x_test = x_test.T"
      ],
      "execution_count": 12,
      "outputs": []
    },
    {
      "cell_type": "code",
      "metadata": {
        "id": "8jRuGIQiwMH5",
        "colab_type": "code",
        "colab": {
          "base_uri": "https://localhost:8080/",
          "height": 35
        },
        "outputId": "9d9158c9-d885-49a6-9749-e0877c964ed8"
      },
      "source": [
        "x_test.shape"
      ],
      "execution_count": 13,
      "outputs": [
        {
          "output_type": "execute_result",
          "data": {
            "text/plain": [
              "(10000, 80, 80, 2)"
            ]
          },
          "metadata": {
            "tags": []
          },
          "execution_count": 13
        }
      ]
    },
    {
      "cell_type": "code",
      "metadata": {
        "id": "z9CSvMCRpckU",
        "colab_type": "code",
        "colab": {
          "base_uri": "https://localhost:8080/",
          "height": 35
        },
        "outputId": "052ccf39-495f-4be7-b528-c94f1fccb555"
      },
      "source": [
        "# 가장 좋은 모델의 weight를 불러옵니다.\n",
        "weigth_file = glob('drive/My Drive/data/model_2D_80/*.hdf5')[-1]\n",
        "print(weigth_file)\n",
        "model.load_weights(weigth_file)\n",
        "\n",
        "# 예측 수행\n",
        "y_pred = model.predict(x_test)\n",
        "\n",
        "# 예측 결과로 제출 파일을 생성합니다.\n",
        "submission = pd.read_csv('drive/My Drive/data/submission.csv', index_col=0)\n",
        "submission.loc[:, :] = y_pred\n",
        "submission.to_csv('drive/My Drive/data/submission.csv')"
      ],
      "execution_count": 14,
      "outputs": [
        {
          "output_type": "stream",
          "text": [
            "drive/My Drive/data/model_2D_80/epoch_012_val_1.038679.hdf5\n"
          ],
          "name": "stdout"
        }
      ]
    },
    {
      "cell_type": "markdown",
      "metadata": {
        "id": "JpmsKLOtQ3l7",
        "colab_type": "text"
      },
      "source": [
        "# 7/23\n",
        "\n",
        "--------------------------------------\n",
        "\n",
        "**모델** : epoch_015_val_**1.122891**..hdf5(2D model_deepCNN)\n",
        "  \n",
        "**데이터**: x_trian_mfcc_80\n",
        "  \n",
        "**score** : **1.17593**\n",
        "\n",
        "--------------------------------------\n",
        "\n",
        "**모델** : epoch_012_val_**1.038679**.hdf5(2D model_deepCNN,GELU)\n",
        "  \n",
        "**데이터**: x_trian_mfcc_80\n",
        "  \n",
        "**score** : **1.0831**\n",
        "\n",
        "--------------------------------------"
      ]
    }
  ]
}
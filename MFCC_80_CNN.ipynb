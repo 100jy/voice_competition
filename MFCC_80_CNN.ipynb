{
  "nbformat": 4,
  "nbformat_minor": 0,
  "metadata": {
    "colab": {
      "name": "MFCC_80_CNN",
      "provenance": [],
      "collapsed_sections": [],
      "machine_shape": "hm",
      "authorship_tag": "ABX9TyP35lfeJPd1YoUjZ2mtVDsf",
      "include_colab_link": true
    },
    "kernelspec": {
      "name": "python3",
      "display_name": "Python 3"
    },
    "accelerator": "GPU"
  },
  "cells": [
    {
      "cell_type": "markdown",
      "metadata": {
        "id": "view-in-github",
        "colab_type": "text"
      },
      "source": [
        "<a href=\"https://colab.research.google.com/github/100jy/voice_competition/blob/master/MFCC_80_CNN.ipynb\" target=\"_parent\"><img src=\"https://colab.research.google.com/assets/colab-badge.svg\" alt=\"Open In Colab\"/></a>"
      ]
    },
    {
      "cell_type": "code",
      "metadata": {
        "id": "0X_pWF5vUg6P",
        "colab_type": "code",
        "colab": {
          "base_uri": "https://localhost:8080/",
          "height": 127
        },
        "outputId": "a8dada18-b7cc-4796-c6be-6b67afe7b9d2"
      },
      "source": [
        "#구글 드라이브 연동\n",
        "from google.colab import drive\n",
        "drive.mount('/content/drive')"
      ],
      "execution_count": 1,
      "outputs": [
        {
          "output_type": "stream",
          "text": [
            "Go to this URL in a browser: https://accounts.google.com/o/oauth2/auth?client_id=947318989803-6bn6qk8qdgf4n4g3pfee6491hc0brc4i.apps.googleusercontent.com&redirect_uri=urn%3aietf%3awg%3aoauth%3a2.0%3aoob&response_type=code&scope=email%20https%3a%2f%2fwww.googleapis.com%2fauth%2fdocs.test%20https%3a%2f%2fwww.googleapis.com%2fauth%2fdrive%20https%3a%2f%2fwww.googleapis.com%2fauth%2fdrive.photos.readonly%20https%3a%2f%2fwww.googleapis.com%2fauth%2fpeopleapi.readonly\n",
            "\n",
            "Enter your authorization code:\n",
            "··········\n",
            "Mounted at /content/drive\n"
          ],
          "name": "stdout"
        }
      ]
    },
    {
      "cell_type": "code",
      "metadata": {
        "id": "RPdGafVKU2nM",
        "colab_type": "code",
        "colab": {
          "base_uri": "https://localhost:8080/",
          "height": 35
        },
        "outputId": "4c364878-1715-4762-83f0-f3a9619f2e0f"
      },
      "source": [
        "import os\n",
        "import pandas as pd\n",
        "import numpy as np\n",
        "import matplotlib.pyplot as plt\n",
        "import scipy\n",
        "import tensorflow as tf\n",
        "import keras\n",
        "from tqdm import tqdm\n",
        "from glob import glob\n",
        "from scipy.io import wavfile\n",
        "from keras.models import Sequential\n",
        "from keras.layers import Dense, Conv1D, MaxPooling1D, Conv2D, MaxPooling2D, Flatten, BatchNormalization,Dropout, Activation, GlobalAveragePooling2D\n",
        "from keras.callbacks import ModelCheckpoint, EarlyStopping\n",
        "import librosa\n",
        "import librosa.display"
      ],
      "execution_count": 2,
      "outputs": [
        {
          "output_type": "stream",
          "text": [
            "Using TensorFlow backend.\n"
          ],
          "name": "stderr"
        }
      ]
    },
    {
      "cell_type": "code",
      "metadata": {
        "id": "8lZydI7opkrT",
        "colab_type": "code",
        "colab": {
          "base_uri": "https://localhost:8080/",
          "height": 35
        },
        "outputId": "b155560a-1bc0-4c42-afb0-3dd554b73318"
      },
      "source": [
        "y_train = pd.read_csv('drive/My Drive/data/train_answer.csv',index_col=0)\n",
        "y_train = y_train.values\n",
        "y_train.shape"
      ],
      "execution_count": 3,
      "outputs": [
        {
          "output_type": "execute_result",
          "data": {
            "text/plain": [
              "(100000, 30)"
            ]
          },
          "metadata": {
            "tags": []
          },
          "execution_count": 3
        }
      ]
    },
    {
      "cell_type": "markdown",
      "metadata": {
        "id": "DXvgFkbeUwdh",
        "colab_type": "text"
      },
      "source": [
        "# 데이터 확인 및 채널 추가\n"
      ]
    },
    {
      "cell_type": "code",
      "metadata": {
        "id": "wrTkVUPvUvrE",
        "colab_type": "code",
        "colab": {}
      },
      "source": [
        "#MFCC\n",
        "x_train = pd.read_pickle('drive/My Drive/data/x_trian_mfcc_80.pickle')\n",
        "source = x_train.values\n",
        "\n",
        "\n",
        "##normalize\n",
        "def normalize(x):\n",
        "  return (x - np.mean(x)) / np.std(x)\n",
        "\n",
        "## binary\n",
        "def make_binary(x):\n",
        "  np.ones_like(len(x))\n",
        "  mask = (x > 0)\n",
        "  return np.ones_like(len(x)) * mask\n",
        " \n",
        "binary = list((map(make_binary,source)))\n",
        "binary =  np.array(binary)\n",
        "\n",
        "x_nor = list((map(normalize,source)))\n",
        "x_nor = np.array(x_nor)"
      ],
      "execution_count": 4,
      "outputs": []
    },
    {
      "cell_type": "markdown",
      "metadata": {
        "id": "Q3vnUIbjV959",
        "colab_type": "text"
      },
      "source": [
        "## 결과 확인"
      ]
    },
    {
      "cell_type": "code",
      "metadata": {
        "id": "GpKyRn_wV7eC",
        "colab_type": "code",
        "colab": {
          "base_uri": "https://localhost:8080/",
          "height": 194
        },
        "outputId": "6d990c4e-e23d-488c-ccc1-f1deaf14a105"
      },
      "source": [
        "mfcc = [source[0].reshape(80,-1),binary[0].reshape(80,-1),x_nor[0].reshape(80,-1)]\n",
        "plt.figure(figsize=(15,10))\n",
        "\n",
        "for i in range(3):\n",
        "  st = '33'+str(i+1)\n",
        "  plt.subplot(st)\n",
        "  librosa.display.specshow(mfcc[i])"
      ],
      "execution_count": 5,
      "outputs": [
        {
          "output_type": "display_data",
          "data": {
            "image/png": "[encoded data removed]",
            "text/plain": [
              "<Figure size 1080x720 with 3 Axes>"
            ]
          },
          "metadata": {
            "tags": []
          }
        }
      ]
    },
    {
      "cell_type": "code",
      "metadata": {
        "id": "L6qVCgZRma2j",
        "colab_type": "code",
        "colab": {}
      },
      "source": [
        "x_nor = x_nor.reshape(100000,80,-1,1)\n",
        "binary = binary.reshape(100000,80,-1,1)"
      ],
      "execution_count": 6,
      "outputs": []
    },
    {
      "cell_type": "code",
      "metadata": {
        "id": "ioy7KXHjnVMZ",
        "colab_type": "code",
        "colab": {
          "base_uri": "https://localhost:8080/",
          "height": 35
        },
        "outputId": "05b0355f-d354-4045-a37c-b4f9d159d3d6"
      },
      "source": [
        "x_nor.shape"
      ],
      "execution_count": 7,
      "outputs": [
        {
          "output_type": "execute_result",
          "data": {
            "text/plain": [
              "(100000, 80, 80, 1)"
            ]
          },
          "metadata": {
            "tags": []
          },
          "execution_count": 7
        }
      ]
    },
    {
      "cell_type": "code",
      "metadata": {
        "id": "ah5Qb5VHeRCz",
        "colab_type": "code",
        "colab": {
          "base_uri": "https://localhost:8080/",
          "height": 35
        },
        "outputId": "cb313811-0fb7-4777-8f4f-47198f03bb4d"
      },
      "source": [
        "# 데이터 2ch로 수정...\n",
        "x_train = np.concatenate((x_nor.T, binary.T), axis=0)\n",
        "x_train.shape"
      ],
      "execution_count": 8,
      "outputs": [
        {
          "output_type": "execute_result",
          "data": {
            "text/plain": [
              "(2, 80, 80, 100000)"
            ]
          },
          "metadata": {
            "tags": []
          },
          "execution_count": 8
        }
      ]
    },
    {
      "cell_type": "code",
      "metadata": {
        "id": "9MuR9GREfwcA",
        "colab_type": "code",
        "colab": {
          "base_uri": "https://localhost:8080/",
          "height": 281
        },
        "outputId": "89c48174-08ad-4488-e80c-bdd97f6ba676"
      },
      "source": [
        "plt.figure(figsize=(15,10))\n",
        "for i in range(2):\n",
        "  st = '22'+str(i+1)\n",
        "  plt.subplot(st)\n",
        "  librosa.display.specshow(x_train[i].T[0])"
      ],
      "execution_count": 9,
      "outputs": [
        {
          "output_type": "display_data",
          "data": {
            "image/png": "[encoded data removed]",
            "text/plain": [
              "<Figure size 1080x720 with 2 Axes>"
            ]
          },
          "metadata": {
            "tags": []
          }
        }
      ]
    },
    {
      "cell_type": "code",
      "metadata": {
        "id": "cnOguv34hpcR",
        "colab_type": "code",
        "colab": {}
      },
      "source": [
        "x_train = x_train.T"
      ],
      "execution_count": 10,
      "outputs": []
    },
    {
      "cell_type": "code",
      "metadata": {
        "id": "EuCxieeqiElW",
        "colab_type": "code",
        "colab": {
          "base_uri": "https://localhost:8080/",
          "height": 35
        },
        "outputId": "61ec893e-85dd-4008-f99f-d0f2986aaba9"
      },
      "source": [
        "x_train.shape"
      ],
      "execution_count": 11,
      "outputs": [
        {
          "output_type": "execute_result",
          "data": {
            "text/plain": [
              "(100000, 80, 80, 2)"
            ]
          },
          "metadata": {
            "tags": []
          },
          "execution_count": 11
        }
      ]
    },
    {
      "cell_type": "markdown",
      "metadata": {
        "id": "O1O4yimphLKw",
        "colab_type": "text"
      },
      "source": [
        "# model architecture"
      ]
    },
    {
      "cell_type": "code",
      "metadata": {
        "id": "azumjzMAgytX",
        "colab_type": "code",
        "colab": {
          "base_uri": "https://localhost:8080/",
          "height": 665
        },
        "outputId": "4d29c7ef-0b0b-4bf0-b535-879713c5d1aa"
      },
      "source": [
        "### padding valid, dropout 0.3, shorter fully-conneted\n",
        "##GlobalAveragePooling\n",
        "#CNN\n",
        "model = Sequential()\n",
        "model.add(Conv2D(64, kernel_size = (3,3), strides = (1,1),activation='relu', input_shape = (x_train.shape[1], x_train.shape[2],2)))\n",
        "model.add(MaxPooling2D((2,2)))\n",
        "\n",
        "model.add(Conv2D(128, kernel_size = (3,3), strides = (1,1),activation='relu'))\n",
        "model.add(MaxPooling2D((2,2)))\n",
        "\n",
        "model.add(Conv2D(128, kernel_size = (3,3), strides = (1,1),activation='relu'))\n",
        "model.add(MaxPooling2D((2,2)))\n",
        "\n",
        "model.add(Conv2D(128, kernel_size = (3,3), strides = (1,1),activation='relu'))\n",
        "model.add(MaxPooling2D((2,2)))\n",
        "model.add(GlobalAveragePooling2D())\n",
        "\n",
        "#fully connected layer\n",
        "model.add(Dense(128, activation='relu'))\n",
        "model.add(Dropout(0.3))\n",
        "model.add(Dense(30, activation='softmax'))\n",
        "model.compile(loss=keras.losses.KLDivergence(), optimizer = 'adam')\n",
        "model.summary()"
      ],
      "execution_count": 13,
      "outputs": [
        {
          "output_type": "stream",
          "text": [
            "Model: \"sequential_2\"\n",
            "_________________________________________________________________\n",
            "Layer (type)                 Output Shape              Param #   \n",
            "=================================================================\n",
            "conv2d_5 (Conv2D)            (None, 78, 78, 64)        1216      \n",
            "_________________________________________________________________\n",
            "max_pooling2d_5 (MaxPooling2 (None, 39, 39, 64)        0         \n",
            "_________________________________________________________________\n",
            "conv2d_6 (Conv2D)            (None, 37, 37, 128)       73856     \n",
            "_________________________________________________________________\n",
            "max_pooling2d_6 (MaxPooling2 (None, 18, 18, 128)       0         \n",
            "_________________________________________________________________\n",
            "conv2d_7 (Conv2D)            (None, 16, 16, 128)       147584    \n",
            "_________________________________________________________________\n",
            "max_pooling2d_7 (MaxPooling2 (None, 8, 8, 128)         0         \n",
            "_________________________________________________________________\n",
            "conv2d_8 (Conv2D)            (None, 6, 6, 128)         147584    \n",
            "_________________________________________________________________\n",
            "max_pooling2d_8 (MaxPooling2 (None, 3, 3, 128)         0         \n",
            "_________________________________________________________________\n",
            "global_average_pooling2d_2 ( (None, 128)               0         \n",
            "_________________________________________________________________\n",
            "dense_3 (Dense)              (None, 128)               16512     \n",
            "_________________________________________________________________\n",
            "dropout_2 (Dropout)          (None, 128)               0         \n",
            "_________________________________________________________________\n",
            "dense_4 (Dense)              (None, 128)               16512     \n",
            "_________________________________________________________________\n",
            "dropout_3 (Dropout)          (None, 128)               0         \n",
            "_________________________________________________________________\n",
            "dense_5 (Dense)              (None, 30)                3870      \n",
            "=================================================================\n",
            "Total params: 407,134\n",
            "Trainable params: 407,134\n",
            "Non-trainable params: 0\n",
            "_________________________________________________________________\n"
          ],
          "name": "stdout"
        }
      ]
    },
    {
      "cell_type": "code",
      "metadata": {
        "id": "249QHtNbuh7u",
        "colab_type": "code",
        "colab": {
          "base_uri": "https://localhost:8080/",
          "height": 665
        },
        "outputId": "3ef72b09-047d-4e27-d0d6-2bcf887c71f2"
      },
      "source": [
        "### padding valid, dropout 0.3, shorter fully-conneted\n",
        "##GlobalAveragePooling\n",
        "#CNN\n",
        "model = Sequential()\n",
        "model.add(Conv2D(64, kernel_size = (3,3), strides = (1,1),activation='relu', input_shape = (x_train.shape[1], x_train.shape[2],2)))\n",
        "model.add(MaxPooling2D((2,2)))\n",
        "\n",
        "model.add(Conv2D(128, kernel_size = (3,3), strides = (1,1),activation='relu'))\n",
        "model.add(MaxPooling2D((2,2)))\n",
        "\n",
        "model.add(Conv2D(128, kernel_size = (3,3), strides = (1,1),activation='relu'))\n",
        "model.add(MaxPooling2D((2,2)))\n",
        "\n",
        "model.add(Conv2D(128, kernel_size = (3,3), strides = (1,1),activation='relu'))\n",
        "model.add(MaxPooling2D((2,2)))\n",
        "model.add(GlobalAveragePooling2D())\n",
        "\n",
        "#fully connected layer\n",
        "#1-layer add\n",
        "model.add(Dense(128, activation='relu'))\n",
        "model.add(Dropout(0.3))\n",
        "model.add(Dense(128, activation='relu'))\n",
        "model.add(Dropout(0.3))\n",
        "model.add(Dense(30, activation='softmax'))\n",
        "model.compile(loss=keras.losses.KLDivergence(), optimizer = 'adam')\n",
        "model.summary()"
      ],
      "execution_count": 14,
      "outputs": [
        {
          "output_type": "stream",
          "text": [
            "Model: \"sequential_3\"\n",
            "_________________________________________________________________\n",
            "Layer (type)                 Output Shape              Param #   \n",
            "=================================================================\n",
            "conv2d_9 (Conv2D)            (None, 78, 78, 64)        1216      \n",
            "_________________________________________________________________\n",
            "max_pooling2d_9 (MaxPooling2 (None, 39, 39, 64)        0         \n",
            "_________________________________________________________________\n",
            "conv2d_10 (Conv2D)           (None, 37, 37, 128)       73856     \n",
            "_________________________________________________________________\n",
            "max_pooling2d_10 (MaxPooling (None, 18, 18, 128)       0         \n",
            "_________________________________________________________________\n",
            "conv2d_11 (Conv2D)           (None, 16, 16, 128)       147584    \n",
            "_________________________________________________________________\n",
            "max_pooling2d_11 (MaxPooling (None, 8, 8, 128)         0         \n",
            "_________________________________________________________________\n",
            "conv2d_12 (Conv2D)           (None, 6, 6, 128)         147584    \n",
            "_________________________________________________________________\n",
            "max_pooling2d_12 (MaxPooling (None, 3, 3, 128)         0         \n",
            "_________________________________________________________________\n",
            "global_average_pooling2d_3 ( (None, 128)               0         \n",
            "_________________________________________________________________\n",
            "dense_6 (Dense)              (None, 128)               16512     \n",
            "_________________________________________________________________\n",
            "dropout_4 (Dropout)          (None, 128)               0         \n",
            "_________________________________________________________________\n",
            "dense_7 (Dense)              (None, 128)               16512     \n",
            "_________________________________________________________________\n",
            "dropout_5 (Dropout)          (None, 128)               0         \n",
            "_________________________________________________________________\n",
            "dense_8 (Dense)              (None, 30)                3870      \n",
            "=================================================================\n",
            "Total params: 407,134\n",
            "Trainable params: 407,134\n",
            "Non-trainable params: 0\n",
            "_________________________________________________________________\n"
          ],
          "name": "stdout"
        }
      ]
    },
    {
      "cell_type": "code",
      "metadata": {
        "id": "7JZp5RXR7Lu2",
        "colab_type": "code",
        "colab": {
          "base_uri": "https://localhost:8080/",
          "height": 1000
        },
        "outputId": "c1159624-8dd2-4087-a8a1-7d88c0294629"
      },
      "source": [
        "#deep_cnn\n",
        "#from https://buomsoo-kim.github.io/keras/2018/05/05/Easy-deep-learning-with-Keras-11.md/ \n",
        "model = Sequential()\n",
        "\n",
        "model.add(Conv2D(64, kernel_size = (3,3), strides = (1,1),activation='relu',\n",
        "                      input_shape = (x_train.shape[1], x_train.shape[2],2), padding = 'same',kernel_initializer = 'he_normal'))\n",
        "model.add(BatchNormalization())\n",
        "model.add(Activation('relu'))\n",
        "model.add(Conv2D(128, kernel_size = (3,3), strides = (1,1),padding = 'same', kernel_initializer='he_normal'))\n",
        "model.add(BatchNormalization())\n",
        "model.add(Activation('relu'))\n",
        "model.add(MaxPooling2D((2,2)))\n",
        "\n",
        "model.add(Conv2D(128, kernel_size = (3,3), strides = (1,1),padding = 'same', kernel_initializer='he_normal'))\n",
        "model.add(BatchNormalization())\n",
        "model.add(Activation('relu'))\n",
        "model.add(Conv2D(128, kernel_size = (3,3), strides = (1,1),padding = 'same', kernel_initializer='he_normal'))\n",
        "model.add(BatchNormalization())\n",
        "model.add(Activation('relu'))\n",
        "model.add(MaxPooling2D((2,2)))\n",
        "\n",
        "model.add(Conv2D(128, kernel_size = (3,3), strides = (1,1),padding = 'same', kernel_initializer='he_normal'))\n",
        "model.add(BatchNormalization())\n",
        "model.add(Activation('relu'))\n",
        "model.add(Conv2D(128, kernel_size = (3,3), strides = (1,1),padding = 'same', kernel_initializer='he_normal'))\n",
        "model.add(BatchNormalization())\n",
        "model.add(Activation('relu'))\n",
        "model.add(MaxPooling2D((2,2)))\n",
        "\n",
        "model.add(Conv2D(128, kernel_size = (3,3), strides = (1,1),padding = 'same', kernel_initializer='he_normal'))\n",
        "model.add(BatchNormalization())\n",
        "model.add(Activation('relu'))\n",
        "model.add(Conv2D(128, kernel_size = (3,3), strides = (1,1),padding = 'same', kernel_initializer='he_normal'))\n",
        "model.add(BatchNormalization())\n",
        "model.add(Activation('relu'))\n",
        "model.add(MaxPooling2D((2,2)))\n",
        "\n",
        "model.add(GlobalAveragePooling2D())\n",
        "#model.add(Flatten())\n",
        "\n",
        "#fully connected layer\n",
        "#1-layer add\n",
        "##BatchNormalization\n",
        "model.add(Dense(128, activation='relu'))\n",
        "model.add(Dropout(0.5))\n",
        "model.add(Dense(30, activation='softmax'))\n",
        "model.compile(loss=keras.losses.KLDivergence(), optimizer = 'adam')\n",
        "model.summary()"
      ],
      "execution_count": 26,
      "outputs": [
        {
          "output_type": "stream",
          "text": [
            "Model: \"sequential_8\"\n",
            "_________________________________________________________________\n",
            "Layer (type)                 Output Shape              Param #   \n",
            "=================================================================\n",
            "conv2d_43 (Conv2D)           (None, 80, 80, 64)        1216      \n",
            "_________________________________________________________________\n",
            "batch_normalization_31 (Batc (None, 80, 80, 64)        256       \n",
            "_________________________________________________________________\n",
            "activation_31 (Activation)   (None, 80, 80, 64)        0         \n",
            "_________________________________________________________________\n",
            "conv2d_44 (Conv2D)           (None, 80, 80, 128)       73856     \n",
            "_________________________________________________________________\n",
            "batch_normalization_32 (Batc (None, 80, 80, 128)       512       \n",
            "_________________________________________________________________\n",
            "activation_32 (Activation)   (None, 80, 80, 128)       0         \n",
            "_________________________________________________________________\n",
            "max_pooling2d_28 (MaxPooling (None, 40, 40, 128)       0         \n",
            "_________________________________________________________________\n",
            "conv2d_45 (Conv2D)           (None, 40, 40, 128)       147584    \n",
            "_________________________________________________________________\n",
            "batch_normalization_33 (Batc (None, 40, 40, 128)       512       \n",
            "_________________________________________________________________\n",
            "activation_33 (Activation)   (None, 40, 40, 128)       0         \n",
            "_________________________________________________________________\n",
            "conv2d_46 (Conv2D)           (None, 40, 40, 128)       147584    \n",
            "_________________________________________________________________\n",
            "batch_normalization_34 (Batc (None, 40, 40, 128)       512       \n",
            "_________________________________________________________________\n",
            "activation_34 (Activation)   (None, 40, 40, 128)       0         \n",
            "_________________________________________________________________\n",
            "max_pooling2d_29 (MaxPooling (None, 20, 20, 128)       0         \n",
            "_________________________________________________________________\n",
            "conv2d_47 (Conv2D)           (None, 20, 20, 128)       147584    \n",
            "_________________________________________________________________\n",
            "batch_normalization_35 (Batc (None, 20, 20, 128)       512       \n",
            "_________________________________________________________________\n",
            "activation_35 (Activation)   (None, 20, 20, 128)       0         \n",
            "_________________________________________________________________\n",
            "conv2d_48 (Conv2D)           (None, 20, 20, 128)       147584    \n",
            "_________________________________________________________________\n",
            "batch_normalization_36 (Batc (None, 20, 20, 128)       512       \n",
            "_________________________________________________________________\n",
            "activation_36 (Activation)   (None, 20, 20, 128)       0         \n",
            "_________________________________________________________________\n",
            "max_pooling2d_30 (MaxPooling (None, 10, 10, 128)       0         \n",
            "_________________________________________________________________\n",
            "conv2d_49 (Conv2D)           (None, 10, 10, 128)       147584    \n",
            "_________________________________________________________________\n",
            "batch_normalization_37 (Batc (None, 10, 10, 128)       512       \n",
            "_________________________________________________________________\n",
            "activation_37 (Activation)   (None, 10, 10, 128)       0         \n",
            "_________________________________________________________________\n",
            "conv2d_50 (Conv2D)           (None, 10, 10, 128)       147584    \n",
            "_________________________________________________________________\n",
            "batch_normalization_38 (Batc (None, 10, 10, 128)       512       \n",
            "_________________________________________________________________\n",
            "activation_38 (Activation)   (None, 10, 10, 128)       0         \n",
            "_________________________________________________________________\n",
            "max_pooling2d_31 (MaxPooling (None, 5, 5, 128)         0         \n",
            "_________________________________________________________________\n",
            "global_average_pooling2d_7 ( (None, 128)               0         \n",
            "_________________________________________________________________\n",
            "dense_17 (Dense)             (None, 128)               16512     \n",
            "_________________________________________________________________\n",
            "dropout_10 (Dropout)         (None, 128)               0         \n",
            "_________________________________________________________________\n",
            "dense_18 (Dense)             (None, 30)                3870      \n",
            "=================================================================\n",
            "Total params: 984,798\n",
            "Trainable params: 982,878\n",
            "Non-trainable params: 1,920\n",
            "_________________________________________________________________\n"
          ],
          "name": "stdout"
        }
      ]
    },
    {
      "cell_type": "code",
      "metadata": {
        "id": "MjVVhELwpVRx",
        "colab_type": "code",
        "colab": {
          "base_uri": "https://localhost:8080/",
          "height": 1000
        },
        "outputId": "5a60ce01-f781-413f-9b75-bf39e625a513"
      },
      "source": [
        "model_path = 'drive/My Drive/data/model_2D_80/'\n",
        "if not os.path.exists(model_path):\n",
        "  os.mkdir(model_path)\n",
        "\n",
        "# validattion 기준 모델 갱신\n",
        "model_file = model_path + 'epoch_{epoch:03d}_val_{val_loss:3f}.hdf5'\n",
        "checkpoint = ModelCheckpoint(filepath = model_file, monitor = 'val_loss', verbose = 1, save_best_only =True)\n",
        "\n",
        "#10회간 validatation 좋아지지 않으면 early stop\n",
        "early_stop = EarlyStopping(monitor = 'val_loss', patience = 10)\n",
        "\n",
        "history = model.fit(x_train, y_train, epochs = 100, batch_size = 64, validation_split = 0.2, shuffle = True,\n",
        "                    callbacks = [checkpoint, early_stop])"
      ],
      "execution_count": 27,
      "outputs": [
        {
          "output_type": "stream",
          "text": [
            "Train on 80000 samples, validate on 20000 samples\n",
            "Epoch 1/100\n",
            "80000/80000 [==============================] - 156s 2ms/step - loss: 1.9051 - val_loss: 1.8911\n",
            "\n",
            "Epoch 00001: val_loss improved from inf to 1.89114, saving model to drive/My Drive/data/model_2D_80/epoch_001_val_1.891143.hdf5\n",
            "Epoch 2/100\n",
            "80000/80000 [==============================] - 154s 2ms/step - loss: 1.7043 - val_loss: 1.7003\n",
            "\n",
            "Epoch 00002: val_loss improved from 1.89114 to 1.70028, saving model to drive/My Drive/data/model_2D_80/epoch_002_val_1.700281.hdf5\n",
            "Epoch 3/100\n",
            "80000/80000 [==============================] - 154s 2ms/step - loss: 1.5938 - val_loss: 1.4972\n",
            "\n",
            "Epoch 00003: val_loss improved from 1.70028 to 1.49716, saving model to drive/My Drive/data/model_2D_80/epoch_003_val_1.497163.hdf5\n",
            "Epoch 4/100\n",
            "80000/80000 [==============================] - 154s 2ms/step - loss: 1.5127 - val_loss: 1.4073\n",
            "\n",
            "Epoch 00004: val_loss improved from 1.49716 to 1.40726, saving model to drive/My Drive/data/model_2D_80/epoch_004_val_1.407261.hdf5\n",
            "Epoch 5/100\n",
            "80000/80000 [==============================] - 154s 2ms/step - loss: 1.4470 - val_loss: 1.3378\n",
            "\n",
            "Epoch 00005: val_loss improved from 1.40726 to 1.33784, saving model to drive/My Drive/data/model_2D_80/epoch_005_val_1.337837.hdf5\n",
            "Epoch 6/100\n",
            "80000/80000 [==============================] - 154s 2ms/step - loss: 1.3947 - val_loss: 1.3674\n",
            "\n",
            "Epoch 00006: val_loss did not improve from 1.33784\n",
            "Epoch 7/100\n",
            "80000/80000 [==============================] - 154s 2ms/step - loss: 1.3462 - val_loss: 1.3467\n",
            "\n",
            "Epoch 00007: val_loss did not improve from 1.33784\n",
            "Epoch 8/100\n",
            "80000/80000 [==============================] - 154s 2ms/step - loss: 1.3007 - val_loss: 1.2754\n",
            "\n",
            "Epoch 00008: val_loss improved from 1.33784 to 1.27538, saving model to drive/My Drive/data/model_2D_80/epoch_008_val_1.275377.hdf5\n",
            "Epoch 9/100\n",
            "80000/80000 [==============================] - 154s 2ms/step - loss: 1.2540 - val_loss: 1.2057\n",
            "\n",
            "Epoch 00009: val_loss improved from 1.27538 to 1.20574, saving model to drive/My Drive/data/model_2D_80/epoch_009_val_1.205743.hdf5\n",
            "Epoch 10/100\n",
            "80000/80000 [==============================] - 154s 2ms/step - loss: 1.2130 - val_loss: 1.2047\n",
            "\n",
            "Epoch 00010: val_loss improved from 1.20574 to 1.20468, saving model to drive/My Drive/data/model_2D_80/epoch_010_val_1.204677.hdf5\n",
            "Epoch 11/100\n",
            "80000/80000 [==============================] - 154s 2ms/step - loss: 1.1696 - val_loss: 1.1369\n",
            "\n",
            "Epoch 00011: val_loss improved from 1.20468 to 1.13693, saving model to drive/My Drive/data/model_2D_80/epoch_011_val_1.136934.hdf5\n",
            "Epoch 12/100\n",
            "80000/80000 [==============================] - 154s 2ms/step - loss: 1.1257 - val_loss: 1.1467\n",
            "\n",
            "Epoch 00012: val_loss did not improve from 1.13693\n",
            "Epoch 13/100\n",
            "80000/80000 [==============================] - 154s 2ms/step - loss: 1.0874 - val_loss: 1.1953\n",
            "\n",
            "Epoch 00013: val_loss did not improve from 1.13693\n",
            "Epoch 14/100\n",
            "80000/80000 [==============================] - 154s 2ms/step - loss: 1.0512 - val_loss: 1.1646\n",
            "\n",
            "Epoch 00014: val_loss did not improve from 1.13693\n",
            "Epoch 15/100\n",
            "80000/80000 [==============================] - 155s 2ms/step - loss: 1.0156 - val_loss: 1.1229\n",
            "\n",
            "Epoch 00015: val_loss improved from 1.13693 to 1.12289, saving model to drive/My Drive/data/model_2D_80/epoch_015_val_1.122891.hdf5\n",
            "Epoch 16/100\n",
            "80000/80000 [==============================] - 154s 2ms/step - loss: 0.9775 - val_loss: 1.1290\n",
            "\n",
            "Epoch 00016: val_loss did not improve from 1.12289\n",
            "Epoch 17/100\n",
            "80000/80000 [==============================] - 154s 2ms/step - loss: 0.9429 - val_loss: 1.1958\n",
            "\n",
            "Epoch 00017: val_loss did not improve from 1.12289\n",
            "Epoch 18/100\n",
            "80000/80000 [==============================] - 154s 2ms/step - loss: 0.9105 - val_loss: 1.1282\n",
            "\n",
            "Epoch 00018: val_loss did not improve from 1.12289\n",
            "Epoch 19/100\n",
            "80000/80000 [==============================] - 154s 2ms/step - loss: 0.8784 - val_loss: 1.1373\n",
            "\n",
            "Epoch 00019: val_loss did not improve from 1.12289\n",
            "Epoch 20/100\n",
            "80000/80000 [==============================] - 154s 2ms/step - loss: 0.8439 - val_loss: 1.2154\n",
            "\n",
            "Epoch 00020: val_loss did not improve from 1.12289\n",
            "Epoch 21/100\n",
            "80000/80000 [==============================] - 154s 2ms/step - loss: 0.8160 - val_loss: 1.1364\n",
            "\n",
            "Epoch 00021: val_loss did not improve from 1.12289\n",
            "Epoch 22/100\n",
            "80000/80000 [==============================] - 154s 2ms/step - loss: 0.7854 - val_loss: 1.1987\n",
            "\n",
            "Epoch 00022: val_loss did not improve from 1.12289\n",
            "Epoch 23/100\n",
            "80000/80000 [==============================] - 155s 2ms/step - loss: 0.7556 - val_loss: 1.3128\n",
            "\n",
            "Epoch 00023: val_loss did not improve from 1.12289\n",
            "Epoch 24/100\n",
            "80000/80000 [==============================] - 155s 2ms/step - loss: 0.7281 - val_loss: 1.2266\n",
            "\n",
            "Epoch 00024: val_loss did not improve from 1.12289\n",
            "Epoch 25/100\n",
            "80000/80000 [==============================] - 155s 2ms/step - loss: 0.7042 - val_loss: 1.2792\n",
            "\n",
            "Epoch 00025: val_loss did not improve from 1.12289\n"
          ],
          "name": "stdout"
        }
      ]
    },
    {
      "cell_type": "code",
      "metadata": {
        "id": "ThjQ2OxOpagC",
        "colab_type": "code",
        "colab": {
          "base_uri": "https://localhost:8080/",
          "height": 279
        },
        "outputId": "7c1ac54f-06f1-4b92-e88d-a87b1f1e2ca3"
      },
      "source": [
        "plt.plot(history.epoch, history.history['loss'], '-o', label='training_loss')\n",
        "plt.plot(history.epoch, history.history['val_loss'], '-o', label='validation_loss')\n",
        "plt.legend()\n",
        "plt.xlim(left=0)\n",
        "plt.xlabel('epochs')\n",
        "plt.ylabel('loss')\n",
        "plt.show()"
      ],
      "execution_count": 16,
      "outputs": [
        {
          "output_type": "display_data",
          "data": {
            "image/png": "[encoded data removed]",
            "text/plain": [
              "<Figure size 432x288 with 1 Axes>"
            ]
          },
          "metadata": {
            "tags": [],
            "needs_background": "light"
          }
        }
      ]
    },
    {
      "cell_type": "code",
      "metadata": {
        "id": "KqdxGfg9vu1u",
        "colab_type": "code",
        "colab": {}
      },
      "source": [
        "x_test = pd.read_pickle('drive/My Drive/data/x_test_mfcc_80.pickle')\n",
        "source_test = x_test.values\n",
        " \n",
        "binary_test = list((map(make_binary,source_test)))\n",
        "binary_test =  np.array(binary_test)\n",
        "\n",
        "x_nor_test = list((map(normalize,source_test)))\n",
        "x_nor_test = np.array(x_nor_test)\n",
        "\n",
        "x_nor_test = x_nor_test.reshape(10000,80,-1,1)\n",
        "binary_test = binary_test.reshape(10000,80,-1,1)\n",
        "x_test = np.concatenate((x_nor_test.T, binary_test.T), axis=0)\n",
        "x_test = x_test.T"
      ],
      "execution_count": 19,
      "outputs": []
    },
    {
      "cell_type": "code",
      "metadata": {
        "id": "8jRuGIQiwMH5",
        "colab_type": "code",
        "colab": {
          "base_uri": "https://localhost:8080/",
          "height": 35
        },
        "outputId": "bb0e5bb9-4530-4796-de7b-89c7fd6f59b7"
      },
      "source": [
        "x_test.shape"
      ],
      "execution_count": 28,
      "outputs": [
        {
          "output_type": "execute_result",
          "data": {
            "text/plain": [
              "(10000, 80, 80, 2)"
            ]
          },
          "metadata": {
            "tags": []
          },
          "execution_count": 28
        }
      ]
    },
    {
      "cell_type": "code",
      "metadata": {
        "id": "z9CSvMCRpckU",
        "colab_type": "code",
        "colab": {
          "base_uri": "https://localhost:8080/",
          "height": 35
        },
        "outputId": "4f624131-1d45-4970-99dc-e48777f60df7"
      },
      "source": [
        "# 가장 좋은 모델의 weight를 불러옵니다.\n",
        "weigth_file = glob('drive/My Drive/data/model_2D_80/*.hdf5')[-1]\n",
        "print(weigth_file)\n",
        "model.load_weights(weigth_file)\n",
        "\n",
        "# 예측 수행\n",
        "y_pred = model.predict(x_test)\n",
        "\n",
        "# 예측 결과로 제출 파일을 생성합니다.\n",
        "submission = pd.read_csv('drive/My Drive/data/submission.csv', index_col=0)\n",
        "submission.loc[:, :] = y_pred\n",
        "submission.to_csv('drive/My Drive/data/submission.csv')"
      ],
      "execution_count": 29,
      "outputs": [
        {
          "output_type": "stream",
          "text": [
            "drive/My Drive/data/model_2D_80/epoch_015_val_1.122891.hdf5\n"
          ],
          "name": "stdout"
        }
      ]
    }
  ]
}
{
  "nbformat": 4,
  "nbformat_minor": 0,
  "metadata": {
    "colab": {
      "name": "데이콘.ipynb",
      "provenance": [],
      "collapsed_sections": [],
      "authorship_tag": "ABX9TyPvmeQARaeRwMSnw/pByzAI",
      "include_colab_link": true
    },
    "kernelspec": {
      "name": "python3",
      "display_name": "Python 3"
    }
  },
  "cells": [
    {
      "cell_type": "markdown",
      "metadata": {
        "id": "view-in-github",
        "colab_type": "text"
      },
      "source": [
        "<a href=\"https://colab.research.google.com/github/100jy/voice_competition/blob/master/%EB%8D%B0%EC%9D%B4%EC%BD%98.ipynb\" target=\"_parent\"><img src=\"https://colab.research.google.com/assets/colab-badge.svg\" alt=\"Open In Colab\"/></a>"
      ]
    },
    {
      "cell_type": "markdown",
      "metadata": {
        "id": "aYh7Mne7eTnT",
        "colab_type": "text"
      },
      "source": [
        "구글 드라이브 연동"
      ]
    },
    {
      "cell_type": "code",
      "metadata": {
        "id": "2wlt388hdkj1",
        "colab_type": "code",
        "colab": {
          "base_uri": "https://localhost:8080/",
          "height": 131
        },
        "outputId": "5d6a0818-2d46-4b9c-b09d-13825a9c7f31"
      },
      "source": [
        "#구글 드라이브 연동\n",
        "from google.colab import drive\n",
        "drive.mount('/content/drive')"
      ],
      "execution_count": null,
      "outputs": [
        {
          "output_type": "stream",
          "text": [
            "Go to this URL in a browser: https://accounts.google.com/o/oauth2/auth?client_id=947318989803-6bn6qk8qdgf4n4g3pfee6491hc0brc4i.apps.googleusercontent.com&redirect_uri=urn%3aietf%3awg%3aoauth%3a2.0%3aoob&response_type=code&scope=email%20https%3a%2f%2fwww.googleapis.com%2fauth%2fdocs.test%20https%3a%2f%2fwww.googleapis.com%2fauth%2fdrive%20https%3a%2f%2fwww.googleapis.com%2fauth%2fdrive.photos.readonly%20https%3a%2f%2fwww.googleapis.com%2fauth%2fpeopleapi.readonly\n",
            "\n",
            "Enter your authorization code:\n",
            "··········\n",
            "Mounted at /content/drive\n"
          ],
          "name": "stdout"
        }
      ]
    },
    {
      "cell_type": "code",
      "metadata": {
        "id": "JtSo7wpveday",
        "colab_type": "code",
        "colab": {
          "base_uri": "https://localhost:8080/",
          "height": 577
        },
        "outputId": "ec5a105a-bfd3-4fbf-dd99-11779fa34db0"
      },
      "source": [
        "# 드라이브내 파일 목록 확인\n",
        "!ls '/content/drive/My Drive'"
      ],
      "execution_count": null,
      "outputs": [
        {
          "output_type": "stream",
          "text": [
            "'음성 004_sd.m4a'\n",
            "'음성 005_sd.m4a'\n",
            "'국민은행 (1).docx'\n",
            " 삼성1.gdoc\n",
            " 복싱시합1.mp4\n",
            " 삼성1.png\n",
            " 삼성2.gdoc\n",
            " 삼성2.jpg\n",
            " 복싱시합2.mp4\n",
            " 삼성3.gdoc\n",
            " 삼성3.jpg\n",
            " 복싱시합3.mp4\n",
            "'9강 manipulation.hwp'\n",
            "'Anyfile Notepad Files'\n",
            "'Colab Notebooks'\n",
            " data\n",
            " 포스코.docx\n",
            "'제목없는 문서.gdoc'\n",
            "'학습을 위한 영상매체 이용에 대한 만족도와 큐레이션 서비스에 대한 수요조사.gform'\n",
            "'부산대학생들의 소비성향 분석을 위한 설문조사.gform'\n",
            "'할 일 목록.gsheet'\n",
            "'[멘티]학부 연구생 지원서.hwp'\n",
            "'KakaoTalkDownload (1).zip'\n",
            " KakaoTalkDownload.zip\n",
            " 시합.mp4\n",
            " 자기소개서_백주엽_샘플.pdf\n",
            "'대략적인 구조.png'\n",
            " 준비.rtf\n",
            "'sample_submission.csv의 사본'\n",
            "'tensorflow manipulation.ipynb'\n"
          ],
          "name": "stdout"
        }
      ]
    },
    {
      "cell_type": "markdown",
      "metadata": {
        "id": "e-MsxJu1hcs1",
        "colab_type": "text"
      },
      "source": [
        "모듈 임포트"
      ]
    },
    {
      "cell_type": "code",
      "metadata": {
        "id": "QxxxC8E2fJt3",
        "colab_type": "code",
        "colab": {}
      },
      "source": [
        "import os\n",
        "import pandas as pd\n",
        "import numpy as np\n",
        "import matplotlib.pyplot as plt\n",
        "import scipy\n",
        "import tensorflow as tf\n",
        "import keras\n",
        "from tqdm import tqdm\n",
        "from glob import glob\n",
        "from scipy.io import wavfile\n",
        "from keras.models import Sequential\n",
        "from keras.layers import Dense, Conv1D, MaxPooling1D, Flatten, BatchNormalization\n",
        "from keras.callbacks import ModelCheckpoint, EarlyStopping\n",
        "import librosa"
      ],
      "execution_count": null,
      "outputs": []
    },
    {
      "cell_type": "markdown",
      "metadata": {
        "id": "bFW6VCtBhwgr",
        "colab_type": "text"
      },
      "source": [
        "# 음성에서 정형 데이터화\n",
        "\n",
        "1. 음성신호 상태로 이용하는 방법 \n",
        "2. MFCC이용하는 방법\n",
        "3. spectogram 이용하는 방법"
      ]
    },
    {
      "cell_type": "code",
      "metadata": {
        "id": "A_zJ_GvqhmSP",
        "colab_type": "code",
        "colab": {}
      },
      "source": [
        "# 데이터 로드 함수 정의 \n",
        "def make_data(datalist, feature = 'signal'):\n",
        "\n",
        "  arr = []\n",
        "  #signal data\n",
        "  if feature == 'signal':\n",
        "    for file in tqdm(datalist):\n",
        "      fs, data = wavfile.read(file)\n",
        "      arr.append(data)\n",
        "  \n",
        "  #spectogam data\n",
        "  elif feature == 'spectogram':\n",
        "    for file in tqdm(datalist):\n",
        "      x, sr = librosa.load(file)\n",
        "      arr.append(x)\n",
        "  \n",
        "  #MFCC data\n",
        "  elif feature == 'MFCC':\n",
        "    for file in tqdm(datalist):\n",
        "      x, sr = librosa.load(file)\n",
        "      arr.append(x)\n",
        "  \n",
        "  else:\n",
        "    raise ValueError\n",
        "\n",
        "  result = np.array(arr)\n",
        "    \n",
        "  return result "
      ],
      "execution_count": null,
      "outputs": []
    },
    {
      "cell_type": "markdown",
      "metadata": {
        "id": "w0lPgXVen8S4",
        "colab_type": "text"
      },
      "source": [
        "VAD하면 성능이 더 좋지 않을까???\n"
      ]
    },
    {
      "cell_type": "code",
      "metadata": {
        "id": "nbisCnEyuA5g",
        "colab_type": "code",
        "colab": {}
      },
      "source": [
        "#signal 형태로 사용\n",
        "raw_data = glob('data/train/*.wav')\n",
        "#signal\n",
        "signal = make_data(raw_data)\n",
        "pd.DataFrame(signal).to_pickle('data/x_trian.pickle')\n",
        "#specto\n",
        "specto = make_data(raw_data, feature =  'spectogram')\n",
        "pd.DataFrame(specto).to_pickle('data/x_trian_spectogram.pickle')\n",
        "#MFCC\n",
        "MFCC = make_data(raw_data, feature =  'MFCC')\n",
        "pd.DataFrame(MFCC).to_pickle('data/x_trian_MFCC.pickle')\n",
        "#feature = \n",
        "#x_train = pd.read_csv('data/train/x_train_{}.pickle'.format(feature))"
      ],
      "execution_count": null,
      "outputs": []
    },
    {
      "cell_type": "code",
      "metadata": {
        "id": "c55wRapHkeIY",
        "colab_type": "code",
        "colab": {}
      },
      "source": [
        "#signal 형태로 사용\n",
        "x_train = glob('data/train/*.wav')\n",
        "x_train = make_data(x_train)\n",
        "\n",
        "# pickle로 저장\n",
        "pd.DataFrame(x_train).to_pickle('data/x_trian.pickle')\n",
        "\n",
        "# (0,1)로 정규화\n",
        "## 작은 신호 무시되서 좋은 방법 아닐들...\n",
        "### 로그변환 같은 방법이 더 좋을듯...\n",
        "x_train = x_train/30000 \n",
        "\n",
        "# 모델 넣기위한 reshape\n",
        "## 채널 늘려보는 것도 의미있을듯...\n",
        "x_train = x_train.reshape(x_train.shape[0], x_train.shape[1], 1)\n",
        "\n",
        "y_train = pd.read_csv('data/train_answer.csv',index_col=0)\n",
        "y_train = y_tarin.values\n",
        "\n",
        "x_train.shape, y_train.shape"
      ],
      "execution_count": null,
      "outputs": []
    },
    {
      "cell_type": "code",
      "metadata": {
        "id": "KHxgjDB7o1qd",
        "colab_type": "code",
        "colab": {}
      },
      "source": [
        "#CNN\n",
        "model = Sequential()\n",
        "model.add(Conv1D(16,32,activation='relu', input_shape = (x_train.shape[1], x_train.shape[2])))\n",
        "model.add(MaxPooling1D())\n",
        "model.add(Conv1D(16,32,activation='relu')\n",
        "model.add(MaxPooling1D()))\n",
        "model.add(Conv1D(16,32,activation='relu'))\n",
        "model.add(MaxPooling1D())\n",
        "model.add(Conv1D(16,32,activation='relu'))\n",
        "model.add(MaxPooling1D())\n",
        "model.add(Conv1D(16,32,activation='relu'))\n",
        "model.add(Flatten())\n",
        "\n",
        "#fully connected layer\n",
        "model.add(Dense(256, activation='relu'))\n",
        "model.add(BatchNormalization())\n",
        "model.add(Dense(256, activation='relu'))\n",
        "model.add(BatchNormalization())\n",
        "model.add(Dense(256, activation='relu'))\n",
        "model.add(BatchNormalization())\n",
        "model.add(Dense(30, activation='softmax'))\n",
        "model.compile(loss=keras.losses.KLDivergence(), optimizer = 'adam')"
      ],
      "execution_count": null,
      "outputs": []
    },
    {
      "cell_type": "code",
      "metadata": {
        "id": "0Ub9_9IZxTSL",
        "colab_type": "code",
        "colab": {}
      },
      "source": [
        "model_path = 'model/'\n",
        "if not os.path.exists(model_path):\n",
        "  os.mkdir(model_path)\n",
        "\n",
        "# validattion 기준 모델 갱신\n",
        "model_file = model_path + 'epoch_{epoch:03d}_val_{val_loss:3f}.hdf5'\n",
        "checkpoint = ModelCheckpoint(filepath = model_file, monitor = 'val_loss', verbose = 1, save_best_only =True)\n",
        "\n",
        "#10회간 validatation 좋아지지 않으면 early stop\n",
        "early_stop = EarlyStopping(monitor = 'val_loss', patience = 10)\n",
        "\n",
        "history = model.fit(x_train, y_train, epoch = 100, batchsize = 256, validation_split = 0.2, shuffle = True,\n",
        "                    callbacks = [cheakpoint, early_stopping])"
      ],
      "execution_count": null,
      "outputs": []
    },
    {
      "cell_type": "code",
      "metadata": {
        "id": "XTa3_yH3yc2M",
        "colab_type": "code",
        "colab": {}
      },
      "source": [
        "# 훈련 결과를 확인합니다.\n",
        "plt.plot(history.epoch, history.history['loss'], '-o', label='training_loss')\n",
        "plt.plot(history.epoch, history.history['val_loss'], '-o', label='validation_loss')\n",
        "plt.legend()\n",
        "plt.xlim(left=0)\n",
        "plt.xlabel('epochs')\n",
        "plt.ylabel('loss')\n",
        "plt.show()"
      ],
      "execution_count": null,
      "outputs": []
    },
    {
      "cell_type": "markdown",
      "metadata": {
        "id": "SSpbeFsVnGxj",
        "colab_type": "text"
      },
      "source": [
        "전처리 필요성, 모델 CNN 이용\n"
      ]
    }
  ]
}